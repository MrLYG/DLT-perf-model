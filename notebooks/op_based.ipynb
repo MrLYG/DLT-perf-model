{
 "cells": [
  {
   "cell_type": "code",
   "execution_count": 53,
   "metadata": {},
   "outputs": [],
   "source": [
    "import numpy as np\n",
    "import torch\n",
    "import torch.nn\n",
    "import torch.optim\n",
    "from abc import abstractmethod\n",
    "from collections import defaultdict\n",
    "from functools import lru_cache\n",
    "from itertools import count\n",
    "from typing import List, Dict\n",
    "from typing import Tuple, Any\n",
    "from sklearn import ensemble\n",
    "from sklearn.metrics import mean_squared_error\n",
    "from torch.nn import MSELoss, ReLU\n",
    "from sklearn.preprocessing import StandardScaler, MinMaxScaler"
   ]
  },
  {
   "cell_type": "code",
   "execution_count": 54,
   "metadata": {},
   "outputs": [
    {
     "name": "stdout",
     "output_type": "stream",
     "text": [
      "datasets_path: /root/guohao/repos/DLT-perf-model/datasets\n",
      "configs_path: /root/guohao/repos/DLT-perf-model/notebooks/configs\n"
     ]
    }
   ],
   "source": [
    "from importlib import reload\n",
    "from config import Config\n",
    "import config\n",
    "from data import MDataset, Graph, load_graphs, save_dataset_pkl, load_dataset_pkl, save_scalers_pkl, load_scalers_pkl\n",
    "import data\n",
    "from base_module import MModule\n",
    "import base_module\n",
    "from executor import single_train_loop, nested_detach\n",
    "import executor\n",
    "from objects import ModelType\n",
    "import objects\n",
    "from metric import MetricUtil\n",
    "import metric\n",
    "from logger import init_logging\n",
    "import logger\n",
    "reload(config)\n",
    "reload(data)\n",
    "reload(base_module)\n",
    "reload(executor)\n",
    "reload(objects)\n",
    "reload(metric)\n",
    "reload(logger)\n",
    "from config import Config\n",
    "from data import MDataset, Graph, load_graphs\n",
    "from base_module import MModule\n",
    "from objects import ModelType\n",
    "from metric import MetricUtil\n",
    "from logger import init_logging\n",
    "init_logging()"
   ]
  },
  {
   "cell_type": "code",
   "execution_count": 55,
   "metadata": {},
   "outputs": [],
   "source": [
    "dataset_environment_str = \"T4_CPU100\"\n",
    "normalizer_cls = StandardScaler # MinMaxScaler\n",
    "dummy = False\n",
    "model_type = ModelType.PerfNet\n"
   ]
  },
  {
   "cell_type": "code",
   "execution_count": 56,
   "metadata": {},
   "outputs": [
    {
     "name": "stdout",
     "output_type": "stream",
     "text": [
      "[2023-12-07 16:25:04,373] {data.py:441} INFO - Loading graphs train\n",
      "[2023-12-07 16:25:04,373] {data.py:412} INFO - Loading merged.csv\n",
      "[2023-12-07 16:25:04,413] {data.py:415} INFO - Loaded merged.csv, 10000 rows\n",
      "[2023-12-07 16:25:07,101] {data.py:421} INFO - Loaded efficientnet_v2_s.3_7.csv, 2412 rows\n",
      "[2023-12-07 16:25:10,115] {data.py:421} INFO - Loaded efficientnet_b5.156_7.csv, 2707 rows\n",
      "[2023-12-07 16:25:11,378] {data.py:421} INFO - Loaded regnet_x_8gf.103_7.csv, 1138 rows\n",
      "[2023-12-07 16:25:13,120] {data.py:421} INFO - Loaded resnet101.160_7.csv, 1598 rows\n",
      "[2023-12-07 16:25:14,334] {data.py:421} INFO - Loaded regnet_x_16gf.127_7.csv, 1092 rows\n",
      "[2023-12-07 16:25:14,953] {data.py:421} INFO - Loaded resnet34.205_7.csv, 563 rows\n",
      "[2023-12-07 16:25:15,502] {data.py:421} INFO - Loaded resnet101.79_7.csv, 490 rows\n",
      "[2023-12-07 16:25:15,505] {data.py:441} INFO - Loading graphs train\n",
      "[2023-12-07 16:25:15,506] {data.py:412} INFO - Loading merged.csv\n",
      "[2023-12-07 16:25:15,763] {data.py:415} INFO - Loaded merged.csv, 100000 rows\n",
      "[2023-12-07 16:25:18,425] {data.py:421} INFO - Loaded efficientnet_v2_s.3_7.csv, 2412 rows\n",
      "[2023-12-07 16:25:21,454] {data.py:421} INFO - Loaded efficientnet_b5.156_7.csv, 2707 rows\n",
      "[2023-12-07 16:25:22,751] {data.py:421} INFO - Loaded regnet_x_8gf.103_7.csv, 1138 rows\n",
      "[2023-12-07 16:25:24,550] {data.py:421} INFO - Loaded resnet101.160_7.csv, 1598 rows\n",
      "[2023-12-07 16:25:25,783] {data.py:421} INFO - Loaded regnet_x_16gf.127_7.csv, 1092 rows\n",
      "[2023-12-07 16:25:26,408] {data.py:421} INFO - Loaded resnet34.205_7.csv, 563 rows\n",
      "[2023-12-07 16:25:28,163] {data.py:421} INFO - Loaded resnet101.79_7.csv, 1598 rows\n",
      "[2023-12-07 16:25:28,526] {data.py:421} INFO - Loaded resnet18.249_7.csv, 317 rows\n",
      "[2023-12-07 16:25:31,202] {data.py:421} INFO - Loaded resnet152.64_7.csv, 2382 rows\n",
      "[2023-12-07 16:25:32,224] {data.py:421} INFO - Loaded regnet_x_1_6gf.96_7.csv, 908 rows\n",
      "[2023-12-07 16:25:33,748] {data.py:421} INFO - Loaded regnet_y_16gf.127_7.csv, 1340 rows\n",
      "[2023-12-07 16:25:35,034] {data.py:421} INFO - Loaded regnet_x_8gf.157_7.csv, 1138 rows\n",
      "[2023-12-07 16:25:35,898] {data.py:421} INFO - Loaded mobilenet_v2.47_7.csv, 769 rows\n",
      "[2023-12-07 16:25:37,151] {data.py:421} INFO - Loaded efficientnet_b0.197_7.csv, 1127 rows\n",
      "[2023-12-07 16:25:39,224] {data.py:421} INFO - Loaded densenet121.138_7.csv, 1889 rows\n",
      "[2023-12-07 16:25:41,866] {data.py:421} INFO - Loaded efficientnet_v2_s.154_7.csv, 2410 rows\n",
      "[2023-12-07 16:25:42,874] {data.py:421} INFO - Loaded googlenet.153_7.csv, 905 rows\n",
      "[2023-12-07 16:25:44,164] {data.py:421} INFO - Loaded regnet_x_8gf.17_7.csv, 1136 rows\n",
      "[2023-12-07 16:25:47,140] {data.py:421} INFO - Loaded efficientnet_b5.160_7.csv, 2707 rows\n",
      "[2023-12-07 16:25:51,620] {data.py:421} INFO - Loaded efficientnet_b7.4_7.csv, 3814 rows\n",
      "[2023-12-07 16:25:52,584] {data.py:421} INFO - Loaded regnet_x_1_6gf.16_7.csv, 906 rows\n",
      "[2023-12-07 16:25:55,119] {data.py:421} INFO - Loaded resnet152.5_7.csv, 2380 rows\n",
      "[2023-12-07 16:26:00,400] {data.py:421} INFO - Loaded efficientnet_v2_l.129_7.csv, 4799 rows\n",
      "[2023-12-07 16:26:01,643] {data.py:421} INFO - Loaded regnet_x_32gf.73_7.csv, 1138 rows\n",
      "[2023-12-07 16:26:02,476] {data.py:421} INFO - Loaded mnasnet1_0.183_7.csv, 769 rows\n",
      "[2023-12-07 16:26:06,678] {data.py:421} INFO - Loaded efficientnet_b7.121_7.csv, 3814 rows\n",
      "[2023-12-07 16:26:07,587] {data.py:421} INFO - Loaded wide_resnet50_2.43_7.csv, 816 rows\n",
      "[2023-12-07 16:26:08,431] {data.py:421} INFO - Loaded mnasnet0_5.230_7.csv, 769 rows\n",
      "[2023-12-07 16:26:08,778] {data.py:421} INFO - Loaded resnet18.186_7.csv, 315 rows\n",
      "[2023-12-07 16:26:09,589] {data.py:421} INFO - Loaded mobilenet_v3_small.206_7.csv, 732 rows\n",
      "[2023-12-07 16:26:12,163] {data.py:421} INFO - Loaded resnet152.116_7.csv, 2382 rows\n",
      "[2023-12-07 16:26:13,147] {data.py:421} INFO - Loaded googlenet.192_7.csv, 903 rows\n",
      "[2023-12-07 16:26:14,883] {data.py:421} INFO - Loaded convnext_base.129_7.csv, 1595 rows\n",
      "[2023-12-07 16:26:17,849] {data.py:421} INFO - Loaded efficientnet_b5.47_7.csv, 2709 rows\n",
      "[2023-12-07 16:26:18,819] {data.py:421} INFO - Loaded googlenet.148_7.csv, 905 rows\n",
      "[2023-12-07 16:26:19,701] {data.py:421} INFO - Loaded regnet_x_800mf.76_7.csv, 816 rows\n",
      "[2023-12-07 16:26:21,191] {data.py:421} INFO - Loaded efficientnet_b0.40_7.csv, 1127 rows\n",
      "[2023-12-07 16:26:22,017] {data.py:421} INFO - Loaded mobilenet_v2.206_7.csv, 769 rows\n",
      "[2023-12-07 16:26:24,398] {data.py:421} INFO - Loaded efficientnet_b4.144_7.csv, 2232 rows\n",
      "[2023-12-07 16:26:27,089] {data.py:421} INFO - Loaded efficientnet_v2_s.9_7.csv, 2412 rows\n",
      "[2023-12-07 16:26:28,343] {data.py:421} INFO - Loaded regnet_x_32gf.25_7.csv, 1138 rows\n",
      "[2023-12-07 16:26:29,316] {data.py:421} INFO - Loaded googlenet.142_7.csv, 905 rows\n",
      "[2023-12-07 16:26:30,141] {data.py:421} INFO - Loaded mnasnet1_0.117_7.csv, 771 rows\n",
      "[2023-12-07 16:26:35,345] {data.py:421} INFO - Loaded efficientnet_v2_l.39_7.csv, 4799 rows\n",
      "[2023-12-07 16:26:36,195] {data.py:421} INFO - Loaded mnasnet0_5.181_7.csv, 771 rows\n",
      "[2023-12-07 16:26:39,079] {data.py:421} INFO - Loaded densenet169.42_7.csv, 2633 rows\n",
      "[2023-12-07 16:26:42,862] {data.py:421} INFO - Loaded efficientnet_v2_m.140_7.csv, 3469 rows\n",
      "[2023-12-07 16:26:43,749] {data.py:421} INFO - Loaded mnasnet0_5.151_7.csv, 771 rows\n",
      "[2023-12-07 16:26:44,620] {data.py:421} INFO - Loaded mnasnet1_3.150_7.csv, 771 rows\n",
      "[2023-12-07 16:26:45,469] {data.py:421} INFO - Loaded mnasnet0_5.103_7.csv, 771 rows\n",
      "[2023-12-07 16:26:46,358] {data.py:421} INFO - Loaded wide_resnet50_2.1_7.csv, 816 rows\n",
      "[2023-12-07 16:26:47,199] {data.py:421} INFO - Loaded mnasnet0_5.64_7.csv, 769 rows\n",
      "[2023-12-07 16:26:48,469] {data.py:421} INFO - Loaded regnet_x_32gf.7_7.csv, 1138 rows\n",
      "[2023-12-07 16:26:50,252] {data.py:421} INFO - Loaded convnext_base.38_7.csv, 1593 rows\n",
      "[2023-12-07 16:26:51,128] {data.py:421} INFO - Loaded mnasnet0_5.42_7.csv, 771 rows\n",
      "[2023-12-07 16:26:51,996] {data.py:421} INFO - Loaded mnasnet1_3.20_7.csv, 769 rows\n",
      "[2023-12-07 16:26:52,839] {data.py:421} INFO - Loaded mnasnet1_3.111_7.csv, 771 rows\n",
      "[2023-12-07 16:26:54,922] {data.py:421} INFO - Loaded densenet121.53_7.csv, 1887 rows\n",
      "[2023-12-07 16:26:55,782] {data.py:421} INFO - Loaded mnasnet1_3.113_7.csv, 771 rows\n",
      "[2023-12-07 16:26:57,004] {data.py:421} INFO - Loaded regnet_x_16gf.93_7.csv, 1090 rows\n",
      "[2023-12-07 16:26:59,932] {data.py:421} INFO - Loaded densenet169.113_7.csv, 2633 rows\n",
      "[2023-12-07 16:27:04,544] {data.py:421} INFO - Loaded efficientnet_b7.113_7.csv, 3814 rows\n",
      "[2023-12-07 16:27:06,306] {data.py:421} INFO - Loaded efficientnet_b1.62_7.csv, 1604 rows\n",
      "[2023-12-07 16:27:06,900] {data.py:421} INFO - Loaded efficientnet_v2_l.160_7.csv, 537 rows\n"
     ]
    }
   ],
   "source": [
    "\n",
    "eval_graphs = load_graphs(dataset_environment_str,\n",
    "                            train_or_eval=\"train\",\n",
    "                            use_dummy=dummy,\n",
    "                            max_row=10_000)\n",
    "train_graphs = load_graphs(dataset_environment_str,\n",
    "                            train_or_eval=\"train\",\n",
    "                            use_dummy=dummy,\n",
    "                            max_row=100_000)"
   ]
  },
  {
   "cell_type": "code",
   "execution_count": 57,
   "metadata": {},
   "outputs": [],
   "source": [
    "train_configs = {\n",
    "    ModelType.MLP.name: Config.from_dict({\n",
    "        \"model\": \"MLP\",\n",
    "        \"all_seed\": 42,\n",
    "        \"dataset_environment_str\": dataset_environment_str,\n",
    "        \"dataset_normalization\": \"Standard\",\n",
    "        \"dataset_params\": {\n",
    "            \"duration_summed\": False,\n",
    "        },\n",
    "        \"dataset_dummy\": False,\n",
    "        \"batch_size\": 64,\n",
    "        \"eval_steps\": 500,\n",
    "        \"learning_rate\": 1e-3,\n",
    "        \"epochs\": 5,\n",
    "        \"optimizer\": \"Adam\",\n",
    "        \"meta_configs\": {\n",
    "            \"learning_rate\": 0.005,\n",
    "            \"meta_learning_rate\": 0.001,\n",
    "            \"meta_train_steps\": 1000,\n",
    "            \"meta_task_per_step\": 8,\n",
    "            \"meta_fast_adaption_step\": 5,\n",
    "            \"meta_dataset_train_environment_strs\": [dataset_environment_str],\n",
    "            \"meta_dataset_eval_environment_strs\": [dataset_environment_str],\n",
    "        },\n",
    "    }),\n",
    "    ModelType.PerfNet.name: Config.from_dict({\n",
    "        \"model\": \"PerfNet\",\n",
    "        \"dataset_environment_str\": dataset_environment_str,\n",
    "        \"dataset_normalization\": \"Standard\",\n",
    "        \"all_seed\": 42,\n",
    "        \"dataset_params\": {\n",
    "            \"duration_summed\": False,\n",
    "        },\n",
    "        \"dataset_dummy\": True,\n",
    "        \"batch_size\": 16,\n",
    "        \"eval_steps\": 100,\n",
    "        \"learning_rate\": 1e-3,\n",
    "        \"epochs\": 100,\n",
    "        \"optimizer\": \"Adam\",\n",
    "        \"meta_configs\": {\n",
    "            \"learning_rate\": 0.005,\n",
    "            \"meta_learning_rate\": 0.001,\n",
    "            \"meta_train_steps\": 1000,\n",
    "            \"meta_task_per_step\": 8,\n",
    "            \"meta_fast_adaption_step\": 5,\n",
    "            \"meta_dataset_train_environment_strs\": [dataset_environment_str],\n",
    "            \"meta_dataset_eval_environment_strs\": [dataset_environment_str],\n",
    "        },\n",
    "    })\n",
    "}\n",
    "\n",
    "conf = train_configs[model_type.name]"
   ]
  },
  {
   "cell_type": "code",
   "execution_count": 58,
   "metadata": {},
   "outputs": [],
   "source": [
    "\n",
    "def init_dataset(graphs: List[Graph]) -> MDataset:\n",
    "    op_X, op_Y = list(), list()\n",
    "    data_idx_to_graph = dict()\n",
    "    counter = iter(count())\n",
    "    op_feature_len = 0\n",
    "\n",
    "    def node_features(g: Graph) -> Tuple[\n",
    "        List[Dict], List[Dict]]:\n",
    "        X, Y = list(), list()\n",
    "        for i, node in enumerate(g.nodes):\n",
    "            x_op_feature = node.op.to_feature_array(\"complex\")\n",
    "            x = {\n",
    "                \"x_op_feature\": x_op_feature\n",
    "            }\n",
    "            node_durations = (node.duration,node.gap)\n",
    "            x[\"x_id\"] = i\n",
    "            x[\"x_graph_id\"] = g.ID\n",
    "            y = {\"y_node_durations\": node_durations, \"y_id\": i, \"y_graph_id\": g.ID}\n",
    "            X.append(x)\n",
    "            Y.append(y)\n",
    "        return X, Y\n",
    "\n",
    "    for graph in graphs:\n",
    "        X, Y = node_features(graph)\n",
    "        for x in X:\n",
    "            # if len(x['x_op_feature'])!=37:\n",
    "            #     print(x['x_graph_id'], len(x['x_op_feature']))\n",
    "            op_feature_len = max(op_feature_len, len(x[\"x_op_feature\"]))\n",
    "        op_X.extend(X)\n",
    "        op_Y.extend(Y)\n",
    "        for i in range(len(X)):\n",
    "            data_idx_to_graph[next(counter)] = graph\n",
    "    for x in op_X:\n",
    "        v = x[\"x_op_feature\"]\n",
    "        x[\"x_op_feature\"] = np.pad(v, (0, op_feature_len - v.size))\n",
    "\n",
    "    dataset = MDataset(op_X, op_Y)\n",
    "    return dataset\n",
    "\n",
    "train_ds = init_dataset(train_graphs)\n",
    "eval_ds = init_dataset(eval_graphs)"
   ]
  },
  {
   "cell_type": "code",
   "execution_count": 59,
   "metadata": {},
   "outputs": [],
   "source": [
    "def get_scalers(ds):\n",
    "    scaler_cls = normalizer_cls\n",
    "    op_feature_array = list()\n",
    "    y_array = list()\n",
    "\n",
    "    for data in ds:\n",
    "        feature, label = data\n",
    "        op_feature_array.append(feature[\"x_op_feature\"])\n",
    "        y_array.append(label[\"y_node_durations\"])\n",
    "\n",
    "    op_feature_array = np.array(op_feature_array)\n",
    "    y_array = np.array(y_array)\n",
    "\n",
    "    op_feature_scaler = scaler_cls()\n",
    "    op_feature_scaler.fit(op_feature_array)\n",
    "\n",
    "    y_scaler = scaler_cls()\n",
    "    y_scaler.fit(y_array)\n",
    "    return op_feature_scaler, y_scaler\n",
    "\n",
    "scalers = get_scalers(train_ds)\n",
    "op_feature_scaler, y_scaler = scalers\n"
   ]
  },
  {
   "cell_type": "code",
   "execution_count": 60,
   "metadata": {},
   "outputs": [],
   "source": [
    "\n",
    "def preprocess_dataset(ds: MDataset) -> MDataset:\n",
    "    op_feature_array = list()\n",
    "    y_array = list()\n",
    "\n",
    "    for data in ds:\n",
    "        feature, label = data\n",
    "        op_feature_array.append(feature[\"x_op_feature\"])\n",
    "        y_array.append(label[\"y_node_durations\"])\n",
    "\n",
    "    op_feature_array = np.array(op_feature_array, dtype=np.float32)\n",
    "    y_array = np.array(y_array, dtype=np.float32)\n",
    "\n",
    "\n",
    "    op_feature_array = op_feature_scaler.transform(op_feature_array)\n",
    "    y_array = y_scaler.transform(y_array)\n",
    "\n",
    "    processed_features = list()\n",
    "    processed_labels = list()\n",
    "    for i, data in enumerate(ds):\n",
    "        feature, label = data\n",
    "        processed_features.append({\n",
    "            \"x_id\": feature[\"x_id\"],\n",
    "            \"x_graph_id\": feature[\"x_graph_id\"],\n",
    "            # 运行时再传到cuda那边\n",
    "            # \"x_op_feature\": torch.Tensor(op_feature_array[i]).to(device=self.conf.device)\n",
    "            \"x_op_feature\": torch.Tensor(op_feature_array[i])\n",
    "        })\n",
    "        processed_labels.append({\n",
    "            \"y_id\": label[\"y_id\"],\n",
    "            \"y_graph_id\": label[\"y_graph_id\"],\n",
    "            # \"y_node_durations\": torch.Tensor(y_array[i]).to(device=self.conf.device)\n",
    "            \"y_node_durations\": torch.Tensor(y_array[i])\n",
    "        })\n",
    "\n",
    "    ds = MDataset(processed_features, processed_labels)\n",
    "    return ds\n",
    "\n",
    "preprocessed_train_ds = preprocess_dataset(train_ds)\n",
    "preprocessed_eval_ds = preprocess_dataset(eval_ds)\n"
   ]
  },
  {
   "cell_type": "code",
   "execution_count": 61,
   "metadata": {},
   "outputs": [],
   "source": [
    "save_dataset_pkl(preprocessed_train_ds, conf.dataset_environment, \"OpBased\", 'train',\n",
    "                         conf.dataset_normalization)\n",
    "save_dataset_pkl(preprocessed_eval_ds, conf.dataset_environment, \"OpBased\", 'eval',\n",
    "                         conf.dataset_normalization)\n",
    "save_scalers_pkl(scalers, conf.dataset_environment, \"OpBased\", 'train',\n",
    "                         conf.dataset_normalization)"
   ]
  },
  {
   "cell_type": "code",
   "execution_count": 62,
   "metadata": {},
   "outputs": [
    {
     "name": "stdout",
     "output_type": "stream",
     "text": [
      "Loading dataset T4_CPU100 OpBased train Standard\n",
      "Loading dataset T4_CPU100 OpBased eval Standard\n",
      "Loading scalers T4_CPU100 OpBased train, Standard\n"
     ]
    }
   ],
   "source": [
    "preprocessed_train_ds = load_dataset_pkl(conf.dataset_environment, \"OpBased\", 'train', \n",
    "                                         conf.dataset_normalization)\n",
    "preprocessed_eval_ds = load_dataset_pkl(conf.dataset_environment, \"OpBased\", 'eval',\n",
    "                                        conf.dataset_normalization)\n",
    "scalers = load_scalers_pkl(conf.dataset_environment, \"OpBased\", 'train',\n",
    "                           conf.dataset_normalization)\n",
    "op_feature_scaler, y_scaler = scalers"
   ]
  },
  {
   "cell_type": "code",
   "execution_count": 63,
   "metadata": {},
   "outputs": [],
   "source": [
    "def compute_evaluate_metrics(input_batches, output_batches, eval_loss) -> Dict[str, float]:\n",
    "    batches_len = len(input_batches)\n",
    "\n",
    "    def compute_op_durations(_logits):\n",
    "        transformed: np.ndarray = y_scaler.inverse_transform(_logits)\n",
    "        durations = transformed.sum(axis=1)\n",
    "        return durations\n",
    "\n",
    "    graph_id_to_duration_pred = defaultdict(int)\n",
    "    for idx in range(batches_len):\n",
    "        inputs = input_batches[idx]\n",
    "        logits = output_batches[idx]\n",
    "        logits = nested_detach(logits)\n",
    "        logits = logits.cpu().numpy()\n",
    "        graph_ids = inputs[\"x_graph_id\"]\n",
    "        op_durations = compute_op_durations(logits)\n",
    "        for i, graph_id in enumerate(graph_ids):\n",
    "            op_duration = op_durations[i].item()\n",
    "            graph_id_to_duration_pred[graph_id] += op_duration\n",
    "    duration_metrics = MetricUtil.compute_duration_metrics(eval_graphs, graph_id_to_duration_pred)\n",
    "    return {\"eval_loss\": eval_loss, **duration_metrics}\n"
   ]
  },
  {
   "cell_type": "code",
   "execution_count": 64,
   "metadata": {},
   "outputs": [],
   "source": [
    "\n",
    "def to_device(conf, features, labels):\n",
    "    features['x_op_feature'] = features[\"x_op_feature\"].to(device=conf.device)\n",
    "    labels['y_node_durations'] = labels['y_node_durations'].to(device=conf.device)\n",
    "    return features, labels"
   ]
  },
  {
   "cell_type": "code",
   "execution_count": 65,
   "metadata": {},
   "outputs": [],
   "source": [
    "class MLPModel(MModule):\n",
    "\n",
    "    @staticmethod\n",
    "    def dimension_len(t):\n",
    "        return t[-1] - t[0]\n",
    "\n",
    "    def __init__(self, input_dimension, output_dimension, **kwargs):\n",
    "        super().__init__(**kwargs)\n",
    "        self.input = torch.nn.Linear(input_dimension, 128)\n",
    "        self.relu1 = ReLU()\n",
    "        self.dense1 = torch.nn.Linear(128, 64)\n",
    "        self.relu2 = ReLU()\n",
    "        self.dense2 = torch.nn.Linear(64, 32)\n",
    "        self.relu3 = ReLU()\n",
    "        self.output = torch.nn.Linear(32, output_dimension)\n",
    "        self.loss_fn = MSELoss()\n",
    "\n",
    "    def forward(self, X):\n",
    "        X = X[\"x_op_feature\"]\n",
    "        X = self.input(X)\n",
    "        X = self.relu1(X)\n",
    "        X = self.dense1(X)\n",
    "        X = self.relu2(X)\n",
    "        X = self.dense2(X)\n",
    "        X = self.relu3(X)\n",
    "        Y = self.output(X)\n",
    "        return Y\n",
    "\n",
    "    def compute_loss(self, outputs, Y):\n",
    "        node_durations = Y[\"y_node_durations\"]\n",
    "        loss = self.loss_fn(outputs, node_durations)\n",
    "        return loss\n",
    "\n",
    "\n",
    "def init_MLP_model(self) -> MModule | Any:\n",
    "    sample_preprocessed_ds = preprocessed_train_ds\n",
    "    sample_x_dict = sample_preprocessed_ds.features[0]\n",
    "    sample_y_dict = sample_preprocessed_ds.labels[0]\n",
    "    return MLPModel(input_dimension=len(sample_x_dict[\"x_op_feature\"]),\n",
    "                    output_dimension=len(sample_y_dict[\"y_node_durations\"]))"
   ]
  },
  {
   "cell_type": "code",
   "execution_count": 66,
   "metadata": {},
   "outputs": [],
   "source": [
    "\n",
    "class PerfNetModel(MModule):\n",
    "    @staticmethod\n",
    "    def dimension_len(t):\n",
    "        return t[-1] - t[0]\n",
    "\n",
    "    def __init__(self, output_dimension, **kwargs):\n",
    "        super().__init__(**kwargs)\n",
    "        self.conv1 = torch.nn.LazyConv1d(out_channels=32, kernel_size=3, bias=True, padding_mode='zeros')\n",
    "        self.conv2 = torch.nn.LazyConv1d(out_channels=128, kernel_size=2, bias=True, padding_mode='zeros')\n",
    "        self.flatten = torch.nn.Flatten()\n",
    "        self.dense1 = torch.nn.LazyLinear(32)\n",
    "        self.relu1 = ReLU()\n",
    "        self.dense2 = torch.nn.LazyLinear(64)\n",
    "        self.relu2 = ReLU()\n",
    "        self.dense3 = torch.nn.LazyLinear(128)\n",
    "        self.relu3 = ReLU()\n",
    "        self.dense4 = torch.nn.LazyLinear(256)\n",
    "        self.relu4 = ReLU()\n",
    "        self.dropout = torch.nn.Dropout(p=0.3)\n",
    "        self.output = torch.nn.LazyLinear(output_dimension)\n",
    "        self.loss_fn = MSELoss()\n",
    "\n",
    "    def forward(self, X):\n",
    "        X = X[\"x_op_feature\"]\n",
    "        X = torch.unsqueeze(X, dim=1)\n",
    "        X = self.conv1(X)\n",
    "        X = self.conv2(X)\n",
    "        X = self.flatten(X)\n",
    "        X = self.dense1(X)\n",
    "        X = self.relu1(X)\n",
    "        X = self.dense2(X)\n",
    "        X = self.relu2(X)\n",
    "        X = self.dense3(X)\n",
    "        X = self.relu3(X)\n",
    "        X = self.dense4(X)\n",
    "        X = self.relu4(X)\n",
    "        X = self.dropout(X)\n",
    "        Y = self.output(X)\n",
    "        return Y\n",
    "\n",
    "    def compute_loss(self, outputs, Y):\n",
    "        node_durations = Y[\"y_node_durations\"]\n",
    "        loss = self.loss_fn(outputs, node_durations)\n",
    "        return loss\n",
    "\n",
    "\n",
    "def init_PerfNet_model(self) -> MModule | Any:\n",
    "    sample_y_dict = preprocessed_train_ds.labels[0]\n",
    "    return PerfNetModel(output_dimension=len(sample_y_dict[\"y_node_durations\"]))\n",
    "\n"
   ]
  },
  {
   "cell_type": "code",
   "execution_count": 67,
   "metadata": {},
   "outputs": [],
   "source": [
    "\n",
    "\n",
    "init_model_funcs = {\n",
    "    ModelType.MLP.name: init_MLP_model,\n",
    "    ModelType.PerfNet.name: init_PerfNet_model,\n",
    "}\n"
   ]
  },
  {
   "cell_type": "code",
   "execution_count": 68,
   "metadata": {},
   "outputs": [
    {
     "name": "stdout",
     "output_type": "stream",
     "text": [
      "[2023-12-07 16:27:59,580] {executor.py:43} INFO - ModelType.MLP start single training.\n",
      "[2023-12-07 16:27:59,580] {executor.py:45} INFO - ModelType.MLP training epoch 0\n"
     ]
    },
    {
     "name": "stderr",
     "output_type": "stream",
     "text": [
      "  0%|          | 0/1563 [00:00<?, ?it/s]"
     ]
    },
    {
     "name": "stdout",
     "output_type": "stream",
     "text": [
      "[2023-12-07 16:27:59,592] {executor.py:62} INFO - ModelType.MLP trained for 0.011919462 seconds.\n",
      "[2023-12-07 16:27:59,592] {executor.py:63} INFO - ModelType.MLP eval at step 0.\n",
      "[2023-12-07 16:27:59,785] {executor.py:67} INFO - ModelType.MLP train loss: 0.2926711440086365, eval metrics: {'eval_loss': 0.41445513182930693, 'MRE': 2.0667413230420926, 'MAE': 1.80564512679328, 'RMSE': 858.5537140990962}\n"
     ]
    },
    {
     "name": "stderr",
     "output_type": "stream",
     "text": [
      "  0%|          | 1/1563 [00:00<05:24,  4.82it/s]"
     ]
    },
    {
     "name": "stderr",
     "output_type": "stream",
     "text": [
      " 31%|███       | 485/1563 [00:01<00:03, 331.23it/s]"
     ]
    },
    {
     "name": "stdout",
     "output_type": "stream",
     "text": [
      "[2023-12-07 16:28:01,265] {executor.py:62} INFO - ModelType.MLP trained for 1.684716855 seconds.\n",
      "[2023-12-07 16:28:01,265] {executor.py:63} INFO - ModelType.MLP eval at step 500.\n",
      "[2023-12-07 16:28:01,450] {executor.py:67} INFO - ModelType.MLP train loss: 0.27188020944595337, eval metrics: {'eval_loss': 0.1751688636044503, 'MRE': 1.4813342496773656, 'MAE': 1.0942714003506728, 'RMSE': 597.3618538908265}\n"
     ]
    },
    {
     "name": "stderr",
     "output_type": "stream",
     "text": [
      " 62%|██████▏   | 976/1563 [00:03<00:01, 344.95it/s]"
     ]
    },
    {
     "name": "stdout",
     "output_type": "stream",
     "text": [
      "[2023-12-07 16:28:02,907] {executor.py:62} INFO - ModelType.MLP trained for 3.327249669 seconds.\n",
      "[2023-12-07 16:28:02,908] {executor.py:63} INFO - ModelType.MLP eval at step 1000.\n",
      "[2023-12-07 16:28:03,081] {executor.py:67} INFO - ModelType.MLP train loss: 0.17368385195732117, eval metrics: {'eval_loss': 0.6020170151505169, 'MRE': 11.509098801560565, 'MAE': 8.302196571775612, 'RMSE': 4089.8363718165833}\n"
     ]
    },
    {
     "name": "stderr",
     "output_type": "stream",
     "text": [
      " 94%|█████████▍| 1477/1563 [00:04<00:00, 404.47it/s]"
     ]
    },
    {
     "name": "stdout",
     "output_type": "stream",
     "text": [
      "[2023-12-07 16:28:04,397] {executor.py:62} INFO - ModelType.MLP trained for 4.816766982 seconds.\n",
      "[2023-12-07 16:28:04,397] {executor.py:63} INFO - ModelType.MLP eval at step 1500.\n",
      "[2023-12-07 16:28:04,569] {executor.py:67} INFO - ModelType.MLP train loss: 0.03941972926259041, eval metrics: {'eval_loss': 0.13073494246490536, 'MRE': 1.3673864410972474, 'MAE': 0.9614422553526215, 'RMSE': 452.8785447292928}\n"
     ]
    },
    {
     "name": "stderr",
     "output_type": "stream",
     "text": [
      "100%|██████████| 1563/1563 [00:05<00:00, 303.04it/s]"
     ]
    },
    {
     "name": "stdout",
     "output_type": "stream",
     "text": [
      "[2023-12-07 16:28:04,741] {executor.py:45} INFO - ModelType.MLP training epoch 1\n"
     ]
    },
    {
     "name": "stderr",
     "output_type": "stream",
     "text": [
      "\n",
      " 27%|██▋       | 416/1563 [00:01<00:02, 413.74it/s]"
     ]
    },
    {
     "name": "stdout",
     "output_type": "stream",
     "text": [
      "[2023-12-07 16:28:05,813] {executor.py:62} INFO - ModelType.MLP trained for 6.232795287 seconds.\n",
      "[2023-12-07 16:28:05,813] {executor.py:63} INFO - ModelType.MLP eval at step 2000.\n",
      "[2023-12-07 16:28:05,985] {executor.py:67} INFO - ModelType.MLP train loss: 0.04426213353872299, eval metrics: {'eval_loss': 0.13212103535166117, 'MRE': 2.2142521087903506, 'MAE': 1.4655216846491426, 'RMSE': 721.428463195888}\n"
     ]
    },
    {
     "name": "stderr",
     "output_type": "stream",
     "text": [
      " 59%|█████▉    | 923/1563 [00:02<00:01, 414.35it/s]"
     ]
    },
    {
     "name": "stdout",
     "output_type": "stream",
     "text": [
      "[2023-12-07 16:28:07,196] {executor.py:62} INFO - ModelType.MLP trained for 7.616388912 seconds.\n",
      "[2023-12-07 16:28:07,197] {executor.py:63} INFO - ModelType.MLP eval at step 2500.\n",
      "[2023-12-07 16:28:07,366] {executor.py:67} INFO - ModelType.MLP train loss: 0.08204492181539536, eval metrics: {'eval_loss': 0.1230799805663621, 'MRE': 0.7199430145747513, 'MAE': 0.44386906327548625, 'RMSE': 207.22263078679103}\n"
     ]
    },
    {
     "name": "stderr",
     "output_type": "stream",
     "text": [
      " 91%|█████████ | 1424/1563 [00:03<00:00, 407.84it/s]"
     ]
    },
    {
     "name": "stdout",
     "output_type": "stream",
     "text": [
      "[2023-12-07 16:28:08,599] {executor.py:62} INFO - ModelType.MLP trained for 9.018689313 seconds.\n",
      "[2023-12-07 16:28:08,599] {executor.py:63} INFO - ModelType.MLP eval at step 3000.\n",
      "[2023-12-07 16:28:08,772] {executor.py:67} INFO - ModelType.MLP train loss: 0.09698854386806488, eval metrics: {'eval_loss': 0.1164178784564434, 'MRE': 1.4996897298567098, 'MAE': 1.0028419271334266, 'RMSE': 452.4983315067323}\n"
     ]
    },
    {
     "name": "stderr",
     "output_type": "stream",
     "text": [
      "100%|██████████| 1563/1563 [00:04<00:00, 358.65it/s]"
     ]
    },
    {
     "name": "stdout",
     "output_type": "stream",
     "text": [
      "[2023-12-07 16:28:09,102] {executor.py:45} INFO - ModelType.MLP training epoch 2\n"
     ]
    },
    {
     "name": "stderr",
     "output_type": "stream",
     "text": [
      "\n",
      " 24%|██▎       | 370/1563 [00:00<00:02, 410.32it/s]"
     ]
    },
    {
     "name": "stdout",
     "output_type": "stream",
     "text": [
      "[2023-12-07 16:28:10,029] {executor.py:62} INFO - ModelType.MLP trained for 10.44927615 seconds.\n",
      "[2023-12-07 16:28:10,030] {executor.py:63} INFO - ModelType.MLP eval at step 3500.\n",
      "[2023-12-07 16:28:10,203] {executor.py:67} INFO - ModelType.MLP train loss: 0.06979097425937653, eval metrics: {'eval_loss': 0.14574040148027573, 'MRE': 0.8543636061203418, 'MAE': 0.6958308826470425, 'RMSE': 427.6274714782178}\n"
     ]
    },
    {
     "name": "stderr",
     "output_type": "stream",
     "text": [
      " 56%|█████▌    | 870/1563 [00:02<00:01, 410.14it/s]"
     ]
    },
    {
     "name": "stdout",
     "output_type": "stream",
     "text": [
      "[2023-12-07 16:28:11,445] {executor.py:62} INFO - ModelType.MLP trained for 11.865090672 seconds.\n",
      "[2023-12-07 16:28:11,446] {executor.py:63} INFO - ModelType.MLP eval at step 4000.\n",
      "[2023-12-07 16:28:11,618] {executor.py:67} INFO - ModelType.MLP train loss: 0.5101016163825989, eval metrics: {'eval_loss': 0.10648521610793722, 'MRE': 0.4990603428159029, 'MAE': 0.42049797897492164, 'RMSE': 235.583059956394}\n"
     ]
    },
    {
     "name": "stderr",
     "output_type": "stream",
     "text": [
      " 85%|████████▌ | 1333/1563 [00:03<00:00, 410.27it/s]"
     ]
    },
    {
     "name": "stdout",
     "output_type": "stream",
     "text": [
      "[2023-12-07 16:28:12,844] {executor.py:62} INFO - ModelType.MLP trained for 13.263782777 seconds.\n",
      "[2023-12-07 16:28:12,844] {executor.py:63} INFO - ModelType.MLP eval at step 4500.\n",
      "[2023-12-07 16:28:13,011] {executor.py:67} INFO - ModelType.MLP train loss: 0.07963445037603378, eval metrics: {'eval_loss': 0.11993358893450468, 'MRE': 1.5509054924587435, 'MAE': 1.0164609523071277, 'RMSE': 577.3125327044181}\n"
     ]
    },
    {
     "name": "stderr",
     "output_type": "stream",
     "text": [
      "100%|██████████| 1563/1563 [00:04<00:00, 355.18it/s]"
     ]
    },
    {
     "name": "stdout",
     "output_type": "stream",
     "text": [
      "[2023-12-07 16:28:13,505] {executor.py:45} INFO - ModelType.MLP training epoch 3\n"
     ]
    },
    {
     "name": "stderr",
     "output_type": "stream",
     "text": [
      "\n",
      " 19%|█▊        | 291/1563 [00:00<00:03, 414.62it/s]"
     ]
    },
    {
     "name": "stdout",
     "output_type": "stream",
     "text": [
      "[2023-12-07 16:28:14,267] {executor.py:62} INFO - ModelType.MLP trained for 14.687555571 seconds.\n",
      "[2023-12-07 16:28:14,268] {executor.py:63} INFO - ModelType.MLP eval at step 5000.\n",
      "[2023-12-07 16:28:14,436] {executor.py:67} INFO - ModelType.MLP train loss: 6.725756645202637, eval metrics: {'eval_loss': 0.10944840877545274, 'MRE': 0.9139609008612256, 'MAE': 0.7243393767072647, 'RMSE': 363.5317392993932}\n"
     ]
    },
    {
     "name": "stderr",
     "output_type": "stream",
     "text": [
      " 52%|█████▏    | 807/1563 [00:02<00:01, 416.57it/s]"
     ]
    },
    {
     "name": "stdout",
     "output_type": "stream",
     "text": [
      "[2023-12-07 16:28:15,650] {executor.py:62} INFO - ModelType.MLP trained for 16.069821556 seconds.\n",
      "[2023-12-07 16:28:15,650] {executor.py:63} INFO - ModelType.MLP eval at step 5500.\n",
      "[2023-12-07 16:28:15,822] {executor.py:67} INFO - ModelType.MLP train loss: 0.7470039129257202, eval metrics: {'eval_loss': 0.10428372713526604, 'MRE': 0.23962933403852568, 'MAE': 0.23063853725424796, 'RMSE': 129.8649520414638}\n"
     ]
    },
    {
     "name": "stderr",
     "output_type": "stream",
     "text": [
      " 81%|████████▏ | 1272/1563 [00:03<00:00, 410.02it/s]"
     ]
    },
    {
     "name": "stdout",
     "output_type": "stream",
     "text": [
      "[2023-12-07 16:28:17,054] {executor.py:62} INFO - ModelType.MLP trained for 17.473830494 seconds.\n",
      "[2023-12-07 16:28:17,054] {executor.py:63} INFO - ModelType.MLP eval at step 6000.\n",
      "[2023-12-07 16:28:17,221] {executor.py:67} INFO - ModelType.MLP train loss: 0.04923241585493088, eval metrics: {'eval_loss': 0.10922970097055243, 'MRE': 1.1138496974571663, 'MAE': 0.7928926646336355, 'RMSE': 373.6880281958285}\n"
     ]
    },
    {
     "name": "stderr",
     "output_type": "stream",
     "text": [
      "100%|██████████| 1563/1563 [00:04<00:00, 357.41it/s]"
     ]
    },
    {
     "name": "stdout",
     "output_type": "stream",
     "text": [
      "[2023-12-07 16:28:17,881] {executor.py:45} INFO - ModelType.MLP training epoch 4\n"
     ]
    },
    {
     "name": "stderr",
     "output_type": "stream",
     "text": [
      "\n",
      " 16%|█▌        | 245/1563 [00:00<00:03, 409.07it/s]"
     ]
    },
    {
     "name": "stdout",
     "output_type": "stream",
     "text": [
      "[2023-12-07 16:28:18,501] {executor.py:62} INFO - ModelType.MLP trained for 18.921195633 seconds.\n",
      "[2023-12-07 16:28:18,502] {executor.py:63} INFO - ModelType.MLP eval at step 6500.\n",
      "[2023-12-07 16:28:18,677] {executor.py:67} INFO - ModelType.MLP train loss: 0.16199521720409393, eval metrics: {'eval_loss': 0.15158129197687717, 'MRE': 0.5346792765171406, 'MAE': 0.6673980756995438, 'RMSE': 430.3162701298953}\n"
     ]
    },
    {
     "name": "stderr",
     "output_type": "stream",
     "text": [
      " 48%|████▊     | 745/1563 [00:02<00:02, 406.65it/s]"
     ]
    },
    {
     "name": "stdout",
     "output_type": "stream",
     "text": [
      "[2023-12-07 16:28:19,931] {executor.py:62} INFO - ModelType.MLP trained for 20.351179055 seconds.\n",
      "[2023-12-07 16:28:19,932] {executor.py:63} INFO - ModelType.MLP eval at step 7000.\n",
      "[2023-12-07 16:28:20,105] {executor.py:67} INFO - ModelType.MLP train loss: 0.06898534297943115, eval metrics: {'eval_loss': 0.1168469415471895, 'MRE': 0.39177172715204694, 'MAE': 0.28562674039986014, 'RMSE': 151.1466370684984}\n"
     ]
    },
    {
     "name": "stderr",
     "output_type": "stream",
     "text": [
      " 77%|███████▋  | 1207/1563 [00:03<00:00, 406.87it/s]"
     ]
    },
    {
     "name": "stdout",
     "output_type": "stream",
     "text": [
      "[2023-12-07 16:28:21,357] {executor.py:62} INFO - ModelType.MLP trained for 21.776737568 seconds.\n",
      "[2023-12-07 16:28:21,357] {executor.py:63} INFO - ModelType.MLP eval at step 7500.\n",
      "[2023-12-07 16:28:21,532] {executor.py:67} INFO - ModelType.MLP train loss: 0.2057148516178131, eval metrics: {'eval_loss': 0.1057427419500817, 'MRE': 0.9130410026514479, 'MAE': 0.7668482596221243, 'RMSE': 406.04115689779854}\n"
     ]
    },
    {
     "name": "stderr",
     "output_type": "stream",
     "text": [
      "100%|██████████| 1563/1563 [00:04<00:00, 347.31it/s]\n"
     ]
    },
    {
     "data": {
      "image/png": "[encoded data removed]",
      "text/plain": [
       "<Figure size 1500x500 with 4 Axes>"
      ]
     },
     "metadata": {},
     "output_type": "display_data"
    }
   ],
   "source": [
    "init_model = init_model_funcs[model_type.name]\n",
    "\n",
    "model = init_model(conf)\n",
    "model = model.to(conf.device)\n",
    "\n",
    "single_train_loop(model_type, conf, preprocessed_train_ds, preprocessed_eval_ds, model, compute_evaluate_metrics, to_device)\n"
   ]
  },
  {
   "cell_type": "code",
   "execution_count": null,
   "metadata": {},
   "outputs": [],
   "source": []
  }
 ],
 "metadata": {
  "kernelspec": {
   "display_name": "DLT-perf-model",
   "language": "python",
   "name": "python3"
  },
  "language_info": {
   "codemirror_mode": {
    "name": "ipython",
    "version": 3
   },
   "file_extension": ".py",
   "mimetype": "text/x-python",
   "name": "python",
   "nbconvert_exporter": "python",
   "pygments_lexer": "ipython3",
   "version": "3.10.13"
  }
 },
 "nbformat": 4,
 "nbformat_minor": 2
}
