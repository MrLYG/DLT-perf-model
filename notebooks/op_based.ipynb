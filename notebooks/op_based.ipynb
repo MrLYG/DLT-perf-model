{
 "cells": [
  {
   "cell_type": "code",
   "execution_count": 71,
   "metadata": {},
   "outputs": [],
   "source": [
    "import numpy as np\n",
    "import torch\n",
    "import torch.nn\n",
    "import torch.optim\n",
    "from abc import abstractmethod\n",
    "from collections import defaultdict\n",
    "from functools import lru_cache\n",
    "from itertools import count\n",
    "from typing import List, Dict\n",
    "from typing import Tuple, Any\n",
    "from sklearn import ensemble\n",
    "from sklearn.metrics import mean_squared_error\n",
    "from torch.nn import MSELoss, ReLU, L1Loss\n",
    "from sklearn.preprocessing import StandardScaler, MinMaxScaler"
   ]
  },
  {
   "cell_type": "code",
   "execution_count": 72,
   "metadata": {},
   "outputs": [
    {
     "name": "stdout",
     "output_type": "stream",
     "text": [
      "datasets_path: /root/guohao/repos/DLT-perf-model/datasets\n",
      "configs_path: /root/guohao/repos/DLT-perf-model/notebooks/configs\n"
     ]
    }
   ],
   "source": [
    "from importlib import reload\n",
    "from config import Config\n",
    "import config\n",
    "from data import MDataset, Graph, load_graphs, save_dataset_pkl, load_dataset_pkl, save_scalers_pkl, load_scalers_pkl\n",
    "import data\n",
    "from base_module import MModule, nested_detach\n",
    "import base_module\n",
    "from executor import single_train_loop, grid_search_loop\n",
    "import executor\n",
    "from objects import ModelType\n",
    "import objects\n",
    "from metric import MetricUtil\n",
    "import metric\n",
    "from logger import init_logging\n",
    "import logger\n",
    "reload(config)\n",
    "reload(data)\n",
    "reload(base_module)\n",
    "reload(executor)\n",
    "reload(objects)\n",
    "reload(metric)\n",
    "reload(logger)\n",
    "from config import Config\n",
    "from data import MDataset, Graph, load_graphs\n",
    "from base_module import MModule\n",
    "from objects import ModelType\n",
    "from metric import MetricUtil\n",
    "from logger import init_logging\n",
    "init_logging()"
   ]
  },
  {
   "cell_type": "code",
   "execution_count": 75,
   "metadata": {},
   "outputs": [],
   "source": [
    "dataset_environment_str = \"T4_CPUALL\"\n",
    "normalizer_cls = StandardScaler # MinMaxScaler\n",
    "dummy = False"
   ]
  },
  {
   "cell_type": "code",
   "execution_count": 74,
   "metadata": {},
   "outputs": [
    {
     "ename": "ValueError",
     "evalue": "invalid literal for int() with base 10: 'ALL'",
     "output_type": "error",
     "traceback": [
      "\u001b[0;31m---------------------------------------------------------------------------\u001b[0m",
      "\u001b[0;31mValueError\u001b[0m                                Traceback (most recent call last)",
      "\u001b[1;32m/root/guohao/repos/DLT-perf-model/notebooks/op_based.ipynb Cell 4\u001b[0m line \u001b[0;36m2\n\u001b[1;32m      <a href='vscode-notebook-cell://ssh-remote%2B133.133.135.71/root/guohao/repos/DLT-perf-model/notebooks/op_based.ipynb#X24sdnNjb2RlLXJlbW90ZQ%3D%3D?line=0'>1</a>\u001b[0m train_configs \u001b[39m=\u001b[39m {\n\u001b[0;32m----> <a href='vscode-notebook-cell://ssh-remote%2B133.133.135.71/root/guohao/repos/DLT-perf-model/notebooks/op_based.ipynb#X24sdnNjb2RlLXJlbW90ZQ%3D%3D?line=1'>2</a>\u001b[0m     ModelType\u001b[39m.\u001b[39mMLP\u001b[39m.\u001b[39mname: Config\u001b[39m.\u001b[39;49mfrom_dict({\n\u001b[1;32m      <a href='vscode-notebook-cell://ssh-remote%2B133.133.135.71/root/guohao/repos/DLT-perf-model/notebooks/op_based.ipynb#X24sdnNjb2RlLXJlbW90ZQ%3D%3D?line=2'>3</a>\u001b[0m         \u001b[39m\"\u001b[39;49m\u001b[39mmodel\u001b[39;49m\u001b[39m\"\u001b[39;49m: \u001b[39m\"\u001b[39;49m\u001b[39mMLP\u001b[39;49m\u001b[39m\"\u001b[39;49m,\n\u001b[1;32m      <a href='vscode-notebook-cell://ssh-remote%2B133.133.135.71/root/guohao/repos/DLT-perf-model/notebooks/op_based.ipynb#X24sdnNjb2RlLXJlbW90ZQ%3D%3D?line=3'>4</a>\u001b[0m         \u001b[39m\"\u001b[39;49m\u001b[39mall_seed\u001b[39;49m\u001b[39m\"\u001b[39;49m: \u001b[39m42\u001b[39;49m,\n\u001b[1;32m      <a href='vscode-notebook-cell://ssh-remote%2B133.133.135.71/root/guohao/repos/DLT-perf-model/notebooks/op_based.ipynb#X24sdnNjb2RlLXJlbW90ZQ%3D%3D?line=4'>5</a>\u001b[0m         \u001b[39m\"\u001b[39;49m\u001b[39mdataset_environment_str\u001b[39;49m\u001b[39m\"\u001b[39;49m: dataset_environment_str,\n\u001b[1;32m      <a href='vscode-notebook-cell://ssh-remote%2B133.133.135.71/root/guohao/repos/DLT-perf-model/notebooks/op_based.ipynb#X24sdnNjb2RlLXJlbW90ZQ%3D%3D?line=5'>6</a>\u001b[0m         \u001b[39m\"\u001b[39;49m\u001b[39mdataset_normalization\u001b[39;49m\u001b[39m\"\u001b[39;49m: \u001b[39m\"\u001b[39;49m\u001b[39mStandard\u001b[39;49m\u001b[39m\"\u001b[39;49m,\n\u001b[1;32m      <a href='vscode-notebook-cell://ssh-remote%2B133.133.135.71/root/guohao/repos/DLT-perf-model/notebooks/op_based.ipynb#X24sdnNjb2RlLXJlbW90ZQ%3D%3D?line=6'>7</a>\u001b[0m         \u001b[39m\"\u001b[39;49m\u001b[39mdataset_params\u001b[39;49m\u001b[39m\"\u001b[39;49m: {\n\u001b[1;32m      <a href='vscode-notebook-cell://ssh-remote%2B133.133.135.71/root/guohao/repos/DLT-perf-model/notebooks/op_based.ipynb#X24sdnNjb2RlLXJlbW90ZQ%3D%3D?line=7'>8</a>\u001b[0m             \u001b[39m\"\u001b[39;49m\u001b[39mduration_summed\u001b[39;49m\u001b[39m\"\u001b[39;49m: \u001b[39mFalse\u001b[39;49;00m,\n\u001b[1;32m      <a href='vscode-notebook-cell://ssh-remote%2B133.133.135.71/root/guohao/repos/DLT-perf-model/notebooks/op_based.ipynb#X24sdnNjb2RlLXJlbW90ZQ%3D%3D?line=8'>9</a>\u001b[0m         },\n\u001b[1;32m     <a href='vscode-notebook-cell://ssh-remote%2B133.133.135.71/root/guohao/repos/DLT-perf-model/notebooks/op_based.ipynb#X24sdnNjb2RlLXJlbW90ZQ%3D%3D?line=9'>10</a>\u001b[0m         \u001b[39m\"\u001b[39;49m\u001b[39mdataset_dummy\u001b[39;49m\u001b[39m\"\u001b[39;49m: \u001b[39mFalse\u001b[39;49;00m,\n\u001b[1;32m     <a href='vscode-notebook-cell://ssh-remote%2B133.133.135.71/root/guohao/repos/DLT-perf-model/notebooks/op_based.ipynb#X24sdnNjb2RlLXJlbW90ZQ%3D%3D?line=10'>11</a>\u001b[0m         \u001b[39m\"\u001b[39;49m\u001b[39mbatch_size\u001b[39;49m\u001b[39m\"\u001b[39;49m: \u001b[39m64\u001b[39;49m,\n\u001b[1;32m     <a href='vscode-notebook-cell://ssh-remote%2B133.133.135.71/root/guohao/repos/DLT-perf-model/notebooks/op_based.ipynb#X24sdnNjb2RlLXJlbW90ZQ%3D%3D?line=11'>12</a>\u001b[0m         \u001b[39m\"\u001b[39;49m\u001b[39meval_steps\u001b[39;49m\u001b[39m\"\u001b[39;49m: \u001b[39m5000\u001b[39;49m,\n\u001b[1;32m     <a href='vscode-notebook-cell://ssh-remote%2B133.133.135.71/root/guohao/repos/DLT-perf-model/notebooks/op_based.ipynb#X24sdnNjb2RlLXJlbW90ZQ%3D%3D?line=12'>13</a>\u001b[0m         \u001b[39m\"\u001b[39;49m\u001b[39mlearning_rate\u001b[39;49m\u001b[39m\"\u001b[39;49m: \u001b[39m1e-3\u001b[39;49m,\n\u001b[1;32m     <a href='vscode-notebook-cell://ssh-remote%2B133.133.135.71/root/guohao/repos/DLT-perf-model/notebooks/op_based.ipynb#X24sdnNjb2RlLXJlbW90ZQ%3D%3D?line=13'>14</a>\u001b[0m         \u001b[39m\"\u001b[39;49m\u001b[39mepochs\u001b[39;49m\u001b[39m\"\u001b[39;49m: \u001b[39m5\u001b[39;49m,\n\u001b[1;32m     <a href='vscode-notebook-cell://ssh-remote%2B133.133.135.71/root/guohao/repos/DLT-perf-model/notebooks/op_based.ipynb#X24sdnNjb2RlLXJlbW90ZQ%3D%3D?line=14'>15</a>\u001b[0m         \u001b[39m\"\u001b[39;49m\u001b[39moptimizer\u001b[39;49m\u001b[39m\"\u001b[39;49m: \u001b[39m\"\u001b[39;49m\u001b[39mAdam\u001b[39;49m\u001b[39m\"\u001b[39;49m,\n\u001b[1;32m     <a href='vscode-notebook-cell://ssh-remote%2B133.133.135.71/root/guohao/repos/DLT-perf-model/notebooks/op_based.ipynb#X24sdnNjb2RlLXJlbW90ZQ%3D%3D?line=15'>16</a>\u001b[0m         \u001b[39m\"\u001b[39;49m\u001b[39mmeta_configs\u001b[39;49m\u001b[39m\"\u001b[39;49m: {\n\u001b[1;32m     <a href='vscode-notebook-cell://ssh-remote%2B133.133.135.71/root/guohao/repos/DLT-perf-model/notebooks/op_based.ipynb#X24sdnNjb2RlLXJlbW90ZQ%3D%3D?line=16'>17</a>\u001b[0m             \u001b[39m\"\u001b[39;49m\u001b[39mlearning_rate\u001b[39;49m\u001b[39m\"\u001b[39;49m: \u001b[39m0.005\u001b[39;49m,\n\u001b[1;32m     <a href='vscode-notebook-cell://ssh-remote%2B133.133.135.71/root/guohao/repos/DLT-perf-model/notebooks/op_based.ipynb#X24sdnNjb2RlLXJlbW90ZQ%3D%3D?line=17'>18</a>\u001b[0m             \u001b[39m\"\u001b[39;49m\u001b[39mmeta_learning_rate\u001b[39;49m\u001b[39m\"\u001b[39;49m: \u001b[39m0.001\u001b[39;49m,\n\u001b[1;32m     <a href='vscode-notebook-cell://ssh-remote%2B133.133.135.71/root/guohao/repos/DLT-perf-model/notebooks/op_based.ipynb#X24sdnNjb2RlLXJlbW90ZQ%3D%3D?line=18'>19</a>\u001b[0m             \u001b[39m\"\u001b[39;49m\u001b[39mmeta_train_steps\u001b[39;49m\u001b[39m\"\u001b[39;49m: \u001b[39m1000\u001b[39;49m,\n\u001b[1;32m     <a href='vscode-notebook-cell://ssh-remote%2B133.133.135.71/root/guohao/repos/DLT-perf-model/notebooks/op_based.ipynb#X24sdnNjb2RlLXJlbW90ZQ%3D%3D?line=19'>20</a>\u001b[0m             \u001b[39m\"\u001b[39;49m\u001b[39mmeta_task_per_step\u001b[39;49m\u001b[39m\"\u001b[39;49m: \u001b[39m8\u001b[39;49m,\n\u001b[1;32m     <a href='vscode-notebook-cell://ssh-remote%2B133.133.135.71/root/guohao/repos/DLT-perf-model/notebooks/op_based.ipynb#X24sdnNjb2RlLXJlbW90ZQ%3D%3D?line=20'>21</a>\u001b[0m             \u001b[39m\"\u001b[39;49m\u001b[39mmeta_fast_adaption_step\u001b[39;49m\u001b[39m\"\u001b[39;49m: \u001b[39m5\u001b[39;49m,\n\u001b[1;32m     <a href='vscode-notebook-cell://ssh-remote%2B133.133.135.71/root/guohao/repos/DLT-perf-model/notebooks/op_based.ipynb#X24sdnNjb2RlLXJlbW90ZQ%3D%3D?line=21'>22</a>\u001b[0m             \u001b[39m\"\u001b[39;49m\u001b[39mmeta_dataset_train_environment_strs\u001b[39;49m\u001b[39m\"\u001b[39;49m: [dataset_environment_str],\n\u001b[1;32m     <a href='vscode-notebook-cell://ssh-remote%2B133.133.135.71/root/guohao/repos/DLT-perf-model/notebooks/op_based.ipynb#X24sdnNjb2RlLXJlbW90ZQ%3D%3D?line=22'>23</a>\u001b[0m             \u001b[39m\"\u001b[39;49m\u001b[39mmeta_dataset_eval_environment_strs\u001b[39;49m\u001b[39m\"\u001b[39;49m: [dataset_environment_str],\n\u001b[1;32m     <a href='vscode-notebook-cell://ssh-remote%2B133.133.135.71/root/guohao/repos/DLT-perf-model/notebooks/op_based.ipynb#X24sdnNjb2RlLXJlbW90ZQ%3D%3D?line=23'>24</a>\u001b[0m         },\n\u001b[1;32m     <a href='vscode-notebook-cell://ssh-remote%2B133.133.135.71/root/guohao/repos/DLT-perf-model/notebooks/op_based.ipynb#X24sdnNjb2RlLXJlbW90ZQ%3D%3D?line=24'>25</a>\u001b[0m     }),\n\u001b[1;32m     <a href='vscode-notebook-cell://ssh-remote%2B133.133.135.71/root/guohao/repos/DLT-perf-model/notebooks/op_based.ipynb#X24sdnNjb2RlLXJlbW90ZQ%3D%3D?line=25'>26</a>\u001b[0m     ModelType\u001b[39m.\u001b[39mPerfNet\u001b[39m.\u001b[39mname: Config\u001b[39m.\u001b[39mfrom_dict({\n\u001b[1;32m     <a href='vscode-notebook-cell://ssh-remote%2B133.133.135.71/root/guohao/repos/DLT-perf-model/notebooks/op_based.ipynb#X24sdnNjb2RlLXJlbW90ZQ%3D%3D?line=26'>27</a>\u001b[0m         \u001b[39m\"\u001b[39m\u001b[39mmodel\u001b[39m\u001b[39m\"\u001b[39m: \u001b[39m\"\u001b[39m\u001b[39mPerfNet\u001b[39m\u001b[39m\"\u001b[39m,\n\u001b[1;32m     <a href='vscode-notebook-cell://ssh-remote%2B133.133.135.71/root/guohao/repos/DLT-perf-model/notebooks/op_based.ipynb#X24sdnNjb2RlLXJlbW90ZQ%3D%3D?line=27'>28</a>\u001b[0m         \u001b[39m\"\u001b[39m\u001b[39mdataset_environment_str\u001b[39m\u001b[39m\"\u001b[39m: dataset_environment_str,\n\u001b[1;32m     <a href='vscode-notebook-cell://ssh-remote%2B133.133.135.71/root/guohao/repos/DLT-perf-model/notebooks/op_based.ipynb#X24sdnNjb2RlLXJlbW90ZQ%3D%3D?line=28'>29</a>\u001b[0m         \u001b[39m\"\u001b[39m\u001b[39mdataset_normalization\u001b[39m\u001b[39m\"\u001b[39m: \u001b[39m\"\u001b[39m\u001b[39mStandard\u001b[39m\u001b[39m\"\u001b[39m,\n\u001b[1;32m     <a href='vscode-notebook-cell://ssh-remote%2B133.133.135.71/root/guohao/repos/DLT-perf-model/notebooks/op_based.ipynb#X24sdnNjb2RlLXJlbW90ZQ%3D%3D?line=29'>30</a>\u001b[0m         \u001b[39m\"\u001b[39m\u001b[39mall_seed\u001b[39m\u001b[39m\"\u001b[39m: \u001b[39m42\u001b[39m,\n\u001b[1;32m     <a href='vscode-notebook-cell://ssh-remote%2B133.133.135.71/root/guohao/repos/DLT-perf-model/notebooks/op_based.ipynb#X24sdnNjb2RlLXJlbW90ZQ%3D%3D?line=30'>31</a>\u001b[0m         \u001b[39m\"\u001b[39m\u001b[39mdataset_params\u001b[39m\u001b[39m\"\u001b[39m: {\n\u001b[1;32m     <a href='vscode-notebook-cell://ssh-remote%2B133.133.135.71/root/guohao/repos/DLT-perf-model/notebooks/op_based.ipynb#X24sdnNjb2RlLXJlbW90ZQ%3D%3D?line=31'>32</a>\u001b[0m             \u001b[39m\"\u001b[39m\u001b[39mduration_summed\u001b[39m\u001b[39m\"\u001b[39m: \u001b[39mFalse\u001b[39;00m,\n\u001b[1;32m     <a href='vscode-notebook-cell://ssh-remote%2B133.133.135.71/root/guohao/repos/DLT-perf-model/notebooks/op_based.ipynb#X24sdnNjb2RlLXJlbW90ZQ%3D%3D?line=32'>33</a>\u001b[0m         },\n\u001b[1;32m     <a href='vscode-notebook-cell://ssh-remote%2B133.133.135.71/root/guohao/repos/DLT-perf-model/notebooks/op_based.ipynb#X24sdnNjb2RlLXJlbW90ZQ%3D%3D?line=33'>34</a>\u001b[0m         \u001b[39m\"\u001b[39m\u001b[39mdataset_dummy\u001b[39m\u001b[39m\"\u001b[39m: \u001b[39mTrue\u001b[39;00m,\n\u001b[1;32m     <a href='vscode-notebook-cell://ssh-remote%2B133.133.135.71/root/guohao/repos/DLT-perf-model/notebooks/op_based.ipynb#X24sdnNjb2RlLXJlbW90ZQ%3D%3D?line=34'>35</a>\u001b[0m         \u001b[39m\"\u001b[39m\u001b[39mbatch_size\u001b[39m\u001b[39m\"\u001b[39m: \u001b[39m32\u001b[39m,\n\u001b[1;32m     <a href='vscode-notebook-cell://ssh-remote%2B133.133.135.71/root/guohao/repos/DLT-perf-model/notebooks/op_based.ipynb#X24sdnNjb2RlLXJlbW90ZQ%3D%3D?line=35'>36</a>\u001b[0m         \u001b[39m\"\u001b[39m\u001b[39meval_steps\u001b[39m\u001b[39m\"\u001b[39m: \u001b[39m5000\u001b[39m,\n\u001b[1;32m     <a href='vscode-notebook-cell://ssh-remote%2B133.133.135.71/root/guohao/repos/DLT-perf-model/notebooks/op_based.ipynb#X24sdnNjb2RlLXJlbW90ZQ%3D%3D?line=36'>37</a>\u001b[0m         \u001b[39m\"\u001b[39m\u001b[39mlearning_rate\u001b[39m\u001b[39m\"\u001b[39m: \u001b[39m1e-3\u001b[39m,\n\u001b[1;32m     <a href='vscode-notebook-cell://ssh-remote%2B133.133.135.71/root/guohao/repos/DLT-perf-model/notebooks/op_based.ipynb#X24sdnNjb2RlLXJlbW90ZQ%3D%3D?line=37'>38</a>\u001b[0m         \u001b[39m\"\u001b[39m\u001b[39mepochs\u001b[39m\u001b[39m\"\u001b[39m: \u001b[39m10\u001b[39m,\n\u001b[1;32m     <a href='vscode-notebook-cell://ssh-remote%2B133.133.135.71/root/guohao/repos/DLT-perf-model/notebooks/op_based.ipynb#X24sdnNjb2RlLXJlbW90ZQ%3D%3D?line=38'>39</a>\u001b[0m         \u001b[39m\"\u001b[39m\u001b[39moptimizer\u001b[39m\u001b[39m\"\u001b[39m: \u001b[39m\"\u001b[39m\u001b[39mAdam\u001b[39m\u001b[39m\"\u001b[39m,\n\u001b[1;32m     <a href='vscode-notebook-cell://ssh-remote%2B133.133.135.71/root/guohao/repos/DLT-perf-model/notebooks/op_based.ipynb#X24sdnNjb2RlLXJlbW90ZQ%3D%3D?line=39'>40</a>\u001b[0m         \u001b[39m\"\u001b[39m\u001b[39mmeta_configs\u001b[39m\u001b[39m\"\u001b[39m: {\n\u001b[1;32m     <a href='vscode-notebook-cell://ssh-remote%2B133.133.135.71/root/guohao/repos/DLT-perf-model/notebooks/op_based.ipynb#X24sdnNjb2RlLXJlbW90ZQ%3D%3D?line=40'>41</a>\u001b[0m             \u001b[39m\"\u001b[39m\u001b[39mlearning_rate\u001b[39m\u001b[39m\"\u001b[39m: \u001b[39m0.005\u001b[39m,\n\u001b[1;32m     <a href='vscode-notebook-cell://ssh-remote%2B133.133.135.71/root/guohao/repos/DLT-perf-model/notebooks/op_based.ipynb#X24sdnNjb2RlLXJlbW90ZQ%3D%3D?line=41'>42</a>\u001b[0m             \u001b[39m\"\u001b[39m\u001b[39mmeta_learning_rate\u001b[39m\u001b[39m\"\u001b[39m: \u001b[39m0.001\u001b[39m,\n\u001b[1;32m     <a href='vscode-notebook-cell://ssh-remote%2B133.133.135.71/root/guohao/repos/DLT-perf-model/notebooks/op_based.ipynb#X24sdnNjb2RlLXJlbW90ZQ%3D%3D?line=42'>43</a>\u001b[0m             \u001b[39m\"\u001b[39m\u001b[39mmeta_train_steps\u001b[39m\u001b[39m\"\u001b[39m: \u001b[39m1000\u001b[39m,\n\u001b[1;32m     <a href='vscode-notebook-cell://ssh-remote%2B133.133.135.71/root/guohao/repos/DLT-perf-model/notebooks/op_based.ipynb#X24sdnNjb2RlLXJlbW90ZQ%3D%3D?line=43'>44</a>\u001b[0m             \u001b[39m\"\u001b[39m\u001b[39mmeta_task_per_step\u001b[39m\u001b[39m\"\u001b[39m: \u001b[39m8\u001b[39m,\n\u001b[1;32m     <a href='vscode-notebook-cell://ssh-remote%2B133.133.135.71/root/guohao/repos/DLT-perf-model/notebooks/op_based.ipynb#X24sdnNjb2RlLXJlbW90ZQ%3D%3D?line=44'>45</a>\u001b[0m             \u001b[39m\"\u001b[39m\u001b[39mmeta_fast_adaption_step\u001b[39m\u001b[39m\"\u001b[39m: \u001b[39m5\u001b[39m,\n\u001b[1;32m     <a href='vscode-notebook-cell://ssh-remote%2B133.133.135.71/root/guohao/repos/DLT-perf-model/notebooks/op_based.ipynb#X24sdnNjb2RlLXJlbW90ZQ%3D%3D?line=45'>46</a>\u001b[0m             \u001b[39m\"\u001b[39m\u001b[39mmeta_dataset_train_environment_strs\u001b[39m\u001b[39m\"\u001b[39m: [dataset_environment_str],\n\u001b[1;32m     <a href='vscode-notebook-cell://ssh-remote%2B133.133.135.71/root/guohao/repos/DLT-perf-model/notebooks/op_based.ipynb#X24sdnNjb2RlLXJlbW90ZQ%3D%3D?line=46'>47</a>\u001b[0m             \u001b[39m\"\u001b[39m\u001b[39mmeta_dataset_eval_environment_strs\u001b[39m\u001b[39m\"\u001b[39m: [dataset_environment_str],\n\u001b[1;32m     <a href='vscode-notebook-cell://ssh-remote%2B133.133.135.71/root/guohao/repos/DLT-perf-model/notebooks/op_based.ipynb#X24sdnNjb2RlLXJlbW90ZQ%3D%3D?line=47'>48</a>\u001b[0m         },\n\u001b[1;32m     <a href='vscode-notebook-cell://ssh-remote%2B133.133.135.71/root/guohao/repos/DLT-perf-model/notebooks/op_based.ipynb#X24sdnNjb2RlLXJlbW90ZQ%3D%3D?line=48'>49</a>\u001b[0m     })\n\u001b[1;32m     <a href='vscode-notebook-cell://ssh-remote%2B133.133.135.71/root/guohao/repos/DLT-perf-model/notebooks/op_based.ipynb#X24sdnNjb2RlLXJlbW90ZQ%3D%3D?line=49'>50</a>\u001b[0m }\n\u001b[1;32m     <a href='vscode-notebook-cell://ssh-remote%2B133.133.135.71/root/guohao/repos/DLT-perf-model/notebooks/op_based.ipynb#X24sdnNjb2RlLXJlbW90ZQ%3D%3D?line=51'>52</a>\u001b[0m model_type \u001b[39m=\u001b[39m ModelType\u001b[39m.\u001b[39mMLP\n\u001b[1;32m     <a href='vscode-notebook-cell://ssh-remote%2B133.133.135.71/root/guohao/repos/DLT-perf-model/notebooks/op_based.ipynb#X24sdnNjb2RlLXJlbW90ZQ%3D%3D?line=52'>53</a>\u001b[0m conf \u001b[39m=\u001b[39m train_configs[model_type\u001b[39m.\u001b[39mname]\n",
      "File \u001b[0;32m~/guohao/repos/DLT-perf-model/notebooks/config.py:86\u001b[0m, in \u001b[0;36mConfig.from_dict\u001b[0;34m(d)\u001b[0m\n\u001b[1;32m     84\u001b[0m \u001b[39m@staticmethod\u001b[39m\n\u001b[1;32m     85\u001b[0m \u001b[39mdef\u001b[39;00m \u001b[39mfrom_dict\u001b[39m(d):\n\u001b[0;32m---> 86\u001b[0m     \u001b[39mreturn\u001b[39;00m Config(d)\n",
      "File \u001b[0;32m~/guohao/repos/DLT-perf-model/notebooks/config.py:98\u001b[0m, in \u001b[0;36mConfig.__init__\u001b[0;34m(self, train_config_js)\u001b[0m\n\u001b[1;32m     97\u001b[0m \u001b[39mdef\u001b[39;00m \u001b[39m__init__\u001b[39m(\u001b[39mself\u001b[39m, train_config_js):\n\u001b[0;32m---> 98\u001b[0m     \u001b[39msuper\u001b[39;49m()\u001b[39m.\u001b[39;49m\u001b[39m__init__\u001b[39;49m(dataset_config_js\u001b[39m=\u001b[39;49mtrain_config_js,\n\u001b[1;32m     99\u001b[0m                      model_config_js\u001b[39m=\u001b[39;49mtrain_config_js,\n\u001b[1;32m    100\u001b[0m                      device_config_js\u001b[39m=\u001b[39;49mtrain_config_js,\n\u001b[1;32m    101\u001b[0m                      transfer_config_js\u001b[39m=\u001b[39;49mtrain_config_js)\n\u001b[1;32m    102\u001b[0m     \u001b[39mself\u001b[39m\u001b[39m.\u001b[39mraw_config \u001b[39m=\u001b[39m train_config_js\n\u001b[1;32m    103\u001b[0m     \u001b[39m# training\u001b[39;00m\n",
      "File \u001b[0;32m~/guohao/repos/DLT-perf-model/notebooks/config.py:27\u001b[0m, in \u001b[0;36mDatasetConfigMixin.__init__\u001b[0;34m(self, dataset_config_js, **kwargs)\u001b[0m\n\u001b[1;32m     23\u001b[0m \u001b[39mself\u001b[39m\u001b[39m.\u001b[39mmeta_dataset_train_environment_strs: [\u001b[39mstr\u001b[39m] \u001b[39m=\u001b[39m meta_configs\u001b[39m.\u001b[39mget(\u001b[39m\"\u001b[39m\u001b[39mmeta_dataset_train_environment_strs\u001b[39m\u001b[39m\"\u001b[39m,\n\u001b[1;32m     24\u001b[0m                                                                    [\u001b[39m\"\u001b[39m\u001b[39mRTX2080Ti_CPU100\u001b[39m\u001b[39m\"\u001b[39m])\n\u001b[1;32m     25\u001b[0m \u001b[39mself\u001b[39m\u001b[39m.\u001b[39mmeta_dataset_eval_environment_strs: [\u001b[39mstr\u001b[39m] \u001b[39m=\u001b[39m meta_configs\u001b[39m.\u001b[39mget(\u001b[39m\"\u001b[39m\u001b[39mmeta_dataset_eval_environment_strs\u001b[39m\u001b[39m\"\u001b[39m,\n\u001b[1;32m     26\u001b[0m                                                                   [\u001b[39m\"\u001b[39m\u001b[39mRTX2080Ti_CPU100\u001b[39m\u001b[39m\"\u001b[39m])\n\u001b[0;32m---> 27\u001b[0m \u001b[39mself\u001b[39m\u001b[39m.\u001b[39mdataset_environment: Environment \u001b[39m=\u001b[39m Environment\u001b[39m.\u001b[39;49mfrom_str(\n\u001b[1;32m     28\u001b[0m     \u001b[39mself\u001b[39;49m\u001b[39m.\u001b[39;49mdataset_environment_str)\n\u001b[1;32m     29\u001b[0m \u001b[39mself\u001b[39m\u001b[39m.\u001b[39mmeta_dataset_train_environments: List[Environment] \u001b[39m=\u001b[39m [Environment\u001b[39m.\u001b[39mfrom_str(s) \u001b[39mfor\u001b[39;00m s \u001b[39min\u001b[39;00m\n\u001b[1;32m     30\u001b[0m                                                            \u001b[39mself\u001b[39m\u001b[39m.\u001b[39mmeta_dataset_train_environment_strs]\n\u001b[1;32m     31\u001b[0m \u001b[39mself\u001b[39m\u001b[39m.\u001b[39mmeta_dataset_eval_environments: List[Environment] \u001b[39m=\u001b[39m [Environment\u001b[39m.\u001b[39mfrom_str(s) \u001b[39mfor\u001b[39;00m s \u001b[39min\u001b[39;00m\n\u001b[1;32m     32\u001b[0m                                                           \u001b[39mself\u001b[39m\u001b[39m.\u001b[39mmeta_dataset_eval_environment_strs]\n",
      "File \u001b[0;32m~/guohao/repos/DLT-perf-model/notebooks/objects.py:36\u001b[0m, in \u001b[0;36mEnvironment.from_str\u001b[0;34m(environment_str)\u001b[0m\n\u001b[1;32m     34\u001b[0m strs \u001b[39m=\u001b[39m environment_str\u001b[39m.\u001b[39msplit(\u001b[39m\"\u001b[39m\u001b[39m_\u001b[39m\u001b[39m\"\u001b[39m)\n\u001b[1;32m     35\u001b[0m gpu_type \u001b[39m=\u001b[39m GPUType[strs[\u001b[39m0\u001b[39m]]\n\u001b[0;32m---> 36\u001b[0m cpu \u001b[39m=\u001b[39m \u001b[39mint\u001b[39;49m(strs[\u001b[39m1\u001b[39;49m]\u001b[39m.\u001b[39;49msplit(\u001b[39m\"\u001b[39;49m\u001b[39mCPU\u001b[39;49m\u001b[39m\"\u001b[39;49m)[\u001b[39m-\u001b[39;49m\u001b[39m1\u001b[39;49m])\n\u001b[1;32m     37\u001b[0m \u001b[39mreturn\u001b[39;00m Environment(gpu_type\u001b[39m=\u001b[39mgpu_type, cpu\u001b[39m=\u001b[39mcpu)\n",
      "\u001b[0;31mValueError\u001b[0m: invalid literal for int() with base 10: 'ALL'"
     ]
    }
   ],
   "source": [
    "train_configs = {\n",
    "    ModelType.MLP.name: Config.from_dict({\n",
    "        \"model\": \"MLP\",\n",
    "        \"all_seed\": 42,\n",
    "        \"dataset_environment_str\": dataset_environment_str,\n",
    "        \"dataset_normalization\": \"Standard\",\n",
    "        \"dataset_params\": {\n",
    "            \"duration_summed\": False,\n",
    "        },\n",
    "        \"dataset_dummy\": False,\n",
    "        \"batch_size\": 32,\n",
    "        \"eval_steps\": 5000,\n",
    "        \"learning_rate\": 1e-5,\n",
    "        \"epochs\": 5,\n",
    "        \"optimizer\": \"Adam\",\n",
    "        \"meta_configs\": {\n",
    "            \"learning_rate\": 0.005,\n",
    "            \"meta_learning_rate\": 0.001,\n",
    "            \"meta_train_steps\": 1000,\n",
    "            \"meta_task_per_step\": 8,\n",
    "            \"meta_fast_adaption_step\": 5,\n",
    "            \"meta_dataset_train_environment_strs\": [dataset_environment_str],\n",
    "            \"meta_dataset_eval_environment_strs\": [dataset_environment_str],\n",
    "        },\n",
    "    }),\n",
    "    ModelType.PerfNet.name: Config.from_dict({\n",
    "        \"model\": \"PerfNet\",\n",
    "        \"dataset_environment_str\": dataset_environment_str,\n",
    "        \"dataset_normalization\": \"Standard\",\n",
    "        \"all_seed\": 42,\n",
    "        \"dataset_params\": {\n",
    "            \"duration_summed\": False,\n",
    "        },\n",
    "        \"dataset_dummy\": True,\n",
    "        \"batch_size\": 32,\n",
    "        \"eval_steps\": 5000,\n",
    "        \"learning_rate\": 1e-5,\n",
    "        \"epochs\": 10,\n",
    "        \"optimizer\": \"Adam\",\n",
    "        \"meta_configs\": {\n",
    "            \"learning_rate\": 0.005,\n",
    "            \"meta_learning_rate\": 0.001,\n",
    "            \"meta_train_steps\": 1000,\n",
    "            \"meta_task_per_step\": 8,\n",
    "            \"meta_fast_adaption_step\": 5,\n",
    "            \"meta_dataset_train_environment_strs\": [dataset_environment_str],\n",
    "            \"meta_dataset_eval_environment_strs\": [dataset_environment_str],\n",
    "        },\n",
    "    })\n",
    "}\n",
    "\n",
    "model_type = ModelType.MLP\n",
    "conf = train_configs[model_type.name]"
   ]
  },
  {
   "cell_type": "code",
   "execution_count": null,
   "metadata": {},
   "outputs": [
    {
     "name": "stdout",
     "output_type": "stream",
     "text": [
      "[2023-12-12 16:33:12,512] {data.py:441} INFO - Loading graphs train\n",
      "[2023-12-12 16:33:12,513] {data.py:412} INFO - Loading merged.csv\n",
      "[2023-12-12 16:33:12,981] {data.py:415} INFO - Loaded merged.csv, 200000 rows\n",
      "[2023-12-12 16:33:13,359] {data.py:421} INFO - Loaded mnasnet1_3.180_7.csv, 769 rows\n",
      "[2023-12-12 16:33:14,095] {data.py:421} INFO - Loaded convnext_small.96_7.csv, 1595 rows\n",
      "[2023-12-12 16:33:14,524] {data.py:421} INFO - Loaded googlenet.120_7.csv, 905 rows\n",
      "[2023-12-12 16:33:14,869] {data.py:421} INFO - Loaded mobilenet_v3_small.249_7.csv, 732 rows\n",
      "[2023-12-12 16:33:15,007] {data.py:421} INFO - Loaded squeezenet1_0.173_7.csv, 280 rows\n",
      "[2023-12-12 16:33:15,359] {data.py:421} INFO - Loaded rand_4000.251_7.csv, 719 rows\n",
      "[2023-12-12 16:33:16,529] {data.py:421} INFO - Loaded densenet161.132_7.csv, 2507 rows\n",
      "[2023-12-12 16:33:17,768] {data.py:421} INFO - Loaded densenet169.127_7.csv, 2633 rows\n",
      "[2023-12-12 16:33:17,933] {data.py:421} INFO - Loaded vgg19_bn.119_7.csv, 333 rows\n",
      "[2023-12-12 16:33:18,334] {data.py:421} INFO - Loaded shufflenet_v2_x1_5.127_7.csv, 849 rows\n",
      "[2023-12-12 16:33:18,757] {data.py:421} INFO - Loaded mobilenet_v3_large.169_7.csv, 884 rows\n",
      "[2023-12-12 16:33:19,301] {data.py:421} INFO - Loaded rand_1000.31_7.csv, 1159 rows\n",
      "[2023-12-12 16:33:20,387] {data.py:421} INFO - Loaded rand_500.74_7.csv, 2314 rows\n",
      "[2023-12-12 16:33:20,478] {data.py:421} INFO - Loaded vgg16.147_7.csv, 173 rows\n",
      "[2023-12-12 16:33:20,556] {data.py:421} INFO - Loaded vgg13.143_7.csv, 143 rows\n",
      "[2023-12-12 16:33:20,651] {data.py:421} INFO - Loaded vgg16.129_7.csv, 175 rows\n",
      "[2023-12-12 16:33:21,017] {data.py:421} INFO - Loaded mnasnet0_75.153_7.csv, 771 rows\n",
      "[2023-12-12 16:33:21,780] {data.py:421} INFO - Loaded wide_resnet101_2.69_7.csv, 1600 rows\n",
      "[2023-12-12 16:33:23,000] {data.py:421} INFO - Loaded densenet169.89_7.csv, 2633 rows\n",
      "[2023-12-12 16:33:23,524] {data.py:421} INFO - Loaded rand_4500.63_7.csv, 1123 rows\n",
      "[2023-12-12 16:33:23,893] {data.py:421} INFO - Loaded mnasnet1_3.214_7.csv, 769 rows\n",
      "[2023-12-12 16:33:23,973] {data.py:421} INFO - Loaded vgg13.99_7.csv, 145 rows\n",
      "[2023-12-12 16:33:24,328] {data.py:421} INFO - Loaded mnasnet0_75.64_7.csv, 769 rows\n",
      "[2023-12-12 16:33:24,487] {data.py:421} INFO - Loaded vgg19_bn.128_7.csv, 331 rows\n",
      "[2023-12-12 16:33:24,897] {data.py:421} INFO - Loaded mobilenet_v3_large.61_7.csv, 888 rows\n",
      "[2023-12-12 16:33:26,113] {data.py:421} INFO - Loaded densenet169.51_7.csv, 2633 rows\n",
      "[2023-12-12 16:33:26,473] {data.py:421} INFO - Loaded mobilenet_v2.129_7.csv, 771 rows\n",
      "[2023-12-12 16:33:26,955] {data.py:421} INFO - Loaded rand_4500.14_7.csv, 1060 rows\n",
      "[2023-12-12 16:33:27,285] {data.py:421} INFO - Loaded rand_1500.122_7.csv, 683 rows\n",
      "[2023-12-12 16:33:28,346] {data.py:421} INFO - Loaded rand_2000.65_7.csv, 2315 rows\n",
      "[2023-12-12 16:33:28,483] {data.py:421} INFO - Loaded squeezenet1_1.79_7.csv, 280 rows\n",
      "[2023-12-12 16:33:29,666] {data.py:421} INFO - Loaded rand_1500.33_7.csv, 2540 rows\n",
      "[2023-12-12 16:33:30,397] {data.py:421} INFO - Loaded rand_500.92_7.csv, 1561 rows\n",
      "[2023-12-12 16:33:30,796] {data.py:421} INFO - Loaded shufflenet_v2_x2_0.165_7.csv, 849 rows\n",
      "[2023-12-12 16:33:30,874] {data.py:421} INFO - Loaded vgg13.64_7.csv, 145 rows\n",
      "[2023-12-12 16:33:31,335] {data.py:421} INFO - Loaded rand_4000.164_7.csv, 969 rows\n",
      "[2023-12-12 16:33:32,265] {data.py:421} INFO - Loaded rand_3500.99_7.csv, 1971 rows\n",
      "[2023-12-12 16:33:32,422] {data.py:421} INFO - Loaded resnet18.130_7.csv, 317 rows\n",
      "[2023-12-12 16:33:32,788] {data.py:421} INFO - Loaded mnasnet1_3.201_7.csv, 769 rows\n",
      "[2023-12-12 16:33:33,850] {data.py:421} INFO - Loaded rand_4500.285_7.csv, 2297 rows\n",
      "[2023-12-12 16:33:34,240] {data.py:421} INFO - Loaded shufflenet_v2_x2_0.151_7.csv, 849 rows\n",
      "[2023-12-12 16:33:34,399] {data.py:421} INFO - Loaded vgg19_bn.70_7.csv, 333 rows\n",
      "[2023-12-12 16:33:34,560] {data.py:421} INFO - Loaded vgg19_bn.76_7.csv, 333 rows\n",
      "[2023-12-12 16:33:34,957] {data.py:421} INFO - Loaded mobilenet_v3_large.227_7.csv, 884 rows\n",
      "[2023-12-12 16:33:36,133] {data.py:421} INFO - Loaded rand_500.237_7.csv, 2564 rows\n",
      "[2023-12-12 16:33:36,486] {data.py:421} INFO - Loaded mnasnet0_5.100_7.csv, 771 rows\n",
      "[2023-12-12 16:33:36,838] {data.py:421} INFO - Loaded mnasnet0_75.177_7.csv, 769 rows\n",
      "[2023-12-12 16:33:37,325] {data.py:421} INFO - Loaded rand_4500.269_7.csv, 1056 rows\n",
      "[2023-12-12 16:33:37,898] {data.py:421} INFO - Loaded rand_1000.161_7.csv, 1222 rows\n",
      "[2023-12-12 16:33:38,963] {data.py:421} INFO - Loaded rand_2000.148_7.csv, 2297 rows\n",
      "[2023-12-12 16:33:39,698] {data.py:421} INFO - Loaded convnext_small.106_7.csv, 1595 rows\n",
      "[2023-12-12 16:33:40,025] {data.py:421} INFO - Loaded rand_2500.155_7.csv, 680 rows\n",
      "[2023-12-12 16:33:40,140] {data.py:421} INFO - Loaded vgg13_bn.155_7.csv, 223 rows\n",
      "[2023-12-12 16:33:40,543] {data.py:421} INFO - Loaded shufflenet_v2_x0_5.157_7.csv, 849 rows\n",
      "[2023-12-12 16:33:41,876] {data.py:421} INFO - Loaded rand_1000.202_7.csv, 2911 rows\n",
      "[2023-12-12 16:33:42,586] {data.py:421} INFO - Loaded resnet101.150_7.csv, 1600 rows\n",
      "[2023-12-12 16:33:43,777] {data.py:421} INFO - Loaded densenet169.124_7.csv, 2631 rows\n",
      "[2023-12-12 16:33:43,933] {data.py:421} INFO - Loaded resnet18.103_7.csv, 315 rows\n",
      "[2023-12-12 16:33:44,282] {data.py:421} INFO - Loaded mnasnet0_75.204_7.csv, 771 rows\n",
      "[2023-12-12 16:33:44,723] {data.py:421} INFO - Loaded rand_1500.112_7.csv, 989 rows\n",
      "[2023-12-12 16:33:44,857] {data.py:421} INFO - Loaded squeezenet1_1.120_7.csv, 280 rows\n",
      "[2023-12-12 16:33:45,661] {data.py:421} INFO - Loaded efficientnet_b3.133_7.csv, 1812 rows\n",
      "[2023-12-12 16:33:46,951] {data.py:421} INFO - Loaded rand_2500.237_7.csv, 2912 rows\n",
      "[2023-12-12 16:33:47,966] {data.py:421} INFO - Loaded rand_1500.29_7.csv, 2300 rows\n",
      "[2023-12-12 16:33:48,331] {data.py:421} INFO - Loaded wide_resnet50_2.167_7.csv, 816 rows\n",
      "[2023-12-12 16:33:49,516] {data.py:421} INFO - Loaded efficientnet_b5.102_7.csv, 2709 rows\n",
      "[2023-12-12 16:33:50,323] {data.py:421} INFO - Loaded efficientnet_b3.113_7.csv, 1814 rows\n",
      "[2023-12-12 16:33:51,194] {data.py:421} INFO - Loaded rand_2500.51_7.csv, 1982 rows\n",
      "[2023-12-12 16:33:51,268] {data.py:421} INFO - Loaded vgg13.84_7.csv, 145 rows\n",
      "[2023-12-12 16:33:52,317] {data.py:421} INFO - Loaded efficientnet_v2_s.122_7.csv, 2412 rows\n",
      "[2023-12-12 16:33:52,671] {data.py:421} INFO - Loaded rand_4000.123_7.csv, 798 rows\n",
      "[2023-12-12 16:33:52,764] {data.py:421} INFO - Loaded vgg11_bn.111_7.csv, 189 rows\n",
      "[2023-12-12 16:33:53,112] {data.py:421} INFO - Loaded mobilenet_v2.192_7.csv, 769 rows\n",
      "[2023-12-12 16:33:53,822] {data.py:421} INFO - Loaded convnext_base.63_7.csv, 1595 rows\n",
      "[2023-12-12 16:33:54,842] {data.py:421} INFO - Loaded rand_2000.58_7.csv, 2312 rows\n",
      "[2023-12-12 16:33:55,893] {data.py:421} INFO - Loaded rand_4000.183_7.csv, 2285 rows\n",
      "[2023-12-12 16:33:56,263] {data.py:421} INFO - Loaded mnasnet1_3.135_7.csv, 771 rows\n",
      "[2023-12-12 16:33:56,682] {data.py:421} INFO - Loaded googlenet.58_7.csv, 905 rows\n",
      "[2023-12-12 16:33:57,054] {data.py:421} INFO - Loaded mnasnet0_5.198_7.csv, 771 rows\n",
      "[2023-12-12 16:33:57,452] {data.py:421} INFO - Loaded shufflenet_v2_x1_0.97_7.csv, 847 rows\n",
      "[2023-12-12 16:33:57,871] {data.py:421} INFO - Loaded mobilenet_v3_large.160_7.csv, 884 rows\n",
      "[2023-12-12 16:33:58,593] {data.py:421} INFO - Loaded convnext_large.48_7.csv, 1595 rows\n",
      "[2023-12-12 16:33:58,961] {data.py:421} INFO - Loaded mnasnet0_75.213_7.csv, 771 rows\n",
      "[2023-12-12 16:34:00,074] {data.py:421} INFO - Loaded resnet152.114_7.csv, 2382 rows\n",
      "[2023-12-12 16:34:00,143] {data.py:421} INFO - Loaded vgg11.120_7.csv, 125 rows\n",
      "[2023-12-12 16:34:00,709] {data.py:421} INFO - Loaded rand_2000.27_7.csv, 1221 rows\n",
      "[2023-12-12 16:34:01,730] {data.py:421} INFO - Loaded efficientnet_b4.108_7.csv, 2234 rows\n",
      "[2023-12-12 16:34:02,094] {data.py:421} INFO - Loaded mnasnet1_0.227_7.csv, 769 rows\n",
      "[2023-12-12 16:34:03,205] {data.py:421} INFO - Loaded efficientnet_v2_s.73_7.csv, 2412 rows\n",
      "[2023-12-12 16:34:03,563] {data.py:421} INFO - Loaded mnasnet0_5.165_7.csv, 769 rows\n",
      "[2023-12-12 16:34:04,754] {data.py:421} INFO - Loaded densenet169.119_7.csv, 2633 rows\n",
      "[2023-12-12 16:34:05,979] {data.py:421} INFO - Loaded efficientnet_b5.93_7.csv, 2709 rows\n",
      "[2023-12-12 16:34:06,309] {data.py:421} INFO - Loaded mobilenet_v3_small.73_7.csv, 734 rows\n",
      "[2023-12-12 16:34:06,664] {data.py:421} INFO - Loaded mnasnet0_75.121_7.csv, 771 rows\n",
      "[2023-12-12 16:34:07,797] {data.py:421} INFO - Loaded densenet161.90_7.csv, 2509 rows\n",
      "[2023-12-12 16:34:08,242] {data.py:421} INFO - Loaded rand_1500.243_7.csv, 989 rows\n",
      "[2023-12-12 16:34:08,354] {data.py:421} INFO - Loaded vgg13_bn.152_7.csv, 223 rows\n",
      "[2023-12-12 16:34:08,687] {data.py:421} INFO - Loaded mobilenet_v3_small.112_7.csv, 736 rows\n",
      "[2023-12-12 16:34:08,782] {data.py:421} INFO - Loaded vgg11_bn.123_7.csv, 189 rows\n",
      "[2023-12-12 16:34:09,136] {data.py:421} INFO - Loaded mnasnet0_75.70_7.csv, 771 rows\n",
      "[2023-12-12 16:34:09,268] {data.py:421} INFO - Loaded squeezenet1_1.126_7.csv, 280 rows\n",
      "[2023-12-12 16:34:09,583] {data.py:421} INFO - Loaded rand_1500.90_7.csv, 681 rows\n",
      "[2023-12-12 16:34:09,936] {data.py:421} INFO - Loaded mobilenet_v2.195_7.csv, 771 rows\n",
      "[2023-12-12 16:34:10,475] {data.py:421} INFO - Loaded rand_3500.159_7.csv, 1213 rows\n",
      "[2023-12-12 16:34:10,806] {data.py:421} INFO - Loaded rand_1500.91_7.csv, 735 rows\n",
      "[2023-12-12 16:34:11,144] {data.py:421} INFO - Loaded rand_2000.174_7.csv, 739 rows\n",
      "[2023-12-12 16:34:11,580] {data.py:421} INFO - Loaded rand_1500.201_7.csv, 970 rows\n",
      "[2023-12-12 16:34:12,286] {data.py:421} INFO - Loaded rand_1000.127_7.csv, 1565 rows\n",
      "[2023-12-12 16:34:12,443] {data.py:421} INFO - Loaded vgg19_bn.89_7.csv, 333 rows\n",
      "[2023-12-12 16:34:12,822] {data.py:421} INFO - Loaded convnext_tiny.96_7.csv, 839 rows\n",
      "[2023-12-12 16:34:13,369] {data.py:421} INFO - Loaded rand_4500.178_7.csv, 1224 rows\n",
      "[2023-12-12 16:34:14,541] {data.py:421} INFO - Loaded densenet169.70_7.csv, 2633 rows\n",
      "[2023-12-12 16:34:15,570] {data.py:421} INFO - Loaded rand_1000.231_7.csv, 2301 rows\n",
      "[2023-12-12 16:34:15,919] {data.py:421} INFO - Loaded mnasnet1_3.70_7.csv, 769 rows\n",
      "[2023-12-12 16:34:16,359] {data.py:421} INFO - Loaded rand_500.204_7.csv, 992 rows\n",
      "[2023-12-12 16:34:16,664] {data.py:421} INFO - Loaded rand_1500.237_7.csv, 681 rows\n",
      "[2023-12-12 16:34:17,015] {data.py:421} INFO - Loaded mobilenet_v2.147_7.csv, 771 rows\n",
      "[2023-12-12 16:34:17,489] {data.py:421} INFO - Loaded rand_1000.111_7.csv, 1065 rows\n",
      "[2023-12-12 16:34:18,375] {data.py:421} INFO - Loaded rand_1500.276_7.csv, 1986 rows\n",
      "[2023-12-12 16:34:19,446] {data.py:421} INFO - Loaded efficientnet_v2_s.161_7.csv, 2410 rows\n",
      "[2023-12-12 16:34:19,885] {data.py:421} INFO - Loaded rand_3000.56_7.csv, 972 rows\n",
      "[2023-12-12 16:34:20,261] {data.py:421} INFO - Loaded convnext_tiny.55_7.csv, 837 rows\n",
      "[2023-12-12 16:34:20,738] {data.py:421} INFO - Loaded rand_4500.240_7.csv, 1057 rows\n",
      "[2023-12-12 16:34:21,724] {data.py:421} INFO - Loaded efficientnet_b4.60_7.csv, 2234 rows\n",
      "[2023-12-12 16:34:21,883] {data.py:421} INFO - Loaded vgg19_bn.85_7.csv, 331 rows\n",
      "[2023-12-12 16:34:21,949] {data.py:421} INFO - Loaded vgg11.164_7.csv, 123 rows\n",
      "[2023-12-12 16:34:22,809] {data.py:421} INFO - Loaded rand_4000.208_7.csv, 1928 rows\n",
      "[2023-12-12 16:34:23,202] {data.py:421} INFO - Loaded shufflenet_v2_x0_5.168_7.csv, 849 rows\n",
      "[2023-12-12 16:34:23,547] {data.py:421} INFO - Loaded rand_500.85_7.csv, 730 rows\n",
      "[2023-12-12 16:34:23,965] {data.py:421} INFO - Loaded googlenet.103_7.csv, 903 rows\n",
      "[2023-12-12 16:34:24,836] {data.py:421} INFO - Loaded densenet121.49_7.csv, 1887 rows\n",
      "[2023-12-12 16:34:25,404] {data.py:421} INFO - Loaded rand_1000.45_7.csv, 1242 rows\n",
      "[2023-12-12 16:34:26,612] {data.py:421} INFO - Loaded rand_2000.1_7.csv, 2568 rows\n",
      "[2023-12-12 16:34:27,346] {data.py:421} INFO - Loaded convnext_base.134_7.csv, 1593 rows\n",
      "[2023-12-12 16:34:27,771] {data.py:421} INFO - Loaded mobilenet_v3_large.141_7.csv, 888 rows\n",
      "[2023-12-12 16:34:28,167] {data.py:421} INFO - Loaded shufflenet_v2_x1_0.67_7.csv, 849 rows\n",
      "[2023-12-12 16:34:29,413] {data.py:421} INFO - Loaded efficientnet_b5.165_7.csv, 2707 rows\n",
      "[2023-12-12 16:34:29,818] {data.py:421} INFO - Loaded shufflenet_v2_x1_5.156_7.csv, 849 rows\n",
      "[2023-12-12 16:34:30,556] {data.py:421} INFO - Loaded efficientnet_b1.99_7.csv, 1604 rows\n",
      "[2023-12-12 16:34:31,313] {data.py:421} INFO - Loaded efficientnet_b1.147_7.csv, 1604 rows\n",
      "[2023-12-12 16:34:31,815] {data.py:421} INFO - Loaded rand_500.173_7.csv, 1060 rows\n",
      "[2023-12-12 16:34:33,040] {data.py:421} INFO - Loaded efficientnet_b5.67_7.csv, 2709 rows\n",
      "[2023-12-12 16:34:34,132] {data.py:421} INFO - Loaded efficientnet_v2_s.107_7.csv, 2412 rows\n",
      "[2023-12-12 16:34:34,847] {data.py:421} INFO - Loaded efficientnet_b1.70_7.csv, 1602 rows\n",
      "[2023-12-12 16:34:35,164] {data.py:421} INFO - Loaded rand_2000.165_7.csv, 683 rows\n",
      "[2023-12-12 16:34:35,531] {data.py:421} INFO - Loaded resnet50.58_7.csv, 818 rows\n",
      "[2023-12-12 16:34:36,690] {data.py:421} INFO - Loaded rand_1500.153_7.csv, 2568 rows\n",
      "[2023-12-12 16:34:37,740] {data.py:421} INFO - Loaded rand_500.151_7.csv, 2316 rows\n",
      "[2023-12-12 16:34:38,110] {data.py:421} INFO - Loaded mnasnet0_5.177_7.csv, 771 rows\n",
      "[2023-12-12 16:34:38,269] {data.py:421} INFO - Loaded resnet18.240_7.csv, 317 rows\n",
      "[2023-12-12 16:34:38,596] {data.py:421} INFO - Loaded rand_4500.150_7.csv, 683 rows\n",
      "[2023-12-12 16:34:39,807] {data.py:421} INFO - Loaded densenet169.66_7.csv, 2633 rows\n",
      "[2023-12-12 16:34:40,918] {data.py:421} INFO - Loaded densenet161.111_7.csv, 2507 rows\n",
      "[2023-12-12 16:34:41,984] {data.py:421} INFO - Loaded rand_4000.188_7.csv, 2271 rows\n",
      "[2023-12-12 16:34:42,369] {data.py:421} INFO - Loaded shufflenet_v2_x1_0.218_7.csv, 847 rows\n",
      "[2023-12-12 16:34:42,734] {data.py:421} INFO - Loaded mnasnet1_3.85_7.csv, 771 rows\n",
      "[2023-12-12 16:34:43,645] {data.py:421} INFO - Loaded rand_0.259_7.csv, 1983 rows\n",
      "[2023-12-12 16:34:43,742] {data.py:421} INFO - Loaded vgg11_bn.172_7.csv, 187 rows\n",
      "[2023-12-12 16:34:44,109] {data.py:421} INFO - Loaded mobilenet_v2.85_7.csv, 771 rows\n",
      "[2023-12-12 16:34:44,532] {data.py:421} INFO - Loaded mobilenet_v3_large.76_7.csv, 888 rows\n",
      "[2023-12-12 16:34:44,636] {data.py:421} INFO - Loaded vgg19.132_7.csv, 205 rows\n",
      "[2023-12-12 16:34:44,841] {data.py:421} INFO - Loaded shufflenet_v2_x1_5.94_7.csv, 434 rows\n",
      "[2023-12-12 16:34:45,066] {data.py:441} INFO - Loading graphs train\n",
      "[2023-12-12 16:34:45,067] {data.py:412} INFO - Loading merged.csv\n",
      "[2023-12-12 16:34:47,337] {data.py:415} INFO - Loaded merged.csv, 1000000 rows\n",
      "[2023-12-12 16:34:47,784] {data.py:421} INFO - Loaded mnasnet1_3.180_7.csv, 769 rows\n",
      "[2023-12-12 16:34:48,536] {data.py:421} INFO - Loaded convnext_small.96_7.csv, 1595 rows\n",
      "[2023-12-12 16:34:48,995] {data.py:421} INFO - Loaded googlenet.120_7.csv, 905 rows\n",
      "[2023-12-12 16:34:49,366] {data.py:421} INFO - Loaded mobilenet_v3_small.249_7.csv, 732 rows\n",
      "[2023-12-12 16:34:49,536] {data.py:421} INFO - Loaded squeezenet1_0.173_7.csv, 280 rows\n",
      "[2023-12-12 16:34:49,903] {data.py:421} INFO - Loaded rand_4000.251_7.csv, 719 rows\n",
      "[2023-12-12 16:34:51,035] {data.py:421} INFO - Loaded densenet161.132_7.csv, 2507 rows\n",
      "[2023-12-12 16:34:52,222] {data.py:421} INFO - Loaded densenet169.127_7.csv, 2633 rows\n",
      "[2023-12-12 16:34:52,416] {data.py:421} INFO - Loaded vgg19_bn.119_7.csv, 333 rows\n",
      "[2023-12-12 16:34:52,833] {data.py:421} INFO - Loaded shufflenet_v2_x1_5.127_7.csv, 849 rows\n",
      "[2023-12-12 16:34:53,268] {data.py:421} INFO - Loaded mobilenet_v3_large.169_7.csv, 884 rows\n",
      "[2023-12-12 16:34:53,842] {data.py:421} INFO - Loaded rand_1000.31_7.csv, 1159 rows\n",
      "[2023-12-12 16:34:54,918] {data.py:421} INFO - Loaded rand_500.74_7.csv, 2314 rows\n",
      "[2023-12-12 16:34:55,047] {data.py:421} INFO - Loaded vgg16.147_7.csv, 173 rows\n",
      "[2023-12-12 16:34:55,162] {data.py:421} INFO - Loaded vgg13.143_7.csv, 143 rows\n",
      "[2023-12-12 16:34:55,293] {data.py:421} INFO - Loaded vgg16.129_7.csv, 175 rows\n",
      "[2023-12-12 16:34:55,698] {data.py:421} INFO - Loaded mnasnet0_75.153_7.csv, 771 rows\n",
      "[2023-12-12 16:34:56,470] {data.py:421} INFO - Loaded wide_resnet101_2.69_7.csv, 1600 rows\n",
      "[2023-12-12 16:34:57,721] {data.py:421} INFO - Loaded densenet169.89_7.csv, 2633 rows\n",
      "[2023-12-12 16:34:58,284] {data.py:421} INFO - Loaded rand_4500.63_7.csv, 1123 rows\n",
      "[2023-12-12 16:34:58,677] {data.py:421} INFO - Loaded mnasnet1_3.214_7.csv, 769 rows\n",
      "[2023-12-12 16:34:58,792] {data.py:421} INFO - Loaded vgg13.99_7.csv, 145 rows\n",
      "[2023-12-12 16:34:59,182] {data.py:421} INFO - Loaded mnasnet0_75.64_7.csv, 769 rows\n",
      "[2023-12-12 16:34:59,379] {data.py:421} INFO - Loaded vgg19_bn.128_7.csv, 331 rows\n",
      "[2023-12-12 16:34:59,837] {data.py:421} INFO - Loaded mobilenet_v3_large.61_7.csv, 888 rows\n",
      "[2023-12-12 16:35:01,090] {data.py:421} INFO - Loaded densenet169.51_7.csv, 2633 rows\n",
      "[2023-12-12 16:35:01,487] {data.py:421} INFO - Loaded mobilenet_v2.129_7.csv, 771 rows\n",
      "[2023-12-12 16:35:02,013] {data.py:421} INFO - Loaded rand_4500.14_7.csv, 1060 rows\n",
      "[2023-12-12 16:35:02,371] {data.py:421} INFO - Loaded rand_1500.122_7.csv, 683 rows\n",
      "[2023-12-12 16:35:03,462] {data.py:421} INFO - Loaded rand_2000.65_7.csv, 2315 rows\n",
      "[2023-12-12 16:35:03,644] {data.py:421} INFO - Loaded squeezenet1_1.79_7.csv, 280 rows\n",
      "[2023-12-12 16:35:04,845] {data.py:421} INFO - Loaded rand_1500.33_7.csv, 2540 rows\n",
      "[2023-12-12 16:35:05,615] {data.py:421} INFO - Loaded rand_500.92_7.csv, 1561 rows\n",
      "[2023-12-12 16:35:06,050] {data.py:421} INFO - Loaded shufflenet_v2_x2_0.165_7.csv, 849 rows\n",
      "[2023-12-12 16:35:06,169] {data.py:421} INFO - Loaded vgg13.64_7.csv, 145 rows\n",
      "[2023-12-12 16:35:06,655] {data.py:421} INFO - Loaded rand_4000.164_7.csv, 969 rows\n",
      "[2023-12-12 16:35:07,609] {data.py:421} INFO - Loaded rand_3500.99_7.csv, 1971 rows\n",
      "[2023-12-12 16:35:07,809] {data.py:421} INFO - Loaded resnet18.130_7.csv, 317 rows\n",
      "[2023-12-12 16:35:08,206] {data.py:421} INFO - Loaded mnasnet1_3.201_7.csv, 769 rows\n",
      "[2023-12-12 16:35:09,314] {data.py:421} INFO - Loaded rand_4500.285_7.csv, 2297 rows\n",
      "[2023-12-12 16:35:09,749] {data.py:421} INFO - Loaded shufflenet_v2_x2_0.151_7.csv, 849 rows\n",
      "[2023-12-12 16:35:09,952] {data.py:421} INFO - Loaded vgg19_bn.70_7.csv, 333 rows\n",
      "[2023-12-12 16:35:10,155] {data.py:421} INFO - Loaded vgg19_bn.76_7.csv, 333 rows\n",
      "[2023-12-12 16:35:10,616] {data.py:421} INFO - Loaded mobilenet_v3_large.227_7.csv, 884 rows\n",
      "[2023-12-12 16:35:11,854] {data.py:421} INFO - Loaded rand_500.237_7.csv, 2564 rows\n",
      "[2023-12-12 16:35:12,248] {data.py:421} INFO - Loaded mnasnet0_5.100_7.csv, 771 rows\n",
      "[2023-12-12 16:35:12,651] {data.py:421} INFO - Loaded mnasnet0_75.177_7.csv, 769 rows\n",
      "[2023-12-12 16:35:13,182] {data.py:421} INFO - Loaded rand_4500.269_7.csv, 1056 rows\n",
      "[2023-12-12 16:35:13,804] {data.py:421} INFO - Loaded rand_1000.161_7.csv, 1222 rows\n",
      "[2023-12-12 16:35:14,890] {data.py:421} INFO - Loaded rand_2000.148_7.csv, 2297 rows\n",
      "[2023-12-12 16:35:15,683] {data.py:421} INFO - Loaded convnext_small.106_7.csv, 1595 rows\n",
      "[2023-12-12 16:35:16,052] {data.py:421} INFO - Loaded rand_2500.155_7.csv, 680 rows\n",
      "[2023-12-12 16:35:16,204] {data.py:421} INFO - Loaded vgg13_bn.155_7.csv, 223 rows\n",
      "[2023-12-12 16:35:16,637] {data.py:421} INFO - Loaded shufflenet_v2_x0_5.157_7.csv, 849 rows\n",
      "[2023-12-12 16:35:17,979] {data.py:421} INFO - Loaded rand_1000.202_7.csv, 2911 rows\n",
      "[2023-12-12 16:35:18,738] {data.py:421} INFO - Loaded resnet101.150_7.csv, 1600 rows\n",
      "[2023-12-12 16:35:19,960] {data.py:421} INFO - Loaded densenet169.124_7.csv, 2631 rows\n",
      "[2023-12-12 16:35:20,160] {data.py:421} INFO - Loaded resnet18.103_7.csv, 315 rows\n",
      "[2023-12-12 16:35:20,569] {data.py:421} INFO - Loaded mnasnet0_75.204_7.csv, 771 rows\n",
      "[2023-12-12 16:35:21,080] {data.py:421} INFO - Loaded rand_1500.112_7.csv, 989 rows\n",
      "[2023-12-12 16:35:21,257] {data.py:421} INFO - Loaded squeezenet1_1.120_7.csv, 280 rows\n",
      "[2023-12-12 16:35:22,131] {data.py:421} INFO - Loaded efficientnet_b3.133_7.csv, 1812 rows\n",
      "[2023-12-12 16:35:23,511] {data.py:421} INFO - Loaded rand_2500.237_7.csv, 2912 rows\n",
      "[2023-12-12 16:35:24,626] {data.py:421} INFO - Loaded rand_1500.29_7.csv, 2300 rows\n",
      "[2023-12-12 16:35:25,057] {data.py:421} INFO - Loaded wide_resnet50_2.167_7.csv, 816 rows\n",
      "[2023-12-12 16:35:26,336] {data.py:421} INFO - Loaded efficientnet_b5.102_7.csv, 2709 rows\n",
      "[2023-12-12 16:35:27,200] {data.py:421} INFO - Loaded efficientnet_b3.113_7.csv, 1814 rows\n",
      "[2023-12-12 16:35:28,151] {data.py:421} INFO - Loaded rand_2500.51_7.csv, 1982 rows\n",
      "[2023-12-12 16:35:28,267] {data.py:421} INFO - Loaded vgg13.84_7.csv, 145 rows\n",
      "[2023-12-12 16:35:29,423] {data.py:421} INFO - Loaded efficientnet_v2_s.122_7.csv, 2412 rows\n",
      "[2023-12-12 16:35:29,840] {data.py:421} INFO - Loaded rand_4000.123_7.csv, 798 rows\n",
      "[2023-12-12 16:35:29,977] {data.py:421} INFO - Loaded vgg11_bn.111_7.csv, 189 rows\n",
      "[2023-12-12 16:35:30,379] {data.py:421} INFO - Loaded mobilenet_v2.192_7.csv, 769 rows\n",
      "[2023-12-12 16:35:31,168] {data.py:421} INFO - Loaded convnext_base.63_7.csv, 1595 rows\n",
      "[2023-12-12 16:35:32,287] {data.py:421} INFO - Loaded rand_2000.58_7.csv, 2312 rows\n",
      "[2023-12-12 16:35:33,386] {data.py:421} INFO - Loaded rand_4000.183_7.csv, 2285 rows\n",
      "[2023-12-12 16:35:33,794] {data.py:421} INFO - Loaded mnasnet1_3.135_7.csv, 771 rows\n",
      "[2023-12-12 16:35:34,265] {data.py:421} INFO - Loaded googlenet.58_7.csv, 905 rows\n",
      "[2023-12-12 16:35:34,661] {data.py:421} INFO - Loaded mnasnet0_5.198_7.csv, 771 rows\n",
      "[2023-12-12 16:35:35,108] {data.py:421} INFO - Loaded shufflenet_v2_x1_0.97_7.csv, 847 rows\n",
      "[2023-12-12 16:35:35,560] {data.py:421} INFO - Loaded mobilenet_v3_large.160_7.csv, 884 rows\n",
      "[2023-12-12 16:35:36,312] {data.py:421} INFO - Loaded convnext_large.48_7.csv, 1595 rows\n",
      "[2023-12-12 16:35:36,697] {data.py:421} INFO - Loaded mnasnet0_75.213_7.csv, 771 rows\n",
      "[2023-12-12 16:35:37,795] {data.py:421} INFO - Loaded resnet152.114_7.csv, 2382 rows\n",
      "[2023-12-12 16:35:37,904] {data.py:421} INFO - Loaded vgg11.120_7.csv, 125 rows\n",
      "[2023-12-12 16:35:38,486] {data.py:421} INFO - Loaded rand_2000.27_7.csv, 1221 rows\n",
      "[2023-12-12 16:35:39,523] {data.py:421} INFO - Loaded efficientnet_b4.108_7.csv, 2234 rows\n",
      "[2023-12-12 16:35:39,907] {data.py:421} INFO - Loaded mnasnet1_0.227_7.csv, 769 rows\n",
      "[2023-12-12 16:35:41,006] {data.py:421} INFO - Loaded efficientnet_v2_s.73_7.csv, 2412 rows\n",
      "[2023-12-12 16:35:41,405] {data.py:421} INFO - Loaded mnasnet0_5.165_7.csv, 769 rows\n",
      "[2023-12-12 16:35:42,620] {data.py:421} INFO - Loaded densenet169.119_7.csv, 2633 rows\n",
      "[2023-12-12 16:35:43,867] {data.py:421} INFO - Loaded efficientnet_b5.93_7.csv, 2709 rows\n",
      "[2023-12-12 16:35:44,238] {data.py:421} INFO - Loaded mobilenet_v3_small.73_7.csv, 734 rows\n",
      "[2023-12-12 16:35:44,632] {data.py:421} INFO - Loaded mnasnet0_75.121_7.csv, 771 rows\n",
      "[2023-12-12 16:35:45,801] {data.py:421} INFO - Loaded densenet161.90_7.csv, 2509 rows\n",
      "[2023-12-12 16:35:46,286] {data.py:421} INFO - Loaded rand_1500.243_7.csv, 989 rows\n",
      "[2023-12-12 16:35:46,434] {data.py:421} INFO - Loaded vgg13_bn.152_7.csv, 223 rows\n",
      "[2023-12-12 16:35:46,803] {data.py:421} INFO - Loaded mobilenet_v3_small.112_7.csv, 736 rows\n",
      "[2023-12-12 16:35:46,937] {data.py:421} INFO - Loaded vgg11_bn.123_7.csv, 189 rows\n",
      "[2023-12-12 16:35:47,331] {data.py:421} INFO - Loaded mnasnet0_75.70_7.csv, 771 rows\n",
      "[2023-12-12 16:35:47,506] {data.py:421} INFO - Loaded squeezenet1_1.126_7.csv, 280 rows\n",
      "[2023-12-12 16:35:47,855] {data.py:421} INFO - Loaded rand_1500.90_7.csv, 681 rows\n",
      "[2023-12-12 16:35:48,259] {data.py:421} INFO - Loaded mobilenet_v2.195_7.csv, 771 rows\n",
      "[2023-12-12 16:35:48,870] {data.py:421} INFO - Loaded rand_3500.159_7.csv, 1213 rows\n",
      "[2023-12-12 16:35:49,262] {data.py:421} INFO - Loaded rand_1500.91_7.csv, 735 rows\n",
      "[2023-12-12 16:35:49,640] {data.py:421} INFO - Loaded rand_2000.174_7.csv, 739 rows\n",
      "[2023-12-12 16:35:50,135] {data.py:421} INFO - Loaded rand_1500.201_7.csv, 970 rows\n",
      "[2023-12-12 16:35:50,878] {data.py:421} INFO - Loaded rand_1000.127_7.csv, 1565 rows\n",
      "[2023-12-12 16:35:51,075] {data.py:421} INFO - Loaded vgg19_bn.89_7.csv, 333 rows\n",
      "[2023-12-12 16:35:51,501] {data.py:421} INFO - Loaded convnext_tiny.96_7.csv, 839 rows\n",
      "[2023-12-12 16:35:52,091] {data.py:421} INFO - Loaded rand_4500.178_7.csv, 1224 rows\n",
      "[2023-12-12 16:35:53,324] {data.py:421} INFO - Loaded densenet169.70_7.csv, 2633 rows\n",
      "[2023-12-12 16:35:54,430] {data.py:421} INFO - Loaded rand_1000.231_7.csv, 2301 rows\n",
      "[2023-12-12 16:35:54,818] {data.py:421} INFO - Loaded mnasnet1_3.70_7.csv, 769 rows\n",
      "[2023-12-12 16:35:55,311] {data.py:421} INFO - Loaded rand_500.204_7.csv, 992 rows\n",
      "[2023-12-12 16:35:55,665] {data.py:421} INFO - Loaded rand_1500.237_7.csv, 681 rows\n",
      "[2023-12-12 16:35:56,074] {data.py:421} INFO - Loaded mobilenet_v2.147_7.csv, 771 rows\n",
      "[2023-12-12 16:35:56,589] {data.py:421} INFO - Loaded rand_1000.111_7.csv, 1065 rows\n",
      "[2023-12-12 16:35:57,524] {data.py:421} INFO - Loaded rand_1500.276_7.csv, 1986 rows\n",
      "[2023-12-12 16:35:58,625] {data.py:421} INFO - Loaded efficientnet_v2_s.161_7.csv, 2410 rows\n",
      "[2023-12-12 16:35:59,098] {data.py:421} INFO - Loaded rand_3000.56_7.csv, 972 rows\n",
      "[2023-12-12 16:35:59,514] {data.py:421} INFO - Loaded convnext_tiny.55_7.csv, 837 rows\n",
      "[2023-12-12 16:36:00,028] {data.py:421} INFO - Loaded rand_4500.240_7.csv, 1057 rows\n",
      "[2023-12-12 16:36:01,049] {data.py:421} INFO - Loaded efficientnet_b4.60_7.csv, 2234 rows\n",
      "[2023-12-12 16:36:01,240] {data.py:421} INFO - Loaded vgg19_bn.85_7.csv, 331 rows\n",
      "[2023-12-12 16:36:01,347] {data.py:421} INFO - Loaded vgg11.164_7.csv, 123 rows\n",
      "[2023-12-12 16:36:02,228] {data.py:421} INFO - Loaded rand_4000.208_7.csv, 1928 rows\n",
      "[2023-12-12 16:36:02,659] {data.py:421} INFO - Loaded shufflenet_v2_x0_5.168_7.csv, 849 rows\n",
      "[2023-12-12 16:36:03,033] {data.py:421} INFO - Loaded rand_500.85_7.csv, 730 rows\n",
      "[2023-12-12 16:36:03,481] {data.py:421} INFO - Loaded googlenet.103_7.csv, 903 rows\n",
      "[2023-12-12 16:36:04,377] {data.py:421} INFO - Loaded densenet121.49_7.csv, 1887 rows\n",
      "[2023-12-12 16:36:04,971] {data.py:421} INFO - Loaded rand_1000.45_7.csv, 1242 rows\n",
      "[2023-12-12 16:36:06,155] {data.py:421} INFO - Loaded rand_2000.1_7.csv, 2568 rows\n",
      "[2023-12-12 16:36:06,911] {data.py:421} INFO - Loaded convnext_base.134_7.csv, 1593 rows\n",
      "[2023-12-12 16:36:07,367] {data.py:421} INFO - Loaded mobilenet_v3_large.141_7.csv, 888 rows\n",
      "[2023-12-12 16:36:07,797] {data.py:421} INFO - Loaded shufflenet_v2_x1_0.67_7.csv, 849 rows\n",
      "[2023-12-12 16:36:09,068] {data.py:421} INFO - Loaded efficientnet_b5.165_7.csv, 2707 rows\n",
      "[2023-12-12 16:36:09,505] {data.py:421} INFO - Loaded shufflenet_v2_x1_5.156_7.csv, 849 rows\n",
      "[2023-12-12 16:36:10,274] {data.py:421} INFO - Loaded efficientnet_b1.99_7.csv, 1604 rows\n",
      "[2023-12-12 16:36:11,046] {data.py:421} INFO - Loaded efficientnet_b1.147_7.csv, 1604 rows\n",
      "[2023-12-12 16:36:11,571] {data.py:421} INFO - Loaded rand_500.173_7.csv, 1060 rows\n",
      "[2023-12-12 16:36:12,809] {data.py:421} INFO - Loaded efficientnet_b5.67_7.csv, 2709 rows\n",
      "[2023-12-12 16:36:13,954] {data.py:421} INFO - Loaded efficientnet_v2_s.107_7.csv, 2412 rows\n",
      "[2023-12-12 16:36:14,702] {data.py:421} INFO - Loaded efficientnet_b1.70_7.csv, 1602 rows\n",
      "[2023-12-12 16:36:15,055] {data.py:421} INFO - Loaded rand_2000.165_7.csv, 683 rows\n",
      "[2023-12-12 16:36:15,472] {data.py:421} INFO - Loaded resnet50.58_7.csv, 818 rows\n",
      "[2023-12-12 16:36:16,695] {data.py:421} INFO - Loaded rand_1500.153_7.csv, 2568 rows\n",
      "[2023-12-12 16:36:17,803] {data.py:421} INFO - Loaded rand_500.151_7.csv, 2316 rows\n",
      "[2023-12-12 16:36:18,204] {data.py:421} INFO - Loaded mnasnet0_5.177_7.csv, 771 rows\n",
      "[2023-12-12 16:36:18,405] {data.py:421} INFO - Loaded resnet18.240_7.csv, 317 rows\n",
      "[2023-12-12 16:36:18,770] {data.py:421} INFO - Loaded rand_4500.150_7.csv, 683 rows\n",
      "[2023-12-12 16:36:19,987] {data.py:421} INFO - Loaded densenet169.66_7.csv, 2633 rows\n",
      "[2023-12-12 16:36:21,136] {data.py:421} INFO - Loaded densenet161.111_7.csv, 2507 rows\n",
      "[2023-12-12 16:36:22,179] {data.py:421} INFO - Loaded rand_4000.188_7.csv, 2271 rows\n",
      "[2023-12-12 16:36:22,608] {data.py:421} INFO - Loaded shufflenet_v2_x1_0.218_7.csv, 847 rows\n",
      "[2023-12-12 16:36:23,004] {data.py:421} INFO - Loaded mnasnet1_3.85_7.csv, 771 rows\n",
      "[2023-12-12 16:36:23,938] {data.py:421} INFO - Loaded rand_0.259_7.csv, 1983 rows\n",
      "[2023-12-12 16:36:24,074] {data.py:421} INFO - Loaded vgg11_bn.172_7.csv, 187 rows\n",
      "[2023-12-12 16:36:24,469] {data.py:421} INFO - Loaded mobilenet_v2.85_7.csv, 771 rows\n",
      "[2023-12-12 16:36:24,909] {data.py:421} INFO - Loaded mobilenet_v3_large.76_7.csv, 888 rows\n",
      "[2023-12-12 16:36:25,048] {data.py:421} INFO - Loaded vgg19.132_7.csv, 205 rows\n",
      "[2023-12-12 16:36:25,483] {data.py:421} INFO - Loaded shufflenet_v2_x1_5.94_7.csv, 847 rows\n",
      "[2023-12-12 16:36:26,279] {data.py:421} INFO - Loaded convnext_small.87_7.csv, 1625 rows\n",
      "[2023-12-12 16:36:26,765] {data.py:421} INFO - Loaded rand_3500.171_7.csv, 988 rows\n",
      "[2023-12-12 16:36:27,269] {data.py:421} INFO - Loaded rand_2000.49_7.csv, 1039 rows\n",
      "[2023-12-12 16:36:28,141] {data.py:421} INFO - Loaded densenet121.114_7.csv, 1889 rows\n",
      "[2023-12-12 16:36:28,885] {data.py:421} INFO - Loaded efficientnet_b2.197_7.csv, 1602 rows\n",
      "[2023-12-12 16:36:29,060] {data.py:421} INFO - Loaded squeezenet1_0.161_7.csv, 280 rows\n",
      "[2023-12-12 16:36:29,969] {data.py:421} INFO - Loaded rand_4500.211_7.csv, 1971 rows\n",
      "[2023-12-12 16:36:30,464] {data.py:421} INFO - Loaded rand_0.255_7.csv, 990 rows\n",
      "[2023-12-12 16:36:30,765] {data.py:421} INFO - Loaded resnet34.124_7.csv, 565 rows\n",
      "[2023-12-12 16:36:31,175] {data.py:421} INFO - Loaded mnasnet1_3.150_7.csv, 771 rows\n",
      "[2023-12-12 16:36:31,709] {data.py:421} INFO - Loaded rand_2500.78_7.csv, 1051 rows\n",
      "[2023-12-12 16:36:32,492] {data.py:421} INFO - Loaded efficientnet_b2.111_7.csv, 1604 rows\n",
      "[2023-12-12 16:36:33,589] {data.py:421} INFO - Loaded rand_3500.271_7.csv, 2319 rows\n",
      "[2023-12-12 16:36:33,890] {data.py:421} INFO - Loaded resnet34.73_7.csv, 563 rows\n",
      "[2023-12-12 16:36:34,292] {data.py:421} INFO - Loaded mnasnet1_0.64_7.csv, 769 rows\n",
      "[2023-12-12 16:36:34,724] {data.py:421} INFO - Loaded shufflenet_v2_x2_0.168_7.csv, 849 rows\n",
      "[2023-12-12 16:36:35,381] {data.py:421} INFO - Loaded rand_1500.151_7.csv, 1347 rows\n",
      "[2023-12-12 16:36:35,816] {data.py:421} INFO - Loaded shufflenet_v2_x1_0.127_7.csv, 849 rows\n",
      "[2023-12-12 16:36:36,233] {data.py:421} INFO - Loaded mnasnet0_5.70_7.csv, 771 rows\n",
      "[2023-12-12 16:36:36,413] {data.py:421} INFO - Loaded squeezenet1_0.82_7.csv, 280 rows\n",
      "[2023-12-12 16:36:36,924] {data.py:421} INFO - Loaded rand_500.181_7.csv, 991 rows\n",
      "[2023-12-12 16:36:38,066] {data.py:421} INFO - Loaded efficientnet_v2_s.76_7.csv, 2412 rows\n",
      "[2023-12-12 16:36:38,475] {data.py:421} INFO - Loaded mnasnet0_75.67_7.csv, 771 rows\n",
      "[2023-12-12 16:36:39,143] {data.py:421} INFO - Loaded rand_4000.56_7.csv, 1351 rows\n",
      "[2023-12-12 16:36:39,713] {data.py:421} INFO - Loaded efficientnet_b0.177_7.csv, 1129 rows\n",
      "[2023-12-12 16:36:40,853] {data.py:421} INFO - Loaded resnet152.120_7.csv, 2382 rows\n",
      "[2023-12-12 16:36:41,472] {data.py:421} INFO - Loaded rand_4000.125_7.csv, 1219 rows\n",
      "[2023-12-12 16:36:41,891] {data.py:421} INFO - Loaded wide_resnet50_2.99_7.csv, 818 rows\n",
      "[2023-12-12 16:36:42,425] {data.py:421} INFO - Loaded rand_2500.36_7.csv, 1077 rows\n",
      "[2023-12-12 16:36:42,935] {data.py:421} INFO - Loaded rand_0.150_7.csv, 1061 rows\n",
      "[2023-12-12 16:36:43,882] {data.py:421} INFO - Loaded rand_4500.11_7.csv, 1962 rows\n",
      "[2023-12-12 16:36:44,478] {data.py:421} INFO - Loaded rand_4500.253_7.csv, 1213 rows\n",
      "[2023-12-12 16:36:44,900] {data.py:421} INFO - Loaded shufflenet_v2_x0_5.67_7.csv, 847 rows\n",
      "[2023-12-12 16:36:45,324] {data.py:421} INFO - Loaded shufflenet_v2_x0_5.165_7.csv, 849 rows\n",
      "[2023-12-12 16:36:46,086] {data.py:421} INFO - Loaded convnext_small.81_7.csv, 1595 rows\n",
      "[2023-12-12 16:36:46,514] {data.py:421} INFO - Loaded wide_resnet50_2.129_7.csv, 818 rows\n",
      "[2023-12-12 16:36:46,959] {data.py:421} INFO - Loaded mobilenet_v3_large.187_7.csv, 884 rows\n",
      "[2023-12-12 16:36:48,214] {data.py:421} INFO - Loaded efficientnet_b5.81_7.csv, 2709 rows\n",
      "[2023-12-12 16:36:49,350] {data.py:421} INFO - Loaded efficientnet_v2_s.119_7.csv, 2412 rows\n",
      "[2023-12-12 16:36:49,759] {data.py:421} INFO - Loaded mnasnet0_75.118_7.csv, 771 rows\n",
      "[2023-12-12 16:36:50,160] {data.py:421} INFO - Loaded mnasnet0_5.174_7.csv, 771 rows\n",
      "[2023-12-12 16:36:50,270] {data.py:421} INFO - Loaded vgg11.88_7.csv, 125 rows\n",
      "[2023-12-12 16:36:51,198] {data.py:421} INFO - Loaded rand_1500.209_7.csv, 1966 rows\n",
      "[2023-12-12 16:36:51,934] {data.py:421} INFO - Loaded convnext_large.109_7.csv, 1595 rows\n",
      "[2023-12-12 16:36:52,803] {data.py:421} INFO - Loaded rand_1000.152_7.csv, 1876 rows\n",
      "[2023-12-12 16:36:53,545] {data.py:421} INFO - Loaded resnet101.156_7.csv, 1598 rows\n",
      "[2023-12-12 16:36:54,091] {data.py:421} INFO - Loaded efficientnet_b0.171_7.csv, 1127 rows\n",
      "[2023-12-12 16:36:54,269] {data.py:421} INFO - Loaded vgg16_bn.94_7.csv, 279 rows\n",
      "[2023-12-12 16:36:54,661] {data.py:421} INFO - Loaded mnasnet0_5.153_7.csv, 771 rows\n",
      "[2023-12-12 16:36:54,835] {data.py:421} INFO - Loaded squeezenet1_1.73_7.csv, 280 rows\n",
      "[2023-12-12 16:36:55,253] {data.py:421} INFO - Loaded shufflenet_v2_x1_5.214_7.csv, 847 rows\n",
      "[2023-12-12 16:36:56,002] {data.py:421} INFO - Loaded convnext_small.122_7.csv, 1593 rows\n",
      "[2023-12-12 16:36:56,479] {data.py:421} INFO - Loaded rand_1500.257_7.csv, 973 rows\n",
      "[2023-12-12 16:36:56,966] {data.py:421} INFO - Loaded rand_3000.41_7.csv, 989 rows\n",
      "[2023-12-12 16:36:57,544] {data.py:421} INFO - Loaded rand_2500.119_7.csv, 1228 rows\n",
      "[2023-12-12 16:36:58,464] {data.py:421} INFO - Loaded rand_4000.68_7.csv, 1985 rows\n",
      "[2023-12-12 16:36:58,848] {data.py:421} INFO - Loaded mnasnet1_0.111_7.csv, 771 rows\n",
      "[2023-12-12 16:36:59,614] {data.py:421} INFO - Loaded efficientnet_b1.93_7.csv, 1604 rows\n",
      "[2023-12-12 16:36:59,959] {data.py:421} INFO - Loaded rand_2000.18_7.csv, 681 rows\n",
      "[2023-12-12 16:37:00,852] {data.py:421} INFO - Loaded densenet121.123_7.csv, 1889 rows\n",
      "[2023-12-12 16:37:01,252] {data.py:421} INFO - Loaded rand_2000.45_7.csv, 793 rows\n",
      "[2023-12-12 16:37:01,646] {data.py:421} INFO - Loaded mobilenet_v2.165_7.csv, 769 rows\n",
      "[2023-12-12 16:37:02,078] {data.py:421} INFO - Loaded shufflenet_v2_x1_5.168_7.csv, 847 rows\n",
      "[2023-12-12 16:37:03,179] {data.py:421} INFO - Loaded rand_4500.25_7.csv, 2317 rows\n",
      "[2023-12-12 16:37:03,738] {data.py:421} INFO - Loaded efficientnet_b0.162_7.csv, 1127 rows\n",
      "[2023-12-12 16:37:04,680] {data.py:421} INFO - Loaded rand_3500.208_7.csv, 1963 rows\n",
      "[2023-12-12 16:37:05,073] {data.py:421} INFO - Loaded mnasnet0_5.201_7.csv, 771 rows\n",
      "[2023-12-12 16:37:05,465] {data.py:421} INFO - Loaded mnasnet1_0.76_7.csv, 769 rows\n",
      "[2023-12-12 16:37:05,860] {data.py:421} INFO - Loaded mnasnet0_75.216_7.csv, 771 rows\n",
      "[2023-12-12 16:37:06,948] {data.py:421} INFO - Loaded rand_2500.196_7.csv, 2299 rows\n",
      "[2023-12-12 16:37:07,260] {data.py:421} INFO - Loaded resnet34.177_7.csv, 565 rows\n",
      "[2023-12-12 16:37:07,647] {data.py:421} INFO - Loaded mobilenet_v3_small.103_7.csv, 734 rows\n",
      "[2023-12-12 16:37:08,149] {data.py:421} INFO - Loaded rand_3500.191_7.csv, 991 rows\n",
      "[2023-12-12 16:37:08,752] {data.py:421} INFO - Loaded rand_3500.98_7.csv, 1210 rows\n",
      "[2023-12-12 16:37:09,536] {data.py:421} INFO - Loaded efficientnet_b1.84_7.csv, 1604 rows\n",
      "[2023-12-12 16:37:10,743] {data.py:421} INFO - Loaded rand_1000.118_7.csv, 2604 rows\n",
      "[2023-12-12 16:37:11,869] {data.py:421} INFO - Loaded rand_3000.90_7.csv, 2310 rows\n",
      "[2023-12-12 16:37:12,808] {data.py:421} INFO - Loaded rand_3500.194_7.csv, 1963 rows\n",
      "[2023-12-12 16:37:13,580] {data.py:421} INFO - Loaded convnext_small.66_7.csv, 1593 rows\n",
      "[2023-12-12 16:37:13,707] {data.py:421} INFO - Loaded vgg16.102_7.csv, 175 rows\n",
      "[2023-12-12 16:37:14,501] {data.py:421} INFO - Loaded wide_resnet101_2.176_7.csv, 1598 rows\n",
      "[2023-12-12 16:37:15,176] {data.py:421} INFO - Loaded rand_3000.162_7.csv, 1337 rows\n",
      "[2023-12-12 16:37:15,939] {data.py:421} INFO - Loaded convnext_large.54_7.csv, 1595 rows\n",
      "[2023-12-12 16:37:16,123] {data.py:421} INFO - Loaded squeezenet1_0.140_7.csv, 280 rows\n",
      "[2023-12-12 16:37:17,348] {data.py:421} INFO - Loaded rand_3000.112_7.csv, 2605 rows\n",
      "[2023-12-12 16:37:17,529] {data.py:421} INFO - Loaded squeezenet1_0.155_7.csv, 280 rows\n",
      "[2023-12-12 16:37:17,931] {data.py:421} INFO - Loaded mnasnet1_3.58_7.csv, 771 rows\n",
      "[2023-12-12 16:37:19,015] {data.py:421} INFO - Loaded rand_4000.35_7.csv, 2317 rows\n",
      "[2023-12-12 16:37:20,139] {data.py:421} INFO - Loaded efficientnet_v2_s.116_7.csv, 2412 rows\n",
      "[2023-12-12 16:37:21,348] {data.py:421} INFO - Loaded rand_0.5_7.csv, 2604 rows\n",
      "[2023-12-12 16:37:21,795] {data.py:421} INFO - Loaded shufflenet_v2_x2_0.228_7.csv, 849 rows\n",
      "[2023-12-12 16:37:22,349] {data.py:421} INFO - Loaded rand_4500.199_7.csv, 1135 rows\n",
      "[2023-12-12 16:37:23,288] {data.py:421} INFO - Loaded rand_3000.1_7.csv, 1981 rows\n",
      "[2023-12-12 16:37:23,712] {data.py:421} INFO - Loaded resnet50.115_7.csv, 818 rows\n",
      "[2023-12-12 16:37:25,075] {data.py:421} INFO - Loaded rand_2500.37_7.csv, 2923 rows\n",
      "[2023-12-12 16:37:26,300] {data.py:421} INFO - Loaded rand_4500.68_7.csv, 2605 rows\n",
      "[2023-12-12 16:37:26,793] {data.py:421} INFO - Loaded rand_500.110_7.csv, 974 rows\n",
      "[2023-12-12 16:37:27,292] {data.py:421} INFO - Loaded rand_2500.69_7.csv, 992 rows\n",
      "[2023-12-12 16:37:27,676] {data.py:421} INFO - Loaded mobilenet_v3_small.127_7.csv, 736 rows\n",
      "[2023-12-12 16:37:27,829] {data.py:421} INFO - Loaded vgg13_bn.95_7.csv, 225 rows\n",
      "[2023-12-12 16:37:28,606] {data.py:421} INFO - Loaded efficientnet_b2.61_7.csv, 1602 rows\n",
      "[2023-12-12 16:37:29,052] {data.py:421} INFO - Loaded googlenet.148_7.csv, 905 rows\n",
      "[2023-12-12 16:37:29,169] {data.py:421} INFO - Loaded vgg13.72_7.csv, 145 rows\n",
      "[2023-12-12 16:37:30,550] {data.py:421} INFO - Loaded rand_4500.280_7.csv, 2964 rows\n",
      "[2023-12-12 16:37:30,745] {data.py:421} INFO - Loaded resnet18.112_7.csv, 317 rows\n",
      "[2023-12-12 16:37:30,936] {data.py:421} INFO - Loaded resnet18.207_7.csv, 315 rows\n",
      "[2023-12-12 16:37:31,879] {data.py:421} INFO - Loaded rand_1000.197_7.csv, 1948 rows\n",
      "[2023-12-12 16:37:32,321] {data.py:421} INFO - Loaded shufflenet_v2_x1_5.199_7.csv, 849 rows\n",
      "[2023-12-12 16:37:32,712] {data.py:421} INFO - Loaded mobilenet_v3_small.142_7.csv, 736 rows\n",
      "[2023-12-12 16:37:33,163] {data.py:421} INFO - Loaded shufflenet_v2_x1_0.204_7.csv, 847 rows\n",
      "[2023-12-12 16:37:33,926] {data.py:421} INFO - Loaded convnext_base.117_7.csv, 1595 rows\n",
      "[2023-12-12 16:37:34,312] {data.py:421} INFO - Loaded rand_4000.14_7.csv, 727 rows\n",
      "[2023-12-12 16:37:34,739] {data.py:421} INFO - Loaded shufflenet_v2_x1_0.150_7.csv, 849 rows\n",
      "[2023-12-12 16:37:35,180] {data.py:421} INFO - Loaded shufflenet_v2_x1_0.141_7.csv, 849 rows\n",
      "[2023-12-12 16:37:35,940] {data.py:421} INFO - Loaded rand_500.131_7.csv, 1565 rows\n",
      "[2023-12-12 16:37:36,087] {data.py:421} INFO - Loaded vgg19.61_7.csv, 205 rows\n",
      "[2023-12-12 16:37:36,520] {data.py:421} INFO - Loaded resnet50.131_7.csv, 818 rows\n",
      "[2023-12-12 16:37:37,014] {data.py:421} INFO - Loaded rand_3500.30_7.csv, 972 rows\n",
      "[2023-12-12 16:37:37,514] {data.py:421} INFO - Loaded rand_3500.89_7.csv, 991 rows\n",
      "[2023-12-12 16:37:37,901] {data.py:421} INFO - Loaded mnasnet0_5.222_7.csv, 769 rows\n",
      "[2023-12-12 16:37:38,548] {data.py:421} INFO - Loaded rand_500.106_7.csv, 1361 rows\n",
      "[2023-12-12 16:37:38,743] {data.py:421} INFO - Loaded vgg19_bn.57_7.csv, 333 rows\n",
      "[2023-12-12 16:37:38,885] {data.py:421} INFO - Loaded vgg19.84_7.csv, 205 rows\n",
      "[2023-12-12 16:37:39,312] {data.py:421} INFO - Loaded resnet50.76_7.csv, 818 rows\n",
      "[2023-12-12 16:37:40,223] {data.py:421} INFO - Loaded rand_1000.100_7.csv, 1953 rows\n",
      "[2023-12-12 16:37:40,632] {data.py:421} INFO - Loaded rand_2000.95_7.csv, 796 rows\n",
      "[2023-12-12 16:37:41,054] {data.py:421} INFO - Loaded shufflenet_v2_x1_5.184_7.csv, 847 rows\n",
      "[2023-12-12 16:37:41,819] {data.py:421} INFO - Loaded convnext_large.51_7.csv, 1593 rows\n",
      "[2023-12-12 16:37:42,572] {data.py:421} INFO - Loaded efficientnet_b2.120_7.csv, 1604 rows\n",
      "[2023-12-12 16:37:43,432] {data.py:421} INFO - Loaded efficientnet_b3.116_7.csv, 1814 rows\n",
      "[2023-12-12 16:37:43,894] {data.py:421} INFO - Loaded googlenet.114_7.csv, 905 rows\n",
      "[2023-12-12 16:37:44,074] {data.py:421} INFO - Loaded squeezenet1_0.203_7.csv, 280 rows\n",
      "[2023-12-12 16:37:44,820] {data.py:421} INFO - Loaded convnext_base.81_7.csv, 1593 rows\n",
      "[2023-12-12 16:37:46,031] {data.py:421} INFO - Loaded rand_3500.83_7.csv, 2553 rows\n",
      "[2023-12-12 16:37:46,417] {data.py:421} INFO - Loaded mobilenet_v2.198_7.csv, 769 rows\n",
      "[2023-12-12 16:37:47,477] {data.py:421} INFO - Loaded rand_0.157_7.csv, 2296 rows\n",
      "[2023-12-12 16:37:48,758] {data.py:421} INFO - Loaded efficientnet_b5.55_7.csv, 2707 rows\n",
      "[2023-12-12 16:37:48,956] {data.py:421} INFO - Loaded resnet18.213_7.csv, 317 rows\n",
      "[2023-12-12 16:37:49,748] {data.py:421} INFO - Loaded efficientnet_b2.87_7.csv, 1604 rows\n",
      "[2023-12-12 16:37:50,124] {data.py:421} INFO - Loaded rand_2000.159_7.csv, 681 rows\n",
      "[2023-12-12 16:37:50,499] {data.py:421} INFO - Loaded mobilenet_v3_small.76_7.csv, 734 rows\n",
      "[2023-12-12 16:37:50,889] {data.py:421} INFO - Loaded mnasnet1_0.67_7.csv, 769 rows\n",
      "[2023-12-12 16:37:52,119] {data.py:421} INFO - Loaded rand_1000.151_7.csv, 2572 rows\n",
      "[2023-12-12 16:37:52,499] {data.py:421} INFO - Loaded rand_2500.121_7.csv, 731 rows\n",
      "[2023-12-12 16:37:52,677] {data.py:421} INFO - Loaded squeezenet1_0.103_7.csv, 280 rows\n",
      "[2023-12-12 16:37:53,779] {data.py:421} INFO - Loaded rand_0.256_7.csv, 2307 rows\n",
      "[2023-12-12 16:37:54,897] {data.py:421} INFO - Loaded resnet152.105_7.csv, 2382 rows\n",
      "[2023-12-12 16:37:55,264] {data.py:421} INFO - Loaded rand_1000.122_7.csv, 682 rows\n",
      "[2023-12-12 16:37:55,670] {data.py:421} INFO - Loaded mnasnet0_75.88_7.csv, 771 rows\n",
      "[2023-12-12 16:37:56,642] {data.py:421} INFO - Loaded rand_4500.207_7.csv, 1994 rows\n",
      "[2023-12-12 16:37:57,395] {data.py:421} INFO - Loaded efficientnet_b2.184_7.csv, 1602 rows\n",
      "[2023-12-12 16:37:57,566] {data.py:421} INFO - Loaded squeezenet1_0.79_7.csv, 280 rows\n",
      "[2023-12-12 16:37:57,758] {data.py:421} INFO - Loaded resnet18.124_7.csv, 317 rows\n",
      "[2023-12-12 16:37:58,515] {data.py:421} INFO - Loaded wide_resnet101_2.90_7.csv, 1600 rows\n",
      "[2023-12-12 16:37:58,936] {data.py:421} INFO - Loaded wide_resnet50_2.108_7.csv, 818 rows\n",
      "[2023-12-12 16:37:59,574] {data.py:421} INFO - Loaded rand_500.107_7.csv, 1338 rows\n",
      "[2023-12-12 16:38:00,654] {data.py:421} INFO - Loaded rand_2000.181_7.csv, 2320 rows\n",
      "[2023-12-12 16:38:01,570] {data.py:421} INFO - Loaded rand_1000.145_7.csv, 1971 rows\n",
      "[2023-12-12 16:38:02,169] {data.py:421} INFO - Loaded rand_500.217_7.csv, 1229 rows\n",
      "[2023-12-12 16:38:02,656] {data.py:421} INFO - Loaded rand_4500.182_7.csv, 972 rows\n",
      "[2023-12-12 16:38:03,855] {data.py:421} INFO - Loaded rand_4500.224_7.csv, 2597 rows\n",
      "[2023-12-12 16:38:04,053] {data.py:421} INFO - Loaded vgg19_bn.54_7.csv, 333 rows\n",
      "[2023-12-12 16:38:04,441] {data.py:421} INFO - Loaded mnasnet1_0.70_7.csv, 769 rows\n",
      "[2023-12-12 16:38:04,839] {data.py:421} INFO - Loaded mnasnet0_5.210_7.csv, 769 rows\n",
      "[2023-12-12 16:38:06,053] {data.py:421} INFO - Loaded rand_1000.214_7.csv, 2604 rows\n",
      "[2023-12-12 16:38:06,444] {data.py:421} INFO - Loaded mobilenet_v2.183_7.csv, 771 rows\n",
      "[2023-12-12 16:38:06,836] {data.py:421} INFO - Loaded mnasnet1_3.76_7.csv, 769 rows\n",
      "[2023-12-12 16:38:07,678] {data.py:421} INFO - Loaded efficientnet_b3.141_7.csv, 1814 rows\n",
      "[2023-12-12 16:38:07,868] {data.py:421} INFO - Loaded resnet18.192_7.csv, 315 rows\n",
      "[2023-12-12 16:38:08,611] {data.py:421} INFO - Loaded wide_resnet101_2.139_7.csv, 1600 rows\n",
      "[2023-12-12 16:38:09,361] {data.py:421} INFO - Loaded efficientnet_b1.191_7.csv, 1602 rows\n",
      "[2023-12-12 16:38:10,192] {data.py:421} INFO - Loaded efficientnet_b3.124_7.csv, 1814 rows\n",
      "[2023-12-12 16:38:10,694] {data.py:421} INFO - Loaded rand_1500.146_7.csv, 1061 rows\n",
      "[2023-12-12 16:38:10,839] {data.py:421} INFO - Loaded vgg13_bn.54_7.csv, 225 rows\n",
      "[2023-12-12 16:38:11,223] {data.py:421} INFO - Loaded mnasnet1_3.168_7.csv, 771 rows\n",
      "[2023-12-12 16:38:11,568] {data.py:421} INFO - Loaded rand_2000.268_7.csv, 683 rows\n",
      "[2023-12-12 16:38:12,302] {data.py:421} INFO - Loaded efficientnet_b2.135_7.csv, 1602 rows\n",
      "[2023-12-12 16:38:21,921] {data.py:421} INFO - Loaded rand_1500.149_7.csv, 2605 rows\n",
      "[2023-12-12 16:38:22,976] {data.py:421} INFO - Loaded rand_3500.16_7.csv, 2296 rows\n",
      "[2023-12-12 16:38:23,089] {data.py:421} INFO - Loaded vgg13.105_7.csv, 145 rows\n",
      "[2023-12-12 16:38:24,283] {data.py:421} INFO - Loaded densenet169.107_7.csv, 2633 rows\n",
      "[2023-12-12 16:38:24,430] {data.py:421} INFO - Loaded vgg13_bn.71_7.csv, 223 rows\n",
      "[2023-12-12 16:38:25,173] {data.py:421} INFO - Loaded convnext_small.93_7.csv, 1595 rows\n",
      "[2023-12-12 16:38:25,719] {data.py:421} INFO - Loaded efficientnet_b0.188_7.csv, 1129 rows\n",
      "[2023-12-12 16:38:26,144] {data.py:421} INFO - Loaded shufflenet_v2_x1_0.115_7.csv, 849 rows\n",
      "[2023-12-12 16:38:26,272] {data.py:421} INFO - Loaded vgg16.132_7.csv, 173 rows\n",
      "[2023-12-12 16:38:27,306] {data.py:421} INFO - Loaded efficientnet_b4.153_7.csv, 2232 rows\n",
      "[2023-12-12 16:38:28,335] {data.py:421} INFO - Loaded efficientnet_b4.87_7.csv, 2234 rows\n",
      "[2023-12-12 16:38:28,709] {data.py:421} INFO - Loaded rand_0.225_7.csv, 746 rows\n",
      "[2023-12-12 16:38:29,059] {data.py:421} INFO - Loaded rand_1000.193_7.csv, 683 rows\n",
      "[2023-12-12 16:38:30,225] {data.py:421} INFO - Loaded densenet161.84_7.csv, 2509 rows\n",
      "[2023-12-12 16:38:30,359] {data.py:421} INFO - Loaded vgg16.84_7.csv, 175 rows\n",
      "[2023-12-12 16:38:30,742] {data.py:421} INFO - Loaded mobilenet_v3_small.189_7.csv, 732 rows\n",
      "[2023-12-12 16:38:31,538] {data.py:421} INFO - Loaded efficientnet_b2.153_7.csv, 1604 rows\n",
      "[2023-12-12 16:38:31,942] {data.py:421} INFO - Loaded mnasnet0_75.115_7.csv, 771 rows\n",
      "[2023-12-12 16:38:32,351] {data.py:421} INFO - Loaded mnasnet0_75.162_7.csv, 769 rows\n",
      "[2023-12-12 16:38:33,145] {data.py:421} INFO - Loaded resnet101.61_7.csv, 1600 rows\n",
      "[2023-12-12 16:38:33,608] {data.py:421} INFO - Loaded mobilenet_v3_large.129_7.csv, 886 rows\n",
      "[2023-12-12 16:38:33,790] {data.py:421} INFO - Loaded squeezenet1_0.97_7.csv, 280 rows\n",
      "[2023-12-12 16:38:33,946] {data.py:421} INFO - Loaded vgg13_bn.104_7.csv, 225 rows\n",
      "[2023-12-12 16:38:34,102] {data.py:421} INFO - Loaded vgg13_bn.140_7.csv, 223 rows\n",
      "[2023-12-12 16:38:35,173] {data.py:421} INFO - Loaded rand_4000.207_7.csv, 2296 rows\n",
      "[2023-12-12 16:38:36,244] {data.py:421} INFO - Loaded efficientnet_b4.166_7.csv, 2232 rows\n",
      "[2023-12-12 16:38:36,769] {data.py:421} INFO - Loaded rand_1000.114_7.csv, 1059 rows\n",
      "[2023-12-12 16:38:37,204] {data.py:421} INFO - Loaded shufflenet_v2_x0_5.209_7.csv, 849 rows\n",
      "[2023-12-12 16:38:37,345] {data.py:421} INFO - Loaded vgg19.105_7.csv, 205 rows\n",
      "[2023-12-12 16:38:38,099] {data.py:421} INFO - Loaded efficientnet_b2.147_7.csv, 1602 rows\n",
      "[2023-12-12 16:38:38,491] {data.py:421} INFO - Loaded mnasnet0_5.76_7.csv, 771 rows\n",
      "[2023-12-12 16:38:38,976] {data.py:421} INFO - Loaded rand_500.95_7.csv, 991 rows\n",
      "[2023-12-12 16:38:40,396] {data.py:421} INFO - Loaded rand_500.142_7.csv, 2975 rows\n",
      "[2023-12-12 16:38:41,477] {data.py:421} INFO - Loaded rand_1500.102_7.csv, 2296 rows\n",
      "[2023-12-12 16:38:42,402] {data.py:421} INFO - Loaded rand_2000.270_7.csv, 1949 rows\n",
      "[2023-12-12 16:38:42,834] {data.py:421} INFO - Loaded resnet50.112_7.csv, 818 rows\n",
      "[2023-12-12 16:38:42,965] {data.py:421} INFO - Loaded vgg16.75_7.csv, 175 rows\n",
      "[2023-12-12 16:38:43,162] {data.py:421} INFO - Loaded resnet18.162_7.csv, 317 rows\n",
      "[2023-12-12 16:38:43,276] {data.py:421} INFO - Loaded vgg11.140_7.csv, 125 rows\n",
      "[2023-12-12 16:38:44,074] {data.py:421} INFO - Loaded efficientnet_b2.58_7.csv, 1604 rows\n",
      "[2023-12-12 16:38:44,849] {data.py:421} INFO - Loaded convnext_small.84_7.csv, 1593 rows\n",
      "[2023-12-12 16:38:45,281] {data.py:421} INFO - Loaded shufflenet_v2_x0_5.58_7.csv, 849 rows\n",
      "[2023-12-12 16:38:45,485] {data.py:421} INFO - Loaded vgg19_bn.122_7.csv, 331 rows\n",
      "[2023-12-12 16:38:46,056] {data.py:421} INFO - Loaded efficientnet_b0.136_7.csv, 1129 rows\n",
      "[2023-12-12 16:38:46,513] {data.py:421} INFO - Loaded mobilenet_v3_large.144_7.csv, 888 rows\n",
      "[2023-12-12 16:38:46,644] {data.py:421} INFO - Loaded vgg16.144_7.csv, 173 rows\n",
      "[2023-12-12 16:38:46,822] {data.py:421} INFO - Loaded vgg16_bn.88_7.csv, 277 rows\n",
      "[2023-12-12 16:38:47,615] {data.py:421} INFO - Loaded resnet101.90_7.csv, 1598 rows\n",
      "[2023-12-12 16:38:48,734] {data.py:421} INFO - Loaded resnet152.84_7.csv, 2382 rows\n",
      "[2023-12-12 16:38:49,138] {data.py:421} INFO - Loaded mnasnet1_0.224_7.csv, 769 rows\n",
      "[2023-12-12 16:38:49,322] {data.py:421} INFO - Loaded squeezenet1_0.170_7.csv, 280 rows\n",
      "[2023-12-12 16:38:49,767] {data.py:421} INFO - Loaded shufflenet_v2_x0_5.100_7.csv, 847 rows\n",
      "[2023-12-12 16:38:49,977] {data.py:421} INFO - Loaded vgg19_bn.137_7.csv, 331 rows\n",
      "[2023-12-12 16:38:50,410] {data.py:421} INFO - Loaded shufflenet_v2_x2_0.70_7.csv, 849 rows\n",
      "[2023-12-12 16:38:50,807] {data.py:421} INFO - Loaded mobilenet_v2.103_7.csv, 769 rows\n",
      "[2023-12-12 16:38:51,174] {data.py:421} INFO - Loaded rand_3500.10_7.csv, 682 rows\n",
      "[2023-12-12 16:38:51,330] {data.py:421} INFO - Loaded vgg13_bn.60_7.csv, 225 rows\n",
      "[2023-12-12 16:38:51,479] {data.py:421} INFO - Loaded vgg19.90_7.csv, 205 rows\n",
      "[2023-12-12 16:38:51,902] {data.py:421} INFO - Loaded resnet50.169_7.csv, 816 rows\n",
      "[2023-12-12 16:38:52,522] {data.py:421} INFO - Loaded rand_3500.91_7.csv, 1219 rows\n",
      "[2023-12-12 16:38:53,635] {data.py:421} INFO - Loaded rand_4000.96_7.csv, 2299 rows\n",
      "[2023-12-12 16:38:54,039] {data.py:421} INFO - Loaded mnasnet1_0.203_7.csv, 769 rows\n",
      "[2023-12-12 16:38:54,831] {data.py:421} INFO - Loaded wide_resnet101_2.154_7.csv, 1600 rows\n",
      "[2023-12-12 16:38:55,921] {data.py:421} INFO - Loaded efficientnet_b4.120_7.csv, 2234 rows\n",
      "[2023-12-12 16:38:56,372] {data.py:421} INFO - Loaded convnext_tiny.72_7.csv, 852 rows\n",
      "[2023-12-12 16:38:57,611] {data.py:421} INFO - Loaded densenet169.60_7.csv, 2633 rows\n",
      "[2023-12-12 16:38:58,032] {data.py:421} INFO - Loaded resnet50.204_7.csv, 816 rows\n",
      "[2023-12-12 16:38:58,789] {data.py:421} INFO - Loaded convnext_small.125_7.csv, 1593 rows\n",
      "[2023-12-12 16:38:59,339] {data.py:421} INFO - Loaded efficientnet_b0.142_7.csv, 1129 rows\n",
      "[2023-12-12 16:38:59,768] {data.py:421} INFO - Loaded shufflenet_v2_x1_0.224_7.csv, 847 rows\n",
      "[2023-12-12 16:38:59,950] {data.py:421} INFO - Loaded squeezenet1_1.132_7.csv, 280 rows\n",
      "[2023-12-12 16:39:00,322] {data.py:421} INFO - Loaded rand_0.265_7.csv, 726 rows\n",
      "[2023-12-12 16:39:00,767] {data.py:421} INFO - Loaded shufflenet_v2_x2_0.73_7.csv, 847 rows\n",
      "[2023-12-12 16:39:00,911] {data.py:421} INFO - Loaded vgg19.123_7.csv, 203 rows\n",
      "[2023-12-12 16:39:01,407] {data.py:421} INFO - Loaded rand_4500.105_7.csv, 990 rows\n",
      "[2023-12-12 16:39:01,604] {data.py:421} INFO - Loaded resnet18.150_7.csv, 315 rows\n",
      "[2023-12-12 16:39:01,999] {data.py:421} INFO - Loaded mnasnet1_0.197_7.csv, 769 rows\n",
      "[2023-12-12 16:39:02,955] {data.py:421} INFO - Loaded rand_1000.25_7.csv, 1985 rows\n",
      "[2023-12-12 16:39:03,330] {data.py:421} INFO - Loaded rand_4000.40_7.csv, 737 rows\n",
      "[2023-12-12 16:39:03,833] {data.py:421} INFO - Loaded rand_4000.48_7.csv, 991 rows\n",
      "[2023-12-12 16:39:04,418] {data.py:421} INFO - Loaded efficientnet_b0.109_7.csv, 1129 rows\n",
      "[2023-12-12 16:39:05,529] {data.py:421} INFO - Loaded rand_4500.135_7.csv, 2294 rows\n",
      "[2023-12-12 16:39:05,949] {data.py:421} INFO - Loaded wide_resnet50_2.120_7.csv, 818 rows\n",
      "[2023-12-12 16:39:06,559] {data.py:421} INFO - Loaded rand_3500.201_7.csv, 1217 rows\n",
      "[2023-12-12 16:39:07,771] {data.py:421} INFO - Loaded rand_4500.291_7.csv, 2607 rows\n",
      "[2023-12-12 16:39:07,929] {data.py:421} INFO - Loaded vgg13_bn.159_7.csv, 223 rows\n",
      "[2023-12-12 16:39:08,229] {data.py:421} INFO - Loaded resnet34.121_7.csv, 565 rows\n",
      "[2023-12-12 16:39:08,625] {data.py:421} INFO - Loaded mobilenet_v2.76_7.csv, 771 rows\n",
      "[2023-12-12 16:39:09,280] {data.py:421} INFO - Loaded rand_4500.257_7.csv, 1346 rows\n",
      "[2023-12-12 16:39:10,663] {data.py:421} INFO - Loaded rand_2000.196_7.csv, 2935 rows\n",
      "[2023-12-12 16:39:11,402] {data.py:421} INFO - Loaded rand_500.155_7.csv, 1566 rows\n",
      "[2023-12-12 16:39:12,163] {data.py:421} INFO - Loaded rand_4000.163_7.csv, 1562 rows\n",
      "[2023-12-12 16:39:13,091] {data.py:421} INFO - Loaded rand_4500.23_7.csv, 1965 rows\n",
      "[2023-12-12 16:39:14,174] {data.py:421} INFO - Loaded rand_2500.34_7.csv, 2269 rows\n",
      "[2023-12-12 16:39:14,668] {data.py:421} INFO - Loaded rand_2500.86_7.csv, 974 rows\n",
      "[2023-12-12 16:39:15,745] {data.py:421} INFO - Loaded efficientnet_b4.84_7.csv, 2234 rows\n",
      "[2023-12-12 16:39:15,935] {data.py:421} INFO - Loaded resnet18.64_7.csv, 315 rows\n",
      "[2023-12-12 16:39:17,162] {data.py:421} INFO - Loaded rand_2000.193_7.csv, 2606 rows\n",
      "[2023-12-12 16:39:17,596] {data.py:421} INFO - Loaded mobilenet_v3_large.91_7.csv, 884 rows\n",
      "[2023-12-12 16:39:18,077] {data.py:421} INFO - Loaded rand_2500.106_7.csv, 992 rows\n",
      "[2023-12-12 16:39:18,247] {data.py:421} INFO - Loaded vgg16_bn.97_7.csv, 279 rows\n",
      "[2023-12-12 16:39:18,992] {data.py:421} INFO - Loaded resnet101.181_7.csv, 1600 rows\n",
      "[2023-12-12 16:39:19,366] {data.py:421} INFO - Loaded rand_500.35_7.csv, 718 rows\n",
      "[2023-12-12 16:39:20,483] {data.py:421} INFO - Loaded resnet152.167_7.csv, 2380 rows\n",
      "[2023-12-12 16:39:20,783] {data.py:421} INFO - Loaded resnet34.171_7.csv, 563 rows\n",
      "[2023-12-12 16:39:20,975] {data.py:421} INFO - Loaded resnet18.198_7.csv, 317 rows\n",
      "[2023-12-12 16:39:22,321] {data.py:421} INFO - Loaded rand_4000.175_7.csv, 2857 rows\n",
      "[2023-12-12 16:39:22,514] {data.py:421} INFO - Loaded resnet18.216_7.csv, 315 rows\n",
      "[2023-12-12 16:39:23,081] {data.py:421} INFO - Loaded rand_1500.7_7.csv, 1130 rows\n",
      "[2023-12-12 16:39:24,184] {data.py:421} INFO - Loaded rand_1000.218_7.csv, 2316 rows\n",
      "[2023-12-12 16:39:24,711] {data.py:421} INFO - Loaded rand_500.215_7.csv, 1048 rows\n",
      "[2023-12-12 16:39:25,168] {data.py:421} INFO - Loaded mobilenet_v3_large.64_7.csv, 888 rows\n",
      "[2023-12-12 16:39:25,935] {data.py:421} INFO - Loaded efficientnet_b2.132_7.csv, 1604 rows\n",
      "[2023-12-12 16:39:26,391] {data.py:421} INFO - Loaded shufflenet_v2_x2_0.58_7.csv, 849 rows\n",
      "[2023-12-12 16:39:26,944] {data.py:421} INFO - Loaded rand_0.24_7.csv, 1077 rows\n",
      "[2023-12-12 16:39:27,372] {data.py:421} INFO - Loaded convnext_tiny.132_7.csv, 839 rows\n",
      "[2023-12-12 16:39:28,308] {data.py:421} INFO - Loaded rand_1000.16_7.csv, 1975 rows\n",
      "[2023-12-12 16:39:29,506] {data.py:421} INFO - Loaded rand_1500.13_7.csv, 2576 rows\n",
      "[2023-12-12 16:39:29,904] {data.py:421} INFO - Loaded mnasnet0_75.147_7.csv, 771 rows\n",
      "[2023-12-12 16:39:30,309] {data.py:421} INFO - Loaded mobilenet_v2.88_7.csv, 771 rows\n",
      "[2023-12-12 16:39:30,671] {data.py:421} INFO - Loaded rand_4500.177_7.csv, 684 rows\n",
      "[2023-12-12 16:39:31,595] {data.py:421} INFO - Loaded rand_1500.77_7.csv, 1954 rows\n",
      "[2023-12-12 16:39:32,042] {data.py:421} INFO - Loaded googlenet.100_7.csv, 903 rows\n",
      "[2023-12-12 16:39:32,692] {data.py:421} INFO - Loaded rand_4500.108_7.csv, 1341 rows\n",
      "[2023-12-12 16:39:33,285] {data.py:421} INFO - Loaded rand_2500.113_7.csv, 1232 rows\n",
      "[2023-12-12 16:39:34,135] {data.py:421} INFO - Loaded efficientnet_b3.183_7.csv, 1812 rows\n",
      "[2023-12-12 16:39:34,563] {data.py:421} INFO - Loaded shufflenet_v2_x1_5.208_7.csv, 849 rows\n",
      "[2023-12-12 16:39:34,991] {data.py:421} INFO - Loaded shufflenet_v2_x1_5.97_7.csv, 847 rows\n",
      "[2023-12-12 16:39:36,166] {data.py:421} INFO - Loaded densenet161.102_7.csv, 2509 rows\n",
      "[2023-12-12 16:39:36,473] {data.py:421} INFO - Loaded resnet34.192_7.csv, 563 rows\n",
      "[2023-12-12 16:39:36,609] {data.py:421} INFO - Loaded vgg11_bn.75_7.csv, 189 rows\n",
      "[2023-12-12 16:39:37,038] {data.py:421} INFO - Loaded shufflenet_v2_x1_5.147_7.csv, 849 rows\n",
      "[2023-12-12 16:39:37,236] {data.py:421} INFO - Loaded vgg19_bn.125_7.csv, 333 rows\n",
      "[2023-12-12 16:39:37,411] {data.py:421} INFO - Loaded squeezenet1_1.85_7.csv, 280 rows\n",
      "[2023-12-12 16:39:37,542] {data.py:421} INFO - Loaded vgg16.61_7.csv, 175 rows\n",
      "[2023-12-12 16:39:38,416] {data.py:421} INFO - Loaded densenet121.58_7.csv, 1887 rows\n",
      "[2023-12-12 16:39:39,505] {data.py:421} INFO - Loaded rand_3500.200_7.csv, 2320 rows\n",
      "[2023-12-12 16:39:40,276] {data.py:421} INFO - Loaded efficientnet_b2.123_7.csv, 1604 rows\n",
      "[2023-12-12 16:39:40,631] {data.py:421} INFO - Loaded rand_3500.207_7.csv, 681 rows\n",
      "[2023-12-12 16:39:41,896] {data.py:421} INFO - Loaded efficientnet_b5.132_7.csv, 2709 rows\n",
      "[2023-12-12 16:39:42,666] {data.py:421} INFO - Loaded resnet101.84_7.csv, 1600 rows\n",
      "[2023-12-12 16:39:43,185] {data.py:421} INFO - Loaded rand_3500.39_7.csv, 1059 rows\n",
      "[2023-12-12 16:39:43,963] {data.py:421} INFO - Loaded efficientnet_b1.73_7.csv, 1602 rows\n",
      "[2023-12-12 16:39:44,389] {data.py:421} INFO - Loaded wide_resnet50_2.164_7.csv, 818 rows\n",
      "[2023-12-12 16:39:44,829] {data.py:421} INFO - Loaded shufflenet_v2_x1_0.73_7.csv, 847 rows\n",
      "[2023-12-12 16:39:45,348] {data.py:421} INFO - Loaded rand_4500.259_7.csv, 1039 rows\n",
      "[2023-12-12 16:39:46,447] {data.py:421} INFO - Loaded rand_2000.278_7.csv, 2289 rows\n",
      "[2023-12-12 16:39:47,317] {data.py:421} INFO - Loaded efficientnet_b3.66_7.csv, 1814 rows\n",
      "[2023-12-12 16:39:47,815] {data.py:421} INFO - Loaded rand_500.159_7.csv, 991 rows\n",
      "[2023-12-12 16:39:48,250] {data.py:421} INFO - Loaded shufflenet_v2_x1_5.64_7.csv, 847 rows\n",
      "[2023-12-12 16:39:48,658] {data.py:421} INFO - Loaded mnasnet1_3.198_7.csv, 769 rows\n",
      "[2023-12-12 16:39:49,421] {data.py:421} INFO - Loaded efficientnet_b1.186_7.csv, 1602 rows\n",
      "[2023-12-12 16:39:49,594] {data.py:421} INFO - Loaded squeezenet1_0.129_7.csv, 280 rows\n",
      "[2023-12-12 16:39:50,108] {data.py:421} INFO - Loaded rand_4000.201_7.csv, 1052 rows\n",
      "[2023-12-12 16:39:50,889] {data.py:421} INFO - Loaded efficientnet_b2.70_7.csv, 1604 rows\n",
      "[2023-12-12 16:39:51,962] {data.py:421} INFO - Loaded rand_4000.204_7.csv, 2292 rows\n",
      "[2023-12-12 16:39:52,361] {data.py:421} INFO - Loaded mnasnet0_5.115_7.csv, 771 rows\n",
      "[2023-12-12 16:39:53,135] {data.py:421} INFO - Loaded efficientnet_b1.120_7.csv, 1604 rows\n",
      "[2023-12-12 16:39:54,009] {data.py:421} INFO - Loaded efficientnet_b3.82_7.csv, 1814 rows\n",
      "[2023-12-12 16:39:54,148] {data.py:421} INFO - Loaded vgg11_bn.126_7.csv, 187 rows\n",
      "[2023-12-12 16:39:54,907] {data.py:421} INFO - Loaded rand_1000.141_7.csv, 1564 rows\n",
      "[2023-12-12 16:39:55,529] {data.py:421} INFO - Loaded rand_0.107_7.csv, 1274 rows\n",
      "[2023-12-12 16:39:55,707] {data.py:421} INFO - Loaded vgg16_bn.109_7.csv, 277 rows\n",
      "[2023-12-12 16:39:56,849] {data.py:421} INFO - Loaded resnet152.111_7.csv, 2382 rows\n",
      "[2023-12-12 16:39:57,244] {data.py:421} INFO - Loaded rand_3500.71_7.csv, 744 rows\n",
      "[2023-12-12 16:39:58,515] {data.py:421} INFO - Loaded densenet169.139_7.csv, 2631 rows\n",
      "[2023-12-12 16:39:58,673] {data.py:421} INFO - Loaded vgg13_bn.113_7.csv, 225 rows\n",
      "[2023-12-12 16:39:59,075] {data.py:421} INFO - Loaded mnasnet1_0.91_7.csv, 771 rows\n",
      "[2023-12-12 16:40:00,321] {data.py:421} INFO - Loaded rand_3000.16_7.csv, 2603 rows\n",
      "[2023-12-12 16:40:00,865] {data.py:421} INFO - Loaded rand_2500.11_7.csv, 1088 rows\n",
      "[2023-12-12 16:40:01,353] {data.py:421} INFO - Loaded rand_1500.265_7.csv, 974 rows\n",
      "[2023-12-12 16:40:02,143] {data.py:421} INFO - Loaded convnext_large.98_7.csv, 1595 rows\n",
      "[2023-12-12 16:40:03,369] {data.py:421} INFO - Loaded rand_500.30_7.csv, 2597 rows\n",
      "[2023-12-12 16:40:03,909] {data.py:421} INFO - Loaded rand_0.187_7.csv, 1053 rows\n",
      "[2023-12-12 16:40:04,421] {data.py:421} INFO - Loaded rand_3500.96_7.csv, 991 rows\n",
      "[2023-12-12 16:40:04,884] {data.py:421} INFO - Loaded mobilenet_v3_large.58_7.csv, 888 rows\n",
      "[2023-12-12 16:40:05,288] {data.py:421} INFO - Loaded mnasnet1_0.221_7.csv, 769 rows\n",
      "[2023-12-12 16:40:06,184] {data.py:421} INFO - Loaded densenet121.93_7.csv, 1889 rows\n",
      "[2023-12-12 16:40:07,486] {data.py:421} INFO - Loaded efficientnet_b5.138_7.csv, 2707 rows\n",
      "[2023-12-12 16:40:07,880] {data.py:421} INFO - Loaded mnasnet1_3.195_7.csv, 771 rows\n",
      "[2023-12-12 16:40:08,340] {data.py:421} INFO - Loaded googlenet.64_7.csv, 905 rows\n",
      "[2023-12-12 16:40:08,778] {data.py:421} INFO - Loaded wide_resnet50_2.179_7.csv, 816 rows\n",
      "[2023-12-12 16:40:09,166] {data.py:421} INFO - Loaded mobilenet_v2.162_7.csv, 769 rows\n",
      "[2023-12-12 16:40:10,284] {data.py:421} INFO - Loaded resnet152.96_7.csv, 2382 rows\n",
      "[2023-12-12 16:40:10,402] {data.py:421} INFO - Loaded vgg13.149_7.csv, 145 rows\n",
      "[2023-12-12 16:40:10,805] {data.py:421} INFO - Loaded mnasnet1_3.88_7.csv, 771 rows\n",
      "[2023-12-12 16:40:11,937] {data.py:421} INFO - Loaded resnet152.154_7.csv, 2380 rows\n",
      "[2023-12-12 16:40:13,123] {data.py:421} INFO - Loaded densenet161.105_7.csv, 2509 rows\n",
      "[2023-12-12 16:40:13,906] {data.py:421} INFO - Loaded wide_resnet101_2.57_7.csv, 1600 rows\n",
      "[2023-12-12 16:40:14,109] {data.py:421} INFO - Loaded vgg19_bn.142_7.csv, 331 rows\n",
      "[2023-12-12 16:40:15,229] {data.py:421} INFO - Loaded rand_4500.141_7.csv, 2315 rows\n",
      "[2023-12-12 16:40:15,659] {data.py:421} INFO - Loaded wide_resnet50_2.132_7.csv, 818 rows\n",
      "[2023-12-12 16:40:16,747] {data.py:421} INFO - Loaded rand_0.121_7.csv, 2288 rows\n",
      "[2023-12-12 16:40:17,241] {data.py:421} INFO - Loaded rand_0.93_7.csv, 973 rows\n",
      "[2023-12-12 16:40:17,680] {data.py:421} INFO - Loaded shufflenet_v2_x0_5.70_7.csv, 849 rows\n",
      "[2023-12-12 16:40:17,885] {data.py:421} INFO - Loaded vgg19_bn.98_7.csv, 333 rows\n",
      "[2023-12-12 16:40:18,493] {data.py:421} INFO - Loaded rand_3500.78_7.csv, 1227 rows\n",
      "[2023-12-12 16:40:18,856] {data.py:421} INFO - Loaded rand_4500.87_7.csv, 681 rows\n",
      "[2023-12-12 16:40:19,393] {data.py:421} INFO - Loaded rand_2000.68_7.csv, 1033 rows\n",
      "[2023-12-12 16:40:19,914] {data.py:421} INFO - Loaded rand_4500.163_7.csv, 991 rows\n",
      "[2023-12-12 16:40:20,381] {data.py:421} INFO - Loaded shufflenet_v2_x1_0.70_7.csv, 847 rows\n",
      "[2023-12-12 16:40:20,979] {data.py:421} INFO - Loaded efficientnet_b0.194_7.csv, 1129 rows\n",
      "[2023-12-12 16:40:21,183] {data.py:421} INFO - Loaded resnet18.61_7.csv, 315 rows\n",
      "[2023-12-12 16:40:21,633] {data.py:421} INFO - Loaded shufflenet_v2_x1_0.209_7.csv, 849 rows\n",
      "[2023-12-12 16:40:22,090] {data.py:421} INFO - Loaded mobilenet_v3_large.203_7.csv, 884 rows\n",
      "[2023-12-12 16:40:22,413] {data.py:421} INFO - Loaded resnet34.118_7.csv, 563 rows\n",
      "[2023-12-12 16:40:22,600] {data.py:421} INFO - Loaded vgg16_bn.60_7.csv, 279 rows\n",
      "[2023-12-12 16:40:23,028] {data.py:421} INFO - Loaded mnasnet0_75.171_7.csv, 771 rows\n",
      "[2023-12-12 16:40:23,486] {data.py:421} INFO - Loaded shufflenet_v2_x0_5.242_7.csv, 849 rows\n",
      "[2023-12-12 16:40:23,906] {data.py:421} INFO - Loaded mnasnet0_5.88_7.csv, 771 rows\n",
      "[2023-12-12 16:40:24,909] {data.py:421} INFO - Loaded rand_4000.108_7.csv, 1974 rows\n",
      "[2023-12-12 16:40:26,111] {data.py:421} INFO - Loaded rand_4500.268_7.csv, 2318 rows\n",
      "[2023-12-12 16:40:26,957] {data.py:421} INFO - Loaded convnext_small.69_7.csv, 1626 rows\n",
      "[2023-12-12 16:40:27,405] {data.py:421} INFO - Loaded resnet50.134_7.csv, 818 rows\n",
      "[2023-12-12 16:40:27,878] {data.py:421} INFO - Loaded mobilenet_v3_large.181_7.csv, 884 rows\n",
      "[2023-12-12 16:40:28,015] {data.py:421} INFO - Loaded vgg16.58_7.csv, 175 rows\n",
      "[2023-12-12 16:40:28,132] {data.py:421} INFO - Loaded vgg13.157_7.csv, 143 rows\n",
      "[2023-12-12 16:40:28,747] {data.py:421} INFO - Loaded rand_4000.202_7.csv, 1209 rows\n",
      "[2023-12-12 16:40:29,563] {data.py:421} INFO - Loaded efficientnet_b1.108_7.csv, 1604 rows\n",
      "[2023-12-12 16:40:30,358] {data.py:421} INFO - Loaded convnext_small.57_7.csv, 1595 rows\n",
      "[2023-12-12 16:40:31,175] {data.py:421} INFO - Loaded convnext_base.108_7.csv, 1595 rows\n",
      "[2023-12-12 16:40:31,970] {data.py:421} INFO - Loaded convnext_small.63_7.csv, 1593 rows\n",
      "[2023-12-12 16:40:32,147] {data.py:421} INFO - Loaded squeezenet1_1.109_7.csv, 280 rows\n",
      "[2023-12-12 16:40:33,283] {data.py:421} INFO - Loaded rand_2500.50_7.csv, 2309 rows\n",
      "[2023-12-12 16:40:33,700] {data.py:421} INFO - Loaded mnasnet1_3.117_7.csv, 771 rows\n",
      "[2023-12-12 16:40:34,987] {data.py:421} INFO - Loaded rand_500.187_7.csv, 2604 rows\n",
      "[2023-12-12 16:40:35,802] {data.py:421} INFO - Loaded resnet101.178_7.csv, 1598 rows\n",
      "[2023-12-12 16:40:36,265] {data.py:421} INFO - Loaded shufflenet_v2_x0_5.239_7.csv, 849 rows\n",
      "[2023-12-12 16:40:36,905] {data.py:421} INFO - Loaded rand_1000.35_7.csv, 1250 rows\n",
      "[2023-12-12 16:40:38,292] {data.py:421} INFO - Loaded rand_2000.142_7.csv, 2884 rows\n",
      "[2023-12-12 16:40:38,808] {data.py:421} INFO - Loaded rand_3000.89_7.csv, 972 rows\n",
      "[2023-12-12 16:40:39,381] {data.py:421} INFO - Loaded efficientnet_b0.206_7.csv, 1127 rows\n",
      "[2023-12-12 16:40:39,805] {data.py:421} INFO - Loaded rand_2000.206_7.csv, 769 rows\n",
      "[2023-12-12 16:40:40,448] {data.py:421} INFO - Loaded rand_3000.104_7.csv, 1232 rows\n",
      "[2023-12-12 16:40:41,708] {data.py:421} INFO - Loaded rand_4500.35_7.csv, 2604 rows\n",
      "[2023-12-12 16:40:42,073] {data.py:421} INFO - Loaded rand_2500.138_7.csv, 684 rows\n",
      "[2023-12-12 16:40:43,182] {data.py:421} INFO - Loaded rand_2500.135_7.csv, 2300 rows\n",
      "[2023-12-12 16:40:43,385] {data.py:421} INFO - Loaded vgg19_bn.95_7.csv, 333 rows\n",
      "[2023-12-12 16:40:44,152] {data.py:421} INFO - Loaded rand_3500.220_7.csv, 1565 rows\n",
      "[2023-12-12 16:40:44,657] {data.py:421} INFO - Loaded rand_3500.239_7.csv, 973 rows\n",
      "[2023-12-12 16:40:45,089] {data.py:421} INFO - Loaded wide_resnet50_2.147_7.csv, 816 rows\n",
      "[2023-12-12 16:40:45,623] {data.py:421} INFO - Loaded rand_1000.36_7.csv, 1047 rows\n",
      "[2023-12-12 16:40:46,700] {data.py:421} INFO - Loaded efficientnet_b4.169_7.csv, 2232 rows\n",
      "[2023-12-12 16:40:47,997] {data.py:421} INFO - Loaded efficientnet_b5.72_7.csv, 2709 rows\n",
      "[2023-12-12 16:40:49,233] {data.py:421} INFO - Loaded rand_500.252_7.csv, 2541 rows\n",
      "[2023-12-12 16:40:49,808] {data.py:421} INFO - Loaded rand_500.117_7.csv, 1137 rows\n",
      "[2023-12-12 16:40:50,433] {data.py:421} INFO - Loaded rand_1000.95_7.csv, 1224 rows\n",
      "[2023-12-12 16:40:51,216] {data.py:421} INFO - Loaded rand_4000.216_7.csv, 1564 rows\n",
      "[2023-12-12 16:40:52,527] {data.py:421} INFO - Loaded efficientnet_b5.78_7.csv, 2709 rows\n",
      "[2023-12-12 16:40:52,985] {data.py:421} INFO - Loaded shufflenet_v2_x1_5.100_7.csv, 847 rows\n",
      "[2023-12-12 16:40:54,251] {data.py:421} INFO - Loaded densenet169.142_7.csv, 2631 rows\n",
      "[2023-12-12 16:40:54,749] {data.py:421} INFO - Loaded rand_4500.231_7.csv, 973 rows\n",
      "[2023-12-12 16:40:55,215] {data.py:421} INFO - Loaded googlenet.214_7.csv, 903 rows\n",
      "[2023-12-12 16:40:55,661] {data.py:421} INFO - Loaded convnext_tiny.87_7.csv, 839 rows\n",
      "[2023-12-12 16:40:56,461] {data.py:421} INFO - Loaded resnet101.132_7.csv, 1600 rows\n",
      "[2023-12-12 16:40:56,914] {data.py:421} INFO - Loaded shufflenet_v2_x2_0.195_7.csv, 847 rows\n",
      "[2023-12-12 16:40:57,286] {data.py:421} INFO - Loaded rand_500.236_7.csv, 679 rows\n",
      "[2023-12-12 16:40:57,473] {data.py:421} INFO - Loaded squeezenet1_0.191_7.csv, 280 rows\n",
      "[2023-12-12 16:40:57,919] {data.py:421} INFO - Loaded shufflenet_v2_x1_0.144_7.csv, 849 rows\n",
      "[2023-12-12 16:40:58,540] {data.py:421} INFO - Loaded rand_3500.81_7.csv, 1218 rows\n",
      "[2023-12-12 16:40:59,746] {data.py:421} INFO - Loaded efficientnet_v2_s.110_7.csv, 2412 rows\n",
      "[2023-12-12 16:40:59,898] {data.py:421} INFO - Loaded vgg13_bn.57_7.csv, 225 rows\n",
      "[2023-12-12 16:41:00,794] {data.py:421} INFO - Loaded efficientnet_b3.150_7.csv, 1812 rows\n",
      "[2023-12-12 16:41:01,465] {data.py:421} INFO - Loaded rand_1500.227_7.csv, 1309 rows\n",
      "[2023-12-12 16:41:01,861] {data.py:421} INFO - Loaded rand_4500.153_7.csv, 750 rows\n",
      "[2023-12-12 16:41:02,456] {data.py:421} INFO - Loaded rand_0.66_7.csv, 1170 rows\n",
      "[2023-12-12 16:41:02,896] {data.py:421} INFO - Loaded wide_resnet50_2.96_7.csv, 818 rows\n",
      "[2023-12-12 16:41:03,854] {data.py:421} INFO - Loaded densenet121.99_7.csv, 1889 rows\n",
      "[2023-12-12 16:41:04,668] {data.py:421} INFO - Loaded resnet101.76_7.csv, 1600 rows\n",
      "[2023-12-12 16:41:05,659] {data.py:421} INFO - Loaded rand_0.40_7.csv, 1980 rows\n",
      "[2023-12-12 16:41:06,074] {data.py:421} INFO - Loaded mobilenet_v2.210_7.csv, 769 rows\n",
      "[2023-12-12 16:41:06,863] {data.py:421} INFO - Loaded efficientnet_b2.181_7.csv, 1604 rows\n",
      "[2023-12-12 16:41:07,294] {data.py:421} INFO - Loaded wide_resnet50_2.159_7.csv, 818 rows\n",
      "[2023-12-12 16:41:07,706] {data.py:421} INFO - Loaded mobilenet_v2.168_7.csv, 769 rows\n",
      "[2023-12-12 16:41:07,823] {data.py:421} INFO - Loaded vgg13.49_7.csv, 145 rows\n",
      "[2023-12-12 16:41:08,594] {data.py:421} INFO - Loaded rand_4500.137_7.csv, 1561 rows\n",
      "[2023-12-12 16:41:09,712] {data.py:421} INFO - Loaded rand_2500.143_7.csv, 2313 rows\n",
      "[2023-12-12 16:41:10,246] {data.py:421} INFO - Loaded rand_4500.114_7.csv, 1048 rows\n",
      "[2023-12-12 16:41:10,931] {data.py:421} INFO - Loaded rand_4500.39_7.csv, 1327 rows\n",
      "[2023-12-12 16:41:11,482] {data.py:421} INFO - Loaded rand_0.171_7.csv, 1065 rows\n",
      "[2023-12-12 16:41:11,902] {data.py:421} INFO - Loaded mnasnet0_5.91_7.csv, 771 rows\n",
      "[2023-12-12 16:41:12,042] {data.py:421} INFO - Loaded vgg11_bn.160_7.csv, 187 rows\n",
      "[2023-12-12 16:41:13,002] {data.py:421} INFO - Loaded rand_1000.160_7.csv, 1950 rows\n",
      "[2023-12-12 16:41:13,514] {data.py:421} INFO - Loaded rand_1000.225_7.csv, 990 rows\n",
      "[2023-12-12 16:41:13,998] {data.py:421} INFO - Loaded rand_0.210_7.csv, 973 rows\n",
      "[2023-12-12 16:41:15,086] {data.py:421} INFO - Loaded rand_1500.8_7.csv, 2313 rows\n",
      "[2023-12-12 16:41:15,200] {data.py:421} INFO - Loaded vgg13.121_7.csv, 145 rows\n",
      "[2023-12-12 16:41:15,629] {data.py:421} INFO - Loaded shufflenet_v2_x0_5.112_7.csv, 849 rows\n",
      "[2023-12-12 16:41:16,181] {data.py:421} INFO - Loaded efficientnet_b0.139_7.csv, 1129 rows\n",
      "[2023-12-12 16:41:17,272] {data.py:421} INFO - Loaded rand_4500.13_7.csv, 2298 rows\n",
      "[2023-12-12 16:41:18,365] {data.py:421} INFO - Loaded rand_500.126_7.csv, 2296 rows\n",
      "[2023-12-12 16:41:19,669] {data.py:421} INFO - Loaded densenet169.98_7.csv, 2633 rows\n",
      "[2023-12-12 16:41:20,451] {data.py:421} INFO - Loaded efficientnet_b1.163_7.csv, 1602 rows\n",
      "[2023-12-12 16:41:21,079] {data.py:421} INFO - Loaded rand_1000.154_7.csv, 1211 rows\n",
      "[2023-12-12 16:41:22,042] {data.py:421} INFO - Loaded densenet121.120_7.csv, 1889 rows\n",
      "[2023-12-12 16:41:22,616] {data.py:421} INFO - Loaded rand_3500.148_7.csv, 1075 rows\n",
      "[2023-12-12 16:41:23,145] {data.py:421} INFO - Loaded rand_4000.64_7.csv, 992 rows\n",
      "[2023-12-12 16:41:23,306] {data.py:421} INFO - Loaded vgg13_bn.143_7.csv, 223 rows\n",
      "[2023-12-12 16:41:23,754] {data.py:421} INFO - Loaded wide_resnet50_2.70_7.csv, 818 rows\n",
      "[2023-12-12 16:41:24,196] {data.py:421} INFO - Loaded resnet50.175_7.csv, 816 rows\n",
      "[2023-12-12 16:41:25,367] {data.py:421} INFO - Loaded rand_2500.85_7.csv, 2316 rows\n",
      "[2023-12-12 16:41:25,994] {data.py:421} INFO - Loaded rand_2500.2_7.csv, 1219 rows\n",
      "[2023-12-12 16:41:26,916] {data.py:421} INFO - Loaded efficientnet_b3.91_7.csv, 1814 rows\n",
      "[2023-12-12 16:41:27,391] {data.py:421} INFO - Loaded mobilenet_v3_large.197_7.csv, 884 rows\n",
      "[2023-12-12 16:41:28,329] {data.py:421} INFO - Loaded densenet121.148_7.csv, 1887 rows\n",
      "[2023-12-12 16:41:28,748] {data.py:421} INFO - Loaded mnasnet1_0.94_7.csv, 769 rows\n",
      "[2023-12-12 16:41:29,231] {data.py:421} INFO - Loaded googlenet.172_7.csv, 903 rows\n",
      "[2023-12-12 16:41:29,802] {data.py:421} INFO - Loaded rand_4000.214_7.csv, 1110 rows\n",
      "[2023-12-12 16:41:30,261] {data.py:421} INFO - Loaded mobilenet_v3_large.200_7.csv, 886 rows\n",
      "[2023-12-12 16:41:30,672] {data.py:421} INFO - Loaded mnasnet1_3.97_7.csv, 771 rows\n",
      "[2023-12-12 16:41:30,875] {data.py:421} INFO - Loaded resnet18.88_7.csv, 315 rows\n",
      "[2023-12-12 16:41:31,330] {data.py:421} INFO - Loaded shufflenet_v2_x0_5.64_7.csv, 847 rows\n",
      "[2023-12-12 16:41:31,809] {data.py:421} INFO - Loaded mobilenet_v3_large.103_7.csv, 886 rows\n",
      "[2023-12-12 16:41:32,225] {data.py:421} INFO - Loaded mnasnet0_5.138_7.csv, 771 rows\n",
      "[2023-12-12 16:41:32,592] {data.py:421} INFO - Loaded rand_2000.276_7.csv, 681 rows\n",
      "[2023-12-12 16:41:33,165] {data.py:421} INFO - Loaded efficientnet_b0.180_7.csv, 1127 rows\n",
      "[2023-12-12 16:41:33,572] {data.py:421} INFO - Loaded rand_4000.61_7.csv, 731 rows\n",
      "[2023-12-12 16:41:34,027] {data.py:421} INFO - Loaded convnext_tiny.173_7.csv, 839 rows\n",
      "[2023-12-12 16:41:34,627] {data.py:421} INFO - Loaded rand_2500.161_7.csv, 1139 rows\n",
      "[2023-12-12 16:41:35,581] {data.py:421} INFO - Loaded densenet121.108_7.csv, 1889 rows\n",
      "[2023-12-12 16:41:36,149] {data.py:421} INFO - Loaded rand_2000.17_7.csv, 1065 rows\n",
      "[2023-12-12 16:41:36,483] {data.py:421} INFO - Loaded resnet34.130_7.csv, 565 rows\n",
      "[2023-12-12 16:41:37,056] {data.py:421} INFO - Loaded rand_3000.21_7.csv, 1078 rows\n",
      "[2023-12-12 16:41:38,046] {data.py:421} INFO - Loaded rand_500.231_7.csv, 1995 rows\n",
      "[2023-12-12 16:41:38,155] {data.py:421} INFO - Loaded vgg11.55_7.csv, 125 rows\n",
      "[2023-12-12 16:41:39,298] {data.py:421} INFO - Loaded rand_1500.223_7.csv, 2315 rows\n",
      "[2023-12-12 16:41:40,104] {data.py:421} INFO - Loaded efficientnet_b1.117_7.csv, 1604 rows\n",
      "[2023-12-12 16:41:40,906] {data.py:421} INFO - Loaded rand_4500.278_7.csv, 1563 rows\n",
      "[2023-12-12 16:41:41,369] {data.py:421} INFO - Loaded shufflenet_v2_x2_0.129_7.csv, 849 rows\n",
      "[2023-12-12 16:41:41,483] {data.py:421} INFO - Loaded vgg11.158_7.csv, 123 rows\n",
      "[2023-12-12 16:41:42,281] {data.py:421} INFO - Loaded convnext_base.99_7.csv, 1595 rows\n",
      "[2023-12-12 16:41:42,828] {data.py:421} INFO - Loaded rand_1500.24_7.csv, 1041 rows\n",
      "[2023-12-12 16:41:42,946] {data.py:421} INFO - Loaded vgg13.52_7.csv, 145 rows\n",
      "[2023-12-12 16:41:43,403] {data.py:421} INFO - Loaded shufflenet_v2_x1_0.202_7.csv, 849 rows\n",
      "[2023-12-12 16:41:44,354] {data.py:421} INFO - Loaded densenet121.139_7.csv, 1887 rows\n",
      "[2023-12-12 16:41:44,514] {data.py:421} INFO - Loaded vgg13_bn.83_7.csv, 225 rows\n",
      "[2023-12-12 16:41:44,912] {data.py:421} INFO - Loaded mobilenet_v3_small.58_7.csv, 734 rows\n",
      "[2023-12-12 16:41:45,035] {data.py:421} INFO - Loaded vgg13.93_7.csv, 145 rows\n",
      "[2023-12-12 16:41:46,032] {data.py:421} INFO - Loaded rand_1500.21_7.csv, 1962 rows\n",
      "[2023-12-12 16:41:47,218] {data.py:421} INFO - Loaded resnet152.72_7.csv, 2382 rows\n",
      "[2023-12-12 16:41:47,630] {data.py:421} INFO - Loaded mnasnet1_0.126_7.csv, 771 rows\n",
      "[2023-12-12 16:41:48,419] {data.py:421} INFO - Loaded wide_resnet101_2.151_7.csv, 1598 rows\n",
      "[2023-12-12 16:41:48,836] {data.py:421} INFO - Loaded mnasnet0_75.103_7.csv, 771 rows\n",
      "[2023-12-12 16:41:49,945] {data.py:421} INFO - Loaded rand_500.216_7.csv, 2293 rows\n",
      "[2023-12-12 16:41:50,573] {data.py:421} INFO - Loaded rand_0.276_7.csv, 1239 rows\n",
      "[2023-12-12 16:41:51,076] {data.py:421} INFO - Loaded rand_3500.134_7.csv, 974 rows\n",
      "[2023-12-12 16:41:51,226] {data.py:421} INFO - Loaded vgg13_bn.86_7.csv, 223 rows\n",
      "[2023-12-12 16:41:51,741] {data.py:421} INFO - Loaded rand_3500.176_7.csv, 990 rows\n",
      "[2023-12-12 16:41:52,177] {data.py:421} INFO - Loaded shufflenet_v2_x0_5.127_7.csv, 849 rows\n",
      "[2023-12-12 16:41:52,843] {data.py:421} INFO - Loaded rand_3500.264_7.csv, 1335 rows\n",
      "[2023-12-12 16:41:53,651] {data.py:421} INFO - Loaded convnext_small.54_7.csv, 1595 rows\n",
      "[2023-12-12 16:41:53,798] {data.py:421} INFO - Loaded vgg11_bn.166_7.csv, 187 rows\n",
      "[2023-12-12 16:41:54,616] {data.py:421} INFO - Loaded efficientnet_b2.178_7.csv, 1602 rows\n",
      "[2023-12-12 16:41:55,243] {data.py:421} INFO - Loaded rand_0.283_7.csv, 1212 rows\n",
      "[2023-12-12 16:41:55,428] {data.py:421} INFO - Loaded vgg16_bn.148_7.csv, 277 rows\n",
      "[2023-12-12 16:41:55,580] {data.py:421} INFO - Loaded vgg19.58_7.csv, 205 rows\n",
      "[2023-12-12 16:41:56,019] {data.py:421} INFO - Loaded rand_0.224_7.csv, 807 rows\n",
      "[2023-12-12 16:41:56,476] {data.py:421} INFO - Loaded shufflenet_v2_x1_0.199_7.csv, 847 rows\n",
      "[2023-12-12 16:41:56,633] {data.py:421} INFO - Loaded vgg13_bn.125_7.csv, 223 rows\n",
      "[2023-12-12 16:41:57,577] {data.py:421} INFO - Loaded densenet121.145_7.csv, 1887 rows\n",
      "[2023-12-12 16:41:57,968] {data.py:421} INFO - Loaded rand_2000.30_7.csv, 740 rows\n",
      "[2023-12-12 16:41:58,368] {data.py:421} INFO - Loaded mnasnet0_5.207_7.csv, 769 rows\n",
      "[2023-12-12 16:41:58,821] {data.py:421} INFO - Loaded shufflenet_v2_x1_5.91_7.csv, 849 rows\n",
      "[2023-12-12 16:41:59,385] {data.py:421} INFO - Loaded rand_2500.46_7.csv, 1079 rows\n",
      "[2023-12-12 16:42:00,339] {data.py:421} INFO - Loaded rand_0.133_7.csv, 1950 rows\n",
      "[2023-12-12 16:42:01,774] {data.py:421} INFO - Loaded rand_3500.160_7.csv, 2922 rows\n",
      "[2023-12-12 16:42:02,294] {data.py:421} INFO - Loaded rand_3000.12_7.csv, 988 rows\n",
      "[2023-12-12 16:42:02,482] {data.py:421} INFO - Loaded squeezenet1_1.103_7.csv, 280 rows\n",
      "[2023-12-12 16:42:02,950] {data.py:421} INFO - Loaded mobilenet_v3_large.94_7.csv, 886 rows\n",
      "[2023-12-12 16:42:03,919] {data.py:421} INFO - Loaded rand_3500.247_7.csv, 1980 rows\n",
      "[2023-12-12 16:42:04,234] {data.py:421} INFO - Loaded resnet34.94_7.csv, 563 rows\n",
      "[2023-12-12 16:42:05,161] {data.py:421} INFO - Loaded densenet121.142_7.csv, 1887 rows\n",
      "[2023-12-12 16:42:06,281] {data.py:421} INFO - Loaded rand_1500.80_7.csv, 2318 rows\n",
      "[2023-12-12 16:42:07,406] {data.py:421} INFO - Loaded rand_1000.246_7.csv, 2316 rows\n",
      "[2023-12-12 16:42:07,848] {data.py:421} INFO - Loaded shufflenet_v2_x1_0.230_7.csv, 847 rows\n",
      "[2023-12-12 16:42:08,830] {data.py:421} INFO - Loaded rand_500.10_7.csv, 1996 rows\n",
      "[2023-12-12 16:42:09,364] {data.py:421} INFO - Loaded rand_2500.33_7.csv, 1045 rows\n",
      "[2023-12-12 16:42:10,248] {data.py:421} INFO - Loaded efficientnet_b3.99_7.csv, 1812 rows\n",
      "[2023-12-12 16:42:11,218] {data.py:421} INFO - Loaded rand_4500.19_7.csv, 1987 rows\n",
      "[2023-12-12 16:42:12,465] {data.py:421} INFO - Loaded rand_500.220_7.csv, 2608 rows\n",
      "[2023-12-12 16:42:13,033] {data.py:421} INFO - Loaded efficientnet_b0.130_7.csv, 1129 rows\n",
      "[2023-12-12 16:42:13,811] {data.py:421} INFO - Loaded rand_1500.109_7.csv, 1564 rows\n",
      "[2023-12-12 16:42:14,250] {data.py:421} INFO - Loaded shufflenet_v2_x1_0.153_7.csv, 849 rows\n",
      "[2023-12-12 16:42:15,432] {data.py:421} INFO - Loaded efficientnet_v2_s.93_7.csv, 2410 rows\n",
      "[2023-12-12 16:42:15,864] {data.py:421} INFO - Loaded wide_resnet50_2.182_7.csv, 816 rows\n",
      "[2023-12-12 16:42:16,661] {data.py:421} INFO - Loaded efficientnet_b2.99_7.csv, 1604 rows\n",
      "[2023-12-12 16:42:16,771] {data.py:421} INFO - Loaded vgg11.108_7.csv, 125 rows\n",
      "[2023-12-12 16:42:17,390] {data.py:421} INFO - Loaded rand_3500.53_7.csv, 1217 rows\n",
      "[2023-12-12 16:42:18,527] {data.py:421} INFO - Loaded resnet152.136_7.csv, 2380 rows\n",
      "[2023-12-12 16:42:18,973] {data.py:421} INFO - Loaded shufflenet_v2_x1_5.211_7.csv, 849 rows\n",
      "[2023-12-12 16:42:19,414] {data.py:421} INFO - Loaded shufflenet_v2_x1_0.196_7.csv, 847 rows\n",
      "[2023-12-12 16:42:19,839] {data.py:421} INFO - Loaded wide_resnet50_2.135_7.csv, 818 rows\n",
      "[2023-12-12 16:42:21,088] {data.py:421} INFO - Loaded rand_2500.57_7.csv, 2609 rows\n",
      "[2023-12-12 16:42:21,527] {data.py:421} INFO - Loaded resnet50.99_7.csv, 818 rows\n",
      "[2023-12-12 16:42:22,298] {data.py:421} INFO - Loaded wide_resnet101_2.123_7.csv, 1600 rows\n",
      "[2023-12-12 16:42:22,474] {data.py:421} INFO - Loaded squeezenet1_1.82_7.csv, 280 rows\n",
      "[2023-12-12 16:42:22,891] {data.py:421} INFO - Loaded mnasnet0_5.240_7.csv, 769 rows\n",
      "[2023-12-12 16:42:23,282] {data.py:421} INFO - Loaded mobilenet_v3_small.198_7.csv, 732 rows\n",
      "[2023-12-12 16:42:23,700] {data.py:421} INFO - Loaded mobilenet_v2.126_7.csv, 771 rows\n",
      "[2023-12-12 16:42:24,157] {data.py:421} INFO - Loaded shufflenet_v2_x0_5.191_7.csv, 849 rows\n",
      "[2023-12-12 16:42:24,585] {data.py:421} INFO - Loaded resnet50.90_7.csv, 818 rows\n",
      "[2023-12-12 16:42:25,125] {data.py:421} INFO - Loaded rand_4500.241_7.csv, 1070 rows\n",
      "[2023-12-12 16:42:25,324] {data.py:421} INFO - Loaded resnet18.234_7.csv, 315 rows\n",
      "[2023-12-12 16:42:25,736] {data.py:421} INFO - Loaded mnasnet0_75.195_7.csv, 771 rows\n",
      "[2023-12-12 16:42:25,869] {data.py:421} INFO - Loaded vgg11_bn.90_7.csv, 187 rows\n",
      "[2023-12-12 16:42:26,769] {data.py:421} INFO - Loaded efficientnet_b3.162_7.csv, 1812 rows\n",
      "[2023-12-12 16:42:27,356] {data.py:421} INFO - Loaded efficientnet_b0.203_7.csv, 1127 rows\n",
      "[2023-12-12 16:42:28,785] {data.py:421} INFO - Loaded rand_1000.248_7.csv, 2897 rows\n",
      "[2023-12-12 16:42:29,942] {data.py:421} INFO - Loaded rand_1000.4_7.csv, 2316 rows\n",
      "[2023-12-12 16:42:30,387] {data.py:421} INFO - Loaded convnext_tiny.143_7.csv, 837 rows\n",
      "[2023-12-12 16:42:31,210] {data.py:421} INFO - Loaded convnext_large.112_7.csv, 1593 rows\n",
      "[2023-12-12 16:42:31,371] {data.py:421} INFO - Loaded vgg13_bn.131_7.csv, 225 rows\n",
      "[2023-12-12 16:42:31,840] {data.py:421} INFO - Loaded shufflenet_v2_x2_0.85_7.csv, 849 rows\n",
      "[2023-12-12 16:42:32,157] {data.py:421} INFO - Loaded resnet34.150_7.csv, 563 rows\n",
      "[2023-12-12 16:42:32,979] {data.py:421} INFO - Loaded wide_resnet101_2.75_7.csv, 1600 rows\n",
      "[2023-12-12 16:42:33,619] {data.py:421} INFO - Loaded rand_0.201_7.csv, 1222 rows\n",
      "[2023-12-12 16:42:33,997] {data.py:421} INFO - Loaded rand_500.52_7.csv, 683 rows\n",
      "[2023-12-12 16:42:34,406] {data.py:421} INFO - Loaded mobilenet_v3_small.151_7.csv, 736 rows\n",
      "[2023-12-12 16:42:34,941] {data.py:421} INFO - Loaded rand_4000.63_7.csv, 991 rows\n",
      "[2023-12-12 16:42:35,544] {data.py:421} INFO - Loaded efficientnet_b0.58_7.csv, 1129 rows\n",
      "[2023-12-12 16:42:36,336] {data.py:421} INFO - Loaded efficientnet_b2.73_7.csv, 1604 rows\n",
      "[2023-12-12 16:42:37,155] {data.py:421} INFO - Loaded efficientnet_b1.197_7.csv, 1602 rows\n",
      "[2023-12-12 16:42:37,600] {data.py:421} INFO - Loaded wide_resnet50_2.67_7.csv, 818 rows\n",
      "[2023-12-12 16:42:38,722] {data.py:421} INFO - Loaded rand_2000.202_7.csv, 2299 rows\n",
      "[2023-12-12 16:42:39,705] {data.py:421} INFO - Loaded rand_2000.116_7.csv, 1974 rows\n",
      "[2023-12-12 16:42:40,067] {data.py:421} INFO - Loaded rand_2500.120_7.csv, 683 rows\n",
      "[2023-12-12 16:42:40,874] {data.py:421} INFO - Loaded resnet101.169_7.csv, 1598 rows\n",
      "[2023-12-12 16:42:41,783] {data.py:421} INFO - Loaded efficientnet_b3.130_7.csv, 1814 rows\n",
      "[2023-12-12 16:42:42,565] {data.py:421} INFO - Loaded efficientnet_b1.67_7.csv, 1602 rows\n",
      "[2023-12-12 16:42:42,970] {data.py:421} INFO - Loaded mnasnet0_75.112_7.csv, 771 rows\n",
      "[2023-12-12 16:42:43,416] {data.py:421} INFO - Loaded convnext_tiny.165_7.csv, 839 rows\n",
      "[2023-12-12 16:42:43,604] {data.py:421} INFO - Loaded squeezenet1_0.123_7.csv, 280 rows\n",
      "[2023-12-12 16:42:44,867] {data.py:421} INFO - Loaded rand_2500.142_7.csv, 2551 rows\n",
      "[2023-12-12 16:42:46,069] {data.py:421} INFO - Loaded efficientnet_v2_s.113_7.csv, 2412 rows\n",
      "[2023-12-12 16:42:46,484] {data.py:421} INFO - Loaded mnasnet0_5.112_7.csv, 771 rows\n",
      "[2023-12-12 16:42:46,808] {data.py:421} INFO - Loaded resnet34.88_7.csv, 563 rows\n",
      "[2023-12-12 16:42:47,267] {data.py:421} INFO - Loaded shufflenet_v2_x2_0.213_7.csv, 847 rows\n",
      "[2023-12-12 16:42:48,520] {data.py:421} INFO - Loaded rand_1000.195_7.csv, 2557 rows\n",
      "[2023-12-12 16:42:49,084] {data.py:421} INFO - Loaded rand_1000.191_7.csv, 1079 rows\n",
      "[2023-12-12 16:42:49,521] {data.py:421} INFO - Loaded wide_resnet50_2.58_7.csv, 818 rows\n",
      "[2023-12-12 16:42:49,929] {data.py:421} INFO - Loaded mobilenet_v2.135_7.csv, 771 rows\n",
      "[2023-12-12 16:42:50,370] {data.py:421} INFO - Loaded shufflenet_v2_x2_0.117_7.csv, 849 rows\n",
      "[2023-12-12 16:42:50,991] {data.py:421} INFO - Loaded rand_0.234_7.csv, 1180 rows\n",
      "[2023-12-12 16:42:51,640] {data.py:421} INFO - Loaded rand_2000.272_7.csv, 1232 rows\n",
      "[2023-12-12 16:42:52,063] {data.py:421} INFO - Loaded mnasnet1_0.160_7.csv, 769 rows\n",
      "[2023-12-12 16:42:52,247] {data.py:421} INFO - Loaded squeezenet1_0.143_7.csv, 280 rows\n",
      "[2023-12-12 16:42:53,412] {data.py:421} INFO - Loaded rand_3500.229_7.csv, 2316 rows\n",
      "[2023-12-12 16:42:54,069] {data.py:421} INFO - Loaded rand_4500.171_7.csv, 1303 rows\n",
      "[2023-12-12 16:42:54,479] {data.py:421} INFO - Loaded rand_2000.76_7.csv, 751 rows\n",
      "[2023-12-12 16:42:55,271] {data.py:421} INFO - Loaded wide_resnet101_2.84_7.csv, 1600 rows\n",
      "[2023-12-12 16:42:56,488] {data.py:421} INFO - Loaded efficientnet_v2_s.134_7.csv, 2412 rows\n",
      "[2023-12-12 16:42:57,418] {data.py:421} INFO - Loaded efficientnet_b3.159_7.csv, 1814 rows\n",
      "[2023-12-12 16:42:58,548] {data.py:421} INFO - Loaded rand_2000.259_7.csv, 2296 rows\n",
      "[2023-12-12 16:42:59,698] {data.py:421} INFO - Loaded rand_4000.162_7.csv, 2315 rows\n",
      "[2023-12-12 16:43:00,655] {data.py:421} INFO - Loaded rand_1000.88_7.csv, 1979 rows\n",
      "[2023-12-12 16:43:01,113] {data.py:421} INFO - Loaded shufflenet_v2_x0_5.180_7.csv, 849 rows\n",
      "[2023-12-12 16:43:01,699] {data.py:421} INFO - Loaded efficientnet_b0.93_7.csv, 1129 rows\n",
      "[2023-12-12 16:43:02,947] {data.py:421} INFO - Loaded rand_4500.139_7.csv, 2593 rows\n",
      "[2023-12-12 16:43:04,068] {data.py:421} INFO - Loaded efficientnet_b4.93_7.csv, 2234 rows\n",
      "[2023-12-12 16:43:04,608] {data.py:421} INFO - Loaded rand_0.281_7.csv, 1034 rows\n",
      "[2023-12-12 16:43:05,165] {data.py:421} INFO - Loaded rand_4500.294_7.csv, 1058 rows\n",
      "[2023-12-12 16:43:05,802] {data.py:421} INFO - Loaded rand_3000.33_7.csv, 1221 rows\n",
      "[2023-12-12 16:43:06,252] {data.py:421} INFO - Loaded shufflenet_v2_x1_0.212_7.csv, 847 rows\n",
      "[2023-12-12 16:43:06,622] {data.py:421} INFO - Loaded rand_2500.254_7.csv, 680 rows\n",
      "[2023-12-12 16:43:07,074] {data.py:421} INFO - Loaded convnext_tiny.153_7.csv, 837 rows\n",
      "[2023-12-12 16:43:07,276] {data.py:421} INFO - Loaded resnet18.94_7.csv, 315 rows\n",
      "[2023-12-12 16:43:07,383] {data.py:421} INFO - Loaded vgg11.182_7.csv, 125 rows\n",
      "[2023-12-12 16:43:08,513] {data.py:421} INFO - Loaded rand_3000.141_7.csv, 2318 rows\n",
      "[2023-12-12 16:43:09,600] {data.py:421} INFO - Loaded efficientnet_b4.163_7.csv, 2232 rows\n",
      "[2023-12-12 16:43:10,171] {data.py:421} INFO - Loaded efficientnet_b0.200_7.csv, 1127 rows\n",
      "[2023-12-12 16:43:10,560] {data.py:421} INFO - Loaded rand_3500.157_7.csv, 734 rows\n",
      "[2023-12-12 16:43:10,767] {data.py:421} INFO - Loaded vgg19_bn.48_7.csv, 333 rows\n",
      "[2023-12-12 16:43:11,175] {data.py:421} INFO - Loaded rand_0.102_7.csv, 788 rows\n",
      "[2023-12-12 16:43:11,939] {data.py:421} INFO - Loaded rand_0.98_7.csv, 1567 rows\n",
      "[2023-12-12 16:43:12,048] {data.py:421} INFO - Loaded vgg11.170_7.csv, 123 rows\n",
      "[2023-12-12 16:43:12,433] {data.py:421} INFO - Loaded rand_4000.51_7.csv, 681 rows\n",
      "[2023-12-12 16:43:12,894] {data.py:421} INFO - Loaded shufflenet_v2_x2_0.111_7.csv, 849 rows\n",
      "[2023-12-12 16:43:13,005] {data.py:421} INFO - Loaded vgg11.185_7.csv, 123 rows\n",
      "[2023-12-12 16:43:13,664] {data.py:421} INFO - Loaded rand_2500.264_7.csv, 1264 rows\n",
      "[2023-12-12 16:43:14,286] {data.py:421} INFO - Loaded rand_1500.230_7.csv, 1196 rows\n"
     ]
    }
   ],
   "source": [
    "eval_graphs = load_graphs(dataset_environment_str,\n",
    "                            train_or_eval=\"train\",\n",
    "                            use_dummy=dummy,\n",
    "                            max_row=200_000)\n",
    "train_graphs = load_graphs(dataset_environment_str,\n",
    "                            train_or_eval=\"train\",\n",
    "                            use_dummy=dummy,\n",
    "                            max_row=1_000_000)"
   ]
  },
  {
   "cell_type": "code",
   "execution_count": null,
   "metadata": {},
   "outputs": [
    {
     "data": {
      "text/plain": [
       "(162, 819)"
      ]
     },
     "execution_count": 60,
     "metadata": {},
     "output_type": "execute_result"
    }
   ],
   "source": [
    "len(eval_graphs), len(train_graphs)"
   ]
  },
  {
   "cell_type": "code",
   "execution_count": null,
   "metadata": {},
   "outputs": [],
   "source": [
    "\n",
    "def init_dataset(graphs: List[Graph]) -> MDataset:\n",
    "    op_X, op_Y = list(), list()\n",
    "    data_idx_to_graph = dict()\n",
    "    counter = iter(count())\n",
    "    op_feature_len = 0\n",
    "\n",
    "    def node_features(g: Graph) -> Tuple[\n",
    "        List[Dict], List[Dict]]:\n",
    "        X, Y = list(), list()\n",
    "        for i, node in enumerate(g.nodes):\n",
    "            x_op_feature = node.op.to_feature_array(\"complex\")\n",
    "            x = {\n",
    "                \"x_op_feature\": x_op_feature\n",
    "            }\n",
    "            node_durations = (node.duration,node.gap)\n",
    "            x[\"x_id\"] = i\n",
    "            x[\"x_graph_id\"] = g.ID\n",
    "            y = {\"y_node_durations\": node_durations, \"y_id\": i, \"y_graph_id\": g.ID}\n",
    "            X.append(x)\n",
    "            Y.append(y)\n",
    "        return X, Y\n",
    "\n",
    "    for graph in graphs:\n",
    "        X, Y = node_features(graph)\n",
    "        for x in X:\n",
    "            # if len(x['x_op_feature'])!=37:\n",
    "            #     print(x['x_graph_id'], len(x['x_op_feature']))\n",
    "            op_feature_len = max(op_feature_len, len(x[\"x_op_feature\"]))\n",
    "        op_X.extend(X)\n",
    "        op_Y.extend(Y)\n",
    "        for i in range(len(X)):\n",
    "            data_idx_to_graph[next(counter)] = graph\n",
    "    for x in op_X:\n",
    "        v = x[\"x_op_feature\"]\n",
    "        x[\"x_op_feature\"] = np.pad(v, (0, op_feature_len - v.size))\n",
    "\n",
    "    dataset = MDataset(op_X, op_Y)\n",
    "    return dataset\n",
    "\n",
    "train_ds = init_dataset(train_graphs)\n",
    "eval_ds = init_dataset(eval_graphs)"
   ]
  },
  {
   "cell_type": "code",
   "execution_count": null,
   "metadata": {},
   "outputs": [],
   "source": [
    "def get_scalers(ds):\n",
    "    scaler_cls = normalizer_cls\n",
    "    op_feature_array = list()\n",
    "    y_array = list()\n",
    "\n",
    "    for data in ds:\n",
    "        feature, label = data\n",
    "        op_feature_array.append(feature[\"x_op_feature\"])\n",
    "        y_array.append(label[\"y_node_durations\"])\n",
    "\n",
    "    op_feature_array = np.array(op_feature_array)\n",
    "    y_array = np.array(y_array)\n",
    "\n",
    "    op_feature_scaler = scaler_cls()\n",
    "    op_feature_scaler.fit(op_feature_array)\n",
    "\n",
    "    y_scaler = scaler_cls()\n",
    "    y_scaler.fit(y_array)\n",
    "    return op_feature_scaler, y_scaler\n",
    "\n",
    "scalers = get_scalers(train_ds)\n",
    "op_feature_scaler, y_scaler = scalers"
   ]
  },
  {
   "cell_type": "code",
   "execution_count": null,
   "metadata": {},
   "outputs": [],
   "source": [
    "\n",
    "def preprocess_dataset(ds: MDataset) -> MDataset:\n",
    "    op_feature_array = list()\n",
    "    y_array = list()\n",
    "\n",
    "    for data in ds:\n",
    "        feature, label = data\n",
    "        op_feature_array.append(feature[\"x_op_feature\"])\n",
    "        y_array.append(label[\"y_node_durations\"])\n",
    "\n",
    "    op_feature_array = np.array(op_feature_array, dtype=np.float32)\n",
    "    y_array = np.array(y_array, dtype=np.float32)\n",
    "\n",
    "\n",
    "    op_feature_array = op_feature_scaler.transform(op_feature_array)\n",
    "    y_array = y_scaler.transform(y_array)\n",
    "\n",
    "    processed_features = list()\n",
    "    processed_labels = list()\n",
    "    for i, data in enumerate(ds):\n",
    "        feature, label = data\n",
    "        processed_features.append({\n",
    "            \"x_id\": feature[\"x_id\"],\n",
    "            \"x_graph_id\": feature[\"x_graph_id\"],\n",
    "            # 运行时再传到cuda那边\n",
    "            # \"x_op_feature\": torch.Tensor(op_feature_array[i]).to(device=self.conf.device)\n",
    "            \"x_op_feature\": torch.Tensor(op_feature_array[i])\n",
    "        })\n",
    "        processed_labels.append({\n",
    "            \"y_id\": label[\"y_id\"],\n",
    "            \"y_graph_id\": label[\"y_graph_id\"],\n",
    "            # \"y_node_durations\": torch.Tensor(y_array[i]).to(device=self.conf.device)\n",
    "            \"y_node_durations\": torch.Tensor(y_array[i])\n",
    "        })\n",
    "\n",
    "    ds = MDataset(processed_features, processed_labels)\n",
    "    return ds\n",
    "\n",
    "preprocessed_train_ds = preprocess_dataset(train_ds)\n",
    "preprocessed_eval_ds = preprocess_dataset(eval_ds)"
   ]
  },
  {
   "cell_type": "code",
   "execution_count": null,
   "metadata": {},
   "outputs": [],
   "source": [
    "save_dataset_pkl(preprocessed_train_ds, conf.dataset_environment, \"OpBased\", 'train',\n",
    "                         conf.dataset_normalization)\n",
    "save_dataset_pkl(preprocessed_eval_ds, conf.dataset_environment, \"OpBased\", 'eval',\n",
    "                         conf.dataset_normalization)\n",
    "save_scalers_pkl(scalers, conf.dataset_environment, \"OpBased\", 'train',\n",
    "                         conf.dataset_normalization)"
   ]
  },
  {
   "cell_type": "code",
   "execution_count": null,
   "metadata": {},
   "outputs": [
    {
     "name": "stdout",
     "output_type": "stream",
     "text": [
      "Loading dataset T4_CPU100 OpBased train Standard\n",
      "Loading dataset T4_CPU100 OpBased eval Standard\n",
      "Loading scalers T4_CPU100 OpBased train, Standard\n"
     ]
    }
   ],
   "source": [
    "preprocessed_train_ds = load_dataset_pkl(conf.dataset_environment, \"OpBased\", 'train', \n",
    "                                         conf.dataset_normalization)\n",
    "preprocessed_eval_ds = load_dataset_pkl(conf.dataset_environment, \"OpBased\", 'eval',\n",
    "                                        conf.dataset_normalization)\n",
    "scalers = load_scalers_pkl(conf.dataset_environment, \"OpBased\", 'train',\n",
    "                           conf.dataset_normalization)\n"
   ]
  },
  {
   "cell_type": "code",
   "execution_count": null,
   "metadata": {},
   "outputs": [],
   "source": [
    "op_feature_scaler, y_scaler = scalers"
   ]
  },
  {
   "cell_type": "code",
   "execution_count": null,
   "metadata": {},
   "outputs": [],
   "source": [
    "def compute_evaluate_metrics(input_batches, output_batches, eval_loss) -> Dict[str, float]:\n",
    "    batches_len = len(input_batches)\n",
    "\n",
    "    def compute_op_durations(_logits):\n",
    "        transformed: np.ndarray = y_scaler.inverse_transform(_logits)\n",
    "        durations = transformed.sum(axis=1)\n",
    "        return durations\n",
    "\n",
    "    graph_id_to_duration_pred = defaultdict(int)\n",
    "    for idx in range(batches_len):\n",
    "        inputs = input_batches[idx]\n",
    "        logits = output_batches[idx]\n",
    "        logits = nested_detach(logits)\n",
    "        logits = logits.cpu().numpy()\n",
    "        graph_ids = inputs[\"x_graph_id\"]\n",
    "        op_durations = compute_op_durations(logits)\n",
    "        for i, graph_id in enumerate(graph_ids):\n",
    "            op_duration = op_durations[i].item()\n",
    "            graph_id_to_duration_pred[graph_id] += op_duration\n",
    "    duration_metrics = MetricUtil.compute_duration_metrics(eval_graphs, graph_id_to_duration_pred)\n",
    "    return {\"eval_loss\": eval_loss, **duration_metrics}\n"
   ]
  },
  {
   "cell_type": "code",
   "execution_count": null,
   "metadata": {},
   "outputs": [],
   "source": [
    "\n",
    "def to_device(conf, features, labels):\n",
    "    features['x_op_feature'] = features[\"x_op_feature\"].to(device=conf.device)\n",
    "    labels['y_node_durations'] = labels['y_node_durations'].to(device=conf.device)\n",
    "    return features, labels"
   ]
  },
  {
   "cell_type": "code",
   "execution_count": null,
   "metadata": {},
   "outputs": [],
   "source": [
    "class MLPModel(MModule):\n",
    "\n",
    "    @staticmethod\n",
    "    def dimension_len(t):\n",
    "        return t[-1] - t[0]\n",
    "    \n",
    "    @staticmethod\n",
    "    def grid_search_model_params() -> Dict[str, List[Any]]:\n",
    "        return {\n",
    "            \"learning_rate\": [1e-3, 1e-4, 1e-5],\n",
    "            'batch_size': [16, 32, 64],\n",
    "            'epochs': [5, 10, 20, 30],\n",
    "            'optimizer': ['Adam', 'SGD'],\n",
    "        }\n",
    "\n",
    "    def __init__(self, input_dimension, output_dimension, **kwargs):\n",
    "        super().__init__(**kwargs)\n",
    "        self.input = torch.nn.Linear(input_dimension, 256)\n",
    "        self.relu1 = ReLU()\n",
    "        self.dense1 = torch.nn.Linear(256, 128)\n",
    "        self.relu2 = ReLU()\n",
    "        self.dense2 = torch.nn.Linear(128, 64)\n",
    "        self.relu3 = ReLU()\n",
    "        self.output = torch.nn.Linear(64, output_dimension)\n",
    "        self.loss_fn = L1Loss()\n",
    "\n",
    "    def forward(self, X):\n",
    "        X = X[\"x_op_feature\"]\n",
    "        X = self.input(X)\n",
    "        X = self.relu1(X)\n",
    "        X = self.dense1(X)\n",
    "        X = self.relu2(X)\n",
    "        X = self.dense2(X)\n",
    "        X = self.relu3(X)\n",
    "        Y = self.output(X)\n",
    "        return Y\n",
    "\n",
    "    def compute_loss(self, outputs, Y):\n",
    "        node_durations = Y[\"y_node_durations\"]\n",
    "        loss = self.loss_fn(outputs, node_durations)\n",
    "        return loss\n",
    "\n",
    "\n",
    "def init_MLP_model() -> MModule | Any:\n",
    "    sample_preprocessed_ds = preprocessed_train_ds\n",
    "    sample_x_dict = sample_preprocessed_ds.features[0]\n",
    "    sample_y_dict = sample_preprocessed_ds.labels[0]\n",
    "    return MLPModel(input_dimension=len(sample_x_dict[\"x_op_feature\"]),\n",
    "                    output_dimension=len(sample_y_dict[\"y_node_durations\"]))"
   ]
  },
  {
   "cell_type": "code",
   "execution_count": null,
   "metadata": {},
   "outputs": [],
   "source": [
    "\n",
    "class PerfNetModel(MModule):\n",
    "    @staticmethod\n",
    "    def dimension_len(t):\n",
    "        return t[-1] - t[0]\n",
    "    \n",
    "    @staticmethod\n",
    "    def grid_search_model_params() -> Dict[str, List[Any]]:\n",
    "        return {\n",
    "            \"learning_rate\": [1e-3, 1e-4, 1e-5],\n",
    "            'batch_size': [16, 32, 64],\n",
    "            'epochs': [5, 10, 20, 30],\n",
    "            'optimizer': ['Adam', 'SGD'],\n",
    "        }\n",
    "\n",
    "    def __init__(self, output_dimension, **kwargs):\n",
    "        super().__init__(**kwargs)\n",
    "        self.conv1 = torch.nn.LazyConv1d(out_channels=32, kernel_size=3, bias=True, padding_mode='zeros')\n",
    "        self.conv2 = torch.nn.LazyConv1d(out_channels=128, kernel_size=2, bias=True, padding_mode='zeros')\n",
    "        self.flatten = torch.nn.Flatten()\n",
    "        self.dense1 = torch.nn.LazyLinear(32)\n",
    "        self.relu1 = ReLU()\n",
    "        self.dense2 = torch.nn.LazyLinear(64)\n",
    "        self.relu2 = ReLU()\n",
    "        self.dense3 = torch.nn.LazyLinear(128)\n",
    "        self.relu3 = ReLU()\n",
    "        self.dense4 = torch.nn.LazyLinear(256)\n",
    "        self.relu4 = ReLU()\n",
    "        self.dropout = torch.nn.Dropout(p=0.3)\n",
    "        self.output = torch.nn.LazyLinear(output_dimension)\n",
    "        self.loss_fn = L1Loss()\n",
    "\n",
    "    def forward(self, X):\n",
    "        X = X[\"x_op_feature\"]\n",
    "        X = torch.unsqueeze(X, dim=1)\n",
    "        X = self.conv1(X)\n",
    "        X = self.conv2(X)\n",
    "        X = self.flatten(X)\n",
    "        X = self.dense1(X)\n",
    "        X = self.relu1(X)\n",
    "        X = self.dense2(X)\n",
    "        X = self.relu2(X)\n",
    "        X = self.dense3(X)\n",
    "        X = self.relu3(X)\n",
    "        X = self.dense4(X)\n",
    "        X = self.relu4(X)\n",
    "        X = self.dropout(X)\n",
    "        Y = self.output(X)\n",
    "        return Y\n",
    "\n",
    "    def compute_loss(self, outputs, Y):\n",
    "        node_durations = Y[\"y_node_durations\"]\n",
    "        loss = self.loss_fn(outputs, node_durations)\n",
    "        return loss\n",
    "\n",
    "\n",
    "def init_PerfNet_model() -> MModule | Any:\n",
    "    sample_y_dict = preprocessed_train_ds.labels[0]\n",
    "    return PerfNetModel(output_dimension=len(sample_y_dict[\"y_node_durations\"]))\n",
    "\n"
   ]
  },
  {
   "cell_type": "code",
   "execution_count": null,
   "metadata": {},
   "outputs": [
    {
     "name": "stderr",
     "output_type": "stream",
     "text": [
      "/root/anaconda3/envs/DLT-pref-model/lib/python3.10/site-packages/torch/nn/modules/lazy.py:180: UserWarning: Lazy modules are a new feature under heavy development so changes to the API or functionality can happen at any moment.\n",
      "  warnings.warn('Lazy modules are a new feature under heavy development '\n"
     ]
    }
   ],
   "source": [
    "init_model_funcs = {\n",
    "    ModelType.MLP.name: init_MLP_model,\n",
    "    ModelType.PerfNet.name: init_PerfNet_model,\n",
    "}\n",
    "\n",
    "\n",
    "init_model = init_model_funcs[model_type.name]\n",
    "\n",
    "model = init_model()\n",
    "model = model.to(conf.device)\n"
   ]
  },
  {
   "cell_type": "code",
   "execution_count": null,
   "metadata": {},
   "outputs": [
    {
     "name": "stdout",
     "output_type": "stream",
     "text": [
      "[2023-12-12 16:50:25,793] {executor.py:120} INFO - ModelType.PerfNet start single training.\n",
      "[2023-12-12 16:50:25,794] {executor.py:122} INFO - ModelType.PerfNet training epoch 0\n"
     ]
    },
    {
     "name": "stderr",
     "output_type": "stream",
     "text": [
      "  0%|          | 0/31250 [00:00<?, ?it/s]"
     ]
    },
    {
     "name": "stdout",
     "output_type": "stream",
     "text": [
      "[2023-12-12 16:50:25,868] {executor.py:139} INFO - ModelType.PerfNet trained for 0.075893648 seconds.\n",
      "[2023-12-12 16:50:25,869] {executor.py:140} INFO - ModelType.PerfNet eval at step 0.\n",
      "[2023-12-12 16:50:32,952] {executor.py:144} INFO - ModelType.PerfNet train loss: 0.24765218794345856, eval metrics: {'eval_loss': 0.23499433337926864, 'MRE': 1.5643320834978949, 'MAE': 0.9854221767873896, 'RMSE': 824.0728260985393}\n",
      "[2023-12-12 16:50:32,953] {executor.py:174} INFO - Saving model at step 0 with loss 0.24765218794345856,save path: /root/guohao/repos/DLT-perf-model/notebooks/ckpts/PerfNet/single_train2023-12-12_16-50-25\n"
     ]
    },
    {
     "name": "stderr",
     "output_type": "stream",
     "text": [
      " 16%|█▌        | 4999/31250 [00:27<01:45, 247.66it/s]"
     ]
    },
    {
     "name": "stdout",
     "output_type": "stream",
     "text": [
      "[2023-12-12 16:50:52,828] {executor.py:139} INFO - ModelType.PerfNet trained for 27.035380995 seconds.\n",
      "[2023-12-12 16:50:52,829] {executor.py:140} INFO - ModelType.PerfNet eval at step 5000.\n",
      "[2023-12-12 16:50:59,929] {executor.py:144} INFO - ModelType.PerfNet train loss: 0.08046117424964905, eval metrics: {'eval_loss': 0.09362972578171641, 'MRE': 0.2144165665478764, 'MAE': 0.3985710214066571, 'RMSE': 670.0743130074453}\n",
      "[2023-12-12 16:50:59,929] {executor.py:174} INFO - Saving model at step 5000 with loss 0.08046117424964905,save path: /root/guohao/repos/DLT-perf-model/notebooks/ckpts/PerfNet/single_train2023-12-12_16-50-25\n"
     ]
    },
    {
     "name": "stderr",
     "output_type": "stream",
     "text": [
      " 32%|███▏      | 9989/31250 [00:55<01:23, 253.54it/s]"
     ]
    },
    {
     "name": "stdout",
     "output_type": "stream",
     "text": [
      "[2023-12-12 16:51:21,387] {executor.py:139} INFO - ModelType.PerfNet trained for 55.594126773 seconds.\n",
      "[2023-12-12 16:51:21,387] {executor.py:140} INFO - ModelType.PerfNet eval at step 10000.\n",
      "[2023-12-12 16:51:28,317] {executor.py:144} INFO - ModelType.PerfNet train loss: 0.09459707140922546, eval metrics: {'eval_loss': 0.10349799337226898, 'MRE': 0.43354166219589124, 'MAE': 0.5921785233723043, 'RMSE': 740.005416730853}\n",
      "[2023-12-12 16:51:28,319] {executor.py:174} INFO - Saving model at step 10000 with loss 0.09459707140922546,save path: /root/guohao/repos/DLT-perf-model/notebooks/ckpts/PerfNet/single_train2023-12-12_16-50-25\n"
     ]
    },
    {
     "name": "stderr",
     "output_type": "stream",
     "text": [
      " 48%|████▊     | 14996/31250 [01:21<01:02, 258.54it/s]"
     ]
    },
    {
     "name": "stdout",
     "output_type": "stream",
     "text": [
      "[2023-12-12 16:51:47,544] {executor.py:139} INFO - ModelType.PerfNet trained for 81.751450503 seconds.\n",
      "[2023-12-12 16:51:47,545] {executor.py:140} INFO - ModelType.PerfNet eval at step 15000.\n",
      "[2023-12-12 16:51:54,307] {executor.py:144} INFO - ModelType.PerfNet train loss: 0.07038475573062897, eval metrics: {'eval_loss': 0.08596536442019045, 'MRE': 0.19996540714953462, 'MAE': 0.40269128872919857, 'RMSE': 679.6269242426564}\n",
      "[2023-12-12 16:51:54,308] {executor.py:174} INFO - Saving model at step 15000 with loss 0.07038475573062897,save path: /root/guohao/repos/DLT-perf-model/notebooks/ckpts/PerfNet/single_train2023-12-12_16-50-25\n"
     ]
    },
    {
     "name": "stderr",
     "output_type": "stream",
     "text": [
      " 64%|██████▍   | 19987/31250 [01:49<00:54, 205.10it/s]"
     ]
    },
    {
     "name": "stdout",
     "output_type": "stream",
     "text": [
      "[2023-12-12 16:52:15,433] {executor.py:139} INFO - ModelType.PerfNet trained for 109.640788313 seconds.\n",
      "[2023-12-12 16:52:15,434] {executor.py:140} INFO - ModelType.PerfNet eval at step 20000.\n",
      "[2023-12-12 16:52:23,643] {executor.py:144} INFO - ModelType.PerfNet train loss: 0.05925125256180763, eval metrics: {'eval_loss': 0.08264907652743161, 'MRE': 0.187045304834476, 'MAE': 0.37245091041538947, 'RMSE': 669.4436985944368}\n",
      "[2023-12-12 16:52:23,644] {executor.py:174} INFO - Saving model at step 20000 with loss 0.05925125256180763,save path: /root/guohao/repos/DLT-perf-model/notebooks/ckpts/PerfNet/single_train2023-12-12_16-50-25\n"
     ]
    },
    {
     "name": "stderr",
     "output_type": "stream",
     "text": [
      " 80%|███████▉  | 24984/31250 [02:19<00:23, 262.74it/s]"
     ]
    },
    {
     "name": "stdout",
     "output_type": "stream",
     "text": [
      "[2023-12-12 16:52:45,423] {executor.py:139} INFO - ModelType.PerfNet trained for 139.63062637 seconds.\n",
      "[2023-12-12 16:52:45,424] {executor.py:140} INFO - ModelType.PerfNet eval at step 25000.\n",
      "[2023-12-12 16:52:52,328] {executor.py:144} INFO - ModelType.PerfNet train loss: 0.056437328457832336, eval metrics: {'eval_loss': 0.0937743167416472, 'MRE': 0.18230054186780326, 'MAE': 0.3714921307020562, 'RMSE': 647.5169769556959}\n",
      "[2023-12-12 16:52:52,329] {executor.py:174} INFO - Saving model at step 25000 with loss 0.056437328457832336,save path: /root/guohao/repos/DLT-perf-model/notebooks/ckpts/PerfNet/single_train2023-12-12_16-50-25\n"
     ]
    },
    {
     "name": "stderr",
     "output_type": "stream",
     "text": [
      " 96%|█████████▌| 29991/31250 [02:46<00:04, 260.33it/s]"
     ]
    },
    {
     "name": "stdout",
     "output_type": "stream",
     "text": [
      "[2023-12-12 16:53:12,584] {executor.py:139} INFO - ModelType.PerfNet trained for 166.791716772 seconds.\n",
      "[2023-12-12 16:53:12,585] {executor.py:140} INFO - ModelType.PerfNet eval at step 30000.\n",
      "[2023-12-12 16:53:19,342] {executor.py:144} INFO - ModelType.PerfNet train loss: 0.0374453067779541, eval metrics: {'eval_loss': 0.08455187558501027, 'MRE': 0.23298988459893138, 'MAE': 0.41100827490422054, 'RMSE': 659.7111892840976}\n",
      "[2023-12-12 16:53:19,343] {executor.py:174} INFO - Saving model at step 30000 with loss 0.0374453067779541,save path: /root/guohao/repos/DLT-perf-model/notebooks/ckpts/PerfNet/single_train2023-12-12_16-50-25\n"
     ]
    },
    {
     "name": "stderr",
     "output_type": "stream",
     "text": [
      "100%|██████████| 31250/31250 [02:58<00:00, 175.17it/s]"
     ]
    },
    {
     "name": "stdout",
     "output_type": "stream",
     "text": [
      "[2023-12-12 16:53:24,191] {executor.py:122} INFO - ModelType.PerfNet training epoch 1\n"
     ]
    },
    {
     "name": "stderr",
     "output_type": "stream",
     "text": [
      "\n",
      " 12%|█▏        | 3746/31250 [00:14<01:48, 253.82it/s]"
     ]
    },
    {
     "name": "stdout",
     "output_type": "stream",
     "text": [
      "[2023-12-12 16:53:38,810] {executor.py:139} INFO - ModelType.PerfNet trained for 193.017733983 seconds.\n",
      "[2023-12-12 16:53:38,811] {executor.py:140} INFO - ModelType.PerfNet eval at step 35000.\n",
      "[2023-12-12 16:53:46,133] {executor.py:144} INFO - ModelType.PerfNet train loss: 0.12595443427562714, eval metrics: {'eval_loss': 0.08240500858616084, 'MRE': 0.18351302146142157, 'MAE': 0.3731565971953856, 'RMSE': 627.626515348905}\n",
      "[2023-12-12 16:53:46,134] {executor.py:174} INFO - Saving model at step 35000 with loss 0.12595443427562714,save path: /root/guohao/repos/DLT-perf-model/notebooks/ckpts/PerfNet/single_train2023-12-12_16-50-25\n"
     ]
    },
    {
     "name": "stderr",
     "output_type": "stream",
     "text": [
      " 28%|██▊       | 8728/31250 [00:42<01:32, 244.61it/s]"
     ]
    },
    {
     "name": "stdout",
     "output_type": "stream",
     "text": [
      "[2023-12-12 16:54:06,692] {executor.py:139} INFO - ModelType.PerfNet trained for 220.899387867 seconds.\n",
      "[2023-12-12 16:54:06,693] {executor.py:140} INFO - ModelType.PerfNet eval at step 40000.\n",
      "[2023-12-12 16:54:14,612] {executor.py:144} INFO - ModelType.PerfNet train loss: 0.07626159489154816, eval metrics: {'eval_loss': 0.08307851043973118, 'MRE': 0.18319813880862215, 'MAE': 0.3083766735898376, 'RMSE': 520.5221642555346}\n",
      "[2023-12-12 16:54:14,613] {executor.py:174} INFO - Saving model at step 40000 with loss 0.07626159489154816,save path: /root/guohao/repos/DLT-perf-model/notebooks/ckpts/PerfNet/single_train2023-12-12_16-50-25\n"
     ]
    },
    {
     "name": "stderr",
     "output_type": "stream",
     "text": [
      " 44%|████▍     | 13746/31250 [01:12<01:20, 217.04it/s]"
     ]
    },
    {
     "name": "stdout",
     "output_type": "stream",
     "text": [
      "[2023-12-12 16:54:36,571] {executor.py:139} INFO - ModelType.PerfNet trained for 250.778654416 seconds.\n",
      "[2023-12-12 16:54:36,572] {executor.py:140} INFO - ModelType.PerfNet eval at step 45000.\n",
      "[2023-12-12 16:54:44,671] {executor.py:144} INFO - ModelType.PerfNet train loss: 0.06300017237663269, eval metrics: {'eval_loss': 0.07921260475690477, 'MRE': 0.13747460207458292, 'MAE': 0.16321906749698678, 'RMSE': 241.69775803913495}\n",
      "[2023-12-12 16:54:44,672] {executor.py:174} INFO - Saving model at step 45000 with loss 0.06300017237663269,save path: /root/guohao/repos/DLT-perf-model/notebooks/ckpts/PerfNet/single_train2023-12-12_16-50-25\n"
     ]
    },
    {
     "name": "stderr",
     "output_type": "stream",
     "text": [
      " 60%|█████▉    | 18739/31250 [01:42<00:52, 236.97it/s]"
     ]
    },
    {
     "name": "stdout",
     "output_type": "stream",
     "text": [
      "[2023-12-12 16:55:07,200] {executor.py:139} INFO - ModelType.PerfNet trained for 281.407615155 seconds.\n",
      "[2023-12-12 16:55:07,201] {executor.py:140} INFO - ModelType.PerfNet eval at step 50000.\n",
      "[2023-12-12 16:55:14,201] {executor.py:144} INFO - ModelType.PerfNet train loss: 0.06194563955068588, eval metrics: {'eval_loss': 0.07930122235910966, 'MRE': 0.1539618009437983, 'MAE': 0.21502632799054724, 'RMSE': 277.0668240261828}\n",
      "[2023-12-12 16:55:14,202] {executor.py:174} INFO - Saving model at step 50000 with loss 0.06194563955068588,save path: /root/guohao/repos/DLT-perf-model/notebooks/ckpts/PerfNet/single_train2023-12-12_16-50-25\n"
     ]
    },
    {
     "name": "stderr",
     "output_type": "stream",
     "text": [
      " 76%|███████▌  | 23750/31250 [02:09<00:28, 258.89it/s]"
     ]
    },
    {
     "name": "stdout",
     "output_type": "stream",
     "text": [
      "[2023-12-12 16:55:34,070] {executor.py:139} INFO - ModelType.PerfNet trained for 308.277055037 seconds.\n",
      "[2023-12-12 16:55:34,070] {executor.py:140} INFO - ModelType.PerfNet eval at step 55000.\n",
      "[2023-12-12 16:55:40,862] {executor.py:144} INFO - ModelType.PerfNet train loss: 0.05623340606689453, eval metrics: {'eval_loss': 0.08288556119834073, 'MRE': 0.14174996535795503, 'MAE': 0.17579903527067603, 'RMSE': 239.022778537571}\n",
      "[2023-12-12 16:55:40,864] {executor.py:174} INFO - Saving model at step 55000 with loss 0.05623340606689453,save path: /root/guohao/repos/DLT-perf-model/notebooks/ckpts/PerfNet/single_train2023-12-12_16-50-25\n"
     ]
    },
    {
     "name": "stderr",
     "output_type": "stream",
     "text": [
      " 92%|█████████▏| 28732/31250 [02:36<00:11, 210.56it/s]"
     ]
    },
    {
     "name": "stdout",
     "output_type": "stream",
     "text": [
      "[2023-12-12 16:56:01,092] {executor.py:139} INFO - ModelType.PerfNet trained for 335.29909983 seconds.\n",
      "[2023-12-12 16:56:01,092] {executor.py:140} INFO - ModelType.PerfNet eval at step 60000.\n",
      "[2023-12-12 16:56:08,603] {executor.py:144} INFO - ModelType.PerfNet train loss: 0.03976067155599594, eval metrics: {'eval_loss': 0.07913545278684236, 'MRE': 0.1558709397409696, 'MAE': 0.3007950755146582, 'RMSE': 511.225213619997}\n",
      "[2023-12-12 16:56:08,604] {executor.py:174} INFO - Saving model at step 60000 with loss 0.03976067155599594,save path: /root/guohao/repos/DLT-perf-model/notebooks/ckpts/PerfNet/single_train2023-12-12_16-50-25\n"
     ]
    },
    {
     "name": "stderr",
     "output_type": "stream",
     "text": [
      "100%|██████████| 31250/31250 [02:55<00:00, 178.39it/s]"
     ]
    },
    {
     "name": "stdout",
     "output_type": "stream",
     "text": [
      "[2023-12-12 16:56:19,375] {executor.py:122} INFO - ModelType.PerfNet training epoch 2\n"
     ]
    },
    {
     "name": "stderr",
     "output_type": "stream",
     "text": [
      "\n",
      "  8%|▊         | 2493/31250 [00:10<01:55, 248.78it/s]"
     ]
    },
    {
     "name": "stdout",
     "output_type": "stream",
     "text": [
      "[2023-12-12 16:56:30,320] {executor.py:139} INFO - ModelType.PerfNet trained for 364.527073275 seconds.\n",
      "[2023-12-12 16:56:30,320] {executor.py:140} INFO - ModelType.PerfNet eval at step 65000.\n",
      "[2023-12-12 16:56:37,442] {executor.py:144} INFO - ModelType.PerfNet train loss: 0.09434797614812851, eval metrics: {'eval_loss': 0.07834976121051238, 'MRE': 0.2647918901054736, 'MAE': 0.35854050292763084, 'RMSE': 416.49639313831403}\n",
      "[2023-12-12 16:56:37,443] {executor.py:174} INFO - Saving model at step 65000 with loss 0.09434797614812851,save path: /root/guohao/repos/DLT-perf-model/notebooks/ckpts/PerfNet/single_train2023-12-12_16-50-25\n"
     ]
    },
    {
     "name": "stderr",
     "output_type": "stream",
     "text": [
      " 24%|██▍       | 7492/31250 [00:37<01:33, 253.85it/s]"
     ]
    },
    {
     "name": "stdout",
     "output_type": "stream",
     "text": [
      "[2023-12-12 16:56:57,126] {executor.py:139} INFO - ModelType.PerfNet trained for 391.333515365 seconds.\n",
      "[2023-12-12 16:56:57,127] {executor.py:140} INFO - ModelType.PerfNet eval at step 70000.\n",
      "[2023-12-12 16:57:04,151] {executor.py:144} INFO - ModelType.PerfNet train loss: 0.04681861400604248, eval metrics: {'eval_loss': 0.0765211276534386, 'MRE': 0.16820789768307284, 'MAE': 0.18453638876681633, 'RMSE': 198.80945817620068}\n",
      "[2023-12-12 16:57:04,152] {executor.py:174} INFO - Saving model at step 70000 with loss 0.04681861400604248,save path: /root/guohao/repos/DLT-perf-model/notebooks/ckpts/PerfNet/single_train2023-12-12_16-50-25\n"
     ]
    },
    {
     "name": "stderr",
     "output_type": "stream",
     "text": [
      " 40%|███▉      | 12494/31250 [01:03<01:10, 264.24it/s]"
     ]
    },
    {
     "name": "stdout",
     "output_type": "stream",
     "text": [
      "[2023-12-12 16:57:23,120] {executor.py:139} INFO - ModelType.PerfNet trained for 417.327872212 seconds.\n",
      "[2023-12-12 16:57:23,121] {executor.py:140} INFO - ModelType.PerfNet eval at step 75000.\n",
      "[2023-12-12 16:57:29,943] {executor.py:144} INFO - ModelType.PerfNet train loss: 0.034890495240688324, eval metrics: {'eval_loss': 0.07485519017374143, 'MRE': 0.13417451713280856, 'MAE': 0.20304202670145294, 'RMSE': 305.0419587478104}\n",
      "[2023-12-12 16:57:29,943] {executor.py:174} INFO - Saving model at step 75000 with loss 0.034890495240688324,save path: /root/guohao/repos/DLT-perf-model/notebooks/ckpts/PerfNet/single_train2023-12-12_16-50-25\n"
     ]
    },
    {
     "name": "stderr",
     "output_type": "stream",
     "text": [
      " 56%|█████▌    | 17498/31250 [01:29<00:52, 259.91it/s]"
     ]
    },
    {
     "name": "stdout",
     "output_type": "stream",
     "text": [
      "[2023-12-12 16:57:49,252] {executor.py:139} INFO - ModelType.PerfNet trained for 443.459473495 seconds.\n",
      "[2023-12-12 16:57:49,253] {executor.py:140} INFO - ModelType.PerfNet eval at step 80000.\n",
      "[2023-12-12 16:57:56,030] {executor.py:144} INFO - ModelType.PerfNet train loss: 0.09050920605659485, eval metrics: {'eval_loss': 0.07474780526952818, 'MRE': 0.17380402409231463, 'MAE': 0.1769109874091565, 'RMSE': 179.46877874022024}\n",
      "[2023-12-12 16:57:56,031] {executor.py:174} INFO - Saving model at step 80000 with loss 0.09050920605659485,save path: /root/guohao/repos/DLT-perf-model/notebooks/ckpts/PerfNet/single_train2023-12-12_16-50-25\n"
     ]
    },
    {
     "name": "stderr",
     "output_type": "stream",
     "text": [
      " 72%|███████▏  | 22500/31250 [01:56<00:34, 257.23it/s]"
     ]
    },
    {
     "name": "stdout",
     "output_type": "stream",
     "text": [
      "[2023-12-12 16:58:15,977] {executor.py:139} INFO - ModelType.PerfNet trained for 470.184238551 seconds.\n",
      "[2023-12-12 16:58:15,978] {executor.py:140} INFO - ModelType.PerfNet eval at step 85000.\n",
      "[2023-12-12 16:58:22,821] {executor.py:144} INFO - ModelType.PerfNet train loss: 0.08304782956838608, eval metrics: {'eval_loss': 0.07548185992048122, 'MRE': 0.10592423611073329, 'MAE': 0.11924657528043933, 'RMSE': 145.25035630013136}\n",
      "[2023-12-12 16:58:22,822] {executor.py:174} INFO - Saving model at step 85000 with loss 0.08304782956838608,save path: /root/guohao/repos/DLT-perf-model/notebooks/ckpts/PerfNet/single_train2023-12-12_16-50-25\n"
     ]
    },
    {
     "name": "stderr",
     "output_type": "stream",
     "text": [
      " 88%|████████▊ | 27479/31250 [02:23<00:14, 256.58it/s]"
     ]
    },
    {
     "name": "stdout",
     "output_type": "stream",
     "text": [
      "[2023-12-12 16:58:42,525] {executor.py:139} INFO - ModelType.PerfNet trained for 496.732301296 seconds.\n",
      "[2023-12-12 16:58:42,526] {executor.py:140} INFO - ModelType.PerfNet eval at step 90000.\n",
      "[2023-12-12 16:58:49,504] {executor.py:144} INFO - ModelType.PerfNet train loss: 0.07410025596618652, eval metrics: {'eval_loss': 0.07389948953830637, 'MRE': 0.18178539991152431, 'MAE': 0.22448789447062187, 'RMSE': 316.7189730742154}\n",
      "[2023-12-12 16:58:49,505] {executor.py:174} INFO - Saving model at step 90000 with loss 0.07410025596618652,save path: /root/guohao/repos/DLT-perf-model/notebooks/ckpts/PerfNet/single_train2023-12-12_16-50-25\n"
     ]
    },
    {
     "name": "stderr",
     "output_type": "stream",
     "text": [
      "100%|██████████| 31250/31250 [02:44<00:00, 189.41it/s]"
     ]
    },
    {
     "name": "stdout",
     "output_type": "stream",
     "text": [
      "[2023-12-12 16:59:04,367] {executor.py:122} INFO - ModelType.PerfNet training epoch 3\n"
     ]
    },
    {
     "name": "stderr",
     "output_type": "stream",
     "text": [
      "\n",
      "  4%|▍         | 1231/31250 [00:05<02:03, 242.48it/s]"
     ]
    },
    {
     "name": "stdout",
     "output_type": "stream",
     "text": [
      "[2023-12-12 16:59:09,585] {executor.py:139} INFO - ModelType.PerfNet trained for 523.79235346 seconds.\n",
      "[2023-12-12 16:59:09,586] {executor.py:140} INFO - ModelType.PerfNet eval at step 95000.\n",
      "[2023-12-12 16:59:16,307] {executor.py:144} INFO - ModelType.PerfNet train loss: 0.08427459001541138, eval metrics: {'eval_loss': 0.07494342598032207, 'MRE': 0.1904579986585048, 'MAE': 0.2709846553826504, 'RMSE': 373.24514415155056}\n",
      "[2023-12-12 16:59:16,308] {executor.py:174} INFO - Saving model at step 95000 with loss 0.08427459001541138,save path: /root/guohao/repos/DLT-perf-model/notebooks/ckpts/PerfNet/single_train2023-12-12_16-50-25\n"
     ]
    },
    {
     "name": "stderr",
     "output_type": "stream",
     "text": [
      " 20%|█▉        | 6229/31250 [00:31<01:37, 257.47it/s]"
     ]
    },
    {
     "name": "stdout",
     "output_type": "stream",
     "text": [
      "[2023-12-12 16:59:36,214] {executor.py:139} INFO - ModelType.PerfNet trained for 550.421098908 seconds.\n",
      "[2023-12-12 16:59:36,214] {executor.py:140} INFO - ModelType.PerfNet eval at step 100000.\n",
      "[2023-12-12 16:59:43,166] {executor.py:144} INFO - ModelType.PerfNet train loss: 0.05077669769525528, eval metrics: {'eval_loss': 0.07522442341705785, 'MRE': 0.12789076357884785, 'MAE': 0.13665475457467652, 'RMSE': 178.19373517904071}\n",
      "[2023-12-12 16:59:43,167] {executor.py:174} INFO - Saving model at step 100000 with loss 0.05077669769525528,save path: /root/guohao/repos/DLT-perf-model/notebooks/ckpts/PerfNet/single_train2023-12-12_16-50-25\n"
     ]
    },
    {
     "name": "stderr",
     "output_type": "stream",
     "text": [
      " 36%|███▌      | 11245/31250 [00:58<01:16, 261.01it/s]"
     ]
    },
    {
     "name": "stdout",
     "output_type": "stream",
     "text": [
      "[2023-12-12 17:00:02,566] {executor.py:139} INFO - ModelType.PerfNet trained for 576.773742931 seconds.\n",
      "[2023-12-12 17:00:02,567] {executor.py:140} INFO - ModelType.PerfNet eval at step 105000.\n",
      "[2023-12-12 17:00:09,366] {executor.py:144} INFO - ModelType.PerfNet train loss: 0.04554913192987442, eval metrics: {'eval_loss': 0.0759803335921932, 'MRE': 0.20666263566199003, 'MAE': 0.22776585418919784, 'RMSE': 217.31960506227728}\n",
      "[2023-12-12 17:00:09,367] {executor.py:174} INFO - Saving model at step 105000 with loss 0.04554913192987442,save path: /root/guohao/repos/DLT-perf-model/notebooks/ckpts/PerfNet/single_train2023-12-12_16-50-25\n"
     ]
    },
    {
     "name": "stderr",
     "output_type": "stream",
     "text": [
      " 52%|█████▏    | 16228/31250 [01:24<00:58, 255.51it/s]"
     ]
    },
    {
     "name": "stdout",
     "output_type": "stream",
     "text": [
      "[2023-12-12 17:00:29,121] {executor.py:139} INFO - ModelType.PerfNet trained for 603.32865122 seconds.\n",
      "[2023-12-12 17:00:29,122] {executor.py:140} INFO - ModelType.PerfNet eval at step 110000.\n",
      "[2023-12-12 17:00:35,811] {executor.py:144} INFO - ModelType.PerfNet train loss: 0.09504196047782898, eval metrics: {'eval_loss': 0.07397554489259608, 'MRE': 0.15700705597938489, 'MAE': 0.2008658164694573, 'RMSE': 255.08343062428463}\n",
      "[2023-12-12 17:00:35,812] {executor.py:174} INFO - Saving model at step 110000 with loss 0.09504196047782898,save path: /root/guohao/repos/DLT-perf-model/notebooks/ckpts/PerfNet/single_train2023-12-12_16-50-25\n"
     ]
    },
    {
     "name": "stderr",
     "output_type": "stream",
     "text": [
      " 68%|██████▊   | 21237/31250 [01:50<00:38, 262.68it/s]"
     ]
    },
    {
     "name": "stdout",
     "output_type": "stream",
     "text": [
      "[2023-12-12 17:00:54,918] {executor.py:139} INFO - ModelType.PerfNet trained for 629.125293879 seconds.\n",
      "[2023-12-12 17:00:54,918] {executor.py:140} INFO - ModelType.PerfNet eval at step 115000.\n",
      "[2023-12-12 17:01:01,725] {executor.py:144} INFO - ModelType.PerfNet train loss: 0.053089361637830734, eval metrics: {'eval_loss': 0.07393500364348292, 'MRE': 0.1080323242631046, 'MAE': 0.13412005398466, 'RMSE': 228.3073140514222}\n",
      "[2023-12-12 17:01:01,725] {executor.py:174} INFO - Saving model at step 115000 with loss 0.053089361637830734,save path: /root/guohao/repos/DLT-perf-model/notebooks/ckpts/PerfNet/single_train2023-12-12_16-50-25\n"
     ]
    },
    {
     "name": "stderr",
     "output_type": "stream",
     "text": [
      " 84%|████████▍ | 26240/31250 [02:17<00:19, 260.23it/s]"
     ]
    },
    {
     "name": "stdout",
     "output_type": "stream",
     "text": [
      "[2023-12-12 17:01:22,142] {executor.py:139} INFO - ModelType.PerfNet trained for 656.349302878 seconds.\n",
      "[2023-12-12 17:01:22,143] {executor.py:140} INFO - ModelType.PerfNet eval at step 120000.\n",
      "[2023-12-12 17:01:28,996] {executor.py:144} INFO - ModelType.PerfNet train loss: 0.08059602975845337, eval metrics: {'eval_loss': 0.07759395503191277, 'MRE': 0.164003057722711, 'MAE': 0.17117604929564864, 'RMSE': 196.4752990387409}\n",
      "[2023-12-12 17:01:28,997] {executor.py:174} INFO - Saving model at step 120000 with loss 0.08059602975845337,save path: /root/guohao/repos/DLT-perf-model/notebooks/ckpts/PerfNet/single_train2023-12-12_16-50-25\n"
     ]
    },
    {
     "name": "stderr",
     "output_type": "stream",
     "text": [
      "100%|██████████| 31250/31250 [02:48<00:00, 185.71it/s]"
     ]
    },
    {
     "name": "stdout",
     "output_type": "stream",
     "text": [
      "[2023-12-12 17:01:52,640] {executor.py:122} INFO - ModelType.PerfNet training epoch 4\n"
     ]
    },
    {
     "name": "stderr",
     "output_type": "stream",
     "text": [
      "\n",
      "  0%|          | 0/31250 [00:00<?, ?it/s]"
     ]
    },
    {
     "name": "stdout",
     "output_type": "stream",
     "text": [
      "[2023-12-12 17:01:52,730] {executor.py:139} INFO - ModelType.PerfNet trained for 686.937511292 seconds.\n",
      "[2023-12-12 17:01:52,731] {executor.py:140} INFO - ModelType.PerfNet eval at step 125000.\n",
      "[2023-12-12 17:01:59,913] {executor.py:144} INFO - ModelType.PerfNet train loss: 0.09362044930458069, eval metrics: {'eval_loss': 0.0792228215273749, 'MRE': 0.2445825088678938, 'MAE': 0.3650214476754047, 'RMSE': 462.3257692589031}\n",
      "[2023-12-12 17:01:59,914] {executor.py:174} INFO - Saving model at step 125000 with loss 0.09362044930458069,save path: /root/guohao/repos/DLT-perf-model/notebooks/ckpts/PerfNet/single_train2023-12-12_16-50-25\n"
     ]
    },
    {
     "name": "stderr",
     "output_type": "stream",
     "text": [
      " 16%|█▌        | 4986/31250 [00:27<01:43, 253.75it/s]"
     ]
    },
    {
     "name": "stdout",
     "output_type": "stream",
     "text": [
      "[2023-12-12 17:02:19,721] {executor.py:139} INFO - ModelType.PerfNet trained for 713.928417345 seconds.\n",
      "[2023-12-12 17:02:19,722] {executor.py:140} INFO - ModelType.PerfNet eval at step 130000.\n",
      "[2023-12-12 17:02:26,909] {executor.py:144} INFO - ModelType.PerfNet train loss: 0.11521583050489426, eval metrics: {'eval_loss': 0.07922806410891935, 'MRE': 0.1837948746798167, 'MAE': 0.15001292012137754, 'RMSE': 154.5457465426793}\n",
      "[2023-12-12 17:02:26,910] {executor.py:174} INFO - Saving model at step 130000 with loss 0.11521583050489426,save path: /root/guohao/repos/DLT-perf-model/notebooks/ckpts/PerfNet/single_train2023-12-12_16-50-25\n"
     ]
    },
    {
     "name": "stderr",
     "output_type": "stream",
     "text": [
      " 32%|███▏      | 9999/31250 [00:53<01:20, 264.94it/s]"
     ]
    },
    {
     "name": "stdout",
     "output_type": "stream",
     "text": [
      "[2023-12-12 17:02:46,049] {executor.py:139} INFO - ModelType.PerfNet trained for 740.256913453 seconds.\n",
      "[2023-12-12 17:02:46,050] {executor.py:140} INFO - ModelType.PerfNet eval at step 135000.\n",
      "[2023-12-12 17:02:52,848] {executor.py:144} INFO - ModelType.PerfNet train loss: 0.05087442696094513, eval metrics: {'eval_loss': 0.07635908988359384, 'MRE': 0.11258083061847034, 'MAE': 0.11765761330345355, 'RMSE': 140.98978926991992}\n",
      "[2023-12-12 17:02:52,849] {executor.py:174} INFO - Saving model at step 135000 with loss 0.05087442696094513,save path: /root/guohao/repos/DLT-perf-model/notebooks/ckpts/PerfNet/single_train2023-12-12_16-50-25\n"
     ]
    },
    {
     "name": "stderr",
     "output_type": "stream",
     "text": [
      " 48%|████▊     | 14987/31250 [01:20<01:10, 232.30it/s]"
     ]
    },
    {
     "name": "stdout",
     "output_type": "stream",
     "text": [
      "[2023-12-12 17:03:12,803] {executor.py:139} INFO - ModelType.PerfNet trained for 767.010429843 seconds.\n",
      "[2023-12-12 17:03:12,804] {executor.py:140} INFO - ModelType.PerfNet eval at step 140000.\n",
      "[2023-12-12 17:03:19,642] {executor.py:144} INFO - ModelType.PerfNet train loss: 0.06939816474914551, eval metrics: {'eval_loss': 0.0749493978291843, 'MRE': 0.1960980305729406, 'MAE': 0.29316257077122215, 'RMSE': 379.66918047309434}\n",
      "[2023-12-12 17:03:19,643] {executor.py:174} INFO - Saving model at step 140000 with loss 0.06939816474914551,save path: /root/guohao/repos/DLT-perf-model/notebooks/ckpts/PerfNet/single_train2023-12-12_16-50-25\n"
     ]
    },
    {
     "name": "stderr",
     "output_type": "stream",
     "text": [
      " 64%|██████▍   | 19999/31250 [01:46<00:42, 266.11it/s]"
     ]
    },
    {
     "name": "stdout",
     "output_type": "stream",
     "text": [
      "[2023-12-12 17:03:39,492] {executor.py:139} INFO - ModelType.PerfNet trained for 793.699070211 seconds.\n",
      "[2023-12-12 17:03:39,492] {executor.py:140} INFO - ModelType.PerfNet eval at step 145000.\n",
      "[2023-12-12 17:03:46,219] {executor.py:144} INFO - ModelType.PerfNet train loss: 0.1342885047197342, eval metrics: {'eval_loss': 0.0751454904618673, 'MRE': 0.137965555433744, 'MAE': 0.12616593242137597, 'RMSE': 153.77235715953773}\n",
      "[2023-12-12 17:03:46,220] {executor.py:174} INFO - Saving model at step 145000 with loss 0.1342885047197342,save path: /root/guohao/repos/DLT-perf-model/notebooks/ckpts/PerfNet/single_train2023-12-12_16-50-25\n"
     ]
    },
    {
     "name": "stderr",
     "output_type": "stream",
     "text": [
      " 80%|███████▉  | 24989/31250 [02:12<00:23, 261.68it/s]"
     ]
    },
    {
     "name": "stdout",
     "output_type": "stream",
     "text": [
      "[2023-12-12 17:04:05,529] {executor.py:139} INFO - ModelType.PerfNet trained for 819.736921393 seconds.\n",
      "[2023-12-12 17:04:05,530] {executor.py:140} INFO - ModelType.PerfNet eval at step 150000.\n",
      "[2023-12-12 17:04:12,163] {executor.py:144} INFO - ModelType.PerfNet train loss: 0.05628795176744461, eval metrics: {'eval_loss': 0.0746567586649023, 'MRE': 0.13858135125027513, 'MAE': 0.12865297374742862, 'RMSE': 180.56653414907206}\n",
      "[2023-12-12 17:04:12,164] {executor.py:174} INFO - Saving model at step 150000 with loss 0.05628795176744461,save path: /root/guohao/repos/DLT-perf-model/notebooks/ckpts/PerfNet/single_train2023-12-12_16-50-25\n"
     ]
    },
    {
     "name": "stderr",
     "output_type": "stream",
     "text": [
      " 96%|█████████▌| 29985/31250 [02:38<00:04, 278.42it/s]"
     ]
    },
    {
     "name": "stdout",
     "output_type": "stream",
     "text": [
      "[2023-12-12 17:04:31,033] {executor.py:139} INFO - ModelType.PerfNet trained for 845.239967774 seconds.\n",
      "[2023-12-12 17:04:31,033] {executor.py:140} INFO - ModelType.PerfNet eval at step 155000.\n",
      "[2023-12-12 17:04:37,668] {executor.py:144} INFO - ModelType.PerfNet train loss: 0.052083201706409454, eval metrics: {'eval_loss': 0.07376654213226401, 'MRE': 0.11710447502872666, 'MAE': 0.15290013121138682, 'RMSE': 253.6661425969538}\n",
      "[2023-12-12 17:04:37,669] {executor.py:174} INFO - Saving model at step 155000 with loss 0.052083201706409454,save path: /root/guohao/repos/DLT-perf-model/notebooks/ckpts/PerfNet/single_train2023-12-12_16-50-25\n"
     ]
    },
    {
     "name": "stderr",
     "output_type": "stream",
     "text": [
      "100%|██████████| 31250/31250 [02:50<00:00, 183.75it/s]"
     ]
    },
    {
     "name": "stdout",
     "output_type": "stream",
     "text": [
      "[2023-12-12 17:04:42,707] {executor.py:122} INFO - ModelType.PerfNet training epoch 5\n"
     ]
    },
    {
     "name": "stderr",
     "output_type": "stream",
     "text": [
      "\n",
      " 12%|█▏        | 3735/31250 [00:14<01:42, 269.12it/s]"
     ]
    },
    {
     "name": "stdout",
     "output_type": "stream",
     "text": [
      "[2023-12-12 17:04:57,174] {executor.py:139} INFO - ModelType.PerfNet trained for 871.380961371 seconds.\n",
      "[2023-12-12 17:04:57,174] {executor.py:140} INFO - ModelType.PerfNet eval at step 160000.\n",
      "[2023-12-12 17:05:03,915] {executor.py:144} INFO - ModelType.PerfNet train loss: 0.06630983203649521, eval metrics: {'eval_loss': 0.07161808851024136, 'MRE': 0.13695710317994034, 'MAE': 0.171227109549169, 'RMSE': 212.04343958374193}\n",
      "[2023-12-12 17:05:03,916] {executor.py:174} INFO - Saving model at step 160000 with loss 0.06630983203649521,save path: /root/guohao/repos/DLT-perf-model/notebooks/ckpts/PerfNet/single_train2023-12-12_16-50-25\n"
     ]
    },
    {
     "name": "stderr",
     "output_type": "stream",
     "text": [
      " 28%|██▊       | 8745/31250 [00:40<01:22, 273.60it/s]"
     ]
    },
    {
     "name": "stdout",
     "output_type": "stream",
     "text": [
      "[2023-12-12 17:05:23,099] {executor.py:139} INFO - ModelType.PerfNet trained for 897.306099456 seconds.\n",
      "[2023-12-12 17:05:23,099] {executor.py:140} INFO - ModelType.PerfNet eval at step 165000.\n",
      "[2023-12-12 17:05:29,718] {executor.py:144} INFO - ModelType.PerfNet train loss: 0.04134371876716614, eval metrics: {'eval_loss': 0.07545399818221107, 'MRE': 0.1495990163644242, 'MAE': 0.15726909777338946, 'RMSE': 190.75308522395957}\n",
      "[2023-12-12 17:05:29,719] {executor.py:174} INFO - Saving model at step 165000 with loss 0.04134371876716614,save path: /root/guohao/repos/DLT-perf-model/notebooks/ckpts/PerfNet/single_train2023-12-12_16-50-25\n"
     ]
    },
    {
     "name": "stderr",
     "output_type": "stream",
     "text": [
      " 44%|████▍     | 13742/31250 [01:06<01:06, 262.89it/s]"
     ]
    },
    {
     "name": "stdout",
     "output_type": "stream",
     "text": [
      "[2023-12-12 17:05:49,250] {executor.py:139} INFO - ModelType.PerfNet trained for 923.45708999 seconds.\n",
      "[2023-12-12 17:05:49,250] {executor.py:140} INFO - ModelType.PerfNet eval at step 170000.\n",
      "[2023-12-12 17:05:55,847] {executor.py:144} INFO - ModelType.PerfNet train loss: 0.0779428631067276, eval metrics: {'eval_loss': 0.07294798770871014, 'MRE': 0.14345017440867766, 'MAE': 0.14767782678091212, 'RMSE': 164.3749921694495}\n",
      "[2023-12-12 17:05:55,847] {executor.py:174} INFO - Saving model at step 170000 with loss 0.0779428631067276,save path: /root/guohao/repos/DLT-perf-model/notebooks/ckpts/PerfNet/single_train2023-12-12_16-50-25\n"
     ]
    },
    {
     "name": "stderr",
     "output_type": "stream",
     "text": [
      " 60%|█████▉    | 18732/31250 [01:32<00:48, 259.21it/s]"
     ]
    },
    {
     "name": "stdout",
     "output_type": "stream",
     "text": [
      "[2023-12-12 17:06:15,555] {executor.py:139} INFO - ModelType.PerfNet trained for 949.762584511 seconds.\n",
      "[2023-12-12 17:06:15,556] {executor.py:140} INFO - ModelType.PerfNet eval at step 175000.\n",
      "[2023-12-12 17:06:22,370] {executor.py:144} INFO - ModelType.PerfNet train loss: 0.05475541949272156, eval metrics: {'eval_loss': 0.07453070123337209, 'MRE': 0.17638796458033992, 'MAE': 0.16680792775494396, 'RMSE': 167.37898871991447}\n",
      "[2023-12-12 17:06:22,371] {executor.py:174} INFO - Saving model at step 175000 with loss 0.05475541949272156,save path: /root/guohao/repos/DLT-perf-model/notebooks/ckpts/PerfNet/single_train2023-12-12_16-50-25\n"
     ]
    },
    {
     "name": "stderr",
     "output_type": "stream",
     "text": [
      " 76%|███████▌  | 23741/31250 [01:59<00:29, 257.87it/s]"
     ]
    },
    {
     "name": "stdout",
     "output_type": "stream",
     "text": [
      "[2023-12-12 17:06:41,995] {executor.py:139} INFO - ModelType.PerfNet trained for 976.20284034 seconds.\n",
      "[2023-12-12 17:06:41,996] {executor.py:140} INFO - ModelType.PerfNet eval at step 180000.\n",
      "[2023-12-12 17:06:48,707] {executor.py:144} INFO - ModelType.PerfNet train loss: 0.03142442926764488, eval metrics: {'eval_loss': 0.07194718221521006, 'MRE': 0.14379907522261792, 'MAE': 0.1363489568683117, 'RMSE': 153.1532148533075}\n",
      "[2023-12-12 17:06:48,708] {executor.py:174} INFO - Saving model at step 180000 with loss 0.03142442926764488,save path: /root/guohao/repos/DLT-perf-model/notebooks/ckpts/PerfNet/single_train2023-12-12_16-50-25\n"
     ]
    },
    {
     "name": "stderr",
     "output_type": "stream",
     "text": [
      " 92%|█████████▏| 28731/31250 [02:25<00:09, 264.18it/s]"
     ]
    },
    {
     "name": "stdout",
     "output_type": "stream",
     "text": [
      "[2023-12-12 17:07:08,711] {executor.py:139} INFO - ModelType.PerfNet trained for 1002.918585453 seconds.\n",
      "[2023-12-12 17:07:08,712] {executor.py:140} INFO - ModelType.PerfNet eval at step 185000.\n",
      "[2023-12-12 17:07:15,459] {executor.py:144} INFO - ModelType.PerfNet train loss: 0.15319398045539856, eval metrics: {'eval_loss': 0.07515672415605747, 'MRE': 0.18223995708857266, 'MAE': 0.26624426056656975, 'RMSE': 371.26721997228185}\n",
      "[2023-12-12 17:07:15,460] {executor.py:174} INFO - Saving model at step 185000 with loss 0.15319398045539856,save path: /root/guohao/repos/DLT-perf-model/notebooks/ckpts/PerfNet/single_train2023-12-12_16-50-25\n"
     ]
    },
    {
     "name": "stderr",
     "output_type": "stream",
     "text": [
      "100%|██████████| 31250/31250 [02:42<00:00, 192.08it/s]"
     ]
    },
    {
     "name": "stdout",
     "output_type": "stream",
     "text": [
      "[2023-12-12 17:07:25,399] {executor.py:122} INFO - ModelType.PerfNet training epoch 6\n"
     ]
    },
    {
     "name": "stderr",
     "output_type": "stream",
     "text": [
      "\n",
      "  8%|▊         | 2493/31250 [00:09<01:48, 264.73it/s]"
     ]
    },
    {
     "name": "stdout",
     "output_type": "stream",
     "text": [
      "[2023-12-12 17:07:34,883] {executor.py:139} INFO - ModelType.PerfNet trained for 1029.090963721 seconds.\n",
      "[2023-12-12 17:07:34,884] {executor.py:140} INFO - ModelType.PerfNet eval at step 190000.\n",
      "[2023-12-12 17:07:41,635] {executor.py:144} INFO - ModelType.PerfNet train loss: 0.10199184715747833, eval metrics: {'eval_loss': 0.07659779897014611, 'MRE': 0.19174926953744337, 'MAE': 0.2496555609432179, 'RMSE': 417.546860480968}\n",
      "[2023-12-12 17:07:41,636] {executor.py:174} INFO - Saving model at step 190000 with loss 0.10199184715747833,save path: /root/guohao/repos/DLT-perf-model/notebooks/ckpts/PerfNet/single_train2023-12-12_16-50-25\n"
     ]
    },
    {
     "name": "stderr",
     "output_type": "stream",
     "text": [
      " 24%|██▍       | 7486/31250 [00:35<01:29, 265.96it/s]"
     ]
    },
    {
     "name": "stdout",
     "output_type": "stream",
     "text": [
      "[2023-12-12 17:08:01,142] {executor.py:139} INFO - ModelType.PerfNet trained for 1055.349408091 seconds.\n",
      "[2023-12-12 17:08:01,143] {executor.py:140} INFO - ModelType.PerfNet eval at step 195000.\n",
      "[2023-12-12 17:08:07,783] {executor.py:144} INFO - ModelType.PerfNet train loss: 0.04309427738189697, eval metrics: {'eval_loss': 0.0738336011919845, 'MRE': 0.15874768195640374, 'MAE': 0.21146960839672904, 'RMSE': 279.12289860293333}\n",
      "[2023-12-12 17:08:07,785] {executor.py:174} INFO - Saving model at step 195000 with loss 0.04309427738189697,save path: /root/guohao/repos/DLT-perf-model/notebooks/ckpts/PerfNet/single_train2023-12-12_16-50-25\n"
     ]
    },
    {
     "name": "stderr",
     "output_type": "stream",
     "text": [
      " 40%|███▉      | 12488/31250 [01:02<01:26, 217.55it/s]"
     ]
    },
    {
     "name": "stdout",
     "output_type": "stream",
     "text": [
      "[2023-12-12 17:08:27,831] {executor.py:139} INFO - ModelType.PerfNet trained for 1082.038546663 seconds.\n",
      "[2023-12-12 17:08:27,832] {executor.py:140} INFO - ModelType.PerfNet eval at step 200000.\n",
      "[2023-12-12 17:08:35,364] {executor.py:144} INFO - ModelType.PerfNet train loss: 0.1950734257698059, eval metrics: {'eval_loss': 0.07195749907706864, 'MRE': 0.10034987316155004, 'MAE': 0.11711903920136506, 'RMSE': 164.10307097250603}\n",
      "[2023-12-12 17:08:35,364] {executor.py:174} INFO - Saving model at step 200000 with loss 0.1950734257698059,save path: /root/guohao/repos/DLT-perf-model/notebooks/ckpts/PerfNet/single_train2023-12-12_16-50-25\n"
     ]
    },
    {
     "name": "stderr",
     "output_type": "stream",
     "text": [
      " 56%|█████▌    | 17478/31250 [01:31<00:52, 263.82it/s]"
     ]
    },
    {
     "name": "stdout",
     "output_type": "stream",
     "text": [
      "[2023-12-12 17:08:56,538] {executor.py:139} INFO - ModelType.PerfNet trained for 1110.744987844 seconds.\n",
      "[2023-12-12 17:08:56,538] {executor.py:140} INFO - ModelType.PerfNet eval at step 205000.\n",
      "[2023-12-12 17:09:03,240] {executor.py:144} INFO - ModelType.PerfNet train loss: 0.053838059306144714, eval metrics: {'eval_loss': 0.07121355377743951, 'MRE': 0.18003806160018823, 'MAE': 0.1822723912592626, 'RMSE': 180.8202418930677}\n",
      "[2023-12-12 17:09:03,240] {executor.py:174} INFO - Saving model at step 205000 with loss 0.053838059306144714,save path: /root/guohao/repos/DLT-perf-model/notebooks/ckpts/PerfNet/single_train2023-12-12_16-50-25\n"
     ]
    },
    {
     "name": "stderr",
     "output_type": "stream",
     "text": [
      " 72%|███████▏  | 22487/31250 [01:56<00:32, 270.93it/s]"
     ]
    },
    {
     "name": "stdout",
     "output_type": "stream",
     "text": [
      "[2023-12-12 17:09:22,381] {executor.py:139} INFO - ModelType.PerfNet trained for 1136.587982553 seconds.\n",
      "[2023-12-12 17:09:22,381] {executor.py:140} INFO - ModelType.PerfNet eval at step 210000.\n",
      "[2023-12-12 17:09:29,013] {executor.py:144} INFO - ModelType.PerfNet train loss: 0.05905834585428238, eval metrics: {'eval_loss': 0.07110714580206201, 'MRE': 0.12961531452667935, 'MAE': 0.13849387181482484, 'RMSE': 161.93661113622156}\n",
      "[2023-12-12 17:09:29,014] {executor.py:174} INFO - Saving model at step 210000 with loss 0.05905834585428238,save path: /root/guohao/repos/DLT-perf-model/notebooks/ckpts/PerfNet/single_train2023-12-12_16-50-25\n"
     ]
    },
    {
     "name": "stderr",
     "output_type": "stream",
     "text": [
      " 88%|████████▊ | 27476/31250 [02:24<00:15, 245.21it/s]"
     ]
    },
    {
     "name": "stdout",
     "output_type": "stream",
     "text": [
      "[2023-12-12 17:09:49,780] {executor.py:139} INFO - ModelType.PerfNet trained for 1163.98697008 seconds.\n",
      "[2023-12-12 17:09:49,780] {executor.py:140} INFO - ModelType.PerfNet eval at step 215000.\n",
      "[2023-12-12 17:09:56,304] {executor.py:144} INFO - ModelType.PerfNet train loss: 0.05991729348897934, eval metrics: {'eval_loss': 0.07136722842480987, 'MRE': 0.16357644825162268, 'MAE': 0.16897900691390472, 'RMSE': 179.05856322157325}\n",
      "[2023-12-12 17:09:56,305] {executor.py:174} INFO - Saving model at step 215000 with loss 0.05991729348897934,save path: /root/guohao/repos/DLT-perf-model/notebooks/ckpts/PerfNet/single_train2023-12-12_16-50-25\n"
     ]
    },
    {
     "name": "stderr",
     "output_type": "stream",
     "text": [
      "100%|██████████| 31250/31250 [02:45<00:00, 188.65it/s]"
     ]
    },
    {
     "name": "stdout",
     "output_type": "stream",
     "text": [
      "[2023-12-12 17:10:11,057] {executor.py:122} INFO - ModelType.PerfNet training epoch 7\n"
     ]
    },
    {
     "name": "stderr",
     "output_type": "stream",
     "text": [
      "\n",
      "  4%|▍         | 1234/31250 [00:04<01:49, 273.19it/s]"
     ]
    },
    {
     "name": "stdout",
     "output_type": "stream",
     "text": [
      "[2023-12-12 17:10:15,830] {executor.py:139} INFO - ModelType.PerfNet trained for 1190.037431564 seconds.\n",
      "[2023-12-12 17:10:15,831] {executor.py:140} INFO - ModelType.PerfNet eval at step 220000.\n",
      "[2023-12-12 17:10:22,367] {executor.py:144} INFO - ModelType.PerfNet train loss: 0.09177273511886597, eval metrics: {'eval_loss': 0.07199390492590144, 'MRE': 0.11663327223275094, 'MAE': 0.13983111687487723, 'RMSE': 184.05358564702414}\n",
      "[2023-12-12 17:10:22,368] {executor.py:174} INFO - Saving model at step 220000 with loss 0.09177273511886597,save path: /root/guohao/repos/DLT-perf-model/notebooks/ckpts/PerfNet/single_train2023-12-12_16-50-25\n"
     ]
    },
    {
     "name": "stderr",
     "output_type": "stream",
     "text": [
      " 20%|█▉        | 6229/31250 [00:30<01:36, 258.43it/s]"
     ]
    },
    {
     "name": "stdout",
     "output_type": "stream",
     "text": [
      "[2023-12-12 17:10:41,691] {executor.py:139} INFO - ModelType.PerfNet trained for 1215.898388798 seconds.\n",
      "[2023-12-12 17:10:41,692] {executor.py:140} INFO - ModelType.PerfNet eval at step 225000.\n",
      "[2023-12-12 17:10:48,330] {executor.py:144} INFO - ModelType.PerfNet train loss: 0.04815118387341499, eval metrics: {'eval_loss': 0.07378429119165987, 'MRE': 0.24758528050516979, 'MAE': 0.23223506292418208, 'RMSE': 200.98512335601458}\n",
      "[2023-12-12 17:10:48,331] {executor.py:174} INFO - Saving model at step 225000 with loss 0.04815118387341499,save path: /root/guohao/repos/DLT-perf-model/notebooks/ckpts/PerfNet/single_train2023-12-12_16-50-25\n"
     ]
    },
    {
     "name": "stderr",
     "output_type": "stream",
     "text": [
      " 36%|███▌      | 11245/31250 [00:57<01:18, 255.87it/s]"
     ]
    },
    {
     "name": "stdout",
     "output_type": "stream",
     "text": [
      "[2023-12-12 17:11:08,179] {executor.py:139} INFO - ModelType.PerfNet trained for 1242.386753863 seconds.\n",
      "[2023-12-12 17:11:08,180] {executor.py:140} INFO - ModelType.PerfNet eval at step 230000.\n",
      "[2023-12-12 17:11:14,802] {executor.py:144} INFO - ModelType.PerfNet train loss: 0.06794772297143936, eval metrics: {'eval_loss': 0.07119170805153437, 'MRE': 0.17248064011169603, 'MAE': 0.2209403609902405, 'RMSE': 275.35026739725276}\n",
      "[2023-12-12 17:11:14,803] {executor.py:174} INFO - Saving model at step 230000 with loss 0.06794772297143936,save path: /root/guohao/repos/DLT-perf-model/notebooks/ckpts/PerfNet/single_train2023-12-12_16-50-25\n"
     ]
    },
    {
     "name": "stderr",
     "output_type": "stream",
     "text": [
      " 52%|█████▏    | 16224/31250 [01:22<00:55, 271.11it/s]"
     ]
    },
    {
     "name": "stdout",
     "output_type": "stream",
     "text": [
      "[2023-12-12 17:11:33,914] {executor.py:139} INFO - ModelType.PerfNet trained for 1268.121182872 seconds.\n",
      "[2023-12-12 17:11:33,914] {executor.py:140} INFO - ModelType.PerfNet eval at step 235000.\n",
      "[2023-12-12 17:11:40,719] {executor.py:144} INFO - ModelType.PerfNet train loss: 0.048784494400024414, eval metrics: {'eval_loss': 0.07499331381431781, 'MRE': 0.14163066357414014, 'MAE': 0.1417756168438418, 'RMSE': 170.21296157260696}\n",
      "[2023-12-12 17:11:40,719] {executor.py:174} INFO - Saving model at step 235000 with loss 0.048784494400024414,save path: /root/guohao/repos/DLT-perf-model/notebooks/ckpts/PerfNet/single_train2023-12-12_16-50-25\n"
     ]
    },
    {
     "name": "stderr",
     "output_type": "stream",
     "text": [
      " 68%|██████▊   | 21243/31250 [01:49<00:41, 242.60it/s]"
     ]
    },
    {
     "name": "stdout",
     "output_type": "stream",
     "text": [
      "[2023-12-12 17:12:00,779] {executor.py:139} INFO - ModelType.PerfNet trained for 1294.986475172 seconds.\n",
      "[2023-12-12 17:12:00,780] {executor.py:140} INFO - ModelType.PerfNet eval at step 240000.\n",
      "[2023-12-12 17:12:07,412] {executor.py:144} INFO - ModelType.PerfNet train loss: 0.04721802845597267, eval metrics: {'eval_loss': 0.07089892993773333, 'MRE': 0.1153226182581817, 'MAE': 0.12986880201206727, 'RMSE': 163.17114712072365}\n",
      "[2023-12-12 17:12:07,413] {executor.py:174} INFO - Saving model at step 240000 with loss 0.04721802845597267,save path: /root/guohao/repos/DLT-perf-model/notebooks/ckpts/PerfNet/single_train2023-12-12_16-50-25\n"
     ]
    },
    {
     "name": "stderr",
     "output_type": "stream",
     "text": [
      " 84%|████████▍ | 26231/31250 [02:17<00:20, 247.81it/s]"
     ]
    },
    {
     "name": "stdout",
     "output_type": "stream",
     "text": [
      "[2023-12-12 17:12:28,235] {executor.py:139} INFO - ModelType.PerfNet trained for 1322.442178588 seconds.\n",
      "[2023-12-12 17:12:28,235] {executor.py:140} INFO - ModelType.PerfNet eval at step 245000.\n",
      "[2023-12-12 17:12:35,033] {executor.py:144} INFO - ModelType.PerfNet train loss: 0.029400024563074112, eval metrics: {'eval_loss': 0.07058630058788694, 'MRE': 0.11398104431795503, 'MAE': 0.10298087531008909, 'RMSE': 121.99752479190113}\n",
      "[2023-12-12 17:12:35,033] {executor.py:174} INFO - Saving model at step 245000 with loss 0.029400024563074112,save path: /root/guohao/repos/DLT-perf-model/notebooks/ckpts/PerfNet/single_train2023-12-12_16-50-25\n"
     ]
    },
    {
     "name": "stderr",
     "output_type": "stream",
     "text": [
      "100%|██████████| 31250/31250 [02:44<00:00, 190.43it/s]"
     ]
    },
    {
     "name": "stdout",
     "output_type": "stream",
     "text": [
      "[2023-12-12 17:12:55,161] {executor.py:122} INFO - ModelType.PerfNet training epoch 8\n"
     ]
    },
    {
     "name": "stderr",
     "output_type": "stream",
     "text": [
      "\n",
      "  0%|          | 0/31250 [00:00<?, ?it/s]"
     ]
    },
    {
     "name": "stdout",
     "output_type": "stream",
     "text": [
      "[2023-12-12 17:12:55,227] {executor.py:139} INFO - ModelType.PerfNet trained for 1349.434284411 seconds.\n",
      "[2023-12-12 17:12:55,228] {executor.py:140} INFO - ModelType.PerfNet eval at step 250000.\n",
      "[2023-12-12 17:13:01,963] {executor.py:144} INFO - ModelType.PerfNet train loss: 0.07180320471525192, eval metrics: {'eval_loss': 0.07117618373815901, 'MRE': 0.17869839889470684, 'MAE': 0.18992655566253897, 'RMSE': 197.94839048414943}\n",
      "[2023-12-12 17:13:01,964] {executor.py:174} INFO - Saving model at step 250000 with loss 0.07180320471525192,save path: /root/guohao/repos/DLT-perf-model/notebooks/ckpts/PerfNet/single_train2023-12-12_16-50-25\n"
     ]
    },
    {
     "name": "stderr",
     "output_type": "stream",
     "text": [
      " 16%|█▌        | 5000/31250 [00:25<01:38, 265.33it/s]"
     ]
    },
    {
     "name": "stdout",
     "output_type": "stream",
     "text": [
      "[2023-12-12 17:13:20,984] {executor.py:139} INFO - ModelType.PerfNet trained for 1375.191184358 seconds.\n",
      "[2023-12-12 17:13:20,984] {executor.py:140} INFO - ModelType.PerfNet eval at step 255000.\n",
      "[2023-12-12 17:13:27,850] {executor.py:144} INFO - ModelType.PerfNet train loss: 0.07497269660234451, eval metrics: {'eval_loss': 0.07389884118294343, 'MRE': 0.11442944170352573, 'MAE': 0.17699719463867736, 'RMSE': 268.8080626758425}\n",
      "[2023-12-12 17:13:27,851] {executor.py:174} INFO - Saving model at step 255000 with loss 0.07497269660234451,save path: /root/guohao/repos/DLT-perf-model/notebooks/ckpts/PerfNet/single_train2023-12-12_16-50-25\n"
     ]
    },
    {
     "name": "stderr",
     "output_type": "stream",
     "text": [
      " 32%|███▏      | 9984/31250 [00:52<01:22, 258.11it/s]"
     ]
    },
    {
     "name": "stdout",
     "output_type": "stream",
     "text": [
      "[2023-12-12 17:13:47,350] {executor.py:139} INFO - ModelType.PerfNet trained for 1401.557946322 seconds.\n",
      "[2023-12-12 17:13:47,351] {executor.py:140} INFO - ModelType.PerfNet eval at step 260000.\n",
      "[2023-12-12 17:13:54,065] {executor.py:144} INFO - ModelType.PerfNet train loss: 0.07961335778236389, eval metrics: {'eval_loss': 0.07411819195796736, 'MRE': 0.1370329508203869, 'MAE': 0.16793163768121977, 'RMSE': 211.15833833440206}\n",
      "[2023-12-12 17:13:54,065] {executor.py:174} INFO - Saving model at step 260000 with loss 0.07961335778236389,save path: /root/guohao/repos/DLT-perf-model/notebooks/ckpts/PerfNet/single_train2023-12-12_16-50-25\n"
     ]
    },
    {
     "name": "stderr",
     "output_type": "stream",
     "text": [
      " 48%|████▊     | 14979/31250 [01:17<01:01, 265.08it/s]"
     ]
    },
    {
     "name": "stdout",
     "output_type": "stream",
     "text": [
      "[2023-12-12 17:14:13,112] {executor.py:139} INFO - ModelType.PerfNet trained for 1427.319816491 seconds.\n",
      "[2023-12-12 17:14:13,113] {executor.py:140} INFO - ModelType.PerfNet eval at step 265000.\n",
      "[2023-12-12 17:14:19,784] {executor.py:144} INFO - ModelType.PerfNet train loss: 0.08102040737867355, eval metrics: {'eval_loss': 0.07817943979792297, 'MRE': 0.20233909069266154, 'MAE': 0.3526958967523622, 'RMSE': 542.6835082763001}\n",
      "[2023-12-12 17:14:19,785] {executor.py:174} INFO - Saving model at step 265000 with loss 0.08102040737867355,save path: /root/guohao/repos/DLT-perf-model/notebooks/ckpts/PerfNet/single_train2023-12-12_16-50-25\n"
     ]
    },
    {
     "name": "stderr",
     "output_type": "stream",
     "text": [
      " 64%|██████▍   | 19993/31250 [01:44<00:45, 249.91it/s]"
     ]
    },
    {
     "name": "stdout",
     "output_type": "stream",
     "text": [
      "[2023-12-12 17:14:39,823] {executor.py:139} INFO - ModelType.PerfNet trained for 1454.030303605 seconds.\n",
      "[2023-12-12 17:14:39,824] {executor.py:140} INFO - ModelType.PerfNet eval at step 270000.\n",
      "[2023-12-12 17:14:46,396] {executor.py:144} INFO - ModelType.PerfNet train loss: 0.062135498970746994, eval metrics: {'eval_loss': 0.07284961824784987, 'MRE': 0.1788015489510421, 'MAE': 0.1814335048814308, 'RMSE': 190.0273743590133}\n",
      "[2023-12-12 17:14:46,397] {executor.py:174} INFO - Saving model at step 270000 with loss 0.062135498970746994,save path: /root/guohao/repos/DLT-perf-model/notebooks/ckpts/PerfNet/single_train2023-12-12_16-50-25\n"
     ]
    },
    {
     "name": "stderr",
     "output_type": "stream",
     "text": [
      " 80%|███████▉  | 24992/31250 [02:11<00:25, 243.00it/s]"
     ]
    },
    {
     "name": "stdout",
     "output_type": "stream",
     "text": [
      "[2023-12-12 17:15:06,438] {executor.py:139} INFO - ModelType.PerfNet trained for 1480.645101362 seconds.\n",
      "[2023-12-12 17:15:06,438] {executor.py:140} INFO - ModelType.PerfNet eval at step 275000.\n",
      "[2023-12-12 17:15:13,243] {executor.py:144} INFO - ModelType.PerfNet train loss: 0.06382618844509125, eval metrics: {'eval_loss': 0.07309210146531463, 'MRE': 0.2680550077462241, 'MAE': 0.21439712176412434, 'RMSE': 186.9997690796912}\n",
      "[2023-12-12 17:15:13,244] {executor.py:174} INFO - Saving model at step 275000 with loss 0.06382618844509125,save path: /root/guohao/repos/DLT-perf-model/notebooks/ckpts/PerfNet/single_train2023-12-12_16-50-25\n"
     ]
    },
    {
     "name": "stderr",
     "output_type": "stream",
     "text": [
      " 96%|█████████▌| 29988/31250 [02:38<00:04, 257.29it/s]"
     ]
    },
    {
     "name": "stdout",
     "output_type": "stream",
     "text": [
      "[2023-12-12 17:15:33,396] {executor.py:139} INFO - ModelType.PerfNet trained for 1507.603593335 seconds.\n",
      "[2023-12-12 17:15:33,397] {executor.py:140} INFO - ModelType.PerfNet eval at step 280000.\n",
      "[2023-12-12 17:15:40,236] {executor.py:144} INFO - ModelType.PerfNet train loss: 0.17587611079216003, eval metrics: {'eval_loss': 0.07242857326887547, 'MRE': 0.17216576770027284, 'MAE': 0.20207263275093612, 'RMSE': 259.18631957484854}\n",
      "[2023-12-12 17:15:40,237] {executor.py:174} INFO - Saving model at step 280000 with loss 0.17587611079216003,save path: /root/guohao/repos/DLT-perf-model/notebooks/ckpts/PerfNet/single_train2023-12-12_16-50-25\n"
     ]
    },
    {
     "name": "stderr",
     "output_type": "stream",
     "text": [
      "100%|██████████| 31250/31250 [02:50<00:00, 183.46it/s]"
     ]
    },
    {
     "name": "stdout",
     "output_type": "stream",
     "text": [
      "[2023-12-12 17:15:45,504] {executor.py:122} INFO - ModelType.PerfNet training epoch 9\n"
     ]
    },
    {
     "name": "stderr",
     "output_type": "stream",
     "text": [
      "\n",
      " 12%|█▏        | 3726/31250 [00:14<01:46, 257.32it/s]"
     ]
    },
    {
     "name": "stdout",
     "output_type": "stream",
     "text": [
      "[2023-12-12 17:15:59,995] {executor.py:139} INFO - ModelType.PerfNet trained for 1534.201988016 seconds.\n",
      "[2023-12-12 17:15:59,995] {executor.py:140} INFO - ModelType.PerfNet eval at step 285000.\n",
      "[2023-12-12 17:16:06,900] {executor.py:144} INFO - ModelType.PerfNet train loss: 0.054679788649082184, eval metrics: {'eval_loss': 0.07570537822788581, 'MRE': 0.11852321064119212, 'MAE': 0.1039844191081396, 'RMSE': 120.63456772274839}\n",
      "[2023-12-12 17:16:06,900] {executor.py:174} INFO - Saving model at step 285000 with loss 0.054679788649082184,save path: /root/guohao/repos/DLT-perf-model/notebooks/ckpts/PerfNet/single_train2023-12-12_16-50-25\n"
     ]
    },
    {
     "name": "stderr",
     "output_type": "stream",
     "text": [
      " 28%|██▊       | 8742/31250 [00:41<01:27, 258.66it/s]"
     ]
    },
    {
     "name": "stdout",
     "output_type": "stream",
     "text": [
      "[2023-12-12 17:16:26,764] {executor.py:139} INFO - ModelType.PerfNet trained for 1560.971529766 seconds.\n",
      "[2023-12-12 17:16:26,765] {executor.py:140} INFO - ModelType.PerfNet eval at step 290000.\n",
      "[2023-12-12 17:16:33,619] {executor.py:144} INFO - ModelType.PerfNet train loss: 0.07931805402040482, eval metrics: {'eval_loss': 0.0726493539242819, 'MRE': 0.2120554573615646, 'MAE': 0.21446418457762223, 'RMSE': 193.75800606554424}\n",
      "[2023-12-12 17:16:33,621] {executor.py:174} INFO - Saving model at step 290000 with loss 0.07931805402040482,save path: /root/guohao/repos/DLT-perf-model/notebooks/ckpts/PerfNet/single_train2023-12-12_16-50-25\n"
     ]
    },
    {
     "name": "stderr",
     "output_type": "stream",
     "text": [
      " 44%|████▍     | 13748/31250 [01:11<01:24, 207.77it/s]"
     ]
    },
    {
     "name": "stdout",
     "output_type": "stream",
     "text": [
      "[2023-12-12 17:16:57,209] {executor.py:139} INFO - ModelType.PerfNet trained for 1591.416492516 seconds.\n",
      "[2023-12-12 17:16:57,210] {executor.py:140} INFO - ModelType.PerfNet eval at step 295000.\n",
      "[2023-12-12 17:17:04,979] {executor.py:144} INFO - ModelType.PerfNet train loss: 0.05582474544644356, eval metrics: {'eval_loss': 0.07471947868366725, 'MRE': 0.18072256362230726, 'MAE': 0.28731126010429064, 'RMSE': 412.1841025945775}\n",
      "[2023-12-12 17:17:04,979] {executor.py:174} INFO - Saving model at step 295000 with loss 0.05582474544644356,save path: /root/guohao/repos/DLT-perf-model/notebooks/ckpts/PerfNet/single_train2023-12-12_16-50-25\n"
     ]
    },
    {
     "name": "stderr",
     "output_type": "stream",
     "text": [
      " 60%|█████▉    | 18736/31250 [01:39<00:48, 260.70it/s]"
     ]
    },
    {
     "name": "stdout",
     "output_type": "stream",
     "text": [
      "[2023-12-12 17:17:25,121] {executor.py:139} INFO - ModelType.PerfNet trained for 1619.328070738 seconds.\n",
      "[2023-12-12 17:17:25,121] {executor.py:140} INFO - ModelType.PerfNet eval at step 300000.\n",
      "[2023-12-12 17:17:32,084] {executor.py:144} INFO - ModelType.PerfNet train loss: 0.07750588655471802, eval metrics: {'eval_loss': 0.07361459849371575, 'MRE': 0.1252012291606947, 'MAE': 0.19220243785609248, 'RMSE': 296.4308427746019}\n",
      "[2023-12-12 17:17:32,085] {executor.py:174} INFO - Saving model at step 300000 with loss 0.07750588655471802,save path: /root/guohao/repos/DLT-perf-model/notebooks/ckpts/PerfNet/single_train2023-12-12_16-50-25\n"
     ]
    },
    {
     "name": "stderr",
     "output_type": "stream",
     "text": [
      " 76%|███████▌  | 23742/31250 [02:06<00:34, 214.58it/s]"
     ]
    },
    {
     "name": "stdout",
     "output_type": "stream",
     "text": [
      "[2023-12-12 17:17:52,345] {executor.py:139} INFO - ModelType.PerfNet trained for 1646.552522635 seconds.\n",
      "[2023-12-12 17:17:52,346] {executor.py:140} INFO - ModelType.PerfNet eval at step 305000.\n",
      "[2023-12-12 17:18:00,641] {executor.py:144} INFO - ModelType.PerfNet train loss: 0.043364524841308594, eval metrics: {'eval_loss': 0.0725698015196994, 'MRE': 0.13719611969126214, 'MAE': 0.1660348740946485, 'RMSE': 188.55845975651258}\n",
      "[2023-12-12 17:18:00,642] {executor.py:174} INFO - Saving model at step 305000 with loss 0.043364524841308594,save path: /root/guohao/repos/DLT-perf-model/notebooks/ckpts/PerfNet/single_train2023-12-12_16-50-25\n"
     ]
    },
    {
     "name": "stderr",
     "output_type": "stream",
     "text": [
      " 92%|█████████▏| 28730/31250 [02:36<00:09, 256.57it/s]"
     ]
    },
    {
     "name": "stdout",
     "output_type": "stream",
     "text": [
      "[2023-12-12 17:18:21,687] {executor.py:139} INFO - ModelType.PerfNet trained for 1675.894373613 seconds.\n",
      "[2023-12-12 17:18:21,688] {executor.py:140} INFO - ModelType.PerfNet eval at step 310000.\n",
      "[2023-12-12 17:18:28,642] {executor.py:144} INFO - ModelType.PerfNet train loss: 0.05295690894126892, eval metrics: {'eval_loss': 0.07350873172537424, 'MRE': 0.11838478270214013, 'MAE': 0.16473305131615537, 'RMSE': 277.58092662839493}\n",
      "[2023-12-12 17:18:28,643] {executor.py:174} INFO - Saving model at step 310000 with loss 0.05295690894126892,save path: /root/guohao/repos/DLT-perf-model/notebooks/ckpts/PerfNet/single_train2023-12-12_16-50-25\n"
     ]
    },
    {
     "name": "stderr",
     "output_type": "stream",
     "text": [
      "100%|██████████| 31250/31250 [02:53<00:00, 180.26it/s]\n"
     ]
    },
    {
     "data": {
      "image/png": "[encoded data removed]",
      "text/plain": [
       "<Figure size 1500x500 with 4 Axes>"
      ]
     },
     "metadata": {},
     "output_type": "display_data"
    }
   ],
   "source": [
    "single_train_loop(model_type, conf, preprocessed_train_ds, preprocessed_eval_ds, model, compute_evaluate_metrics, to_device)"
   ]
  },
  {
   "cell_type": "code",
   "execution_count": null,
   "metadata": {},
   "outputs": [
    {
     "data": {
      "text/plain": [
       "<module 'executor' from '/root/guohao/repos/DLT-perf-model/notebooks/executor.py'>"
      ]
     },
     "execution_count": 52,
     "metadata": {},
     "output_type": "execute_result"
    }
   ],
   "source": [
    "from executor import grid_search_loop\n",
    "reload(executor)\n",
    "# grid_search_loop(\n",
    "#     model_type,\n",
    "#     conf,\n",
    "#     preprocessed_train_ds,\n",
    "#     preprocessed_eval_ds,\n",
    "#     compute_evaluate_metrics,\n",
    "#     to_device,\n",
    "#     init_model,\n",
    "# )"
   ]
  }
 ],
 "metadata": {
  "kernelspec": {
   "display_name": "DLT-perf-model",
   "language": "python",
   "name": "python3"
  },
  "language_info": {
   "codemirror_mode": {
    "name": "ipython",
    "version": 3
   },
   "file_extension": ".py",
   "mimetype": "text/x-python",
   "name": "python",
   "nbconvert_exporter": "python",
   "pygments_lexer": "ipython3",
   "version": "3.10.13"
  }
 },
 "nbformat": 4,
 "nbformat_minor": 2
}
