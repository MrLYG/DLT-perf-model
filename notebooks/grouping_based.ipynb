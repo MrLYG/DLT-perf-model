{
 "cells": [
  {
   "cell_type": "code",
   "execution_count": 1,
   "metadata": {},
   "outputs": [],
   "source": [
    "import numpy as np\n",
    "import torch\n",
    "import torch.nn as nn\n",
    "import torch.optim\n",
    "import torch.nn.functional as F\n",
    "from collections import defaultdict\n",
    "from typing import List, Dict\n",
    "from typing import Tuple, Any\n",
    "from torch.nn import MSELoss\n",
    "from sklearn.preprocessing import StandardScaler, MinMaxScaler"
   ]
  },
  {
   "cell_type": "code",
   "execution_count": 2,
   "metadata": {},
   "outputs": [
    {
     "name": "stdout",
     "output_type": "stream",
     "text": [
      "datasets_path: /home/yangzichao/repos/DLT-perf-model/datasets\n",
      "configs_path: /home/yangzichao/repos/DLT-perf-model/notebooks/configs\n",
      "datasets_path: /home/yangzichao/repos/DLT-perf-model/datasets\n",
      "configs_path: /home/yangzichao/repos/DLT-perf-model/notebooks/configs\n"
     ]
    }
   ],
   "source": [
    "from importlib import reload\n",
    "from config import Config\n",
    "import config\n",
    "from data import MDataset, Graph, GraphNode, load_graphs, save_dataset_pkl, load_dataset_pkl, save_scalers_pkl, load_scalers_pkl\n",
    "import data\n",
    "from base_module import MModule, pad_np_vectors\n",
    "import base_module\n",
    "from executor import single_train_loop, nested_detach\n",
    "import executor\n",
    "from objects import ModelType\n",
    "import objects\n",
    "from metric import MetricUtil\n",
    "import metric\n",
    "from logger import init_logging, logging\n",
    "import logger\n",
    "import gcn\n",
    "from gcn import GCNLayer\n",
    "import transformer\n",
    "from transformer import TransformerModel\n",
    "reload(config)\n",
    "reload(data)\n",
    "reload(base_module)\n",
    "reload(executor)\n",
    "reload(objects)\n",
    "reload(metric)\n",
    "reload(logger)\n",
    "reload(gcn)\n",
    "reload(transformer)\n",
    "from config import Config\n",
    "from data import MDataset, Graph, load_graphs\n",
    "from base_module import MModule\n",
    "from objects import ModelType\n",
    "from metric import MetricUtil\n",
    "from logger import init_logging\n",
    "from gcn import GCNLayer\n",
    "from transformer import TransformerModel\n",
    "init_logging()"
   ]
  },
  {
   "cell_type": "code",
   "execution_count": 3,
   "metadata": {},
   "outputs": [],
   "source": [
    "dataset_environment_str = \"RTX2080Ti_CPU100\"\n",
    "normalizer_cls = StandardScaler # MinMaxScaler\n",
    "dummy = False\n",
    "model_type = ModelType.MLPTestGrouping\n",
    "method_prefix = \"GroupingBased\""
   ]
  },
  {
   "cell_type": "code",
   "execution_count": 4,
   "metadata": {},
   "outputs": [
    {
     "name": "stdout",
     "output_type": "stream",
     "text": [
      "[2023-12-06 14:15:58,740] {data.py:331} INFO - Loading graphs train\n",
      "[2023-12-06 14:15:58,741] {data.py:302} INFO - Loading merged.csv\n",
      "[2023-12-06 14:15:59,360] {data.py:305} INFO - Loaded merged.csv, 500000 rows\n",
      "[2023-12-06 14:16:00,233] {data.py:311} INFO - Loaded rand_14500.143_7.csv, 2603 rows\n",
      "[2023-12-06 14:16:00,493] {data.py:311} INFO - Loaded mnasnet0_75.115_7.csv, 769 rows\n",
      "[2023-12-06 14:16:00,761] {data.py:311} INFO - Loaded vit_b_16.102_7.csv, 611 rows\n",
      "[2023-12-06 14:16:03,539] {data.py:311} INFO - Loaded rand_3000.231_7.csv, 8475 rows\n",
      "[2023-12-06 14:16:04,382] {data.py:311} INFO - Loaded rand_14500.106_7.csv, 2548 rows\n",
      "[2023-12-06 14:16:04,443] {data.py:311} INFO - Loaded vgg13.38_7.csv, 147 rows\n",
      "[2023-12-06 14:16:04,704] {data.py:311} INFO - Loaded mnasnet0_75.150_7.csv, 769 rows\n",
      "[2023-12-06 14:16:04,786] {data.py:311} INFO - Loaded vgg19.66_7.csv, 209 rows\n",
      "[2023-12-06 14:16:05,071] {data.py:311} INFO - Loaded shufflenet_v2_x1_5.91_7.csv, 847 rows\n",
      "[2023-12-06 14:16:05,524] {data.py:311} INFO - Loaded rand_1000.146_7.csv, 1366 rows\n",
      "[2023-12-06 14:16:06,181] {data.py:311} INFO - Loaded rand_15500.65_7.csv, 1979 rows\n",
      "[2023-12-06 14:16:06,512] {data.py:311} INFO - Loaded rand_15500.124_7.csv, 991 rows\n",
      "[2023-12-06 14:16:06,998] {data.py:311} INFO - Loaded rand_1000.103_7.csv, 1236 rows\n",
      "[2023-12-06 14:16:07,847] {data.py:311} INFO - Loaded rand_16500.234_7.csv, 2529 rows\n",
      "[2023-12-06 14:16:08,709] {data.py:311} INFO - Loaded rand_2000.256_7.csv, 2573 rows\n",
      "[2023-12-06 14:16:09,357] {data.py:311} INFO - Loaded rand_15500.20_7.csv, 1959 rows\n",
      "[2023-12-06 14:16:10,007] {data.py:311} INFO - Loaded rand_1000.44_7.csv, 1960 rows\n",
      "[2023-12-06 14:16:10,244] {data.py:311} INFO - Loaded rand_15500.161_7.csv, 680 rows\n",
      "[2023-12-06 14:16:10,476] {data.py:311} INFO - Loaded rand_9500.94_7.csv, 682 rows\n",
      "[2023-12-06 14:16:11,151] {data.py:311} INFO - Loaded swin_b.19_7.csv, 2014 rows\n",
      "[2023-12-06 14:16:11,420] {data.py:311} INFO - Loaded mnasnet0_75.42_7.csv, 771 rows\n",
      "[2023-12-06 14:16:14,339] {data.py:311} INFO - Loaded rand_3500.110_7.csv, 8606 rows\n",
      "[2023-12-06 14:16:15,288] {data.py:311} INFO - Loaded rand_8000.149_7.csv, 2877 rows\n",
      "[2023-12-06 14:16:15,395] {data.py:311} INFO - Loaded vgg16_bn.24_7.csv, 279 rows\n",
      "[2023-12-06 14:16:16,148] {data.py:311} INFO - Loaded efficientnet_b4.125_7.csv, 2232 rows\n",
      "[2023-12-06 14:16:16,900] {data.py:311} INFO - Loaded efficientnet_b4.90_7.csv, 2232 rows\n",
      "[2023-12-06 14:16:17,307] {data.py:311} INFO - Loaded vit_l_16.43_7.csv, 1187 rows\n",
      "[2023-12-06 14:16:17,669] {data.py:311} INFO - Loaded rand_8500.42_7.csv, 1066 rows\n",
      "[2023-12-06 14:16:18,028] {data.py:311} INFO - Loaded rand_3500.155_7.csv, 1075 rows\n",
      "[2023-12-06 14:16:18,104] {data.py:311} INFO - Loaded vgg11_bn.49_7.csv, 193 rows\n",
      "[2023-12-06 14:16:18,209] {data.py:311} INFO - Loaded vgg16_bn.61_7.csv, 283 rows\n",
      "[2023-12-06 14:16:18,870] {data.py:311} INFO - Loaded rand_8500.194_7.csv, 1985 rows\n",
      "[2023-12-06 14:16:19,398] {data.py:311} INFO - Loaded resnet101.46_7.csv, 1600 rows\n",
      "[2023-12-06 14:16:19,935] {data.py:311} INFO - Loaded wide_resnet101_2.96_7.csv, 1598 rows\n",
      "[2023-12-06 14:16:20,887] {data.py:311} INFO - Loaded rand_2500.177_7.csv, 2873 rows\n",
      "[2023-12-06 14:16:21,365] {data.py:311} INFO - Loaded swin_v2_t.55_7.csv, 1415 rows\n",
      "[2023-12-06 14:16:22,271] {data.py:311} INFO - Loaded efficientnet_b5.90_7.csv, 2707 rows\n",
      "[2023-12-06 14:16:22,506] {data.py:311} INFO - Loaded rand_1500.222_7.csv, 681 rows\n",
      "[2023-12-06 14:16:23,256] {data.py:311} INFO - Loaded rand_16500.46_7.csv, 1956 rows\n",
      "[2023-12-06 14:16:23,540] {data.py:311} INFO - Loaded convnext_tiny.64_7.csv, 837 rows\n",
      "[2023-12-06 14:16:24,183] {data.py:311} INFO - Loaded swin_b.103_7.csv, 1915 rows\n",
      "[2023-12-06 14:16:24,434] {data.py:311} INFO - Loaded rand_2000.22_7.csv, 724 rows\n",
      "[2023-12-06 14:16:24,833] {data.py:311} INFO - Loaded rand_16000.115_7.csv, 1205 rows\n",
      "[2023-12-06 14:16:25,118] {data.py:311} INFO - Loaded shufflenet_v2_x1_5.119_7.csv, 847 rows\n",
      "[2023-12-06 14:16:25,598] {data.py:311} INFO - Loaded swin_v2_t.10_7.csv, 1428 rows\n",
      "[2023-12-06 14:16:26,375] {data.py:311} INFO - Loaded rand_2500.132_7.csv, 2315 rows\n",
      "[2023-12-06 14:16:26,785] {data.py:311} INFO - Loaded rand_3000.188_7.csv, 1211 rows\n",
      "[2023-12-06 14:16:27,068] {data.py:311} INFO - Loaded convnext_tiny.21_7.csv, 839 rows\n",
      "[2023-12-06 14:16:27,927] {data.py:311} INFO - Loaded rand_2000.67_7.csv, 2608 rows\n",
      "[2023-12-06 14:16:28,575] {data.py:311} INFO - Loaded swin_s.50_7.csv, 1955 rows\n",
      "[2023-12-06 14:16:29,840] {data.py:311} INFO - Loaded rand_500.56_7.csv, 3807 rows\n",
      "[2023-12-06 14:16:31,105] {data.py:311} INFO - Loaded rand_14500.242_7.csv, 3808 rows\n",
      "[2023-12-06 14:16:31,440] {data.py:311} INFO - Loaded rand_3000.175_7.csv, 974 rows\n",
      "[2023-12-06 14:16:32,344] {data.py:311} INFO - Loaded efficientnet_b5.28_7.csv, 2707 rows\n",
      "[2023-12-06 14:16:33,031] {data.py:311} INFO - Loaded swin_s.15_7.csv, 2038 rows\n",
      "[2023-12-06 14:16:36,334] {data.py:311} INFO - Loaded rand_11500.93_7.csv, 9547 rows\n",
      "[2023-12-06 14:16:36,873] {data.py:311} INFO - Loaded efficientnet_b2.107_7.csv, 1602 rows\n",
      "[2023-12-06 14:16:38,769] {data.py:311} INFO - Loaded rand_500.13_7.csv, 5698 rows\n",
      "[2023-12-06 14:16:39,058] {data.py:311} INFO - Loaded convnext_tiny.99_7.csv, 837 rows\n",
      "[2023-12-06 14:16:39,260] {data.py:311} INFO - Loaded resnet34.59_7.csv, 563 rows\n",
      "[2023-12-06 14:16:39,677] {data.py:311} INFO - Loaded rand_14500.207_7.csv, 1227 rows\n",
      "[2023-12-06 14:16:39,974] {data.py:311} INFO - Loaded shufflenet_v2_x2_0.109_7.csv, 847 rows\n",
      "[2023-12-06 14:16:40,212] {data.py:311} INFO - Loaded rand_3000.130_7.csv, 682 rows\n",
      "[2023-12-06 14:16:42,104] {data.py:311} INFO - Loaded rand_15500.225_7.csv, 5700 rows\n",
      "[2023-12-06 14:16:42,848] {data.py:311} INFO - Loaded efficientnet_b4.28_7.csv, 2234 rows\n",
      "[2023-12-06 14:16:43,504] {data.py:311} INFO - Loaded rand_2000.112_7.csv, 1959 rows\n",
      "[2023-12-06 14:16:45,149] {data.py:311} INFO - Loaded rand_16500.170_7.csv, 4975 rows\n",
      "[2023-12-06 14:16:46,772] {data.py:311} INFO - Loaded rand_1000.247_7.csv, 4946 rows\n",
      "[2023-12-06 14:16:48,577] {data.py:311} INFO - Loaded rand_13500.23_7.csv, 4970 rows\n",
      "[2023-12-06 14:16:48,862] {data.py:311} INFO - Loaded wide_resnet50_2.43_7.csv, 818 rows\n",
      "[2023-12-06 14:16:49,854] {data.py:311} INFO - Loaded rand_2000.157_7.csv, 2982 rows\n",
      "[2023-12-06 14:16:50,960] {data.py:311} INFO - Loaded rand_16500.135_7.csv, 3328 rows\n",
      "[2023-12-06 14:16:52,445] {data.py:311} INFO - Loaded rand_1000.202_7.csv, 4447 rows\n",
      "[2023-12-06 14:16:52,806] {data.py:311} INFO - Loaded rand_13500.66_7.csv, 1062 rows\n",
      "[2023-12-06 14:16:54,288] {data.py:311} INFO - Loaded rand_6000.91_7.csv, 4425 rows\n",
      "[2023-12-06 14:16:54,394] {data.py:311} INFO - Loaded squeezenet1_1.10_7.csv, 280 rows\n",
      "[2023-12-06 14:16:55,154] {data.py:311} INFO - Loaded rand_3500.211_7.csv, 2295 rows\n",
      "[2023-12-06 14:16:55,390] {data.py:311} INFO - Loaded rand_9500.69_7.csv, 682 rows\n",
      "[2023-12-06 14:16:55,606] {data.py:311} INFO - Loaded vit_b_16.7_7.csv, 633 rows\n",
      "[2023-12-06 14:16:55,881] {data.py:311} INFO - Loaded regnet_x_800mf.26_7.csv, 814 rows\n",
      "[2023-12-06 14:16:55,985] {data.py:311} INFO - Loaded squeezenet1_1.55_7.csv, 280 rows\n",
      "[2023-12-06 14:16:59,094] {data.py:311} INFO - Loaded rand_15500.98_7.csv, 9425 rows\n",
      "[2023-12-06 14:17:00,656] {data.py:311} INFO - Loaded efficientnet_v2_l.44_7.csv, 4801 rows\n",
      "[2023-12-06 14:17:00,773] {data.py:311} INFO - Loaded resnet18.10_7.csv, 315 rows\n",
      "[2023-12-06 14:17:01,153] {data.py:311} INFO - Loaded rand_16500.3_7.csv, 1141 rows\n",
      "[2023-12-06 14:17:01,565] {data.py:311} INFO - Loaded rand_1500.123_7.csv, 1227 rows\n",
      "[2023-12-06 14:17:01,672] {data.py:311} INFO - Loaded squeezenet1_0.10_7.csv, 280 rows\n",
      "[2023-12-06 14:17:02,760] {data.py:311} INFO - Loaded rand_4000.64_7.csv, 3333 rows\n",
      "[2023-12-06 14:17:03,088] {data.py:311} INFO - Loaded rand_1500.166_7.csv, 971 rows\n",
      "[2023-12-06 14:17:03,373] {data.py:311} INFO - Loaded shufflenet_v2_x1_5.29_7.csv, 847 rows\n",
      "[2023-12-06 14:17:04,022] {data.py:311} INFO - Loaded rand_15000.104_7.csv, 1969 rows\n",
      "[2023-12-06 14:17:04,312] {data.py:311} INFO - Loaded shufflenet_v2_x0_5.132_7.csv, 847 rows\n",
      "[2023-12-06 14:17:04,417] {data.py:311} INFO - Loaded squeezenet1_0.55_7.csv, 280 rows\n",
      "[2023-12-06 14:17:06,259] {data.py:311} INFO - Loaded rand_4000.21_7.csv, 4969 rows\n",
      "[2023-12-06 14:17:06,320] {data.py:311} INFO - Loaded vgg13.80_7.csv, 145 rows\n",
      "[2023-12-06 14:17:09,129] {data.py:311} INFO - Loaded rand_10500.45_7.csv, 8538 rows\n",
      "[2023-12-06 14:17:10,273] {data.py:311} INFO - Loaded efficientnet_v2_m.44_7.csv, 3469 rows\n",
      "[2023-12-06 14:17:10,806] {data.py:311} INFO - Loaded efficientnet_b1.116_7.csv, 1604 rows\n",
      "[2023-12-06 14:17:11,081] {data.py:311} INFO - Loaded resnet50.129_7.csv, 816 rows\n",
      "[2023-12-06 14:17:11,564] {data.py:311} INFO - Loaded inception_v3.70_7.csv, 1464 rows\n",
      "[2023-12-06 14:17:11,826] {data.py:311} INFO - Loaded rand_13500.106_7.csv, 773 rows\n",
      "[2023-12-06 14:17:12,112] {data.py:311} INFO - Loaded shufflenet_v2_x2_0.55_7.csv, 849 rows\n",
      "[2023-12-06 14:17:12,410] {data.py:311} INFO - Loaded mobilenet_v3_large.100_7.csv, 886 rows\n",
      "[2023-12-06 14:17:13,515] {data.py:311} INFO - Loaded rand_10500.253_7.csv, 3336 rows\n",
      "[2023-12-06 14:17:14,401] {data.py:311} INFO - Loaded efficientnet_b5.102_7.csv, 2707 rows\n",
      "[2023-12-06 14:17:15,352] {data.py:311} INFO - Loaded swin_v2_b.85_7.csv, 2835 rows\n",
      "[2023-12-06 14:17:15,641] {data.py:311} INFO - Loaded shufflenet_v2_x2_0.10_7.csv, 847 rows\n",
      "[2023-12-06 14:17:16,124] {data.py:311} INFO - Loaded inception_v3.35_7.csv, 1466 rows\n",
      "[2023-12-06 14:17:16,567] {data.py:311} INFO - Loaded rand_5500.92_7.csv, 1324 rows\n",
      "[2023-12-06 14:17:16,868] {data.py:311} INFO - Loaded mobilenet_v3_large.145_7.csv, 886 rows\n",
      "[2023-12-06 14:17:17,100] {data.py:311} INFO - Loaded rand_10500.216_7.csv, 680 rows\n",
      "[2023-12-06 14:17:17,960] {data.py:311} INFO - Loaded rand_11500.234_7.csv, 2603 rows\n"
     ]
    },
    {
     "ename": "KeyboardInterrupt",
     "evalue": "",
     "output_type": "error",
     "traceback": [
      "\u001b[0;31m---------------------------------------------------------------------------\u001b[0m",
      "\u001b[0;31mKeyboardInterrupt\u001b[0m                         Traceback (most recent call last)",
      "\u001b[1;32m/home/yangzichao/repos/DLT-perf-model/notebooks/grouping_based.ipynb 单元格 4\u001b[0m line \u001b[0;36m1\n\u001b[0;32m----> <a href='vscode-notebook-cell://ssh-remote%2Byzchnb.oicp.io/home/yangzichao/repos/DLT-perf-model/notebooks/grouping_based.ipynb#W3sdnNjb2RlLXJlbW90ZQ%3D%3D?line=0'>1</a>\u001b[0m eval_graphs \u001b[39m=\u001b[39m load_graphs(dataset_environment_str,\n\u001b[1;32m      <a href='vscode-notebook-cell://ssh-remote%2Byzchnb.oicp.io/home/yangzichao/repos/DLT-perf-model/notebooks/grouping_based.ipynb#W3sdnNjb2RlLXJlbW90ZQ%3D%3D?line=1'>2</a>\u001b[0m                             train_or_eval\u001b[39m=\u001b[39;49m\u001b[39m\"\u001b[39;49m\u001b[39mtrain\u001b[39;49m\u001b[39m\"\u001b[39;49m,\n\u001b[1;32m      <a href='vscode-notebook-cell://ssh-remote%2Byzchnb.oicp.io/home/yangzichao/repos/DLT-perf-model/notebooks/grouping_based.ipynb#W3sdnNjb2RlLXJlbW90ZQ%3D%3D?line=2'>3</a>\u001b[0m                             use_dummy\u001b[39m=\u001b[39;49mdummy,\n\u001b[1;32m      <a href='vscode-notebook-cell://ssh-remote%2Byzchnb.oicp.io/home/yangzichao/repos/DLT-perf-model/notebooks/grouping_based.ipynb#W3sdnNjb2RlLXJlbW90ZQ%3D%3D?line=3'>4</a>\u001b[0m                             max_row\u001b[39m=\u001b[39;49m\u001b[39m500_000\u001b[39;49m)\n\u001b[1;32m      <a href='vscode-notebook-cell://ssh-remote%2Byzchnb.oicp.io/home/yangzichao/repos/DLT-perf-model/notebooks/grouping_based.ipynb#W3sdnNjb2RlLXJlbW90ZQ%3D%3D?line=4'>5</a>\u001b[0m train_graphs \u001b[39m=\u001b[39m load_graphs(dataset_environment_str,\n\u001b[1;32m      <a href='vscode-notebook-cell://ssh-remote%2Byzchnb.oicp.io/home/yangzichao/repos/DLT-perf-model/notebooks/grouping_based.ipynb#W3sdnNjb2RlLXJlbW90ZQ%3D%3D?line=5'>6</a>\u001b[0m                             train_or_eval\u001b[39m=\u001b[39m\u001b[39m\"\u001b[39m\u001b[39mtrain\u001b[39m\u001b[39m\"\u001b[39m,\n\u001b[1;32m      <a href='vscode-notebook-cell://ssh-remote%2Byzchnb.oicp.io/home/yangzichao/repos/DLT-perf-model/notebooks/grouping_based.ipynb#W3sdnNjb2RlLXJlbW90ZQ%3D%3D?line=6'>7</a>\u001b[0m                             use_dummy\u001b[39m=\u001b[39mdummy,\n\u001b[1;32m      <a href='vscode-notebook-cell://ssh-remote%2Byzchnb.oicp.io/home/yangzichao/repos/DLT-perf-model/notebooks/grouping_based.ipynb#W3sdnNjb2RlLXJlbW90ZQ%3D%3D?line=7'>8</a>\u001b[0m                             max_row\u001b[39m=\u001b[39m\u001b[39m5_000_000\u001b[39m)\n",
      "File \u001b[0;32m~/repos/DLT-perf-model/notebooks/data.py:332\u001b[0m, in \u001b[0;36mload_graphs\u001b[0;34m(environment, train_or_eval, use_dummy, max_row)\u001b[0m\n\u001b[1;32m    329\u001b[0m     \u001b[39mreturn\u001b[39;00m _graphs\n\u001b[1;32m    331\u001b[0m logging\u001b[39m.\u001b[39minfo(\u001b[39mf\u001b[39m\u001b[39m\"\u001b[39m\u001b[39mLoading graphs \u001b[39m\u001b[39m{\u001b[39;00mtrain_or_eval\u001b[39m}\u001b[39;00m\u001b[39m\"\u001b[39m)\n\u001b[0;32m--> 332\u001b[0m graphs \u001b[39m=\u001b[39m _load_graphs()\n\u001b[1;32m    333\u001b[0m \u001b[39mreturn\u001b[39;00m graphs\n",
      "File \u001b[0;32m~/repos/DLT-perf-model/notebooks/data.py:310\u001b[0m, in \u001b[0;36mload_graphs.<locals>._load_graphs\u001b[0;34m()\u001b[0m\n\u001b[1;32m    308\u001b[0m \u001b[39mfor\u001b[39;00m filename \u001b[39min\u001b[39;00m filenames:\n\u001b[1;32m    309\u001b[0m     filecsv \u001b[39m=\u001b[39m csv\u001b[39m.\u001b[39mloc[csv[\u001b[39m\"\u001b[39m\u001b[39mfilename\u001b[39m\u001b[39m\"\u001b[39m] \u001b[39m==\u001b[39m filename]\n\u001b[0;32m--> 310\u001b[0m     graph \u001b[39m=\u001b[39m Graph\u001b[39m.\u001b[39;49mfrom_data(environment, filename\u001b[39m=\u001b[39;49mfilename, df\u001b[39m=\u001b[39;49mfilecsv)\n\u001b[1;32m    311\u001b[0m     logging\u001b[39m.\u001b[39minfo(\u001b[39mf\u001b[39m\u001b[39m\"\u001b[39m\u001b[39mLoaded \u001b[39m\u001b[39m{\u001b[39;00mfilename\u001b[39m}\u001b[39;00m\u001b[39m, \u001b[39m\u001b[39m{\u001b[39;00m\u001b[39mlen\u001b[39m(filecsv)\u001b[39m}\u001b[39;00m\u001b[39m rows\u001b[39m\u001b[39m\"\u001b[39m)\n\u001b[1;32m    312\u001b[0m     _graphs\u001b[39m.\u001b[39mappend(graph)\n",
      "File \u001b[0;32m~/repos/DLT-perf-model/notebooks/data.py:223\u001b[0m, in \u001b[0;36mGraph.from_data\u001b[0;34m(env, filename, df, dummy, seed)\u001b[0m\n\u001b[1;32m    221\u001b[0m kduration \u001b[39m=\u001b[39m \u001b[39mint\u001b[39m(df\u001b[39m.\u001b[39miloc[i][\u001b[39m\"\u001b[39m\u001b[39mkduration\u001b[39m\u001b[39m\"\u001b[39m]) \u001b[39m/\u001b[39m \u001b[39m1000.\u001b[39m  \u001b[39m# us\u001b[39;00m\n\u001b[1;32m    222\u001b[0m space \u001b[39m=\u001b[39m \u001b[39mint\u001b[39m(df\u001b[39m.\u001b[39miloc[i][\u001b[39m\"\u001b[39m\u001b[39mspace\u001b[39m\u001b[39m\"\u001b[39m]) \u001b[39m/\u001b[39m \u001b[39m1000.\u001b[39m  \u001b[39m# us\u001b[39;00m\n\u001b[0;32m--> 223\u001b[0m batch_size \u001b[39m=\u001b[39m \u001b[39mint\u001b[39m(df\u001b[39m.\u001b[39;49miloc[i][\u001b[39m\"\u001b[39m\u001b[39mbatch\u001b[39m\u001b[39m\"\u001b[39m])\n\u001b[1;32m    224\u001b[0m op \u001b[39m=\u001b[39m Operator(operator_type_id\u001b[39m=\u001b[39moperator_type_id,\n\u001b[1;32m    225\u001b[0m               operator_mode\u001b[39m=\u001b[39moperator_mode,\n\u001b[1;32m    226\u001b[0m               FLOPS\u001b[39m=\u001b[39mflops,\n\u001b[1;32m    227\u001b[0m               \u001b[39mbytes\u001b[39m\u001b[39m=\u001b[39m\u001b[39mbytes\u001b[39m,\n\u001b[1;32m    228\u001b[0m               batch_size\u001b[39m=\u001b[39mbatch_size,\n\u001b[1;32m    229\u001b[0m               hyper_parameters\u001b[39m=\u001b[39mop_hyper_parameters)\n\u001b[1;32m    230\u001b[0m current_node \u001b[39m=\u001b[39m GraphNode(i,\n\u001b[1;32m    231\u001b[0m                          op,\n\u001b[1;32m    232\u001b[0m                          duration\u001b[39m=\u001b[39mkduration,\n\u001b[1;32m    233\u001b[0m                          gap\u001b[39m=\u001b[39mspace)\n",
      "File \u001b[0;32m~/anaconda3/envs/DLT-perf-model/lib/python3.10/site-packages/pandas/core/indexing.py:1153\u001b[0m, in \u001b[0;36m_LocationIndexer.__getitem__\u001b[0;34m(self, key)\u001b[0m\n\u001b[1;32m   1150\u001b[0m axis \u001b[39m=\u001b[39m \u001b[39mself\u001b[39m\u001b[39m.\u001b[39maxis \u001b[39mor\u001b[39;00m \u001b[39m0\u001b[39m\n\u001b[1;32m   1152\u001b[0m maybe_callable \u001b[39m=\u001b[39m com\u001b[39m.\u001b[39mapply_if_callable(key, \u001b[39mself\u001b[39m\u001b[39m.\u001b[39mobj)\n\u001b[0;32m-> 1153\u001b[0m \u001b[39mreturn\u001b[39;00m \u001b[39mself\u001b[39;49m\u001b[39m.\u001b[39;49m_getitem_axis(maybe_callable, axis\u001b[39m=\u001b[39;49maxis)\n",
      "File \u001b[0;32m~/anaconda3/envs/DLT-perf-model/lib/python3.10/site-packages/pandas/core/indexing.py:1716\u001b[0m, in \u001b[0;36m_iLocIndexer._getitem_axis\u001b[0;34m(self, key, axis)\u001b[0m\n\u001b[1;32m   1713\u001b[0m \u001b[39m# validate the location\u001b[39;00m\n\u001b[1;32m   1714\u001b[0m \u001b[39mself\u001b[39m\u001b[39m.\u001b[39m_validate_integer(key, axis)\n\u001b[0;32m-> 1716\u001b[0m \u001b[39mreturn\u001b[39;00m \u001b[39mself\u001b[39;49m\u001b[39m.\u001b[39;49mobj\u001b[39m.\u001b[39;49m_ixs(key, axis\u001b[39m=\u001b[39;49maxis)\n",
      "File \u001b[0;32m~/anaconda3/envs/DLT-perf-model/lib/python3.10/site-packages/pandas/core/frame.py:3792\u001b[0m, in \u001b[0;36mDataFrame._ixs\u001b[0;34m(self, i, axis)\u001b[0m\n\u001b[1;32m   3790\u001b[0m \u001b[39m# irow\u001b[39;00m\n\u001b[1;32m   3791\u001b[0m \u001b[39mif\u001b[39;00m axis \u001b[39m==\u001b[39m \u001b[39m0\u001b[39m:\n\u001b[0;32m-> 3792\u001b[0m     new_mgr \u001b[39m=\u001b[39m \u001b[39mself\u001b[39;49m\u001b[39m.\u001b[39;49m_mgr\u001b[39m.\u001b[39;49mfast_xs(i)\n\u001b[1;32m   3794\u001b[0m     \u001b[39m# if we are a copy, mark as such\u001b[39;00m\n\u001b[1;32m   3795\u001b[0m     copy \u001b[39m=\u001b[39m \u001b[39misinstance\u001b[39m(new_mgr\u001b[39m.\u001b[39marray, np\u001b[39m.\u001b[39mndarray) \u001b[39mand\u001b[39;00m new_mgr\u001b[39m.\u001b[39marray\u001b[39m.\u001b[39mbase \u001b[39mis\u001b[39;00m \u001b[39mNone\u001b[39;00m\n",
      "File \u001b[0;32m~/anaconda3/envs/DLT-perf-model/lib/python3.10/site-packages/pandas/core/internals/managers.py:989\u001b[0m, in \u001b[0;36mBlockManager.fast_xs\u001b[0;34m(self, loc)\u001b[0m\n\u001b[1;32m    987\u001b[0m bp \u001b[39m=\u001b[39m BlockPlacement(\u001b[39mslice\u001b[39m(\u001b[39m0\u001b[39m, \u001b[39mlen\u001b[39m(result)))\n\u001b[1;32m    988\u001b[0m block \u001b[39m=\u001b[39m new_block(result, placement\u001b[39m=\u001b[39mbp, ndim\u001b[39m=\u001b[39m\u001b[39m1\u001b[39m)\n\u001b[0;32m--> 989\u001b[0m \u001b[39mreturn\u001b[39;00m SingleBlockManager(block, \u001b[39mself\u001b[39;49m\u001b[39m.\u001b[39;49maxes[\u001b[39m0\u001b[39;49m])\n",
      "File \u001b[0;32m~/anaconda3/envs/DLT-perf-model/lib/python3.10/site-packages/pandas/core/internals/managers.py:1799\u001b[0m, in \u001b[0;36mSingleBlockManager.__init__\u001b[0;34m(self, block, axis, verify_integrity)\u001b[0m\n\u001b[1;32m   1796\u001b[0m \u001b[39m__slots__\u001b[39m \u001b[39m=\u001b[39m ()\n\u001b[1;32m   1797\u001b[0m is_single_block \u001b[39m=\u001b[39m \u001b[39mTrue\u001b[39;00m\n\u001b[0;32m-> 1799\u001b[0m \u001b[39mdef\u001b[39;00m \u001b[39m__init__\u001b[39m(\n\u001b[1;32m   1800\u001b[0m     \u001b[39mself\u001b[39m,\n\u001b[1;32m   1801\u001b[0m     block: Block,\n\u001b[1;32m   1802\u001b[0m     axis: Index,\n\u001b[1;32m   1803\u001b[0m     verify_integrity: \u001b[39mbool\u001b[39m \u001b[39m=\u001b[39m \u001b[39mFalse\u001b[39;00m,\n\u001b[1;32m   1804\u001b[0m ) \u001b[39m-\u001b[39m\u001b[39m>\u001b[39m \u001b[39mNone\u001b[39;00m:\n\u001b[1;32m   1805\u001b[0m     \u001b[39m# Assertions disabled for performance\u001b[39;00m\n\u001b[1;32m   1806\u001b[0m     \u001b[39m# assert isinstance(block, Block), type(block)\u001b[39;00m\n\u001b[1;32m   1807\u001b[0m     \u001b[39m# assert isinstance(axis, Index), type(axis)\u001b[39;00m\n\u001b[1;32m   1809\u001b[0m     \u001b[39mself\u001b[39m\u001b[39m.\u001b[39maxes \u001b[39m=\u001b[39m [axis]\n\u001b[1;32m   1810\u001b[0m     \u001b[39mself\u001b[39m\u001b[39m.\u001b[39mblocks \u001b[39m=\u001b[39m (block,)\n",
      "\u001b[0;31mKeyboardInterrupt\u001b[0m: "
     ]
    }
   ],
   "source": [
    "\n",
    "eval_graphs = load_graphs(dataset_environment_str,\n",
    "                            train_or_eval=\"train\",\n",
    "                            use_dummy=dummy,\n",
    "                            max_row=500_000)\n",
    "train_graphs = load_graphs(dataset_environment_str,\n",
    "                            train_or_eval=\"train\",\n",
    "                            use_dummy=dummy,\n",
    "                            max_row=5_000_000)"
   ]
  },
  {
   "cell_type": "code",
   "execution_count": null,
   "metadata": {},
   "outputs": [
    {
     "data": {
      "text/plain": [
       "56"
      ]
     },
     "execution_count": 53,
     "metadata": {},
     "output_type": "execute_result"
    }
   ],
   "source": []
  },
  {
   "cell_type": "code",
   "execution_count": null,
   "metadata": {},
   "outputs": [],
   "source": [
    "train_configs = {\n",
    "    ModelType.MLPTestGrouping.name: Config.from_dict({\n",
    "        \"model\": \"MLPTestGrouping\",\n",
    "        \"all_seed\": 42,\n",
    "        \"dataset_environment_str\": dataset_environment_str,\n",
    "        \"dataset_subgraph_grouping_count\": 10,\n",
    "        \"dataset_params\": {\n",
    "            \"duration_summed\": False,\n",
    "        },\n",
    "        \"dataset_dummy\": True,\n",
    "        \"batch_size\": 16,\n",
    "        \"eval_steps\": 100,\n",
    "        \"learning_rate\": 1e-3,\n",
    "        \"epochs\": 100,\n",
    "        \"optimizer\": \"Adam\",\n",
    "        \"meta_configs\": {\n",
    "            \"learning_rate\": 0.005,\n",
    "            \"meta_learning_rate\": 0.001,\n",
    "            \"meta_train_steps\": 1000,\n",
    "            \"meta_fast_adaption_step\": 5,\n",
    "            \"meta_dataset_train_environment_strs\": [dataset_environment_str],\n",
    "            \"meta_dataset_eval_environment_strs\": [dataset_environment_str],\n",
    "        },\n",
    "    }),\n",
    "    ModelType.GCNGrouping.name: Config.from_dict({\n",
    "        \"model\": \"GCNGrouping\",\n",
    "        \"dataset_environment_str\": dataset_environment_str,\n",
    "        \"dataset_subgraph_grouping_count\": 10,\n",
    "        \"all_seed\": 42,\n",
    "        \"dataset_params\": {\n",
    "            \"duration_summed\": False,\n",
    "        },\n",
    "        \"dataset_dummy\": True,\n",
    "        \"batch_size\": 16,\n",
    "        \"eval_steps\": 100,\n",
    "        \"learning_rate\": 1e-3,\n",
    "        \"epochs\": 100,\n",
    "        \"optimizer\": \"Adam\",\n",
    "        \"meta_configs\": {\n",
    "            \"learning_rate\": 0.005,\n",
    "            \"meta_learning_rate\": 0.001,\n",
    "            \"meta_train_steps\": 1000,\n",
    "            \"meta_fast_adaption_step\": 5,\n",
    "            \"meta_dataset_train_environment_strs\": [dataset_environment_str],\n",
    "            \"meta_dataset_eval_environment_strs\": [dataset_environment_str],\n",
    "        },\n",
    "    }),\n",
    "}\n",
    "\n",
    "conf: Config = train_configs[model_type.name]"
   ]
  },
  {
   "cell_type": "code",
   "execution_count": null,
   "metadata": {},
   "outputs": [],
   "source": [
    "def full_graph_feature(graph: Graph, subgraph_count: int = 10, dataset_params: Dict = {}) -> Tuple[\n",
    "    Dict[str, np.ndarray], Dict]:\n",
    "    subgraphs, node_id_to_group_idx = graph.subgraphs(subgraph_count=subgraph_count)\n",
    "\n",
    "    feature_matrix = list()\n",
    "    for subgraph in subgraphs:\n",
    "        subgraph_features = list()\n",
    "        for node in subgraph:\n",
    "            node_feature = np.array(node.op.to_feature_array(\n",
    "                mode=dataset_params.get(\"mode\", \"complex\")))\n",
    "            subgraph_features.append(node_feature)\n",
    "        if len(subgraph_features) == 0:\n",
    "            feature_matrix.append(np.zeros(1))\n",
    "            continue\n",
    "        subgraph_features = pad_np_vectors(subgraph_features)\n",
    "        feature = np.sum(subgraph_features, axis=0)\n",
    "        feature = np.append(feature, len(subgraph))\n",
    "        feature_matrix.append(feature)\n",
    "    adj_matrix = [\n",
    "            [0.] * len(subgraphs) for _ in range(len(subgraphs))\n",
    "    ]\n",
    "    for curr_idx in range(len(subgraphs)):\n",
    "        if curr_idx + 1 < len(subgraphs):\n",
    "            adj_matrix[curr_idx][curr_idx+1] = 1.\n",
    "\n",
    "    adj_matrix = np.array(adj_matrix)\n",
    "\n",
    "    # adjacency_matrix = list()\n",
    "    # for i, subgraph in enumerate(subgraphs):\n",
    "    #     vector = np.zeros(len(subgraphs) + 1)\n",
    "    #     for node in subgraph:\n",
    "    #         neighbor_group_indices = list()\n",
    "    #         for neighbor in node.neighbors:\n",
    "    #             neighbor_group_idx = node_id_to_group_idx[neighbor.node_id]\n",
    "    #             if neighbor_group_idx != i:\n",
    "    #                 neighbor_group_indices.append(neighbor_group_idx)\n",
    "    #         for idx in neighbor_group_indices:\n",
    "    #             vector[idx] = 1\n",
    "    #     adjacency_matrix.append(vector)\n",
    "\n",
    "    feature_matrix = pad_np_vectors(feature_matrix)\n",
    "    feature_matrix = np.array(feature_matrix)\n",
    "    adj_matrix = np.array(adj_matrix)\n",
    "\n",
    "    x = {\n",
    "        \"x_graph_id\": graph.ID,\n",
    "        \"x_feature_matrix\": feature_matrix,\n",
    "        \"x_adjacency_matrix\": adj_matrix,\n",
    "    }\n",
    "    y = {\n",
    "        \"y_graph_id\": graph.ID,\n",
    "        \"y_graph_duration\": (graph.graph_duration,)\n",
    "    }\n",
    "    return x, y\n",
    "\n",
    "def init_dataset(graphs: List[Graph]) -> MDataset:\n",
    "    X = list()\n",
    "    Y = list()\n",
    "\n",
    "    feature_matrix_maxsize = 0\n",
    "    adjacency_matrix_maxsize = 0\n",
    "\n",
    "    for graph in graphs:\n",
    "        x, y = full_graph_feature(graph,\n",
    "                                subgraph_count=conf.dataset_subgraph_grouping_count,\n",
    "                                dataset_params=conf.dataset_params)\n",
    "        feature_matrix_size = len(x[\"x_feature_matrix\"][0])\n",
    "        adjacency_matrix_size = len(x[\"x_adjacency_matrix\"][0])\n",
    "        feature_matrix_maxsize = max(feature_matrix_maxsize, feature_matrix_size)\n",
    "        adjacency_matrix_maxsize = max(adjacency_matrix_maxsize, adjacency_matrix_size)\n",
    "\n",
    "        X.append(x)\n",
    "        Y.append(y)\n",
    "    for x in X:\n",
    "        x[\"x_feature_matrix\"] = pad_np_vectors(x[\"x_feature_matrix\"], maxsize=feature_matrix_maxsize)\n",
    "        x[\"x_adjacency_matrix\"] = pad_np_vectors(x[\"x_adjacency_matrix\"], maxsize=adjacency_matrix_maxsize)\n",
    "\n",
    "    dataset = MDataset(X, Y)\n",
    "    return dataset\n",
    "\n",
    "train_ds = init_dataset(train_graphs)\n",
    "eval_ds = init_dataset(eval_graphs)"
   ]
  },
  {
   "cell_type": "code",
   "execution_count": null,
   "metadata": {},
   "outputs": [],
   "source": [
    "def get_scalers(ds: MDataset):\n",
    "    scaler_cls = conf.dataset_normalizer_cls\n",
    "    graph_feature_array = list()\n",
    "    y_array = list()\n",
    "\n",
    "    for data in ds:\n",
    "        feature, label = data\n",
    "        x_feature_matrix = feature[\"x_feature_matrix\"]\n",
    "        assert isinstance(x_feature_matrix, list)\n",
    "        graph_feature_array.extend(x_feature_matrix)\n",
    "        y_array.append(label[\"y_graph_duration\"])\n",
    "\n",
    "    graph_feature_array = np.array(graph_feature_array)\n",
    "    y_array = np.array(y_array)\n",
    "\n",
    "    graph_feature_scaler = scaler_cls()\n",
    "    graph_feature_scaler.fit(graph_feature_array)\n",
    "\n",
    "    y_scaler = scaler_cls()\n",
    "    y_scaler.fit(y_array)\n",
    "    return graph_feature_scaler, y_scaler\n",
    "\n",
    "scalers = get_scalers(train_ds)\n",
    "graph_feature_scaler, y_scaler = scalers\n"
   ]
  },
  {
   "cell_type": "code",
   "execution_count": null,
   "metadata": {},
   "outputs": [],
   "source": [
    "def preprocess_dataset(ds: MDataset) -> MDataset:\n",
    "    y_array = list()\n",
    "\n",
    "    graph_feature_scaler, y_scaler = scalers\n",
    "    graph_feature_arrays = list()\n",
    "    for data in ds:\n",
    "        feature, label = data\n",
    "        # x. transform for each x feature matrix. do not merge them.\n",
    "        x_feature_matrix = feature[\"x_feature_matrix\"]\n",
    "        x_feature_matrix = np.array(x_feature_matrix, dtype=np.float32)\n",
    "        graph_feature_array = graph_feature_scaler.transform(x_feature_matrix)\n",
    "        graph_feature_arrays.append(graph_feature_array)\n",
    "        # y. transform altogether\n",
    "        y_array.append(label[\"y_graph_duration\"])\n",
    "\n",
    "    y_array = np.array(y_array, dtype=np.float32)\n",
    "    y_array = y_scaler.transform(y_array)\n",
    "\n",
    "    processed_features = list()\n",
    "    processed_labels = list()\n",
    "    for i, data in enumerate(ds):\n",
    "        feature, label = data\n",
    "        x_adjacency_matrix = np.array(feature[\"x_adjacency_matrix\"], dtype=np.float32)\n",
    "        processed_features.append({\n",
    "            \"x_graph_id\": feature[\"x_graph_id\"],\n",
    "            \"x_feature_matrix\": torch.Tensor(graph_feature_arrays[i]),\n",
    "            \"x_adjacency_matrix\": torch.Tensor(x_adjacency_matrix)\n",
    "        })\n",
    "        processed_labels.append({\n",
    "            \"y_graph_id\": label[\"y_graph_id\"],\n",
    "            \"y_graph_duration\": torch.Tensor(y_array[i]),\n",
    "        })\n",
    "\n",
    "    ds = MDataset(processed_features, processed_labels)\n",
    "    return ds\n",
    "\n",
    "preprocessed_train_ds = preprocess_dataset(train_ds)\n",
    "preprocessed_eval_ds = preprocess_dataset(eval_ds)\n"
   ]
  },
  {
   "cell_type": "code",
   "execution_count": null,
   "metadata": {},
   "outputs": [],
   "source": [
    "\n",
    "save_dataset_pkl(preprocessed_train_ds, conf.dataset_environment, method_prefix, 'train',\n",
    "                         conf.dataset_normalization)\n",
    "save_dataset_pkl(preprocessed_eval_ds, conf.dataset_environment, method_prefix, 'eval',\n",
    "                         conf.dataset_normalization)\n",
    "save_scalers_pkl(scalers, conf.dataset_environment, method_prefix, 'train',\n",
    "                         conf.dataset_normalization)"
   ]
  },
  {
   "cell_type": "code",
   "execution_count": null,
   "metadata": {},
   "outputs": [
    {
     "name": "stdout",
     "output_type": "stream",
     "text": [
      "Loading dataset RTX2080Ti_CPU100 GroupingBased train Standard\n",
      "Loading dataset RTX2080Ti_CPU100 GroupingBased eval Standard\n",
      "Loading scalers RTX2080Ti_CPU100 GroupingBased train, Standard\n"
     ]
    }
   ],
   "source": [
    "preprocessed_train_ds = load_dataset_pkl(conf.dataset_environment, method_prefix, 'train', \n",
    "                                         conf.dataset_normalization)\n",
    "preprocessed_eval_ds = load_dataset_pkl(conf.dataset_environment, method_prefix, 'eval',\n",
    "                                        conf.dataset_normalization)\n",
    "scalers = load_scalers_pkl(conf.dataset_environment, method_prefix, 'train',\n",
    "                           conf.dataset_normalization)\n",
    "graph_feature_scaler, y_scaler = scalers"
   ]
  },
  {
   "cell_type": "code",
   "execution_count": null,
   "metadata": {},
   "outputs": [],
   "source": [
    "def compute_evaluate_metrics(input_batches, output_batches, eval_loss) -> Dict[str, float]:\n",
    "    batches_len = len(input_batches)\n",
    "\n",
    "    def compute_graph_duration(_logits):\n",
    "        _, y_scaler = scalers\n",
    "        transformed: np.ndarray = y_scaler.inverse_transform(_logits)\n",
    "        duration_dim = (0, 1)\n",
    "        durations = transformed[:, duration_dim[0]:duration_dim[1]].sum(axis=1)\n",
    "        return durations\n",
    "\n",
    "    graph_id_to_duration_pred = defaultdict(int)\n",
    "    for idx in range(batches_len):\n",
    "        inputs = input_batches[idx]\n",
    "        logits = output_batches[idx]\n",
    "        logits = nested_detach(logits)\n",
    "        logits = logits.cpu().numpy()\n",
    "        graph_ids = inputs[\"x_graph_id\"]\n",
    "        graph_durations = compute_graph_duration(logits)\n",
    "        for i, graph_id in enumerate(graph_ids):\n",
    "            graph_duration = graph_durations[i].item()\n",
    "            graph_id_to_duration_pred[graph_id] = graph_duration\n",
    "    duration_metrics = MetricUtil.compute_duration_metrics(eval_graphs, graph_id_to_duration_pred)\n",
    "    return {\"eval_loss\": eval_loss, **duration_metrics}\n"
   ]
  },
  {
   "cell_type": "code",
   "execution_count": null,
   "metadata": {},
   "outputs": [],
   "source": [
    "\n",
    "def to_device(conf: Config, features, labels):\n",
    "    features[\"x_feature_matrix\"] = features[\"x_feature_matrix\"].to(conf.device)\n",
    "    features[\"x_adjacency_matrix\"] = features[\"x_adjacency_matrix\"].to(conf.device)\n",
    "    labels[\"y_graph_duration\"] = labels[\"y_graph_duration\"].to(conf.device)\n",
    "    return features, labels"
   ]
  },
  {
   "cell_type": "code",
   "execution_count": null,
   "metadata": {},
   "outputs": [],
   "source": [
    "\n",
    "class MLPTest_GroupingModel(MModule):\n",
    "\n",
    "    def __init__(self, input_shape, output_dimension, **kwargs):\n",
    "        super().__init__(**kwargs)\n",
    "        self.flatten = torch.nn.Flatten()\n",
    "        self.linear1 = torch.nn.Linear(in_features=input_shape[0] * input_shape[1], out_features=128)\n",
    "        self.output = torch.nn.Linear(128, output_dimension)\n",
    "        self.loss_fn = MSELoss()\n",
    "\n",
    "    def forward(self, X):\n",
    "        X = X[\"x_feature_matrix\"]\n",
    "        X = self.flatten(X)\n",
    "        X = self.linear1(X)\n",
    "        Y = self.output(X)\n",
    "        return Y\n",
    "\n",
    "    def compute_loss(self, outputs, Y):\n",
    "        graph_duration = Y[\"y_graph_duration\"]\n",
    "        loss = self.loss_fn(outputs, graph_duration)\n",
    "        return loss\n",
    "\n",
    "\n",
    "def init_MLPTestGrouping_model() -> MModule | Any:\n",
    "    sample_preprocessed_ds = preprocessed_train_ds\n",
    "    sample_x_dict = sample_preprocessed_ds.features[0]\n",
    "    sample_y_dict = sample_preprocessed_ds.labels[0]\n",
    "    shape = len(sample_x_dict[\"x_feature_matrix\"]), len(sample_x_dict[\"x_feature_matrix\"][0])\n",
    "    return MLPTest_GroupingModel(input_shape=shape,\n",
    "                                    output_dimension=len(sample_y_dict[\"y_graph_duration\"]))\n",
    "\n"
   ]
  },
  {
   "cell_type": "code",
   "execution_count": null,
   "metadata": {},
   "outputs": [],
   "source": [
    "\n",
    "\n",
    "class GCNGroupingModel(MModule):\n",
    "    def __init__(self, dim_feats, dim_h, y_graph_duration_len, n_layers, dropout):\n",
    "        super(GCNGroupingModel, self).__init__()\n",
    "        self.layers = nn.ModuleList()\n",
    "        # input layer\n",
    "        self.layers.append(GCNLayer(dim_feats, dim_h, F.relu, 0))\n",
    "        # hidden layers\n",
    "        for i in range(n_layers - 1):\n",
    "            self.layers.append(GCNLayer(dim_h, dim_h, F.relu, dropout))\n",
    "        # output layer\n",
    "        self.layers.append(GCNLayer(dim_h, y_graph_duration_len, None, dropout))\n",
    "        self.loss_fn = MSELoss()\n",
    "\n",
    "    def forward(self, X):\n",
    "        adj, features = X[\"x_adjacency_matrix\"], X[\"x_feature_matrix\"]\n",
    "        h = features\n",
    "        for layer in self.layers:\n",
    "            h = layer(adj, h)\n",
    "        graph_duration = torch.sum(h, dim=[1])\n",
    "        return graph_duration\n",
    "\n",
    "    def compute_loss(self, outputs, Y) -> torch.Tensor:\n",
    "        y_graph_duration = Y[\"y_graph_duration\"]\n",
    "        loss = self.loss_fn(outputs, y_graph_duration)\n",
    "        return loss\n",
    "\n",
    "\n",
    "def init_GCNGrouping_model() -> MModule | Any:\n",
    "    def default_model_params() -> Dict[str, Any]:\n",
    "        return {\n",
    "            \"dim_h\": None,\n",
    "            \"n_layers\": 2,\n",
    "            \"dropout\": 0.1\n",
    "        }\n",
    "\n",
    "    sample_preprocessed_ds = preprocessed_train_ds\n",
    "    sample_x_dict = sample_preprocessed_ds.features[0]\n",
    "    sample_y_dict = sample_preprocessed_ds.labels[0]\n",
    "    x_node_feature_size = len(sample_x_dict[\"x_feature_matrix\"][0])\n",
    "    y_graph_duration_len = len(sample_y_dict[\"y_graph_duration\"])\n",
    "    model_params = conf.model_params\n",
    "\n",
    "    final_model_params = default_model_params()\n",
    "    default_dim_h = x_node_feature_size if final_model_params.get(\"dim_h\") is None else final_model_params.get(\n",
    "        \"dim_h\")\n",
    "    final_model_params[\"dim_h\"] = model_params.get(\"dim_h\", default_dim_h)\n",
    "    final_model_params[\"n_layers\"] = model_params.get(\"n_layers\", final_model_params[\"n_layers\"])\n",
    "    final_model_params[\"dropout\"] = model_params.get(\"dropout\", final_model_params[\"dropout\"])\n",
    "    return GCNGroupingModel(\n",
    "        dim_feats=x_node_feature_size,\n",
    "        y_graph_duration_len=y_graph_duration_len,\n",
    "        **final_model_params\n",
    "    )\n"
   ]
  },
  {
   "cell_type": "code",
   "execution_count": null,
   "metadata": {},
   "outputs": [
    {
     "name": "stdout",
     "output_type": "stream",
     "text": [
      "[2023-12-06 14:13:45,008] {executor.py:43} INFO - ModelType.MLPTestGrouping start single training.\n",
      "[2023-12-06 14:13:45,008] {executor.py:45} INFO - ModelType.MLPTestGrouping training epoch 0\n"
     ]
    },
    {
     "name": "stderr",
     "output_type": "stream",
     "text": [
      "  0%|          | 0/4 [00:00<?, ?it/s]"
     ]
    },
    {
     "name": "stdout",
     "output_type": "stream",
     "text": [
      "[2023-12-06 14:13:45,011] {executor.py:62} INFO - ModelType.MLPTestGrouping trained for 0.00302707 seconds.\n",
      "[2023-12-06 14:13:45,011] {executor.py:63} INFO - ModelType.MLPTestGrouping eval at step 0.\n",
      "[2023-12-06 14:13:45,012] {executor.py:67} INFO - ModelType.MLPTestGrouping train loss: 1.0167922973632812, eval metrics: {'eval_loss': 0.25250130891799927, 'MRE': 1.0802255423697342, 'MAE': 0.3366313943415213, 'RMSE': 426333.13029934536}\n"
     ]
    },
    {
     "name": "stderr",
     "output_type": "stream",
     "text": [
      "100%|██████████| 4/4 [00:00<00:00, 572.11it/s]"
     ]
    },
    {
     "name": "stdout",
     "output_type": "stream",
     "text": [
      "[2023-12-06 14:13:45,017] {executor.py:45} INFO - ModelType.MLPTestGrouping training epoch 1\n"
     ]
    },
    {
     "name": "stderr",
     "output_type": "stream",
     "text": [
      "\n",
      "100%|██████████| 4/4 [00:00<00:00, 1058.30it/s]"
     ]
    },
    {
     "name": "stdout",
     "output_type": "stream",
     "text": [
      "[2023-12-06 14:13:45,022] {executor.py:45} INFO - ModelType.MLPTestGrouping training epoch 2\n"
     ]
    },
    {
     "name": "stderr",
     "output_type": "stream",
     "text": [
      "\n",
      "100%|██████████| 4/4 [00:00<00:00, 1160.41it/s]"
     ]
    },
    {
     "name": "stdout",
     "output_type": "stream",
     "text": [
      "[2023-12-06 14:13:45,027] {executor.py:45} INFO - ModelType.MLPTestGrouping training epoch 3\n"
     ]
    },
    {
     "name": "stderr",
     "output_type": "stream",
     "text": [
      "\n",
      "100%|██████████| 4/4 [00:00<00:00, 1114.54it/s]"
     ]
    },
    {
     "name": "stdout",
     "output_type": "stream",
     "text": [
      "[2023-12-06 14:13:45,032] {executor.py:45} INFO - ModelType.MLPTestGrouping training epoch 4\n"
     ]
    },
    {
     "name": "stderr",
     "output_type": "stream",
     "text": [
      "\n",
      "100%|██████████| 4/4 [00:00<00:00, 1197.09it/s]"
     ]
    },
    {
     "name": "stdout",
     "output_type": "stream",
     "text": [
      "[2023-12-06 14:13:45,036] {executor.py:45} INFO - ModelType.MLPTestGrouping training epoch 5\n"
     ]
    },
    {
     "name": "stderr",
     "output_type": "stream",
     "text": [
      "\n",
      "100%|██████████| 4/4 [00:00<00:00, 1211.18it/s]"
     ]
    },
    {
     "name": "stdout",
     "output_type": "stream",
     "text": [
      "[2023-12-06 14:13:45,041] {executor.py:45} INFO - ModelType.MLPTestGrouping training epoch 6\n"
     ]
    },
    {
     "name": "stderr",
     "output_type": "stream",
     "text": [
      "\n",
      "100%|██████████| 4/4 [00:00<00:00, 1188.19it/s]"
     ]
    },
    {
     "name": "stdout",
     "output_type": "stream",
     "text": [
      "[2023-12-06 14:13:45,046] {executor.py:45} INFO - ModelType.MLPTestGrouping training epoch 7\n"
     ]
    },
    {
     "name": "stderr",
     "output_type": "stream",
     "text": [
      "\n",
      "100%|██████████| 4/4 [00:00<00:00, 1215.65it/s]"
     ]
    },
    {
     "name": "stdout",
     "output_type": "stream",
     "text": [
      "[2023-12-06 14:13:45,050] {executor.py:45} INFO - ModelType.MLPTestGrouping training epoch 8\n"
     ]
    },
    {
     "name": "stderr",
     "output_type": "stream",
     "text": [
      "\n",
      "100%|██████████| 4/4 [00:00<00:00, 1165.41it/s]"
     ]
    },
    {
     "name": "stdout",
     "output_type": "stream",
     "text": [
      "[2023-12-06 14:13:45,055] {executor.py:45} INFO - ModelType.MLPTestGrouping training epoch 9\n"
     ]
    },
    {
     "name": "stderr",
     "output_type": "stream",
     "text": [
      "\n",
      "100%|██████████| 4/4 [00:00<00:00, 1174.30it/s]"
     ]
    },
    {
     "name": "stdout",
     "output_type": "stream",
     "text": [
      "[2023-12-06 14:13:45,060] {executor.py:45} INFO - ModelType.MLPTestGrouping training epoch 10\n"
     ]
    },
    {
     "name": "stderr",
     "output_type": "stream",
     "text": [
      "\n",
      "100%|██████████| 4/4 [00:00<00:00, 1199.92it/s]"
     ]
    },
    {
     "name": "stdout",
     "output_type": "stream",
     "text": [
      "[2023-12-06 14:13:45,065] {executor.py:45} INFO - ModelType.MLPTestGrouping training epoch 11\n"
     ]
    },
    {
     "name": "stderr",
     "output_type": "stream",
     "text": [
      "\n",
      "100%|██████████| 4/4 [00:00<00:00, 1189.96it/s]"
     ]
    },
    {
     "name": "stdout",
     "output_type": "stream",
     "text": [
      "[2023-12-06 14:13:45,069] {executor.py:45} INFO - ModelType.MLPTestGrouping training epoch 12\n"
     ]
    },
    {
     "name": "stderr",
     "output_type": "stream",
     "text": [
      "\n",
      "100%|██████████| 4/4 [00:00<00:00, 1212.66it/s]"
     ]
    },
    {
     "name": "stdout",
     "output_type": "stream",
     "text": [
      "[2023-12-06 14:13:45,074] {executor.py:45} INFO - ModelType.MLPTestGrouping training epoch 13\n"
     ]
    },
    {
     "name": "stderr",
     "output_type": "stream",
     "text": [
      "\n",
      "100%|██████████| 4/4 [00:00<00:00, 1211.96it/s]"
     ]
    },
    {
     "name": "stdout",
     "output_type": "stream",
     "text": [
      "[2023-12-06 14:13:45,078] {executor.py:45} INFO - ModelType.MLPTestGrouping training epoch 14\n"
     ]
    },
    {
     "name": "stderr",
     "output_type": "stream",
     "text": [
      "\n",
      "100%|██████████| 4/4 [00:00<00:00, 1156.89it/s]"
     ]
    },
    {
     "name": "stdout",
     "output_type": "stream",
     "text": [
      "[2023-12-06 14:13:45,083] {executor.py:45} INFO - ModelType.MLPTestGrouping training epoch 15\n"
     ]
    },
    {
     "name": "stderr",
     "output_type": "stream",
     "text": [
      "\n",
      "100%|██████████| 4/4 [00:00<00:00, 1187.94it/s]"
     ]
    },
    {
     "name": "stdout",
     "output_type": "stream",
     "text": [
      "[2023-12-06 14:13:45,088] {executor.py:45} INFO - ModelType.MLPTestGrouping training epoch 16\n"
     ]
    },
    {
     "name": "stderr",
     "output_type": "stream",
     "text": [
      "\n",
      "100%|██████████| 4/4 [00:00<00:00, 1157.05it/s]"
     ]
    },
    {
     "name": "stdout",
     "output_type": "stream",
     "text": [
      "[2023-12-06 14:13:45,094] {executor.py:45} INFO - ModelType.MLPTestGrouping training epoch 17\n"
     ]
    },
    {
     "name": "stderr",
     "output_type": "stream",
     "text": [
      "\n",
      "100%|██████████| 4/4 [00:00<00:00, 1168.57it/s]"
     ]
    },
    {
     "name": "stdout",
     "output_type": "stream",
     "text": [
      "[2023-12-06 14:13:45,098] {executor.py:45} INFO - ModelType.MLPTestGrouping training epoch 18\n"
     ]
    },
    {
     "name": "stderr",
     "output_type": "stream",
     "text": [
      "\n",
      "100%|██████████| 4/4 [00:00<00:00, 1203.88it/s]"
     ]
    },
    {
     "name": "stdout",
     "output_type": "stream",
     "text": [
      "[2023-12-06 14:13:45,103] {executor.py:45} INFO - ModelType.MLPTestGrouping training epoch 19\n"
     ]
    },
    {
     "name": "stderr",
     "output_type": "stream",
     "text": [
      "\n",
      "100%|██████████| 4/4 [00:00<00:00, 1209.60it/s]"
     ]
    },
    {
     "name": "stdout",
     "output_type": "stream",
     "text": [
      "[2023-12-06 14:13:45,108] {executor.py:45} INFO - ModelType.MLPTestGrouping training epoch 20\n"
     ]
    },
    {
     "name": "stderr",
     "output_type": "stream",
     "text": [
      "\n",
      "100%|██████████| 4/4 [00:00<00:00, 1151.10it/s]"
     ]
    },
    {
     "name": "stdout",
     "output_type": "stream",
     "text": [
      "[2023-12-06 14:13:45,112] {executor.py:45} INFO - ModelType.MLPTestGrouping training epoch 21\n"
     ]
    },
    {
     "name": "stderr",
     "output_type": "stream",
     "text": [
      "\n",
      "100%|██████████| 4/4 [00:00<00:00, 1275.06it/s]"
     ]
    },
    {
     "name": "stdout",
     "output_type": "stream",
     "text": [
      "[2023-12-06 14:13:45,117] {executor.py:45} INFO - ModelType.MLPTestGrouping training epoch 22\n"
     ]
    },
    {
     "name": "stderr",
     "output_type": "stream",
     "text": [
      "\n",
      "100%|██████████| 4/4 [00:00<00:00, 1224.44it/s]"
     ]
    },
    {
     "name": "stdout",
     "output_type": "stream",
     "text": [
      "[2023-12-06 14:13:45,121] {executor.py:45} INFO - ModelType.MLPTestGrouping training epoch 23\n"
     ]
    },
    {
     "name": "stderr",
     "output_type": "stream",
     "text": [
      "\n",
      "100%|██████████| 4/4 [00:00<00:00, 1229.55it/s]"
     ]
    },
    {
     "name": "stdout",
     "output_type": "stream",
     "text": [
      "[2023-12-06 14:13:45,126] {executor.py:45} INFO - ModelType.MLPTestGrouping training epoch 24\n"
     ]
    },
    {
     "name": "stderr",
     "output_type": "stream",
     "text": [
      "\n",
      "100%|██████████| 4/4 [00:00<00:00, 1210.83it/s]"
     ]
    },
    {
     "name": "stdout",
     "output_type": "stream",
     "text": [
      "[2023-12-06 14:13:45,130] {executor.py:45} INFO - ModelType.MLPTestGrouping training epoch 25\n"
     ]
    },
    {
     "name": "stderr",
     "output_type": "stream",
     "text": [
      "\n",
      "  0%|          | 0/4 [00:00<?, ?it/s]"
     ]
    },
    {
     "name": "stdout",
     "output_type": "stream",
     "text": [
      "[2023-12-06 14:13:45,132] {executor.py:62} INFO - ModelType.MLPTestGrouping trained for 0.124690611 seconds.\n",
      "[2023-12-06 14:13:45,133] {executor.py:63} INFO - ModelType.MLPTestGrouping eval at step 100.\n",
      "[2023-12-06 14:13:45,134] {executor.py:67} INFO - ModelType.MLPTestGrouping train loss: 0.025290317833423615, eval metrics: {'eval_loss': 0.06677756458520889, 'MRE': 0.6861818274405878, 'MAE': 0.17612018136320268, 'RMSE': 219246.4141156456}\n"
     ]
    },
    {
     "name": "stderr",
     "output_type": "stream",
     "text": [
      "100%|██████████| 4/4 [00:00<00:00, 657.88it/s]"
     ]
    },
    {
     "name": "stdout",
     "output_type": "stream",
     "text": [
      "[2023-12-06 14:13:45,138] {executor.py:45} INFO - ModelType.MLPTestGrouping training epoch 26\n"
     ]
    },
    {
     "name": "stderr",
     "output_type": "stream",
     "text": [
      "\n",
      "100%|██████████| 4/4 [00:00<00:00, 1244.14it/s]"
     ]
    },
    {
     "name": "stdout",
     "output_type": "stream",
     "text": [
      "[2023-12-06 14:13:45,142] {executor.py:45} INFO - ModelType.MLPTestGrouping training epoch 27\n"
     ]
    },
    {
     "name": "stderr",
     "output_type": "stream",
     "text": [
      "\n",
      "100%|██████████| 4/4 [00:00<00:00, 1214.77it/s]"
     ]
    },
    {
     "name": "stdout",
     "output_type": "stream",
     "text": [
      "[2023-12-06 14:13:45,147] {executor.py:45} INFO - ModelType.MLPTestGrouping training epoch 28\n"
     ]
    },
    {
     "name": "stderr",
     "output_type": "stream",
     "text": [
      "\n",
      "100%|██████████| 4/4 [00:00<00:00, 1227.48it/s]"
     ]
    },
    {
     "name": "stdout",
     "output_type": "stream",
     "text": [
      "[2023-12-06 14:13:45,151] {executor.py:45} INFO - ModelType.MLPTestGrouping training epoch 29\n"
     ]
    },
    {
     "name": "stderr",
     "output_type": "stream",
     "text": [
      "\n",
      "100%|██████████| 4/4 [00:00<00:00, 1234.53it/s]"
     ]
    },
    {
     "name": "stdout",
     "output_type": "stream",
     "text": [
      "[2023-12-06 14:13:45,156] {executor.py:45} INFO - ModelType.MLPTestGrouping training epoch 30\n"
     ]
    },
    {
     "name": "stderr",
     "output_type": "stream",
     "text": [
      "\n",
      "100%|██████████| 4/4 [00:00<00:00, 1217.33it/s]"
     ]
    },
    {
     "name": "stdout",
     "output_type": "stream",
     "text": [
      "[2023-12-06 14:13:45,160] {executor.py:45} INFO - ModelType.MLPTestGrouping training epoch 31\n"
     ]
    },
    {
     "name": "stderr",
     "output_type": "stream",
     "text": [
      "\n",
      "100%|██████████| 4/4 [00:00<00:00, 1235.34it/s]"
     ]
    },
    {
     "name": "stdout",
     "output_type": "stream",
     "text": [
      "[2023-12-06 14:13:45,165] {executor.py:45} INFO - ModelType.MLPTestGrouping training epoch 32\n"
     ]
    },
    {
     "name": "stderr",
     "output_type": "stream",
     "text": [
      "\n",
      "100%|██████████| 4/4 [00:00<00:00, 1273.99it/s]"
     ]
    },
    {
     "name": "stdout",
     "output_type": "stream",
     "text": [
      "[2023-12-06 14:13:45,169] {executor.py:45} INFO - ModelType.MLPTestGrouping training epoch 33\n"
     ]
    },
    {
     "name": "stderr",
     "output_type": "stream",
     "text": [
      "\n",
      "100%|██████████| 4/4 [00:00<00:00, 1241.84it/s]"
     ]
    },
    {
     "name": "stdout",
     "output_type": "stream",
     "text": [
      "[2023-12-06 14:13:45,174] {executor.py:45} INFO - ModelType.MLPTestGrouping training epoch 34\n"
     ]
    },
    {
     "name": "stderr",
     "output_type": "stream",
     "text": [
      "\n",
      "100%|██████████| 4/4 [00:00<00:00, 1242.30it/s]"
     ]
    },
    {
     "name": "stdout",
     "output_type": "stream",
     "text": [
      "[2023-12-06 14:13:45,178] {executor.py:45} INFO - ModelType.MLPTestGrouping training epoch 35\n"
     ]
    },
    {
     "name": "stderr",
     "output_type": "stream",
     "text": [
      "\n",
      "100%|██████████| 4/4 [00:00<00:00, 1220.43it/s]"
     ]
    },
    {
     "name": "stdout",
     "output_type": "stream",
     "text": [
      "[2023-12-06 14:13:45,182] {executor.py:45} INFO - ModelType.MLPTestGrouping training epoch 36\n"
     ]
    },
    {
     "name": "stderr",
     "output_type": "stream",
     "text": [
      "\n",
      "100%|██████████| 4/4 [00:00<00:00, 1224.52it/s]"
     ]
    },
    {
     "name": "stdout",
     "output_type": "stream",
     "text": [
      "[2023-12-06 14:13:45,187] {executor.py:45} INFO - ModelType.MLPTestGrouping training epoch 37\n"
     ]
    },
    {
     "name": "stderr",
     "output_type": "stream",
     "text": [
      "\n",
      "100%|██████████| 4/4 [00:00<00:00, 1177.02it/s]"
     ]
    },
    {
     "name": "stdout",
     "output_type": "stream",
     "text": [
      "[2023-12-06 14:13:45,192] {executor.py:45} INFO - ModelType.MLPTestGrouping training epoch 38\n"
     ]
    },
    {
     "name": "stderr",
     "output_type": "stream",
     "text": [
      "\n",
      "100%|██████████| 4/4 [00:00<00:00, 1198.80it/s]"
     ]
    },
    {
     "name": "stdout",
     "output_type": "stream",
     "text": [
      "[2023-12-06 14:13:45,196] {executor.py:45} INFO - ModelType.MLPTestGrouping training epoch 39\n"
     ]
    },
    {
     "name": "stderr",
     "output_type": "stream",
     "text": [
      "\n",
      "100%|██████████| 4/4 [00:00<00:00, 1202.50it/s]"
     ]
    },
    {
     "name": "stdout",
     "output_type": "stream",
     "text": [
      "[2023-12-06 14:13:45,201] {executor.py:45} INFO - ModelType.MLPTestGrouping training epoch 40\n"
     ]
    },
    {
     "name": "stderr",
     "output_type": "stream",
     "text": [
      "\n",
      "100%|██████████| 4/4 [00:00<00:00, 1214.95it/s]"
     ]
    },
    {
     "name": "stdout",
     "output_type": "stream",
     "text": [
      "[2023-12-06 14:13:45,205] {executor.py:45} INFO - ModelType.MLPTestGrouping training epoch 41\n"
     ]
    },
    {
     "name": "stderr",
     "output_type": "stream",
     "text": [
      "\n",
      "100%|██████████| 4/4 [00:00<00:00, 1181.49it/s]"
     ]
    },
    {
     "name": "stdout",
     "output_type": "stream",
     "text": [
      "[2023-12-06 14:13:45,210] {executor.py:45} INFO - ModelType.MLPTestGrouping training epoch 42\n"
     ]
    },
    {
     "name": "stderr",
     "output_type": "stream",
     "text": [
      "\n",
      "100%|██████████| 4/4 [00:00<00:00, 1224.88it/s]"
     ]
    },
    {
     "name": "stdout",
     "output_type": "stream",
     "text": [
      "[2023-12-06 14:13:45,215] {executor.py:45} INFO - ModelType.MLPTestGrouping training epoch 43\n"
     ]
    },
    {
     "name": "stderr",
     "output_type": "stream",
     "text": [
      "\n",
      "100%|██████████| 4/4 [00:00<00:00, 1231.54it/s]"
     ]
    },
    {
     "name": "stdout",
     "output_type": "stream",
     "text": [
      "[2023-12-06 14:13:45,219] {executor.py:45} INFO - ModelType.MLPTestGrouping training epoch 44\n"
     ]
    },
    {
     "name": "stderr",
     "output_type": "stream",
     "text": [
      "\n",
      "100%|██████████| 4/4 [00:00<00:00, 1258.13it/s]"
     ]
    },
    {
     "name": "stdout",
     "output_type": "stream",
     "text": [
      "[2023-12-06 14:13:45,223] {executor.py:45} INFO - ModelType.MLPTestGrouping training epoch 45\n"
     ]
    },
    {
     "name": "stderr",
     "output_type": "stream",
     "text": [
      "\n",
      "100%|██████████| 4/4 [00:00<00:00, 1193.00it/s]"
     ]
    },
    {
     "name": "stdout",
     "output_type": "stream",
     "text": [
      "[2023-12-06 14:13:45,228] {executor.py:45} INFO - ModelType.MLPTestGrouping training epoch 46\n"
     ]
    },
    {
     "name": "stderr",
     "output_type": "stream",
     "text": [
      "\n",
      "100%|██████████| 4/4 [00:00<00:00, 1207.60it/s]"
     ]
    },
    {
     "name": "stdout",
     "output_type": "stream",
     "text": [
      "[2023-12-06 14:13:45,232] {executor.py:45} INFO - ModelType.MLPTestGrouping training epoch 47\n"
     ]
    },
    {
     "name": "stderr",
     "output_type": "stream",
     "text": [
      "\n",
      "100%|██████████| 4/4 [00:00<00:00, 1217.24it/s]"
     ]
    },
    {
     "name": "stdout",
     "output_type": "stream",
     "text": [
      "[2023-12-06 14:13:45,237] {executor.py:45} INFO - ModelType.MLPTestGrouping training epoch 48\n"
     ]
    },
    {
     "name": "stderr",
     "output_type": "stream",
     "text": [
      "\n",
      "100%|██████████| 4/4 [00:00<00:00, 1178.34it/s]"
     ]
    },
    {
     "name": "stdout",
     "output_type": "stream",
     "text": [
      "[2023-12-06 14:13:45,242] {executor.py:45} INFO - ModelType.MLPTestGrouping training epoch 49\n"
     ]
    },
    {
     "name": "stderr",
     "output_type": "stream",
     "text": [
      "\n",
      "100%|██████████| 4/4 [00:00<00:00, 1181.24it/s]"
     ]
    },
    {
     "name": "stdout",
     "output_type": "stream",
     "text": [
      "[2023-12-06 14:13:45,246] {executor.py:45} INFO - ModelType.MLPTestGrouping training epoch 50\n"
     ]
    },
    {
     "name": "stderr",
     "output_type": "stream",
     "text": [
      "\n",
      "  0%|          | 0/4 [00:00<?, ?it/s]"
     ]
    },
    {
     "name": "stdout",
     "output_type": "stream",
     "text": [
      "[2023-12-06 14:13:45,248] {executor.py:62} INFO - ModelType.MLPTestGrouping trained for 0.240520373 seconds.\n",
      "[2023-12-06 14:13:45,249] {executor.py:63} INFO - ModelType.MLPTestGrouping eval at step 200.\n",
      "[2023-12-06 14:13:45,250] {executor.py:67} INFO - ModelType.MLPTestGrouping train loss: 0.020550590008497238, eval metrics: {'eval_loss': 0.0495164692401886, 'MRE': 0.5243347595991752, 'MAE': 0.15583568042569731, 'RMSE': 188795.66698045176}\n"
     ]
    },
    {
     "name": "stderr",
     "output_type": "stream",
     "text": [
      "100%|██████████| 4/4 [00:00<00:00, 653.32it/s]"
     ]
    },
    {
     "name": "stdout",
     "output_type": "stream",
     "text": [
      "[2023-12-06 14:13:45,254] {executor.py:45} INFO - ModelType.MLPTestGrouping training epoch 51\n"
     ]
    },
    {
     "name": "stderr",
     "output_type": "stream",
     "text": [
      "\n",
      "100%|██████████| 4/4 [00:00<00:00, 1209.60it/s]"
     ]
    },
    {
     "name": "stdout",
     "output_type": "stream",
     "text": [
      "[2023-12-06 14:13:45,258] {executor.py:45} INFO - ModelType.MLPTestGrouping training epoch 52\n"
     ]
    },
    {
     "name": "stderr",
     "output_type": "stream",
     "text": [
      "\n",
      "100%|██████████| 4/4 [00:00<00:00, 1198.37it/s]"
     ]
    },
    {
     "name": "stdout",
     "output_type": "stream",
     "text": [
      "[2023-12-06 14:13:45,263] {executor.py:45} INFO - ModelType.MLPTestGrouping training epoch 53\n"
     ]
    },
    {
     "name": "stderr",
     "output_type": "stream",
     "text": [
      "\n",
      "100%|██████████| 4/4 [00:00<00:00, 1185.84it/s]"
     ]
    },
    {
     "name": "stdout",
     "output_type": "stream",
     "text": [
      "[2023-12-06 14:13:45,267] {executor.py:45} INFO - ModelType.MLPTestGrouping training epoch 54\n"
     ]
    },
    {
     "name": "stderr",
     "output_type": "stream",
     "text": [
      "\n",
      "100%|██████████| 4/4 [00:00<00:00, 1208.56it/s]"
     ]
    },
    {
     "name": "stdout",
     "output_type": "stream",
     "text": [
      "[2023-12-06 14:13:45,272] {executor.py:45} INFO - ModelType.MLPTestGrouping training epoch 55\n"
     ]
    },
    {
     "name": "stderr",
     "output_type": "stream",
     "text": [
      "\n",
      "100%|██████████| 4/4 [00:00<00:00, 1217.77it/s]"
     ]
    },
    {
     "name": "stdout",
     "output_type": "stream",
     "text": [
      "[2023-12-06 14:13:45,276] {executor.py:45} INFO - ModelType.MLPTestGrouping training epoch 56\n"
     ]
    },
    {
     "name": "stderr",
     "output_type": "stream",
     "text": [
      "\n",
      "100%|██████████| 4/4 [00:00<00:00, 1234.71it/s]"
     ]
    },
    {
     "name": "stdout",
     "output_type": "stream",
     "text": [
      "[2023-12-06 14:13:45,281] {executor.py:45} INFO - ModelType.MLPTestGrouping training epoch 57\n"
     ]
    },
    {
     "name": "stderr",
     "output_type": "stream",
     "text": [
      "\n",
      "100%|██████████| 4/4 [00:00<00:00, 1184.83it/s]"
     ]
    },
    {
     "name": "stdout",
     "output_type": "stream",
     "text": [
      "[2023-12-06 14:13:45,286] {executor.py:45} INFO - ModelType.MLPTestGrouping training epoch 58\n"
     ]
    },
    {
     "name": "stderr",
     "output_type": "stream",
     "text": [
      "\n",
      "100%|██████████| 4/4 [00:00<00:00, 1204.65it/s]"
     ]
    },
    {
     "name": "stdout",
     "output_type": "stream",
     "text": [
      "[2023-12-06 14:13:45,290] {executor.py:45} INFO - ModelType.MLPTestGrouping training epoch 59\n"
     ]
    },
    {
     "name": "stderr",
     "output_type": "stream",
     "text": [
      "\n",
      "100%|██████████| 4/4 [00:00<00:00, 1200.95it/s]"
     ]
    },
    {
     "name": "stdout",
     "output_type": "stream",
     "text": [
      "[2023-12-06 14:13:45,295] {executor.py:45} INFO - ModelType.MLPTestGrouping training epoch 60\n"
     ]
    },
    {
     "name": "stderr",
     "output_type": "stream",
     "text": [
      "\n",
      "100%|██████████| 4/4 [00:00<00:00, 1214.07it/s]"
     ]
    },
    {
     "name": "stdout",
     "output_type": "stream",
     "text": [
      "[2023-12-06 14:13:45,299] {executor.py:45} INFO - ModelType.MLPTestGrouping training epoch 61\n"
     ]
    },
    {
     "name": "stderr",
     "output_type": "stream",
     "text": [
      "\n",
      "100%|██████████| 4/4 [00:00<00:00, 1189.54it/s]"
     ]
    },
    {
     "name": "stdout",
     "output_type": "stream",
     "text": [
      "[2023-12-06 14:13:45,304] {executor.py:45} INFO - ModelType.MLPTestGrouping training epoch 62\n"
     ]
    },
    {
     "name": "stderr",
     "output_type": "stream",
     "text": [
      "\n",
      "100%|██████████| 4/4 [00:00<00:00, 1206.39it/s]"
     ]
    },
    {
     "name": "stdout",
     "output_type": "stream",
     "text": [
      "[2023-12-06 14:13:45,308] {executor.py:45} INFO - ModelType.MLPTestGrouping training epoch 63\n"
     ]
    },
    {
     "name": "stderr",
     "output_type": "stream",
     "text": [
      "\n",
      "100%|██████████| 4/4 [00:00<00:00, 1201.38it/s]"
     ]
    },
    {
     "name": "stdout",
     "output_type": "stream",
     "text": [
      "[2023-12-06 14:13:45,313] {executor.py:45} INFO - ModelType.MLPTestGrouping training epoch 64\n"
     ]
    },
    {
     "name": "stderr",
     "output_type": "stream",
     "text": [
      "\n",
      "100%|██████████| 4/4 [00:00<00:00, 1216.18it/s]"
     ]
    },
    {
     "name": "stdout",
     "output_type": "stream",
     "text": [
      "[2023-12-06 14:13:45,317] {executor.py:45} INFO - ModelType.MLPTestGrouping training epoch 65\n"
     ]
    },
    {
     "name": "stderr",
     "output_type": "stream",
     "text": [
      "\n",
      "100%|██████████| 4/4 [00:00<00:00, 1208.38it/s]"
     ]
    },
    {
     "name": "stdout",
     "output_type": "stream",
     "text": [
      "[2023-12-06 14:13:45,322] {executor.py:45} INFO - ModelType.MLPTestGrouping training epoch 66\n"
     ]
    },
    {
     "name": "stderr",
     "output_type": "stream",
     "text": [
      "\n",
      "100%|██████████| 4/4 [00:00<00:00, 1211.88it/s]"
     ]
    },
    {
     "name": "stdout",
     "output_type": "stream",
     "text": [
      "[2023-12-06 14:13:45,326] {executor.py:45} INFO - ModelType.MLPTestGrouping training epoch 67\n"
     ]
    },
    {
     "name": "stderr",
     "output_type": "stream",
     "text": [
      "\n",
      "100%|██████████| 4/4 [00:00<00:00, 1234.07it/s]"
     ]
    },
    {
     "name": "stdout",
     "output_type": "stream",
     "text": [
      "[2023-12-06 14:13:45,331] {executor.py:45} INFO - ModelType.MLPTestGrouping training epoch 68\n"
     ]
    },
    {
     "name": "stderr",
     "output_type": "stream",
     "text": [
      "\n",
      "100%|██████████| 4/4 [00:00<00:00, 1207.52it/s]"
     ]
    },
    {
     "name": "stdout",
     "output_type": "stream",
     "text": [
      "[2023-12-06 14:13:45,335] {executor.py:45} INFO - ModelType.MLPTestGrouping training epoch 69\n"
     ]
    },
    {
     "name": "stderr",
     "output_type": "stream",
     "text": [
      "\n",
      "100%|██████████| 4/4 [00:00<00:00, 1203.36it/s]"
     ]
    },
    {
     "name": "stdout",
     "output_type": "stream",
     "text": [
      "[2023-12-06 14:13:45,340] {executor.py:45} INFO - ModelType.MLPTestGrouping training epoch 70\n"
     ]
    },
    {
     "name": "stderr",
     "output_type": "stream",
     "text": [
      "\n",
      "100%|██████████| 4/4 [00:00<00:00, 1200.09it/s]"
     ]
    },
    {
     "name": "stdout",
     "output_type": "stream",
     "text": [
      "[2023-12-06 14:13:45,344] {executor.py:45} INFO - ModelType.MLPTestGrouping training epoch 71\n"
     ]
    },
    {
     "name": "stderr",
     "output_type": "stream",
     "text": [
      "\n",
      "100%|██████████| 4/4 [00:00<00:00, 1188.36it/s]"
     ]
    },
    {
     "name": "stdout",
     "output_type": "stream",
     "text": [
      "[2023-12-06 14:13:45,349] {executor.py:45} INFO - ModelType.MLPTestGrouping training epoch 72\n"
     ]
    },
    {
     "name": "stderr",
     "output_type": "stream",
     "text": [
      "\n",
      "100%|██████████| 4/4 [00:00<00:00, 1184.00it/s]"
     ]
    },
    {
     "name": "stdout",
     "output_type": "stream",
     "text": [
      "[2023-12-06 14:13:45,354] {executor.py:45} INFO - ModelType.MLPTestGrouping training epoch 73\n"
     ]
    },
    {
     "name": "stderr",
     "output_type": "stream",
     "text": [
      "\n",
      "100%|██████████| 4/4 [00:00<00:00, 1186.84it/s]"
     ]
    },
    {
     "name": "stdout",
     "output_type": "stream",
     "text": [
      "[2023-12-06 14:13:45,358] {executor.py:45} INFO - ModelType.MLPTestGrouping training epoch 74\n"
     ]
    },
    {
     "name": "stderr",
     "output_type": "stream",
     "text": [
      "\n",
      "100%|██████████| 4/4 [00:00<00:00, 1201.72it/s]"
     ]
    },
    {
     "name": "stdout",
     "output_type": "stream",
     "text": [
      "[2023-12-06 14:13:45,363] {executor.py:45} INFO - ModelType.MLPTestGrouping training epoch 75\n"
     ]
    },
    {
     "name": "stderr",
     "output_type": "stream",
     "text": [
      "\n",
      "  0%|          | 0/4 [00:00<?, ?it/s]"
     ]
    },
    {
     "name": "stdout",
     "output_type": "stream",
     "text": [
      "[2023-12-06 14:13:45,365] {executor.py:62} INFO - ModelType.MLPTestGrouping trained for 0.356936486 seconds.\n",
      "[2023-12-06 14:13:45,365] {executor.py:63} INFO - ModelType.MLPTestGrouping eval at step 300.\n",
      "[2023-12-06 14:13:45,366] {executor.py:67} INFO - ModelType.MLPTestGrouping train loss: 0.03462432324886322, eval metrics: {'eval_loss': 0.11228030920028687, 'MRE': 0.3213087809557331, 'MAE': 0.16842946197520733, 'RMSE': 284294.93540999957}\n"
     ]
    },
    {
     "name": "stderr",
     "output_type": "stream",
     "text": [
      "100%|██████████| 4/4 [00:00<00:00, 653.90it/s]"
     ]
    },
    {
     "name": "stdout",
     "output_type": "stream",
     "text": [
      "[2023-12-06 14:13:45,370] {executor.py:45} INFO - ModelType.MLPTestGrouping training epoch 76\n"
     ]
    },
    {
     "name": "stderr",
     "output_type": "stream",
     "text": [
      "\n",
      "100%|██████████| 4/4 [00:00<00:00, 1188.78it/s]"
     ]
    },
    {
     "name": "stdout",
     "output_type": "stream",
     "text": [
      "[2023-12-06 14:13:45,375] {executor.py:45} INFO - ModelType.MLPTestGrouping training epoch 77\n"
     ]
    },
    {
     "name": "stderr",
     "output_type": "stream",
     "text": [
      "\n",
      "100%|██████████| 4/4 [00:00<00:00, 1192.75it/s]"
     ]
    },
    {
     "name": "stdout",
     "output_type": "stream",
     "text": [
      "[2023-12-06 14:13:45,379] {executor.py:45} INFO - ModelType.MLPTestGrouping training epoch 78\n"
     ]
    },
    {
     "name": "stderr",
     "output_type": "stream",
     "text": [
      "\n",
      "100%|██████████| 4/4 [00:00<00:00, 1187.60it/s]"
     ]
    },
    {
     "name": "stdout",
     "output_type": "stream",
     "text": [
      "[2023-12-06 14:13:45,384] {executor.py:45} INFO - ModelType.MLPTestGrouping training epoch 79\n"
     ]
    },
    {
     "name": "stderr",
     "output_type": "stream",
     "text": [
      "\n",
      "100%|██████████| 4/4 [00:00<00:00, 1214.68it/s]"
     ]
    },
    {
     "name": "stdout",
     "output_type": "stream",
     "text": [
      "[2023-12-06 14:13:45,389] {executor.py:45} INFO - ModelType.MLPTestGrouping training epoch 80\n"
     ]
    },
    {
     "name": "stderr",
     "output_type": "stream",
     "text": [
      "\n",
      "100%|██████████| 4/4 [00:00<00:00, 1195.55it/s]"
     ]
    },
    {
     "name": "stdout",
     "output_type": "stream",
     "text": [
      "[2023-12-06 14:13:45,393] {executor.py:45} INFO - ModelType.MLPTestGrouping training epoch 81\n"
     ]
    },
    {
     "name": "stderr",
     "output_type": "stream",
     "text": [
      "\n",
      "100%|██████████| 4/4 [00:00<00:00, 1230.27it/s]"
     ]
    },
    {
     "name": "stdout",
     "output_type": "stream",
     "text": [
      "[2023-12-06 14:13:45,398] {executor.py:45} INFO - ModelType.MLPTestGrouping training epoch 82\n"
     ]
    },
    {
     "name": "stderr",
     "output_type": "stream",
     "text": [
      "\n",
      "100%|██████████| 4/4 [00:00<00:00, 1216.97it/s]"
     ]
    },
    {
     "name": "stdout",
     "output_type": "stream",
     "text": [
      "[2023-12-06 14:13:45,402] {executor.py:45} INFO - ModelType.MLPTestGrouping training epoch 83\n"
     ]
    },
    {
     "name": "stderr",
     "output_type": "stream",
     "text": [
      "\n",
      "100%|██████████| 4/4 [00:00<00:00, 1218.92it/s]"
     ]
    },
    {
     "name": "stdout",
     "output_type": "stream",
     "text": [
      "[2023-12-06 14:13:45,407] {executor.py:45} INFO - ModelType.MLPTestGrouping training epoch 84\n"
     ]
    },
    {
     "name": "stderr",
     "output_type": "stream",
     "text": [
      "\n",
      "100%|██████████| 4/4 [00:00<00:00, 1206.82it/s]"
     ]
    },
    {
     "name": "stdout",
     "output_type": "stream",
     "text": [
      "[2023-12-06 14:13:45,411] {executor.py:45} INFO - ModelType.MLPTestGrouping training epoch 85\n"
     ]
    },
    {
     "name": "stderr",
     "output_type": "stream",
     "text": [
      "\n",
      "100%|██████████| 4/4 [00:00<00:00, 1219.81it/s]"
     ]
    },
    {
     "name": "stdout",
     "output_type": "stream",
     "text": [
      "[2023-12-06 14:13:45,416] {executor.py:45} INFO - ModelType.MLPTestGrouping training epoch 86\n"
     ]
    },
    {
     "name": "stderr",
     "output_type": "stream",
     "text": [
      "\n",
      "100%|██████████| 4/4 [00:00<00:00, 1214.86it/s]"
     ]
    },
    {
     "name": "stdout",
     "output_type": "stream",
     "text": [
      "[2023-12-06 14:13:45,420] {executor.py:45} INFO - ModelType.MLPTestGrouping training epoch 87\n"
     ]
    },
    {
     "name": "stderr",
     "output_type": "stream",
     "text": [
      "\n",
      "100%|██████████| 4/4 [00:00<00:00, 1209.08it/s]"
     ]
    },
    {
     "name": "stdout",
     "output_type": "stream",
     "text": [
      "[2023-12-06 14:13:45,425] {executor.py:45} INFO - ModelType.MLPTestGrouping training epoch 88\n"
     ]
    },
    {
     "name": "stderr",
     "output_type": "stream",
     "text": [
      "\n",
      "100%|██████████| 4/4 [00:00<00:00, 1213.28it/s]"
     ]
    },
    {
     "name": "stdout",
     "output_type": "stream",
     "text": [
      "[2023-12-06 14:13:45,429] {executor.py:45} INFO - ModelType.MLPTestGrouping training epoch 89\n"
     ]
    },
    {
     "name": "stderr",
     "output_type": "stream",
     "text": [
      "\n",
      "100%|██████████| 4/4 [00:00<00:00, 1208.99it/s]"
     ]
    },
    {
     "name": "stdout",
     "output_type": "stream",
     "text": [
      "[2023-12-06 14:13:45,434] {executor.py:45} INFO - ModelType.MLPTestGrouping training epoch 90\n"
     ]
    },
    {
     "name": "stderr",
     "output_type": "stream",
     "text": [
      "\n",
      "100%|██████████| 4/4 [00:00<00:00, 1205.00it/s]"
     ]
    },
    {
     "name": "stdout",
     "output_type": "stream",
     "text": [
      "[2023-12-06 14:13:45,438] {executor.py:45} INFO - ModelType.MLPTestGrouping training epoch 91\n"
     ]
    },
    {
     "name": "stderr",
     "output_type": "stream",
     "text": [
      "\n",
      "100%|██████████| 4/4 [00:00<00:00, 1216.71it/s]\n"
     ]
    },
    {
     "name": "stdout",
     "output_type": "stream",
     "text": [
      "[2023-12-06 14:13:45,443] {executor.py:45} INFO - ModelType.MLPTestGrouping training epoch 92\n"
     ]
    },
    {
     "name": "stderr",
     "output_type": "stream",
     "text": [
      "100%|██████████| 4/4 [00:00<00:00, 1215.48it/s]"
     ]
    },
    {
     "name": "stdout",
     "output_type": "stream",
     "text": [
      "[2023-12-06 14:13:45,447] {executor.py:45} INFO - ModelType.MLPTestGrouping training epoch 93\n"
     ]
    },
    {
     "name": "stderr",
     "output_type": "stream",
     "text": [
      "\n",
      "100%|██████████| 4/4 [00:00<00:00, 1220.34it/s]"
     ]
    },
    {
     "name": "stdout",
     "output_type": "stream",
     "text": [
      "[2023-12-06 14:13:45,452] {executor.py:45} INFO - ModelType.MLPTestGrouping training epoch 94\n"
     ]
    },
    {
     "name": "stderr",
     "output_type": "stream",
     "text": [
      "\n",
      "100%|██████████| 4/4 [00:00<00:00, 1219.01it/s]"
     ]
    },
    {
     "name": "stdout",
     "output_type": "stream",
     "text": [
      "[2023-12-06 14:13:45,456] {executor.py:45} INFO - ModelType.MLPTestGrouping training epoch 95\n"
     ]
    },
    {
     "name": "stderr",
     "output_type": "stream",
     "text": [
      "\n",
      "100%|██████████| 4/4 [00:00<00:00, 1215.56it/s]"
     ]
    },
    {
     "name": "stdout",
     "output_type": "stream",
     "text": [
      "[2023-12-06 14:13:45,461] {executor.py:45} INFO - ModelType.MLPTestGrouping training epoch 96\n"
     ]
    },
    {
     "name": "stderr",
     "output_type": "stream",
     "text": [
      "\n",
      "100%|██████████| 4/4 [00:00<00:00, 1210.74it/s]"
     ]
    },
    {
     "name": "stdout",
     "output_type": "stream",
     "text": [
      "[2023-12-06 14:13:45,465] {executor.py:45} INFO - ModelType.MLPTestGrouping training epoch 97\n"
     ]
    },
    {
     "name": "stderr",
     "output_type": "stream",
     "text": [
      "\n",
      "100%|██████████| 4/4 [00:00<00:00, 1191.65it/s]"
     ]
    },
    {
     "name": "stdout",
     "output_type": "stream",
     "text": [
      "[2023-12-06 14:13:45,470] {executor.py:45} INFO - ModelType.MLPTestGrouping training epoch 98\n"
     ]
    },
    {
     "name": "stderr",
     "output_type": "stream",
     "text": [
      "\n",
      "100%|██████████| 4/4 [00:00<00:00, 1200.00it/s]"
     ]
    },
    {
     "name": "stdout",
     "output_type": "stream",
     "text": [
      "[2023-12-06 14:13:45,474] {executor.py:45} INFO - ModelType.MLPTestGrouping training epoch 99\n"
     ]
    },
    {
     "name": "stderr",
     "output_type": "stream",
     "text": [
      "\n",
      "100%|██████████| 4/4 [00:00<00:00, 1157.69it/s]\n"
     ]
    },
    {
     "data": {
      "image/png": "[encoded data removed]",
      "text/plain": [
       "<Figure size 1500x500 with 3 Axes>"
      ]
     },
     "metadata": {},
     "output_type": "display_data"
    }
   ],
   "source": [
    "init_model_funcs = {\n",
    "    ModelType.MLPTestGrouping.name: init_MLPTestGrouping_model,\n",
    "    ModelType.GCNGrouping.name: init_GCNGrouping_model,\n",
    "}\n",
    "\n",
    "model_type = ModelType.MLPTestGrouping\n",
    "# model_type = ModelType.GCNGrouping\n",
    "init_model = init_model_funcs[model_type.name]\n",
    "\n",
    "model = init_model()\n",
    "model = model.to(conf.device)\n",
    "\n",
    "single_train_loop(model_type, conf, preprocessed_train_ds, preprocessed_eval_ds, model, compute_evaluate_metrics, to_device)\n"
   ]
  },
  {
   "cell_type": "code",
   "execution_count": null,
   "metadata": {},
   "outputs": [
    {
     "name": "stdout",
     "output_type": "stream",
     "text": [
      "56\n"
     ]
    }
   ],
   "source": []
  },
  {
   "cell_type": "code",
   "execution_count": null,
   "metadata": {},
   "outputs": [],
   "source": []
  }
 ],
 "metadata": {
  "kernelspec": {
   "display_name": "DLT-perf-model",
   "language": "python",
   "name": "python3"
  },
  "language_info": {
   "codemirror_mode": {
    "name": "ipython",
    "version": 3
   },
   "file_extension": ".py",
   "mimetype": "text/x-python",
   "name": "python",
   "nbconvert_exporter": "python",
   "pygments_lexer": "ipython3",
   "version": "3.10.13"
  }
 },
 "nbformat": 4,
 "nbformat_minor": 2
}
