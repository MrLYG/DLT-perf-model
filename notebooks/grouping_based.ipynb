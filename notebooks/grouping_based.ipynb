{
 "cells": [
  {
   "cell_type": "code",
   "execution_count": 1,
   "metadata": {},
   "outputs": [],
   "source": [
    "import numpy as np\n",
    "import torch\n",
    "import torch.nn as nn\n",
    "import torch.optim\n",
    "import torch.nn.functional as F\n",
    "from collections import defaultdict\n",
    "from typing import List, Dict\n",
    "from typing import Tuple, Any\n",
    "from torch.nn import MSELoss\n",
    "from sklearn.preprocessing import StandardScaler, MinMaxScaler"
   ]
  },
  {
   "cell_type": "code",
   "execution_count": 2,
   "metadata": {},
   "outputs": [
    {
     "name": "stdout",
     "output_type": "stream",
     "text": [
      "datasets_path: /root/guohao/repos/DLT-perf-model/datasets\n",
      "configs_path: /root/guohao/repos/DLT-perf-model/notebooks/configs\n",
      "datasets_path: /root/guohao/repos/DLT-perf-model/datasets\n",
      "configs_path: /root/guohao/repos/DLT-perf-model/notebooks/configs\n"
     ]
    }
   ],
   "source": [
    "from importlib import reload\n",
    "from config import Config\n",
    "import config\n",
    "from data import MDataset, Graph, GraphNode, load_graphs, save_dataset_pkl, load_dataset_pkl, save_scalers_pkl, load_scalers_pkl\n",
    "import data\n",
    "from base_module import MModule, pad_np_vectors\n",
    "import base_module\n",
    "from executor import single_train_loop, nested_detach\n",
    "import executor\n",
    "from objects import ModelType\n",
    "import objects\n",
    "from metric import MetricUtil\n",
    "import metric\n",
    "from logger import init_logging, logging\n",
    "import logger\n",
    "import gcn\n",
    "from gcn import GCNLayer\n",
    "import transformer\n",
    "from transformer import TransformerModel\n",
    "reload(config)\n",
    "reload(data)\n",
    "reload(base_module)\n",
    "reload(executor)\n",
    "reload(objects)\n",
    "reload(metric)\n",
    "reload(logger)\n",
    "reload(gcn)\n",
    "reload(transformer)\n",
    "from config import Config\n",
    "from data import MDataset, Graph, load_graphs\n",
    "from base_module import MModule\n",
    "from objects import ModelType\n",
    "from metric import MetricUtil\n",
    "from logger import init_logging\n",
    "from gcn import GCNLayer\n",
    "from transformer import TransformerModel\n",
    "init_logging()"
   ]
  },
  {
   "cell_type": "code",
   "execution_count": 3,
   "metadata": {},
   "outputs": [],
   "source": [
    "dataset_environment_str = \"T4_CPUALL\"\n",
    "normalizer_cls = StandardScaler # MinMaxScaler\n",
    "dummy = False\n",
    "model_type = ModelType.GCNGrouping\n",
    "method_prefix = \"GroupingBased\""
   ]
  },
  {
   "cell_type": "code",
   "execution_count": 4,
   "metadata": {},
   "outputs": [
    {
     "name": "stdout",
     "output_type": "stream",
     "text": [
      "[2023-12-20 16:16:13,065] {data.py:447} INFO - Loading graphs train\n",
      "[2023-12-20 16:16:13,066] {data.py:418} INFO - Loading merged.csv\n",
      "[2023-12-20 16:16:13,066] {data.py:418} INFO - Loading merged.csv\n",
      "[2023-12-20 16:16:13,562] {data.py:421} INFO - Loaded merged.csv, 200000 rows\n",
      "[2023-12-20 16:16:13,916] {data.py:427} INFO - Loaded mnasnet1_3.180_7.csv, 769 rows\n",
      "[2023-12-20 16:16:14,609] {data.py:427} INFO - Loaded convnext_small.96_7.csv, 1595 rows\n",
      "[2023-12-20 16:16:15,007] {data.py:427} INFO - Loaded googlenet.120_7.csv, 905 rows\n",
      "[2023-12-20 16:16:15,330] {data.py:427} INFO - Loaded mobilenet_v3_small.249_7.csv, 732 rows\n",
      "[2023-12-20 16:16:15,461] {data.py:427} INFO - Loaded squeezenet1_0.173_7.csv, 280 rows\n",
      "[2023-12-20 16:16:15,784] {data.py:427} INFO - Loaded rand_4000.251_7.csv, 719 rows\n",
      "[2023-12-20 16:16:16,875] {data.py:427} INFO - Loaded densenet161.132_7.csv, 2507 rows\n",
      "[2023-12-20 16:16:18,022] {data.py:427} INFO - Loaded densenet169.127_7.csv, 2633 rows\n",
      "[2023-12-20 16:16:18,179] {data.py:427} INFO - Loaded vgg19_bn.119_7.csv, 333 rows\n",
      "[2023-12-20 16:16:18,578] {data.py:427} INFO - Loaded shufflenet_v2_x1_5.127_7.csv, 849 rows\n",
      "[2023-12-20 16:16:18,990] {data.py:427} INFO - Loaded mobilenet_v3_large.169_7.csv, 884 rows\n",
      "[2023-12-20 16:16:19,526] {data.py:427} INFO - Loaded rand_1000.31_7.csv, 1159 rows\n",
      "[2023-12-20 16:16:20,565] {data.py:427} INFO - Loaded rand_500.74_7.csv, 2314 rows\n",
      "[2023-12-20 16:16:20,650] {data.py:427} INFO - Loaded vgg16.147_7.csv, 173 rows\n",
      "[2023-12-20 16:16:20,722] {data.py:427} INFO - Loaded vgg13.143_7.csv, 143 rows\n",
      "[2023-12-20 16:16:20,811] {data.py:427} INFO - Loaded vgg16.129_7.csv, 175 rows\n",
      "[2023-12-20 16:16:21,158] {data.py:427} INFO - Loaded mnasnet0_75.153_7.csv, 771 rows\n",
      "[2023-12-20 16:16:22,003] {data.py:427} INFO - Loaded wide_resnet101_2.69_7.csv, 1600 rows\n",
      "[2023-12-20 16:16:23,143] {data.py:427} INFO - Loaded densenet169.89_7.csv, 2633 rows\n",
      "[2023-12-20 16:16:23,635] {data.py:427} INFO - Loaded rand_4500.63_7.csv, 1123 rows\n",
      "[2023-12-20 16:16:23,979] {data.py:427} INFO - Loaded mnasnet1_3.214_7.csv, 769 rows\n",
      "[2023-12-20 16:16:24,053] {data.py:427} INFO - Loaded vgg13.99_7.csv, 145 rows\n",
      "[2023-12-20 16:16:24,405] {data.py:427} INFO - Loaded mnasnet0_75.64_7.csv, 769 rows\n",
      "[2023-12-20 16:16:24,558] {data.py:427} INFO - Loaded vgg19_bn.128_7.csv, 331 rows\n",
      "[2023-12-20 16:16:24,955] {data.py:427} INFO - Loaded mobilenet_v3_large.61_7.csv, 888 rows\n",
      "[2023-12-20 16:16:26,092] {data.py:427} INFO - Loaded densenet169.51_7.csv, 2633 rows\n",
      "[2023-12-20 16:16:26,436] {data.py:427} INFO - Loaded mobilenet_v2.129_7.csv, 771 rows\n",
      "[2023-12-20 16:16:26,909] {data.py:427} INFO - Loaded rand_4500.14_7.csv, 1060 rows\n",
      "[2023-12-20 16:16:27,212] {data.py:427} INFO - Loaded rand_1500.122_7.csv, 683 rows\n",
      "[2023-12-20 16:16:28,227] {data.py:427} INFO - Loaded rand_2000.65_7.csv, 2315 rows\n",
      "[2023-12-20 16:16:28,359] {data.py:427} INFO - Loaded squeezenet1_1.79_7.csv, 280 rows\n",
      "[2023-12-20 16:16:29,485] {data.py:427} INFO - Loaded rand_1500.33_7.csv, 2540 rows\n",
      "[2023-12-20 16:16:30,317] {data.py:427} INFO - Loaded rand_500.92_7.csv, 1561 rows\n",
      "[2023-12-20 16:16:30,694] {data.py:427} INFO - Loaded shufflenet_v2_x2_0.165_7.csv, 849 rows\n",
      "[2023-12-20 16:16:30,766] {data.py:427} INFO - Loaded vgg13.64_7.csv, 145 rows\n",
      "[2023-12-20 16:16:31,195] {data.py:427} INFO - Loaded rand_4000.164_7.csv, 969 rows\n",
      "[2023-12-20 16:16:32,056] {data.py:427} INFO - Loaded rand_3500.99_7.csv, 1971 rows\n",
      "[2023-12-20 16:16:32,205] {data.py:427} INFO - Loaded resnet18.130_7.csv, 317 rows\n",
      "[2023-12-20 16:16:32,547] {data.py:427} INFO - Loaded mnasnet1_3.201_7.csv, 769 rows\n",
      "[2023-12-20 16:16:33,547] {data.py:427} INFO - Loaded rand_4500.285_7.csv, 2297 rows\n",
      "[2023-12-20 16:16:33,941] {data.py:427} INFO - Loaded shufflenet_v2_x2_0.151_7.csv, 849 rows\n",
      "[2023-12-20 16:16:34,095] {data.py:427} INFO - Loaded vgg19_bn.70_7.csv, 333 rows\n",
      "[2023-12-20 16:16:34,248] {data.py:427} INFO - Loaded vgg19_bn.76_7.csv, 333 rows\n",
      "[2023-12-20 16:16:34,642] {data.py:427} INFO - Loaded mobilenet_v3_large.227_7.csv, 884 rows\n",
      "[2023-12-20 16:16:35,758] {data.py:427} INFO - Loaded rand_500.237_7.csv, 2564 rows\n",
      "[2023-12-20 16:16:36,106] {data.py:427} INFO - Loaded mnasnet0_5.100_7.csv, 771 rows\n",
      "[2023-12-20 16:16:36,451] {data.py:427} INFO - Loaded mnasnet0_75.177_7.csv, 769 rows\n",
      "[2023-12-20 16:16:36,919] {data.py:427} INFO - Loaded rand_4500.269_7.csv, 1056 rows\n",
      "[2023-12-20 16:16:37,455] {data.py:427} INFO - Loaded rand_1000.161_7.csv, 1222 rows\n",
      "[2023-12-20 16:16:38,454] {data.py:427} INFO - Loaded rand_2000.148_7.csv, 2297 rows\n",
      "[2023-12-20 16:16:39,150] {data.py:427} INFO - Loaded convnext_small.106_7.csv, 1595 rows\n",
      "[2023-12-20 16:16:39,454] {data.py:427} INFO - Loaded rand_2500.155_7.csv, 680 rows\n",
      "[2023-12-20 16:16:39,562] {data.py:427} INFO - Loaded vgg13_bn.155_7.csv, 223 rows\n",
      "[2023-12-20 16:16:39,937] {data.py:427} INFO - Loaded shufflenet_v2_x0_5.157_7.csv, 849 rows\n",
      "[2023-12-20 16:16:41,397] {data.py:427} INFO - Loaded rand_1000.202_7.csv, 2911 rows\n",
      "[2023-12-20 16:16:42,093] {data.py:427} INFO - Loaded resnet101.150_7.csv, 1600 rows\n",
      "[2023-12-20 16:16:43,236] {data.py:427} INFO - Loaded densenet169.124_7.csv, 2631 rows\n",
      "[2023-12-20 16:16:43,385] {data.py:427} INFO - Loaded resnet18.103_7.csv, 315 rows\n",
      "[2023-12-20 16:16:43,728] {data.py:427} INFO - Loaded mnasnet0_75.204_7.csv, 771 rows\n",
      "[2023-12-20 16:16:44,168] {data.py:427} INFO - Loaded rand_1500.112_7.csv, 989 rows\n",
      "[2023-12-20 16:16:44,301] {data.py:427} INFO - Loaded squeezenet1_1.120_7.csv, 280 rows\n",
      "[2023-12-20 16:16:45,091] {data.py:427} INFO - Loaded efficientnet_b3.133_7.csv, 1812 rows\n",
      "[2023-12-20 16:16:46,352] {data.py:427} INFO - Loaded rand_2500.237_7.csv, 2912 rows\n",
      "[2023-12-20 16:16:47,360] {data.py:427} INFO - Loaded rand_1500.29_7.csv, 2300 rows\n",
      "[2023-12-20 16:16:47,737] {data.py:427} INFO - Loaded wide_resnet50_2.167_7.csv, 816 rows\n",
      "[2023-12-20 16:16:48,930] {data.py:427} INFO - Loaded efficientnet_b5.102_7.csv, 2709 rows\n",
      "[2023-12-20 16:16:49,723] {data.py:427} INFO - Loaded efficientnet_b3.113_7.csv, 1814 rows\n",
      "[2023-12-20 16:16:50,588] {data.py:427} INFO - Loaded rand_2500.51_7.csv, 1982 rows\n",
      "[2023-12-20 16:16:50,663] {data.py:427} INFO - Loaded vgg13.84_7.csv, 145 rows\n",
      "[2023-12-20 16:16:51,749] {data.py:427} INFO - Loaded efficientnet_v2_s.122_7.csv, 2412 rows\n",
      "[2023-12-20 16:16:52,114] {data.py:427} INFO - Loaded rand_4000.123_7.csv, 798 rows\n",
      "[2023-12-20 16:16:52,210] {data.py:427} INFO - Loaded vgg11_bn.111_7.csv, 189 rows\n",
      "[2023-12-20 16:16:52,560] {data.py:427} INFO - Loaded mobilenet_v2.192_7.csv, 769 rows\n",
      "[2023-12-20 16:16:53,496] {data.py:427} INFO - Loaded convnext_base.63_7.csv, 1595 rows\n",
      "[2023-12-20 16:16:54,522] {data.py:427} INFO - Loaded rand_2000.58_7.csv, 2312 rows\n",
      "[2023-12-20 16:16:55,541] {data.py:427} INFO - Loaded rand_4000.183_7.csv, 2285 rows\n",
      "[2023-12-20 16:16:55,887] {data.py:427} INFO - Loaded mnasnet1_3.135_7.csv, 771 rows\n",
      "[2023-12-20 16:16:56,287] {data.py:427} INFO - Loaded googlenet.58_7.csv, 905 rows\n",
      "[2023-12-20 16:16:56,632] {data.py:427} INFO - Loaded mnasnet0_5.198_7.csv, 771 rows\n",
      "[2023-12-20 16:16:57,008] {data.py:427} INFO - Loaded shufflenet_v2_x1_0.97_7.csv, 847 rows\n",
      "[2023-12-20 16:16:57,408] {data.py:427} INFO - Loaded mobilenet_v3_large.160_7.csv, 884 rows\n",
      "[2023-12-20 16:16:58,123] {data.py:427} INFO - Loaded convnext_large.48_7.csv, 1595 rows\n",
      "[2023-12-20 16:16:58,468] {data.py:427} INFO - Loaded mnasnet0_75.213_7.csv, 771 rows\n",
      "[2023-12-20 16:16:59,554] {data.py:427} INFO - Loaded resnet152.114_7.csv, 2382 rows\n",
      "[2023-12-20 16:16:59,619] {data.py:427} INFO - Loaded vgg11.120_7.csv, 125 rows\n",
      "[2023-12-20 16:17:00,185] {data.py:427} INFO - Loaded rand_2000.27_7.csv, 1221 rows\n",
      "[2023-12-20 16:17:01,214] {data.py:427} INFO - Loaded efficientnet_b4.108_7.csv, 2234 rows\n",
      "[2023-12-20 16:17:01,563] {data.py:427} INFO - Loaded mnasnet1_0.227_7.csv, 769 rows\n",
      "[2023-12-20 16:17:02,641] {data.py:427} INFO - Loaded efficientnet_v2_s.73_7.csv, 2412 rows\n",
      "[2023-12-20 16:17:02,986] {data.py:427} INFO - Loaded mnasnet0_5.165_7.csv, 769 rows\n",
      "[2023-12-20 16:17:04,154] {data.py:427} INFO - Loaded densenet169.119_7.csv, 2633 rows\n",
      "[2023-12-20 16:17:05,337] {data.py:427} INFO - Loaded efficientnet_b5.93_7.csv, 2709 rows\n",
      "[2023-12-20 16:17:05,665] {data.py:427} INFO - Loaded mobilenet_v3_small.73_7.csv, 734 rows\n",
      "[2023-12-20 16:17:06,011] {data.py:427} INFO - Loaded mnasnet0_75.121_7.csv, 771 rows\n",
      "[2023-12-20 16:17:07,100] {data.py:427} INFO - Loaded densenet161.90_7.csv, 2509 rows\n",
      "[2023-12-20 16:17:07,544] {data.py:427} INFO - Loaded rand_1500.243_7.csv, 989 rows\n",
      "[2023-12-20 16:17:07,655] {data.py:427} INFO - Loaded vgg13_bn.152_7.csv, 223 rows\n",
      "[2023-12-20 16:17:07,991] {data.py:427} INFO - Loaded mobilenet_v3_small.112_7.csv, 736 rows\n",
      "[2023-12-20 16:17:08,085] {data.py:427} INFO - Loaded vgg11_bn.123_7.csv, 189 rows\n",
      "[2023-12-20 16:17:08,444] {data.py:427} INFO - Loaded mnasnet0_75.70_7.csv, 771 rows\n",
      "[2023-12-20 16:17:08,577] {data.py:427} INFO - Loaded squeezenet1_1.126_7.csv, 280 rows\n",
      "[2023-12-20 16:17:08,892] {data.py:427} INFO - Loaded rand_1500.90_7.csv, 681 rows\n",
      "[2023-12-20 16:17:09,538] {data.py:427} INFO - Loaded mobilenet_v2.195_7.csv, 771 rows\n",
      "[2023-12-20 16:17:10,081] {data.py:427} INFO - Loaded rand_3500.159_7.csv, 1213 rows\n",
      "[2023-12-20 16:17:10,417] {data.py:427} INFO - Loaded rand_1500.91_7.csv, 735 rows\n",
      "[2023-12-20 16:17:10,753] {data.py:427} INFO - Loaded rand_2000.174_7.csv, 739 rows\n",
      "[2023-12-20 16:17:11,204] {data.py:427} INFO - Loaded rand_1500.201_7.csv, 970 rows\n",
      "[2023-12-20 16:17:11,897] {data.py:427} INFO - Loaded rand_1000.127_7.csv, 1565 rows\n",
      "[2023-12-20 16:17:12,052] {data.py:427} INFO - Loaded vgg19_bn.89_7.csv, 333 rows\n",
      "[2023-12-20 16:17:12,426] {data.py:427} INFO - Loaded convnext_tiny.96_7.csv, 839 rows\n",
      "[2023-12-20 16:17:12,962] {data.py:427} INFO - Loaded rand_4500.178_7.csv, 1224 rows\n",
      "[2023-12-20 16:17:14,131] {data.py:427} INFO - Loaded densenet169.70_7.csv, 2633 rows\n",
      "[2023-12-20 16:17:15,130] {data.py:427} INFO - Loaded rand_1000.231_7.csv, 2301 rows\n",
      "[2023-12-20 16:17:15,473] {data.py:427} INFO - Loaded mnasnet1_3.70_7.csv, 769 rows\n",
      "[2023-12-20 16:17:15,914] {data.py:427} INFO - Loaded rand_500.204_7.csv, 992 rows\n",
      "[2023-12-20 16:17:16,217] {data.py:427} INFO - Loaded rand_1500.237_7.csv, 681 rows\n",
      "[2023-12-20 16:17:16,558] {data.py:427} INFO - Loaded mobilenet_v2.147_7.csv, 771 rows\n",
      "[2023-12-20 16:17:17,024] {data.py:427} INFO - Loaded rand_1000.111_7.csv, 1065 rows\n",
      "[2023-12-20 16:17:17,917] {data.py:427} INFO - Loaded rand_1500.276_7.csv, 1986 rows\n",
      "[2023-12-20 16:17:18,967] {data.py:427} INFO - Loaded efficientnet_v2_s.161_7.csv, 2410 rows\n",
      "[2023-12-20 16:17:19,403] {data.py:427} INFO - Loaded rand_3000.56_7.csv, 972 rows\n",
      "[2023-12-20 16:17:19,774] {data.py:427} INFO - Loaded convnext_tiny.55_7.csv, 837 rows\n",
      "[2023-12-20 16:17:20,240] {data.py:427} INFO - Loaded rand_4500.240_7.csv, 1057 rows\n",
      "[2023-12-20 16:17:21,220] {data.py:427} INFO - Loaded efficientnet_b4.60_7.csv, 2234 rows\n",
      "[2023-12-20 16:17:21,375] {data.py:427} INFO - Loaded vgg19_bn.85_7.csv, 331 rows\n",
      "[2023-12-20 16:17:21,441] {data.py:427} INFO - Loaded vgg11.164_7.csv, 123 rows\n",
      "[2023-12-20 16:17:22,296] {data.py:427} INFO - Loaded rand_4000.208_7.csv, 1928 rows\n",
      "[2023-12-20 16:17:22,689] {data.py:427} INFO - Loaded shufflenet_v2_x0_5.168_7.csv, 849 rows\n",
      "[2023-12-20 16:17:23,033] {data.py:427} INFO - Loaded rand_500.85_7.csv, 730 rows\n",
      "[2023-12-20 16:17:23,434] {data.py:427} INFO - Loaded googlenet.103_7.csv, 903 rows\n",
      "[2023-12-20 16:17:24,253] {data.py:427} INFO - Loaded densenet121.49_7.csv, 1887 rows\n",
      "[2023-12-20 16:17:24,799] {data.py:427} INFO - Loaded rand_1000.45_7.csv, 1242 rows\n",
      "[2023-12-20 16:17:25,906] {data.py:427} INFO - Loaded rand_2000.1_7.csv, 2568 rows\n",
      "[2023-12-20 16:17:26,595] {data.py:427} INFO - Loaded convnext_base.134_7.csv, 1593 rows\n",
      "[2023-12-20 16:17:26,984] {data.py:427} INFO - Loaded mobilenet_v3_large.141_7.csv, 888 rows\n",
      "[2023-12-20 16:17:27,356] {data.py:427} INFO - Loaded shufflenet_v2_x1_0.67_7.csv, 849 rows\n",
      "[2023-12-20 16:17:28,572] {data.py:427} INFO - Loaded efficientnet_b5.165_7.csv, 2707 rows\n",
      "[2023-12-20 16:17:28,956] {data.py:427} INFO - Loaded shufflenet_v2_x1_5.156_7.csv, 849 rows\n",
      "[2023-12-20 16:17:30,016] {data.py:427} INFO - Loaded efficientnet_b1.99_7.csv, 1604 rows\n",
      "[2023-12-20 16:17:30,723] {data.py:427} INFO - Loaded efficientnet_b1.147_7.csv, 1604 rows\n",
      "[2023-12-20 16:17:31,212] {data.py:427} INFO - Loaded rand_500.173_7.csv, 1060 rows\n",
      "[2023-12-20 16:17:32,436] {data.py:427} INFO - Loaded efficientnet_b5.67_7.csv, 2709 rows\n",
      "[2023-12-20 16:17:33,538] {data.py:427} INFO - Loaded efficientnet_v2_s.107_7.csv, 2412 rows\n",
      "[2023-12-20 16:17:34,274] {data.py:427} INFO - Loaded efficientnet_b1.70_7.csv, 1602 rows\n",
      "[2023-12-20 16:17:34,585] {data.py:427} INFO - Loaded rand_2000.165_7.csv, 683 rows\n",
      "[2023-12-20 16:17:34,956] {data.py:427} INFO - Loaded resnet50.58_7.csv, 818 rows\n",
      "[2023-12-20 16:17:36,117] {data.py:427} INFO - Loaded rand_1500.153_7.csv, 2568 rows\n",
      "[2023-12-20 16:17:37,173] {data.py:427} INFO - Loaded rand_500.151_7.csv, 2316 rows\n",
      "[2023-12-20 16:17:37,536] {data.py:427} INFO - Loaded mnasnet0_5.177_7.csv, 771 rows\n",
      "[2023-12-20 16:17:37,692] {data.py:427} INFO - Loaded resnet18.240_7.csv, 317 rows\n",
      "[2023-12-20 16:17:38,021] {data.py:427} INFO - Loaded rand_4500.150_7.csv, 683 rows\n",
      "[2023-12-20 16:17:39,239] {data.py:427} INFO - Loaded densenet169.66_7.csv, 2633 rows\n",
      "[2023-12-20 16:17:40,382] {data.py:427} INFO - Loaded densenet161.111_7.csv, 2507 rows\n",
      "[2023-12-20 16:17:41,427] {data.py:427} INFO - Loaded rand_4000.188_7.csv, 2271 rows\n",
      "[2023-12-20 16:17:41,817] {data.py:427} INFO - Loaded shufflenet_v2_x1_0.218_7.csv, 847 rows\n",
      "[2023-12-20 16:17:42,181] {data.py:427} INFO - Loaded mnasnet1_3.85_7.csv, 771 rows\n",
      "[2023-12-20 16:17:43,097] {data.py:427} INFO - Loaded rand_0.259_7.csv, 1983 rows\n",
      "[2023-12-20 16:17:43,196] {data.py:427} INFO - Loaded vgg11_bn.172_7.csv, 187 rows\n",
      "[2023-12-20 16:17:43,560] {data.py:427} INFO - Loaded mobilenet_v2.85_7.csv, 771 rows\n",
      "[2023-12-20 16:17:43,980] {data.py:427} INFO - Loaded mobilenet_v3_large.76_7.csv, 888 rows\n",
      "[2023-12-20 16:17:44,086] {data.py:427} INFO - Loaded vgg19.132_7.csv, 205 rows\n",
      "[2023-12-20 16:17:44,295] {data.py:427} INFO - Loaded shufflenet_v2_x1_5.94_7.csv, 434 rows\n",
      "[2023-12-20 16:17:44,299] {data.py:447} INFO - Loading graphs train\n",
      "[2023-12-20 16:17:44,300] {data.py:418} INFO - Loading merged.csv\n",
      "[2023-12-20 16:17:46,795] {data.py:421} INFO - Loaded merged.csv, 1000000 rows\n",
      "[2023-12-20 16:17:47,250] {data.py:427} INFO - Loaded mnasnet1_3.180_7.csv, 769 rows\n",
      "[2023-12-20 16:17:48,041] {data.py:427} INFO - Loaded convnext_small.96_7.csv, 1595 rows\n",
      "[2023-12-20 16:17:48,511] {data.py:427} INFO - Loaded googlenet.120_7.csv, 905 rows\n",
      "[2023-12-20 16:17:48,886] {data.py:427} INFO - Loaded mobilenet_v3_small.249_7.csv, 732 rows\n",
      "[2023-12-20 16:17:49,062] {data.py:427} INFO - Loaded squeezenet1_0.173_7.csv, 280 rows\n",
      "[2023-12-20 16:17:49,434] {data.py:427} INFO - Loaded rand_4000.251_7.csv, 719 rows\n",
      "[2023-12-20 16:17:50,688] {data.py:427} INFO - Loaded densenet161.132_7.csv, 2507 rows\n",
      "[2023-12-20 16:17:51,909] {data.py:427} INFO - Loaded densenet169.127_7.csv, 2633 rows\n",
      "[2023-12-20 16:17:52,107] {data.py:427} INFO - Loaded vgg19_bn.119_7.csv, 333 rows\n",
      "[2023-12-20 16:17:52,546] {data.py:427} INFO - Loaded shufflenet_v2_x1_5.127_7.csv, 849 rows\n",
      "[2023-12-20 16:17:52,986] {data.py:427} INFO - Loaded mobilenet_v3_large.169_7.csv, 884 rows\n",
      "[2023-12-20 16:17:53,547] {data.py:427} INFO - Loaded rand_1000.31_7.csv, 1159 rows\n",
      "[2023-12-20 16:17:54,640] {data.py:427} INFO - Loaded rand_500.74_7.csv, 2314 rows\n",
      "[2023-12-20 16:17:54,766] {data.py:427} INFO - Loaded vgg16.147_7.csv, 173 rows\n",
      "[2023-12-20 16:17:54,882] {data.py:427} INFO - Loaded vgg13.143_7.csv, 143 rows\n",
      "[2023-12-20 16:17:55,012] {data.py:427} INFO - Loaded vgg16.129_7.csv, 175 rows\n",
      "[2023-12-20 16:17:55,413] {data.py:427} INFO - Loaded mnasnet0_75.153_7.csv, 771 rows\n",
      "[2023-12-20 16:17:56,169] {data.py:427} INFO - Loaded wide_resnet101_2.69_7.csv, 1600 rows\n",
      "[2023-12-20 16:17:57,380] {data.py:427} INFO - Loaded densenet169.89_7.csv, 2633 rows\n",
      "[2023-12-20 16:17:57,946] {data.py:427} INFO - Loaded rand_4500.63_7.csv, 1123 rows\n",
      "[2023-12-20 16:17:58,347] {data.py:427} INFO - Loaded mnasnet1_3.214_7.csv, 769 rows\n",
      "[2023-12-20 16:17:58,467] {data.py:427} INFO - Loaded vgg13.99_7.csv, 145 rows\n",
      "[2023-12-20 16:17:59,295] {data.py:427} INFO - Loaded mnasnet0_75.64_7.csv, 769 rows\n",
      "[2023-12-20 16:17:59,497] {data.py:427} INFO - Loaded vgg19_bn.128_7.csv, 331 rows\n",
      "[2023-12-20 16:17:59,954] {data.py:427} INFO - Loaded mobilenet_v3_large.61_7.csv, 888 rows\n",
      "[2023-12-20 16:18:01,192] {data.py:427} INFO - Loaded densenet169.51_7.csv, 2633 rows\n",
      "[2023-12-20 16:18:01,581] {data.py:427} INFO - Loaded mobilenet_v2.129_7.csv, 771 rows\n",
      "[2023-12-20 16:18:02,094] {data.py:427} INFO - Loaded rand_4500.14_7.csv, 1060 rows\n",
      "[2023-12-20 16:18:02,444] {data.py:427} INFO - Loaded rand_1500.122_7.csv, 683 rows\n",
      "[2023-12-20 16:18:03,506] {data.py:427} INFO - Loaded rand_2000.65_7.csv, 2315 rows\n",
      "[2023-12-20 16:18:03,682] {data.py:427} INFO - Loaded squeezenet1_1.79_7.csv, 280 rows\n",
      "[2023-12-20 16:18:04,860] {data.py:427} INFO - Loaded rand_1500.33_7.csv, 2540 rows\n",
      "[2023-12-20 16:18:05,607] {data.py:427} INFO - Loaded rand_500.92_7.csv, 1561 rows\n",
      "[2023-12-20 16:18:06,037] {data.py:427} INFO - Loaded shufflenet_v2_x2_0.165_7.csv, 849 rows\n",
      "[2023-12-20 16:18:06,150] {data.py:427} INFO - Loaded vgg13.64_7.csv, 145 rows\n",
      "[2023-12-20 16:18:06,625] {data.py:427} INFO - Loaded rand_4000.164_7.csv, 969 rows\n",
      "[2023-12-20 16:18:07,571] {data.py:427} INFO - Loaded rand_3500.99_7.csv, 1971 rows\n",
      "[2023-12-20 16:18:07,768] {data.py:427} INFO - Loaded resnet18.130_7.csv, 317 rows\n",
      "[2023-12-20 16:18:08,175] {data.py:427} INFO - Loaded mnasnet1_3.201_7.csv, 769 rows\n",
      "[2023-12-20 16:18:09,266] {data.py:427} INFO - Loaded rand_4500.285_7.csv, 2297 rows\n",
      "[2023-12-20 16:18:09,691] {data.py:427} INFO - Loaded shufflenet_v2_x2_0.151_7.csv, 849 rows\n",
      "[2023-12-20 16:18:09,890] {data.py:427} INFO - Loaded vgg19_bn.70_7.csv, 333 rows\n",
      "[2023-12-20 16:18:10,087] {data.py:427} INFO - Loaded vgg19_bn.76_7.csv, 333 rows\n",
      "[2023-12-20 16:18:10,532] {data.py:427} INFO - Loaded mobilenet_v3_large.227_7.csv, 884 rows\n",
      "[2023-12-20 16:18:11,742] {data.py:427} INFO - Loaded rand_500.237_7.csv, 2564 rows\n",
      "[2023-12-20 16:18:12,148] {data.py:427} INFO - Loaded mnasnet0_5.100_7.csv, 771 rows\n",
      "[2023-12-20 16:18:12,544] {data.py:427} INFO - Loaded mnasnet0_75.177_7.csv, 769 rows\n",
      "[2023-12-20 16:18:13,069] {data.py:427} INFO - Loaded rand_4500.269_7.csv, 1056 rows\n",
      "[2023-12-20 16:18:13,686] {data.py:427} INFO - Loaded rand_1000.161_7.csv, 1222 rows\n",
      "[2023-12-20 16:18:14,781] {data.py:427} INFO - Loaded rand_2000.148_7.csv, 2297 rows\n",
      "[2023-12-20 16:18:15,567] {data.py:427} INFO - Loaded convnext_small.106_7.csv, 1595 rows\n",
      "[2023-12-20 16:18:15,921] {data.py:427} INFO - Loaded rand_2500.155_7.csv, 680 rows\n",
      "[2023-12-20 16:18:16,076] {data.py:427} INFO - Loaded vgg13_bn.155_7.csv, 223 rows\n",
      "[2023-12-20 16:18:16,512] {data.py:427} INFO - Loaded shufflenet_v2_x0_5.157_7.csv, 849 rows\n",
      "[2023-12-20 16:18:17,891] {data.py:427} INFO - Loaded rand_1000.202_7.csv, 2911 rows\n",
      "[2023-12-20 16:18:18,667] {data.py:427} INFO - Loaded resnet101.150_7.csv, 1600 rows\n",
      "[2023-12-20 16:18:19,936] {data.py:427} INFO - Loaded densenet169.124_7.csv, 2631 rows\n",
      "[2023-12-20 16:18:20,134] {data.py:427} INFO - Loaded resnet18.103_7.csv, 315 rows\n",
      "[2023-12-20 16:18:20,537] {data.py:427} INFO - Loaded mnasnet0_75.204_7.csv, 771 rows\n",
      "[2023-12-20 16:18:21,039] {data.py:427} INFO - Loaded rand_1500.112_7.csv, 989 rows\n",
      "[2023-12-20 16:18:21,213] {data.py:427} INFO - Loaded squeezenet1_1.120_7.csv, 280 rows\n",
      "[2023-12-20 16:18:22,065] {data.py:427} INFO - Loaded efficientnet_b3.133_7.csv, 1812 rows\n",
      "[2023-12-20 16:18:23,434] {data.py:427} INFO - Loaded rand_2500.237_7.csv, 2912 rows\n",
      "[2023-12-20 16:18:24,537] {data.py:427} INFO - Loaded rand_1500.29_7.csv, 2300 rows\n",
      "[2023-12-20 16:18:24,962] {data.py:427} INFO - Loaded wide_resnet50_2.167_7.csv, 816 rows\n",
      "[2023-12-20 16:18:26,256] {data.py:427} INFO - Loaded efficientnet_b5.102_7.csv, 2709 rows\n",
      "[2023-12-20 16:18:27,136] {data.py:427} INFO - Loaded efficientnet_b3.113_7.csv, 1814 rows\n",
      "[2023-12-20 16:18:28,087] {data.py:427} INFO - Loaded rand_2500.51_7.csv, 1982 rows\n",
      "[2023-12-20 16:18:28,202] {data.py:427} INFO - Loaded vgg13.84_7.csv, 145 rows\n",
      "[2023-12-20 16:18:29,332] {data.py:427} INFO - Loaded efficientnet_v2_s.122_7.csv, 2412 rows\n",
      "[2023-12-20 16:18:29,735] {data.py:427} INFO - Loaded rand_4000.123_7.csv, 798 rows\n",
      "[2023-12-20 16:18:29,872] {data.py:427} INFO - Loaded vgg11_bn.111_7.csv, 189 rows\n",
      "[2023-12-20 16:18:30,263] {data.py:427} INFO - Loaded mobilenet_v2.192_7.csv, 769 rows\n",
      "[2023-12-20 16:18:31,025] {data.py:427} INFO - Loaded convnext_base.63_7.csv, 1595 rows\n",
      "[2023-12-20 16:18:32,101] {data.py:427} INFO - Loaded rand_2000.58_7.csv, 2312 rows\n",
      "[2023-12-20 16:18:33,738] {data.py:427} INFO - Loaded rand_4000.183_7.csv, 2285 rows\n",
      "[2023-12-20 16:18:34,132] {data.py:427} INFO - Loaded mnasnet1_3.135_7.csv, 771 rows\n",
      "[2023-12-20 16:18:34,598] {data.py:427} INFO - Loaded googlenet.58_7.csv, 905 rows\n",
      "[2023-12-20 16:18:35,001] {data.py:427} INFO - Loaded mnasnet0_5.198_7.csv, 771 rows\n",
      "[2023-12-20 16:18:35,431] {data.py:427} INFO - Loaded shufflenet_v2_x1_0.97_7.csv, 847 rows\n",
      "[2023-12-20 16:18:35,875] {data.py:427} INFO - Loaded mobilenet_v3_large.160_7.csv, 884 rows\n",
      "[2023-12-20 16:18:36,644] {data.py:427} INFO - Loaded convnext_large.48_7.csv, 1595 rows\n",
      "[2023-12-20 16:18:37,040] {data.py:427} INFO - Loaded mnasnet0_75.213_7.csv, 771 rows\n",
      "[2023-12-20 16:18:38,143] {data.py:427} INFO - Loaded resnet152.114_7.csv, 2382 rows\n",
      "[2023-12-20 16:18:38,248] {data.py:427} INFO - Loaded vgg11.120_7.csv, 125 rows\n",
      "[2023-12-20 16:18:38,853] {data.py:427} INFO - Loaded rand_2000.27_7.csv, 1221 rows\n",
      "[2023-12-20 16:18:39,926] {data.py:427} INFO - Loaded efficientnet_b4.108_7.csv, 2234 rows\n",
      "[2023-12-20 16:18:40,332] {data.py:427} INFO - Loaded mnasnet1_0.227_7.csv, 769 rows\n",
      "[2023-12-20 16:18:41,473] {data.py:427} INFO - Loaded efficientnet_v2_s.73_7.csv, 2412 rows\n",
      "[2023-12-20 16:18:41,864] {data.py:427} INFO - Loaded mnasnet0_5.165_7.csv, 769 rows\n",
      "[2023-12-20 16:18:43,091] {data.py:427} INFO - Loaded densenet169.119_7.csv, 2633 rows\n",
      "[2023-12-20 16:18:44,325] {data.py:427} INFO - Loaded efficientnet_b5.93_7.csv, 2709 rows\n",
      "[2023-12-20 16:18:44,710] {data.py:427} INFO - Loaded mobilenet_v3_small.73_7.csv, 734 rows\n",
      "[2023-12-20 16:18:45,105] {data.py:427} INFO - Loaded mnasnet0_75.121_7.csv, 771 rows\n",
      "[2023-12-20 16:18:46,266] {data.py:427} INFO - Loaded densenet161.90_7.csv, 2509 rows\n",
      "[2023-12-20 16:18:46,758] {data.py:427} INFO - Loaded rand_1500.243_7.csv, 989 rows\n",
      "[2023-12-20 16:18:46,904] {data.py:427} INFO - Loaded vgg13_bn.152_7.csv, 223 rows\n",
      "[2023-12-20 16:18:47,278] {data.py:427} INFO - Loaded mobilenet_v3_small.112_7.csv, 736 rows\n",
      "[2023-12-20 16:18:47,411] {data.py:427} INFO - Loaded vgg11_bn.123_7.csv, 189 rows\n",
      "[2023-12-20 16:18:47,803] {data.py:427} INFO - Loaded mnasnet0_75.70_7.csv, 771 rows\n",
      "[2023-12-20 16:18:47,979] {data.py:427} INFO - Loaded squeezenet1_1.126_7.csv, 280 rows\n",
      "[2023-12-20 16:18:48,339] {data.py:427} INFO - Loaded rand_1500.90_7.csv, 681 rows\n",
      "[2023-12-20 16:18:48,744] {data.py:427} INFO - Loaded mobilenet_v2.195_7.csv, 771 rows\n",
      "[2023-12-20 16:18:49,332] {data.py:427} INFO - Loaded rand_3500.159_7.csv, 1213 rows\n",
      "[2023-12-20 16:18:49,713] {data.py:427} INFO - Loaded rand_1500.91_7.csv, 735 rows\n",
      "[2023-12-20 16:18:50,096] {data.py:427} INFO - Loaded rand_2000.174_7.csv, 739 rows\n",
      "[2023-12-20 16:18:50,581] {data.py:427} INFO - Loaded rand_1500.201_7.csv, 970 rows\n",
      "[2023-12-20 16:18:51,346] {data.py:427} INFO - Loaded rand_1000.127_7.csv, 1565 rows\n",
      "[2023-12-20 16:18:51,545] {data.py:427} INFO - Loaded vgg19_bn.89_7.csv, 333 rows\n",
      "[2023-12-20 16:18:51,965] {data.py:427} INFO - Loaded convnext_tiny.96_7.csv, 839 rows\n",
      "[2023-12-20 16:18:52,582] {data.py:427} INFO - Loaded rand_4500.178_7.csv, 1224 rows\n",
      "[2023-12-20 16:18:53,824] {data.py:427} INFO - Loaded densenet169.70_7.csv, 2633 rows\n",
      "[2023-12-20 16:18:54,894] {data.py:427} INFO - Loaded rand_1000.231_7.csv, 2301 rows\n",
      "[2023-12-20 16:18:55,287] {data.py:427} INFO - Loaded mnasnet1_3.70_7.csv, 769 rows\n",
      "[2023-12-20 16:18:55,763] {data.py:427} INFO - Loaded rand_500.204_7.csv, 992 rows\n",
      "[2023-12-20 16:18:56,109] {data.py:427} INFO - Loaded rand_1500.237_7.csv, 681 rows\n",
      "[2023-12-20 16:18:56,492] {data.py:427} INFO - Loaded mobilenet_v2.147_7.csv, 771 rows\n",
      "[2023-12-20 16:18:57,008] {data.py:427} INFO - Loaded rand_1000.111_7.csv, 1065 rows\n",
      "[2023-12-20 16:18:57,936] {data.py:427} INFO - Loaded rand_1500.276_7.csv, 1986 rows\n",
      "[2023-12-20 16:18:59,085] {data.py:427} INFO - Loaded efficientnet_v2_s.161_7.csv, 2410 rows\n",
      "[2023-12-20 16:18:59,591] {data.py:427} INFO - Loaded rand_3000.56_7.csv, 972 rows\n",
      "[2023-12-20 16:19:00,030] {data.py:427} INFO - Loaded convnext_tiny.55_7.csv, 837 rows\n",
      "[2023-12-20 16:19:00,559] {data.py:427} INFO - Loaded rand_4500.240_7.csv, 1057 rows\n",
      "[2023-12-20 16:19:01,614] {data.py:427} INFO - Loaded efficientnet_b4.60_7.csv, 2234 rows\n",
      "[2023-12-20 16:19:01,816] {data.py:427} INFO - Loaded vgg19_bn.85_7.csv, 331 rows\n",
      "[2023-12-20 16:19:01,926] {data.py:427} INFO - Loaded vgg11.164_7.csv, 123 rows\n",
      "[2023-12-20 16:19:02,842] {data.py:427} INFO - Loaded rand_4000.208_7.csv, 1928 rows\n",
      "[2023-12-20 16:19:03,254] {data.py:427} INFO - Loaded shufflenet_v2_x0_5.168_7.csv, 849 rows\n",
      "[2023-12-20 16:19:03,617] {data.py:427} INFO - Loaded rand_500.85_7.csv, 730 rows\n",
      "[2023-12-20 16:19:04,052] {data.py:427} INFO - Loaded googlenet.103_7.csv, 903 rows\n",
      "[2023-12-20 16:19:04,909] {data.py:427} INFO - Loaded densenet121.49_7.csv, 1887 rows\n",
      "[2023-12-20 16:19:05,493] {data.py:427} INFO - Loaded rand_1000.45_7.csv, 1242 rows\n",
      "[2023-12-20 16:19:06,662] {data.py:427} INFO - Loaded rand_2000.1_7.csv, 2568 rows\n",
      "[2023-12-20 16:19:07,409] {data.py:427} INFO - Loaded convnext_base.134_7.csv, 1593 rows\n",
      "[2023-12-20 16:19:07,858] {data.py:427} INFO - Loaded mobilenet_v3_large.141_7.csv, 888 rows\n",
      "[2023-12-20 16:19:08,275] {data.py:427} INFO - Loaded shufflenet_v2_x1_0.67_7.csv, 849 rows\n",
      "[2023-12-20 16:19:09,516] {data.py:427} INFO - Loaded efficientnet_b5.165_7.csv, 2707 rows\n",
      "[2023-12-20 16:19:09,943] {data.py:427} INFO - Loaded shufflenet_v2_x1_5.156_7.csv, 849 rows\n",
      "[2023-12-20 16:19:10,699] {data.py:427} INFO - Loaded efficientnet_b1.99_7.csv, 1604 rows\n",
      "[2023-12-20 16:19:11,459] {data.py:427} INFO - Loaded efficientnet_b1.147_7.csv, 1604 rows\n",
      "[2023-12-20 16:19:11,988] {data.py:427} INFO - Loaded rand_500.173_7.csv, 1060 rows\n",
      "[2023-12-20 16:19:13,240] {data.py:427} INFO - Loaded efficientnet_b5.67_7.csv, 2709 rows\n",
      "[2023-12-20 16:19:14,361] {data.py:427} INFO - Loaded efficientnet_v2_s.107_7.csv, 2412 rows\n",
      "[2023-12-20 16:19:15,134] {data.py:427} INFO - Loaded efficientnet_b1.70_7.csv, 1602 rows\n",
      "[2023-12-20 16:19:15,494] {data.py:427} INFO - Loaded rand_2000.165_7.csv, 683 rows\n",
      "[2023-12-20 16:19:15,915] {data.py:427} INFO - Loaded resnet50.58_7.csv, 818 rows\n",
      "[2023-12-20 16:19:17,819] {data.py:427} INFO - Loaded rand_1500.153_7.csv, 2568 rows\n",
      "[2023-12-20 16:19:18,924] {data.py:427} INFO - Loaded rand_500.151_7.csv, 2316 rows\n",
      "[2023-12-20 16:19:19,317] {data.py:427} INFO - Loaded mnasnet0_5.177_7.csv, 771 rows\n",
      "[2023-12-20 16:19:19,509] {data.py:427} INFO - Loaded resnet18.240_7.csv, 317 rows\n",
      "[2023-12-20 16:19:19,859] {data.py:427} INFO - Loaded rand_4500.150_7.csv, 683 rows\n",
      "[2023-12-20 16:19:21,086] {data.py:427} INFO - Loaded densenet169.66_7.csv, 2633 rows\n",
      "[2023-12-20 16:19:22,249] {data.py:427} INFO - Loaded densenet161.111_7.csv, 2507 rows\n",
      "[2023-12-20 16:19:23,307] {data.py:427} INFO - Loaded rand_4000.188_7.csv, 2271 rows\n",
      "[2023-12-20 16:19:23,730] {data.py:427} INFO - Loaded shufflenet_v2_x1_0.218_7.csv, 847 rows\n",
      "[2023-12-20 16:19:24,134] {data.py:427} INFO - Loaded mnasnet1_3.85_7.csv, 771 rows\n",
      "[2023-12-20 16:19:25,071] {data.py:427} INFO - Loaded rand_0.259_7.csv, 1983 rows\n",
      "[2023-12-20 16:19:25,204] {data.py:427} INFO - Loaded vgg11_bn.172_7.csv, 187 rows\n",
      "[2023-12-20 16:19:25,600] {data.py:427} INFO - Loaded mobilenet_v2.85_7.csv, 771 rows\n",
      "[2023-12-20 16:19:26,040] {data.py:427} INFO - Loaded mobilenet_v3_large.76_7.csv, 888 rows\n",
      "[2023-12-20 16:19:26,184] {data.py:427} INFO - Loaded vgg19.132_7.csv, 205 rows\n",
      "[2023-12-20 16:19:26,612] {data.py:427} INFO - Loaded shufflenet_v2_x1_5.94_7.csv, 847 rows\n",
      "[2023-12-20 16:19:27,378] {data.py:427} INFO - Loaded convnext_small.87_7.csv, 1625 rows\n",
      "[2023-12-20 16:19:27,894] {data.py:427} INFO - Loaded rand_3500.171_7.csv, 988 rows\n",
      "[2023-12-20 16:19:28,430] {data.py:427} INFO - Loaded rand_2000.49_7.csv, 1039 rows\n",
      "[2023-12-20 16:19:29,336] {data.py:427} INFO - Loaded densenet121.114_7.csv, 1889 rows\n",
      "[2023-12-20 16:19:30,092] {data.py:427} INFO - Loaded efficientnet_b2.197_7.csv, 1602 rows\n",
      "[2023-12-20 16:19:30,262] {data.py:427} INFO - Loaded squeezenet1_0.161_7.csv, 280 rows\n",
      "[2023-12-20 16:19:31,183] {data.py:427} INFO - Loaded rand_4500.211_7.csv, 1971 rows\n",
      "[2023-12-20 16:19:31,660] {data.py:427} INFO - Loaded rand_0.255_7.csv, 990 rows\n",
      "[2023-12-20 16:19:31,953] {data.py:427} INFO - Loaded resnet34.124_7.csv, 565 rows\n",
      "[2023-12-20 16:19:32,329] {data.py:427} INFO - Loaded mnasnet1_3.150_7.csv, 771 rows\n",
      "[2023-12-20 16:19:32,837] {data.py:427} INFO - Loaded rand_2500.78_7.csv, 1051 rows\n",
      "[2023-12-20 16:19:33,586] {data.py:427} INFO - Loaded efficientnet_b2.111_7.csv, 1604 rows\n",
      "[2023-12-20 16:19:34,656] {data.py:427} INFO - Loaded rand_3500.271_7.csv, 2319 rows\n",
      "[2023-12-20 16:19:34,951] {data.py:427} INFO - Loaded resnet34.73_7.csv, 563 rows\n",
      "[2023-12-20 16:19:35,339] {data.py:427} INFO - Loaded mnasnet1_0.64_7.csv, 769 rows\n",
      "[2023-12-20 16:19:35,765] {data.py:427} INFO - Loaded shufflenet_v2_x2_0.168_7.csv, 849 rows\n",
      "[2023-12-20 16:19:36,398] {data.py:427} INFO - Loaded rand_1500.151_7.csv, 1347 rows\n",
      "[2023-12-20 16:19:36,824] {data.py:427} INFO - Loaded shufflenet_v2_x1_0.127_7.csv, 849 rows\n",
      "[2023-12-20 16:19:37,205] {data.py:427} INFO - Loaded mnasnet0_5.70_7.csv, 771 rows\n",
      "[2023-12-20 16:19:37,375] {data.py:427} INFO - Loaded squeezenet1_0.82_7.csv, 280 rows\n",
      "[2023-12-20 16:19:37,865] {data.py:427} INFO - Loaded rand_500.181_7.csv, 991 rows\n",
      "[2023-12-20 16:19:38,963] {data.py:427} INFO - Loaded efficientnet_v2_s.76_7.csv, 2412 rows\n",
      "[2023-12-20 16:19:39,347] {data.py:427} INFO - Loaded mnasnet0_75.67_7.csv, 771 rows\n",
      "[2023-12-20 16:19:39,978] {data.py:427} INFO - Loaded rand_4000.56_7.csv, 1351 rows\n",
      "[2023-12-20 16:19:40,520] {data.py:427} INFO - Loaded efficientnet_b0.177_7.csv, 1129 rows\n",
      "[2023-12-20 16:19:41,622] {data.py:427} INFO - Loaded resnet152.120_7.csv, 2382 rows\n",
      "[2023-12-20 16:19:42,212] {data.py:427} INFO - Loaded rand_4000.125_7.csv, 1219 rows\n",
      "[2023-12-20 16:19:42,632] {data.py:427} INFO - Loaded wide_resnet50_2.99_7.csv, 818 rows\n",
      "[2023-12-20 16:19:43,163] {data.py:427} INFO - Loaded rand_2500.36_7.csv, 1077 rows\n",
      "[2023-12-20 16:19:43,684] {data.py:427} INFO - Loaded rand_0.150_7.csv, 1061 rows\n",
      "[2023-12-20 16:19:44,601] {data.py:427} INFO - Loaded rand_4500.11_7.csv, 1962 rows\n",
      "[2023-12-20 16:19:45,208] {data.py:427} INFO - Loaded rand_4500.253_7.csv, 1213 rows\n",
      "[2023-12-20 16:19:45,647] {data.py:427} INFO - Loaded shufflenet_v2_x0_5.67_7.csv, 847 rows\n",
      "[2023-12-20 16:19:46,079] {data.py:427} INFO - Loaded shufflenet_v2_x0_5.165_7.csv, 849 rows\n",
      "[2023-12-20 16:19:46,860] {data.py:427} INFO - Loaded convnext_small.81_7.csv, 1595 rows\n",
      "[2023-12-20 16:19:47,292] {data.py:427} INFO - Loaded wide_resnet50_2.129_7.csv, 818 rows\n",
      "[2023-12-20 16:19:47,750] {data.py:427} INFO - Loaded mobilenet_v3_large.187_7.csv, 884 rows\n",
      "[2023-12-20 16:19:49,029] {data.py:427} INFO - Loaded efficientnet_b5.81_7.csv, 2709 rows\n",
      "[2023-12-20 16:19:50,143] {data.py:427} INFO - Loaded efficientnet_v2_s.119_7.csv, 2412 rows\n",
      "[2023-12-20 16:19:50,538] {data.py:427} INFO - Loaded mnasnet0_75.118_7.csv, 771 rows\n",
      "[2023-12-20 16:19:50,945] {data.py:427} INFO - Loaded mnasnet0_5.174_7.csv, 771 rows\n",
      "[2023-12-20 16:19:51,056] {data.py:427} INFO - Loaded vgg11.88_7.csv, 125 rows\n",
      "[2023-12-20 16:19:51,983] {data.py:427} INFO - Loaded rand_1500.209_7.csv, 1966 rows\n",
      "[2023-12-20 16:19:52,760] {data.py:427} INFO - Loaded convnext_large.109_7.csv, 1595 rows\n",
      "[2023-12-20 16:19:53,657] {data.py:427} INFO - Loaded rand_1000.152_7.csv, 1876 rows\n",
      "[2023-12-20 16:19:54,406] {data.py:427} INFO - Loaded resnet101.156_7.csv, 1598 rows\n",
      "[2023-12-20 16:19:54,960] {data.py:427} INFO - Loaded efficientnet_b0.171_7.csv, 1127 rows\n",
      "[2023-12-20 16:19:55,136] {data.py:427} INFO - Loaded vgg16_bn.94_7.csv, 279 rows\n",
      "[2023-12-20 16:19:55,539] {data.py:427} INFO - Loaded mnasnet0_5.153_7.csv, 771 rows\n",
      "[2023-12-20 16:19:55,715] {data.py:427} INFO - Loaded squeezenet1_1.73_7.csv, 280 rows\n",
      "[2023-12-20 16:19:56,134] {data.py:427} INFO - Loaded shufflenet_v2_x1_5.214_7.csv, 847 rows\n",
      "[2023-12-20 16:19:56,894] {data.py:427} INFO - Loaded convnext_small.122_7.csv, 1593 rows\n",
      "[2023-12-20 16:19:57,373] {data.py:427} INFO - Loaded rand_1500.257_7.csv, 973 rows\n",
      "[2023-12-20 16:19:57,883] {data.py:427} INFO - Loaded rand_3000.41_7.csv, 989 rows\n",
      "[2023-12-20 16:19:58,480] {data.py:427} INFO - Loaded rand_2500.119_7.csv, 1228 rows\n",
      "[2023-12-20 16:19:59,421] {data.py:427} INFO - Loaded rand_4000.68_7.csv, 1985 rows\n",
      "[2023-12-20 16:19:59,815] {data.py:427} INFO - Loaded mnasnet1_0.111_7.csv, 771 rows\n",
      "[2023-12-20 16:20:00,568] {data.py:427} INFO - Loaded efficientnet_b1.93_7.csv, 1604 rows\n",
      "[2023-12-20 16:20:00,929] {data.py:427} INFO - Loaded rand_2000.18_7.csv, 681 rows\n",
      "[2023-12-20 16:20:01,831] {data.py:427} INFO - Loaded densenet121.123_7.csv, 1889 rows\n",
      "[2023-12-20 16:20:02,232] {data.py:427} INFO - Loaded rand_2000.45_7.csv, 793 rows\n",
      "[2023-12-20 16:20:02,634] {data.py:427} INFO - Loaded mobilenet_v2.165_7.csv, 769 rows\n",
      "[2023-12-20 16:20:03,078] {data.py:427} INFO - Loaded shufflenet_v2_x1_5.168_7.csv, 847 rows\n",
      "[2023-12-20 16:20:04,181] {data.py:427} INFO - Loaded rand_4500.25_7.csv, 2317 rows\n",
      "[2023-12-20 16:20:04,740] {data.py:427} INFO - Loaded efficientnet_b0.162_7.csv, 1127 rows\n",
      "[2023-12-20 16:20:05,655] {data.py:427} INFO - Loaded rand_3500.208_7.csv, 1963 rows\n",
      "[2023-12-20 16:20:06,040] {data.py:427} INFO - Loaded mnasnet0_5.201_7.csv, 771 rows\n",
      "[2023-12-20 16:20:06,434] {data.py:427} INFO - Loaded mnasnet1_0.76_7.csv, 769 rows\n",
      "[2023-12-20 16:20:06,835] {data.py:427} INFO - Loaded mnasnet0_75.216_7.csv, 771 rows\n",
      "[2023-12-20 16:20:07,942] {data.py:427} INFO - Loaded rand_2500.196_7.csv, 2299 rows\n",
      "[2023-12-20 16:20:08,243] {data.py:427} INFO - Loaded resnet34.177_7.csv, 565 rows\n",
      "[2023-12-20 16:20:08,619] {data.py:427} INFO - Loaded mobilenet_v3_small.103_7.csv, 734 rows\n",
      "[2023-12-20 16:20:09,126] {data.py:427} INFO - Loaded rand_3500.191_7.csv, 991 rows\n",
      "[2023-12-20 16:20:10,650] {data.py:427} INFO - Loaded rand_3500.98_7.csv, 1210 rows\n",
      "[2023-12-20 16:20:11,416] {data.py:427} INFO - Loaded efficientnet_b1.84_7.csv, 1604 rows\n",
      "[2023-12-20 16:20:12,626] {data.py:427} INFO - Loaded rand_1000.118_7.csv, 2604 rows\n",
      "[2023-12-20 16:20:13,743] {data.py:427} INFO - Loaded rand_3000.90_7.csv, 2310 rows\n",
      "[2023-12-20 16:20:14,657] {data.py:427} INFO - Loaded rand_3500.194_7.csv, 1963 rows\n",
      "[2023-12-20 16:20:15,421] {data.py:427} INFO - Loaded convnext_small.66_7.csv, 1593 rows\n",
      "[2023-12-20 16:20:15,553] {data.py:427} INFO - Loaded vgg16.102_7.csv, 175 rows\n",
      "[2023-12-20 16:20:16,302] {data.py:427} INFO - Loaded wide_resnet101_2.176_7.csv, 1598 rows\n",
      "[2023-12-20 16:20:16,954] {data.py:427} INFO - Loaded rand_3000.162_7.csv, 1337 rows\n",
      "[2023-12-20 16:20:17,726] {data.py:427} INFO - Loaded convnext_large.54_7.csv, 1595 rows\n",
      "[2023-12-20 16:20:17,900] {data.py:427} INFO - Loaded squeezenet1_0.140_7.csv, 280 rows\n",
      "[2023-12-20 16:20:19,116] {data.py:427} INFO - Loaded rand_3000.112_7.csv, 2605 rows\n",
      "[2023-12-20 16:20:19,288] {data.py:427} INFO - Loaded squeezenet1_0.155_7.csv, 280 rows\n",
      "[2023-12-20 16:20:19,681] {data.py:427} INFO - Loaded mnasnet1_3.58_7.csv, 771 rows\n",
      "[2023-12-20 16:20:20,745] {data.py:427} INFO - Loaded rand_4000.35_7.csv, 2317 rows\n",
      "[2023-12-20 16:20:21,881] {data.py:427} INFO - Loaded efficientnet_v2_s.116_7.csv, 2412 rows\n",
      "[2023-12-20 16:20:23,076] {data.py:427} INFO - Loaded rand_0.5_7.csv, 2604 rows\n",
      "[2023-12-20 16:20:23,511] {data.py:427} INFO - Loaded shufflenet_v2_x2_0.228_7.csv, 849 rows\n",
      "[2023-12-20 16:20:24,071] {data.py:427} INFO - Loaded rand_4500.199_7.csv, 1135 rows\n",
      "[2023-12-20 16:20:24,997] {data.py:427} INFO - Loaded rand_3000.1_7.csv, 1981 rows\n",
      "[2023-12-20 16:20:25,414] {data.py:427} INFO - Loaded resnet50.115_7.csv, 818 rows\n",
      "[2023-12-20 16:20:26,746] {data.py:427} INFO - Loaded rand_2500.37_7.csv, 2923 rows\n",
      "[2023-12-20 16:20:27,960] {data.py:427} INFO - Loaded rand_4500.68_7.csv, 2605 rows\n",
      "[2023-12-20 16:20:28,432] {data.py:427} INFO - Loaded rand_500.110_7.csv, 974 rows\n",
      "[2023-12-20 16:20:28,923] {data.py:427} INFO - Loaded rand_2500.69_7.csv, 992 rows\n",
      "[2023-12-20 16:20:29,300] {data.py:427} INFO - Loaded mobilenet_v3_small.127_7.csv, 736 rows\n",
      "[2023-12-20 16:20:29,446] {data.py:427} INFO - Loaded vgg13_bn.95_7.csv, 225 rows\n",
      "[2023-12-20 16:20:30,215] {data.py:427} INFO - Loaded efficientnet_b2.61_7.csv, 1602 rows\n",
      "[2023-12-20 16:20:30,667] {data.py:427} INFO - Loaded googlenet.148_7.csv, 905 rows\n",
      "[2023-12-20 16:20:30,783] {data.py:427} INFO - Loaded vgg13.72_7.csv, 145 rows\n",
      "[2023-12-20 16:20:32,161] {data.py:427} INFO - Loaded rand_4500.280_7.csv, 2964 rows\n",
      "[2023-12-20 16:20:32,353] {data.py:427} INFO - Loaded resnet18.112_7.csv, 317 rows\n",
      "[2023-12-20 16:20:32,546] {data.py:427} INFO - Loaded resnet18.207_7.csv, 315 rows\n",
      "[2023-12-20 16:20:33,464] {data.py:427} INFO - Loaded rand_1000.197_7.csv, 1948 rows\n",
      "[2023-12-20 16:20:33,903] {data.py:427} INFO - Loaded shufflenet_v2_x1_5.199_7.csv, 849 rows\n",
      "[2023-12-20 16:20:34,284] {data.py:427} INFO - Loaded mobilenet_v3_small.142_7.csv, 736 rows\n",
      "[2023-12-20 16:20:34,716] {data.py:427} INFO - Loaded shufflenet_v2_x1_0.204_7.csv, 847 rows\n",
      "[2023-12-20 16:20:35,496] {data.py:427} INFO - Loaded convnext_base.117_7.csv, 1595 rows\n",
      "[2023-12-20 16:20:35,868] {data.py:427} INFO - Loaded rand_4000.14_7.csv, 727 rows\n",
      "[2023-12-20 16:20:36,305] {data.py:427} INFO - Loaded shufflenet_v2_x1_0.150_7.csv, 849 rows\n",
      "[2023-12-20 16:20:36,734] {data.py:427} INFO - Loaded shufflenet_v2_x1_0.141_7.csv, 849 rows\n",
      "[2023-12-20 16:20:37,487] {data.py:427} INFO - Loaded rand_500.131_7.csv, 1565 rows\n",
      "[2023-12-20 16:20:37,632] {data.py:427} INFO - Loaded vgg19.61_7.csv, 205 rows\n",
      "[2023-12-20 16:20:38,046] {data.py:427} INFO - Loaded resnet50.131_7.csv, 818 rows\n",
      "[2023-12-20 16:20:38,526] {data.py:427} INFO - Loaded rand_3500.30_7.csv, 972 rows\n",
      "[2023-12-20 16:20:39,022] {data.py:427} INFO - Loaded rand_3500.89_7.csv, 991 rows\n",
      "[2023-12-20 16:20:39,428] {data.py:427} INFO - Loaded mnasnet0_5.222_7.csv, 769 rows\n",
      "[2023-12-20 16:20:40,086] {data.py:427} INFO - Loaded rand_500.106_7.csv, 1361 rows\n",
      "[2023-12-20 16:20:40,286] {data.py:427} INFO - Loaded vgg19_bn.57_7.csv, 333 rows\n",
      "[2023-12-20 16:20:40,429] {data.py:427} INFO - Loaded vgg19.84_7.csv, 205 rows\n",
      "[2023-12-20 16:20:40,851] {data.py:427} INFO - Loaded resnet50.76_7.csv, 818 rows\n",
      "[2023-12-20 16:20:41,783] {data.py:427} INFO - Loaded rand_1000.100_7.csv, 1953 rows\n",
      "[2023-12-20 16:20:42,189] {data.py:427} INFO - Loaded rand_2000.95_7.csv, 796 rows\n",
      "[2023-12-20 16:20:42,625] {data.py:427} INFO - Loaded shufflenet_v2_x1_5.184_7.csv, 847 rows\n",
      "[2023-12-20 16:20:43,389] {data.py:427} INFO - Loaded convnext_large.51_7.csv, 1593 rows\n",
      "[2023-12-20 16:20:44,163] {data.py:427} INFO - Loaded efficientnet_b2.120_7.csv, 1604 rows\n",
      "[2023-12-20 16:20:45,041] {data.py:427} INFO - Loaded efficientnet_b3.116_7.csv, 1814 rows\n",
      "[2023-12-20 16:20:45,497] {data.py:427} INFO - Loaded googlenet.114_7.csv, 905 rows\n",
      "[2023-12-20 16:20:45,672] {data.py:427} INFO - Loaded squeezenet1_0.203_7.csv, 280 rows\n",
      "[2023-12-20 16:20:46,442] {data.py:427} INFO - Loaded convnext_base.81_7.csv, 1593 rows\n",
      "[2023-12-20 16:20:47,668] {data.py:427} INFO - Loaded rand_3500.83_7.csv, 2553 rows\n",
      "[2023-12-20 16:20:48,055] {data.py:427} INFO - Loaded mobilenet_v2.198_7.csv, 769 rows\n",
      "[2023-12-20 16:20:49,151] {data.py:427} INFO - Loaded rand_0.157_7.csv, 2296 rows\n",
      "[2023-12-20 16:20:50,396] {data.py:427} INFO - Loaded efficientnet_b5.55_7.csv, 2707 rows\n",
      "[2023-12-20 16:20:50,589] {data.py:427} INFO - Loaded resnet18.213_7.csv, 317 rows\n",
      "[2023-12-20 16:20:51,347] {data.py:427} INFO - Loaded efficientnet_b2.87_7.csv, 1604 rows\n",
      "[2023-12-20 16:20:51,706] {data.py:427} INFO - Loaded rand_2000.159_7.csv, 681 rows\n",
      "[2023-12-20 16:20:52,073] {data.py:427} INFO - Loaded mobilenet_v3_small.76_7.csv, 734 rows\n",
      "[2023-12-20 16:20:52,465] {data.py:427} INFO - Loaded mnasnet1_0.67_7.csv, 769 rows\n",
      "[2023-12-20 16:20:53,661] {data.py:427} INFO - Loaded rand_1000.151_7.csv, 2572 rows\n",
      "[2023-12-20 16:20:54,037] {data.py:427} INFO - Loaded rand_2500.121_7.csv, 731 rows\n",
      "[2023-12-20 16:20:54,211] {data.py:427} INFO - Loaded squeezenet1_0.103_7.csv, 280 rows\n",
      "[2023-12-20 16:20:55,298] {data.py:427} INFO - Loaded rand_0.256_7.csv, 2307 rows\n",
      "[2023-12-20 16:20:56,433] {data.py:427} INFO - Loaded resnet152.105_7.csv, 2382 rows\n",
      "[2023-12-20 16:20:56,792] {data.py:427} INFO - Loaded rand_1000.122_7.csv, 682 rows\n",
      "[2023-12-20 16:20:57,198] {data.py:427} INFO - Loaded mnasnet0_75.88_7.csv, 771 rows\n",
      "[2023-12-20 16:20:58,152] {data.py:427} INFO - Loaded rand_4500.207_7.csv, 1994 rows\n",
      "[2023-12-20 16:20:58,946] {data.py:427} INFO - Loaded efficientnet_b2.184_7.csv, 1602 rows\n",
      "[2023-12-20 16:20:59,129] {data.py:427} INFO - Loaded squeezenet1_0.79_7.csv, 280 rows\n",
      "[2023-12-20 16:20:59,327] {data.py:427} INFO - Loaded resnet18.124_7.csv, 317 rows\n",
      "[2023-12-20 16:21:00,110] {data.py:427} INFO - Loaded wide_resnet101_2.90_7.csv, 1600 rows\n",
      "[2023-12-20 16:21:00,524] {data.py:427} INFO - Loaded wide_resnet50_2.108_7.csv, 818 rows\n",
      "[2023-12-20 16:21:01,171] {data.py:427} INFO - Loaded rand_500.107_7.csv, 1338 rows\n",
      "[2023-12-20 16:21:02,248] {data.py:427} INFO - Loaded rand_2000.181_7.csv, 2320 rows\n",
      "[2023-12-20 16:21:03,183] {data.py:427} INFO - Loaded rand_1000.145_7.csv, 1971 rows\n",
      "[2023-12-20 16:21:03,795] {data.py:427} INFO - Loaded rand_500.217_7.csv, 1229 rows\n",
      "[2023-12-20 16:21:04,293] {data.py:427} INFO - Loaded rand_4500.182_7.csv, 972 rows\n",
      "[2023-12-20 16:21:05,487] {data.py:427} INFO - Loaded rand_4500.224_7.csv, 2597 rows\n",
      "[2023-12-20 16:21:05,680] {data.py:427} INFO - Loaded vgg19_bn.54_7.csv, 333 rows\n",
      "[2023-12-20 16:21:06,058] {data.py:427} INFO - Loaded mnasnet1_0.70_7.csv, 769 rows\n",
      "[2023-12-20 16:21:06,458] {data.py:427} INFO - Loaded mnasnet0_5.210_7.csv, 769 rows\n",
      "[2023-12-20 16:21:07,651] {data.py:427} INFO - Loaded rand_1000.214_7.csv, 2604 rows\n",
      "[2023-12-20 16:21:08,034] {data.py:427} INFO - Loaded mobilenet_v2.183_7.csv, 771 rows\n",
      "[2023-12-20 16:21:08,434] {data.py:427} INFO - Loaded mnasnet1_3.76_7.csv, 769 rows\n",
      "[2023-12-20 16:21:09,294] {data.py:427} INFO - Loaded efficientnet_b3.141_7.csv, 1814 rows\n",
      "[2023-12-20 16:21:09,488] {data.py:427} INFO - Loaded resnet18.192_7.csv, 315 rows\n",
      "[2023-12-20 16:21:10,233] {data.py:427} INFO - Loaded wide_resnet101_2.139_7.csv, 1600 rows\n",
      "[2023-12-20 16:21:10,979] {data.py:427} INFO - Loaded efficientnet_b1.191_7.csv, 1602 rows\n",
      "[2023-12-20 16:21:11,829] {data.py:427} INFO - Loaded efficientnet_b3.124_7.csv, 1814 rows\n",
      "[2023-12-20 16:21:12,338] {data.py:427} INFO - Loaded rand_1500.146_7.csv, 1061 rows\n",
      "[2023-12-20 16:21:12,487] {data.py:427} INFO - Loaded vgg13_bn.54_7.csv, 225 rows\n",
      "[2023-12-20 16:21:12,870] {data.py:427} INFO - Loaded mnasnet1_3.168_7.csv, 771 rows\n",
      "[2023-12-20 16:21:13,226] {data.py:427} INFO - Loaded rand_2000.268_7.csv, 683 rows\n",
      "[2023-12-20 16:21:13,974] {data.py:427} INFO - Loaded efficientnet_b2.135_7.csv, 1602 rows\n",
      "[2023-12-20 16:21:15,201] {data.py:427} INFO - Loaded rand_1500.149_7.csv, 2605 rows\n",
      "[2023-12-20 16:21:17,384] {data.py:427} INFO - Loaded rand_3500.16_7.csv, 2296 rows\n",
      "[2023-12-20 16:21:17,497] {data.py:427} INFO - Loaded vgg13.105_7.csv, 145 rows\n",
      "[2023-12-20 16:21:18,704] {data.py:427} INFO - Loaded densenet169.107_7.csv, 2633 rows\n",
      "[2023-12-20 16:21:18,851] {data.py:427} INFO - Loaded vgg13_bn.71_7.csv, 223 rows\n",
      "[2023-12-20 16:21:19,616] {data.py:427} INFO - Loaded convnext_small.93_7.csv, 1595 rows\n",
      "[2023-12-20 16:21:20,164] {data.py:427} INFO - Loaded efficientnet_b0.188_7.csv, 1129 rows\n",
      "[2023-12-20 16:21:20,589] {data.py:427} INFO - Loaded shufflenet_v2_x1_0.115_7.csv, 849 rows\n",
      "[2023-12-20 16:21:20,717] {data.py:427} INFO - Loaded vgg16.132_7.csv, 173 rows\n",
      "[2023-12-20 16:21:21,751] {data.py:427} INFO - Loaded efficientnet_b4.153_7.csv, 2232 rows\n",
      "[2023-12-20 16:21:22,789] {data.py:427} INFO - Loaded efficientnet_b4.87_7.csv, 2234 rows\n",
      "[2023-12-20 16:21:23,178] {data.py:427} INFO - Loaded rand_0.225_7.csv, 746 rows\n",
      "[2023-12-20 16:21:23,541] {data.py:427} INFO - Loaded rand_1000.193_7.csv, 683 rows\n",
      "[2023-12-20 16:21:24,715] {data.py:427} INFO - Loaded densenet161.84_7.csv, 2509 rows\n",
      "[2023-12-20 16:21:24,843] {data.py:427} INFO - Loaded vgg16.84_7.csv, 175 rows\n",
      "[2023-12-20 16:21:25,215] {data.py:427} INFO - Loaded mobilenet_v3_small.189_7.csv, 732 rows\n",
      "[2023-12-20 16:21:25,964] {data.py:427} INFO - Loaded efficientnet_b2.153_7.csv, 1604 rows\n",
      "[2023-12-20 16:21:26,360] {data.py:427} INFO - Loaded mnasnet0_75.115_7.csv, 771 rows\n",
      "[2023-12-20 16:21:26,738] {data.py:427} INFO - Loaded mnasnet0_75.162_7.csv, 769 rows\n",
      "[2023-12-20 16:21:27,505] {data.py:427} INFO - Loaded resnet101.61_7.csv, 1600 rows\n",
      "[2023-12-20 16:21:27,950] {data.py:427} INFO - Loaded mobilenet_v3_large.129_7.csv, 886 rows\n",
      "[2023-12-20 16:21:28,129] {data.py:427} INFO - Loaded squeezenet1_0.97_7.csv, 280 rows\n",
      "[2023-12-20 16:21:28,286] {data.py:427} INFO - Loaded vgg13_bn.104_7.csv, 225 rows\n",
      "[2023-12-20 16:21:28,440] {data.py:427} INFO - Loaded vgg13_bn.140_7.csv, 223 rows\n",
      "[2023-12-20 16:21:29,511] {data.py:427} INFO - Loaded rand_4000.207_7.csv, 2296 rows\n",
      "[2023-12-20 16:21:30,581] {data.py:427} INFO - Loaded efficientnet_b4.166_7.csv, 2232 rows\n",
      "[2023-12-20 16:21:31,119] {data.py:427} INFO - Loaded rand_1000.114_7.csv, 1059 rows\n",
      "[2023-12-20 16:21:31,556] {data.py:427} INFO - Loaded shufflenet_v2_x0_5.209_7.csv, 849 rows\n",
      "[2023-12-20 16:21:31,701] {data.py:427} INFO - Loaded vgg19.105_7.csv, 205 rows\n",
      "[2023-12-20 16:21:32,486] {data.py:427} INFO - Loaded efficientnet_b2.147_7.csv, 1602 rows\n",
      "[2023-12-20 16:21:32,888] {data.py:427} INFO - Loaded mnasnet0_5.76_7.csv, 771 rows\n",
      "[2023-12-20 16:21:33,377] {data.py:427} INFO - Loaded rand_500.95_7.csv, 991 rows\n",
      "[2023-12-20 16:21:34,742] {data.py:427} INFO - Loaded rand_500.142_7.csv, 2975 rows\n",
      "[2023-12-20 16:21:35,827] {data.py:427} INFO - Loaded rand_1500.102_7.csv, 2296 rows\n",
      "[2023-12-20 16:21:36,760] {data.py:427} INFO - Loaded rand_2000.270_7.csv, 1949 rows\n",
      "[2023-12-20 16:21:37,188] {data.py:427} INFO - Loaded resnet50.112_7.csv, 818 rows\n",
      "[2023-12-20 16:21:37,322] {data.py:427} INFO - Loaded vgg16.75_7.csv, 175 rows\n",
      "[2023-12-20 16:21:37,522] {data.py:427} INFO - Loaded resnet18.162_7.csv, 317 rows\n",
      "[2023-12-20 16:21:37,634] {data.py:427} INFO - Loaded vgg11.140_7.csv, 125 rows\n",
      "[2023-12-20 16:21:38,410] {data.py:427} INFO - Loaded efficientnet_b2.58_7.csv, 1604 rows\n",
      "[2023-12-20 16:21:39,182] {data.py:427} INFO - Loaded convnext_small.84_7.csv, 1593 rows\n",
      "[2023-12-20 16:21:39,620] {data.py:427} INFO - Loaded shufflenet_v2_x0_5.58_7.csv, 849 rows\n",
      "[2023-12-20 16:21:39,823] {data.py:427} INFO - Loaded vgg19_bn.122_7.csv, 331 rows\n",
      "[2023-12-20 16:21:40,385] {data.py:427} INFO - Loaded efficientnet_b0.136_7.csv, 1129 rows\n",
      "[2023-12-20 16:21:40,837] {data.py:427} INFO - Loaded mobilenet_v3_large.144_7.csv, 888 rows\n",
      "[2023-12-20 16:21:40,967] {data.py:427} INFO - Loaded vgg16.144_7.csv, 173 rows\n",
      "[2023-12-20 16:21:41,148] {data.py:427} INFO - Loaded vgg16_bn.88_7.csv, 277 rows\n",
      "[2023-12-20 16:21:41,937] {data.py:427} INFO - Loaded resnet101.90_7.csv, 1598 rows\n",
      "[2023-12-20 16:21:43,088] {data.py:427} INFO - Loaded resnet152.84_7.csv, 2382 rows\n",
      "[2023-12-20 16:21:43,490] {data.py:427} INFO - Loaded mnasnet1_0.224_7.csv, 769 rows\n",
      "[2023-12-20 16:21:43,672] {data.py:427} INFO - Loaded squeezenet1_0.170_7.csv, 280 rows\n",
      "[2023-12-20 16:21:44,106] {data.py:427} INFO - Loaded shufflenet_v2_x0_5.100_7.csv, 847 rows\n",
      "[2023-12-20 16:21:44,314] {data.py:427} INFO - Loaded vgg19_bn.137_7.csv, 331 rows\n",
      "[2023-12-20 16:21:44,745] {data.py:427} INFO - Loaded shufflenet_v2_x2_0.70_7.csv, 849 rows\n",
      "[2023-12-20 16:21:45,151] {data.py:427} INFO - Loaded mobilenet_v2.103_7.csv, 769 rows\n",
      "[2023-12-20 16:21:45,514] {data.py:427} INFO - Loaded rand_3500.10_7.csv, 682 rows\n",
      "[2023-12-20 16:21:45,665] {data.py:427} INFO - Loaded vgg13_bn.60_7.csv, 225 rows\n",
      "[2023-12-20 16:21:45,807] {data.py:427} INFO - Loaded vgg19.90_7.csv, 205 rows\n",
      "[2023-12-20 16:21:46,236] {data.py:427} INFO - Loaded resnet50.169_7.csv, 816 rows\n",
      "[2023-12-20 16:21:46,836] {data.py:427} INFO - Loaded rand_3500.91_7.csv, 1219 rows\n",
      "[2023-12-20 16:21:47,954] {data.py:427} INFO - Loaded rand_4000.96_7.csv, 2299 rows\n",
      "[2023-12-20 16:21:48,358] {data.py:427} INFO - Loaded mnasnet1_0.203_7.csv, 769 rows\n",
      "[2023-12-20 16:21:49,128] {data.py:427} INFO - Loaded wide_resnet101_2.154_7.csv, 1600 rows\n",
      "[2023-12-20 16:21:50,189] {data.py:427} INFO - Loaded efficientnet_b4.120_7.csv, 2234 rows\n",
      "[2023-12-20 16:21:50,629] {data.py:427} INFO - Loaded convnext_tiny.72_7.csv, 852 rows\n",
      "[2023-12-20 16:21:51,862] {data.py:427} INFO - Loaded densenet169.60_7.csv, 2633 rows\n",
      "[2023-12-20 16:21:52,271] {data.py:427} INFO - Loaded resnet50.204_7.csv, 816 rows\n",
      "[2023-12-20 16:21:53,025] {data.py:427} INFO - Loaded convnext_small.125_7.csv, 1593 rows\n",
      "[2023-12-20 16:21:53,587] {data.py:427} INFO - Loaded efficientnet_b0.142_7.csv, 1129 rows\n",
      "[2023-12-20 16:21:54,005] {data.py:427} INFO - Loaded shufflenet_v2_x1_0.224_7.csv, 847 rows\n",
      "[2023-12-20 16:21:54,178] {data.py:427} INFO - Loaded squeezenet1_1.132_7.csv, 280 rows\n",
      "[2023-12-20 16:21:54,549] {data.py:427} INFO - Loaded rand_0.265_7.csv, 726 rows\n",
      "[2023-12-20 16:21:54,978] {data.py:427} INFO - Loaded shufflenet_v2_x2_0.73_7.csv, 847 rows\n",
      "[2023-12-20 16:21:55,120] {data.py:427} INFO - Loaded vgg19.123_7.csv, 203 rows\n",
      "[2023-12-20 16:21:55,622] {data.py:427} INFO - Loaded rand_4500.105_7.csv, 990 rows\n",
      "[2023-12-20 16:21:55,813] {data.py:427} INFO - Loaded resnet18.150_7.csv, 315 rows\n",
      "[2023-12-20 16:21:56,196] {data.py:427} INFO - Loaded mnasnet1_0.197_7.csv, 769 rows\n",
      "[2023-12-20 16:21:57,139] {data.py:427} INFO - Loaded rand_1000.25_7.csv, 1985 rows\n",
      "[2023-12-20 16:21:57,520] {data.py:427} INFO - Loaded rand_4000.40_7.csv, 737 rows\n",
      "[2023-12-20 16:21:58,025] {data.py:427} INFO - Loaded rand_4000.48_7.csv, 991 rows\n",
      "[2023-12-20 16:21:58,588] {data.py:427} INFO - Loaded efficientnet_b0.109_7.csv, 1129 rows\n",
      "[2023-12-20 16:21:59,672] {data.py:427} INFO - Loaded rand_4500.135_7.csv, 2294 rows\n",
      "[2023-12-20 16:22:00,079] {data.py:427} INFO - Loaded wide_resnet50_2.120_7.csv, 818 rows\n",
      "[2023-12-20 16:22:00,675] {data.py:427} INFO - Loaded rand_3500.201_7.csv, 1217 rows\n",
      "[2023-12-20 16:22:01,899] {data.py:427} INFO - Loaded rand_4500.291_7.csv, 2607 rows\n",
      "[2023-12-20 16:22:02,053] {data.py:427} INFO - Loaded vgg13_bn.159_7.csv, 223 rows\n",
      "[2023-12-20 16:22:02,361] {data.py:427} INFO - Loaded resnet34.121_7.csv, 565 rows\n",
      "[2023-12-20 16:22:02,764] {data.py:427} INFO - Loaded mobilenet_v2.76_7.csv, 771 rows\n",
      "[2023-12-20 16:22:03,423] {data.py:427} INFO - Loaded rand_4500.257_7.csv, 1346 rows\n",
      "[2023-12-20 16:22:04,771] {data.py:427} INFO - Loaded rand_2000.196_7.csv, 2935 rows\n",
      "[2023-12-20 16:22:05,517] {data.py:427} INFO - Loaded rand_500.155_7.csv, 1566 rows\n",
      "[2023-12-20 16:22:06,246] {data.py:427} INFO - Loaded rand_4000.163_7.csv, 1562 rows\n",
      "[2023-12-20 16:22:07,152] {data.py:427} INFO - Loaded rand_4500.23_7.csv, 1965 rows\n",
      "[2023-12-20 16:22:08,206] {data.py:427} INFO - Loaded rand_2500.34_7.csv, 2269 rows\n",
      "[2023-12-20 16:22:08,686] {data.py:427} INFO - Loaded rand_2500.86_7.csv, 974 rows\n",
      "[2023-12-20 16:22:09,717] {data.py:427} INFO - Loaded efficientnet_b4.84_7.csv, 2234 rows\n",
      "[2023-12-20 16:22:09,903] {data.py:427} INFO - Loaded resnet18.64_7.csv, 315 rows\n",
      "[2023-12-20 16:22:11,092] {data.py:427} INFO - Loaded rand_2000.193_7.csv, 2606 rows\n",
      "[2023-12-20 16:22:11,541] {data.py:427} INFO - Loaded mobilenet_v3_large.91_7.csv, 884 rows\n",
      "[2023-12-20 16:22:12,045] {data.py:427} INFO - Loaded rand_2500.106_7.csv, 992 rows\n",
      "[2023-12-20 16:22:12,220] {data.py:427} INFO - Loaded vgg16_bn.97_7.csv, 279 rows\n",
      "[2023-12-20 16:22:12,987] {data.py:427} INFO - Loaded resnet101.181_7.csv, 1600 rows\n",
      "[2023-12-20 16:22:13,363] {data.py:427} INFO - Loaded rand_500.35_7.csv, 718 rows\n",
      "[2023-12-20 16:22:14,476] {data.py:427} INFO - Loaded resnet152.167_7.csv, 2380 rows\n",
      "[2023-12-20 16:22:14,776] {data.py:427} INFO - Loaded resnet34.171_7.csv, 563 rows\n",
      "[2023-12-20 16:22:14,966] {data.py:427} INFO - Loaded resnet18.198_7.csv, 317 rows\n",
      "[2023-12-20 16:22:16,282] {data.py:427} INFO - Loaded rand_4000.175_7.csv, 2857 rows\n",
      "[2023-12-20 16:22:16,470] {data.py:427} INFO - Loaded resnet18.216_7.csv, 315 rows\n",
      "[2023-12-20 16:22:17,025] {data.py:427} INFO - Loaded rand_1500.7_7.csv, 1130 rows\n",
      "[2023-12-20 16:22:18,129] {data.py:427} INFO - Loaded rand_1000.218_7.csv, 2316 rows\n",
      "[2023-12-20 16:22:18,647] {data.py:427} INFO - Loaded rand_500.215_7.csv, 1048 rows\n",
      "[2023-12-20 16:22:19,086] {data.py:427} INFO - Loaded mobilenet_v3_large.64_7.csv, 888 rows\n",
      "[2023-12-20 16:22:19,854] {data.py:427} INFO - Loaded efficientnet_b2.132_7.csv, 1604 rows\n",
      "[2023-12-20 16:22:20,284] {data.py:427} INFO - Loaded shufflenet_v2_x2_0.58_7.csv, 849 rows\n",
      "[2023-12-20 16:22:20,816] {data.py:427} INFO - Loaded rand_0.24_7.csv, 1077 rows\n",
      "[2023-12-20 16:22:21,247] {data.py:427} INFO - Loaded convnext_tiny.132_7.csv, 839 rows\n",
      "[2023-12-20 16:22:22,158] {data.py:427} INFO - Loaded rand_1000.16_7.csv, 1975 rows\n",
      "[2023-12-20 16:22:23,333] {data.py:427} INFO - Loaded rand_1500.13_7.csv, 2576 rows\n",
      "[2023-12-20 16:22:23,724] {data.py:427} INFO - Loaded mnasnet0_75.147_7.csv, 771 rows\n",
      "[2023-12-20 16:22:24,114] {data.py:427} INFO - Loaded mobilenet_v2.88_7.csv, 771 rows\n",
      "[2023-12-20 16:22:24,458] {data.py:427} INFO - Loaded rand_4500.177_7.csv, 684 rows\n",
      "[2023-12-20 16:22:25,353] {data.py:427} INFO - Loaded rand_1500.77_7.csv, 1954 rows\n",
      "[2023-12-20 16:22:25,790] {data.py:427} INFO - Loaded googlenet.100_7.csv, 903 rows\n",
      "[2023-12-20 16:22:26,415] {data.py:427} INFO - Loaded rand_4500.108_7.csv, 1341 rows\n",
      "[2023-12-20 16:22:27,008] {data.py:427} INFO - Loaded rand_2500.113_7.csv, 1232 rows\n",
      "[2023-12-20 16:22:27,882] {data.py:427} INFO - Loaded efficientnet_b3.183_7.csv, 1812 rows\n",
      "[2023-12-20 16:22:28,303] {data.py:427} INFO - Loaded shufflenet_v2_x1_5.208_7.csv, 849 rows\n",
      "[2023-12-20 16:22:28,726] {data.py:427} INFO - Loaded shufflenet_v2_x1_5.97_7.csv, 847 rows\n",
      "[2023-12-20 16:22:29,899] {data.py:427} INFO - Loaded densenet161.102_7.csv, 2509 rows\n",
      "[2023-12-20 16:22:30,196] {data.py:427} INFO - Loaded resnet34.192_7.csv, 563 rows\n",
      "[2023-12-20 16:22:30,330] {data.py:427} INFO - Loaded vgg11_bn.75_7.csv, 189 rows\n",
      "[2023-12-20 16:22:30,766] {data.py:427} INFO - Loaded shufflenet_v2_x1_5.147_7.csv, 849 rows\n",
      "[2023-12-20 16:22:30,970] {data.py:427} INFO - Loaded vgg19_bn.125_7.csv, 333 rows\n",
      "[2023-12-20 16:22:31,146] {data.py:427} INFO - Loaded squeezenet1_1.85_7.csv, 280 rows\n",
      "[2023-12-20 16:22:31,276] {data.py:427} INFO - Loaded vgg16.61_7.csv, 175 rows\n",
      "[2023-12-20 16:22:32,146] {data.py:427} INFO - Loaded densenet121.58_7.csv, 1887 rows\n",
      "[2023-12-20 16:22:33,227] {data.py:427} INFO - Loaded rand_3500.200_7.csv, 2320 rows\n",
      "[2023-12-20 16:22:33,988] {data.py:427} INFO - Loaded efficientnet_b2.123_7.csv, 1604 rows\n",
      "[2023-12-20 16:22:34,333] {data.py:427} INFO - Loaded rand_3500.207_7.csv, 681 rows\n",
      "[2023-12-20 16:22:35,580] {data.py:427} INFO - Loaded efficientnet_b5.132_7.csv, 2709 rows\n",
      "[2023-12-20 16:22:36,332] {data.py:427} INFO - Loaded resnet101.84_7.csv, 1600 rows\n",
      "[2023-12-20 16:22:36,859] {data.py:427} INFO - Loaded rand_3500.39_7.csv, 1059 rows\n",
      "[2023-12-20 16:22:37,624] {data.py:427} INFO - Loaded efficientnet_b1.73_7.csv, 1602 rows\n",
      "[2023-12-20 16:22:38,045] {data.py:427} INFO - Loaded wide_resnet50_2.164_7.csv, 818 rows\n",
      "[2023-12-20 16:22:38,482] {data.py:427} INFO - Loaded shufflenet_v2_x1_0.73_7.csv, 847 rows\n",
      "[2023-12-20 16:22:39,008] {data.py:427} INFO - Loaded rand_4500.259_7.csv, 1039 rows\n",
      "[2023-12-20 16:22:40,074] {data.py:427} INFO - Loaded rand_2000.278_7.csv, 2289 rows\n",
      "[2023-12-20 16:22:42,342] {data.py:427} INFO - Loaded efficientnet_b3.66_7.csv, 1814 rows\n",
      "[2023-12-20 16:22:42,842] {data.py:427} INFO - Loaded rand_500.159_7.csv, 991 rows\n",
      "[2023-12-20 16:22:43,265] {data.py:427} INFO - Loaded shufflenet_v2_x1_5.64_7.csv, 847 rows\n",
      "[2023-12-20 16:22:43,667] {data.py:427} INFO - Loaded mnasnet1_3.198_7.csv, 769 rows\n",
      "[2023-12-20 16:22:44,420] {data.py:427} INFO - Loaded efficientnet_b1.186_7.csv, 1602 rows\n",
      "[2023-12-20 16:22:44,598] {data.py:427} INFO - Loaded squeezenet1_0.129_7.csv, 280 rows\n",
      "[2023-12-20 16:22:45,120] {data.py:427} INFO - Loaded rand_4000.201_7.csv, 1052 rows\n",
      "[2023-12-20 16:22:45,903] {data.py:427} INFO - Loaded efficientnet_b2.70_7.csv, 1604 rows\n",
      "[2023-12-20 16:22:46,979] {data.py:427} INFO - Loaded rand_4000.204_7.csv, 2292 rows\n",
      "[2023-12-20 16:22:47,374] {data.py:427} INFO - Loaded mnasnet0_5.115_7.csv, 771 rows\n",
      "[2023-12-20 16:22:48,155] {data.py:427} INFO - Loaded efficientnet_b1.120_7.csv, 1604 rows\n",
      "[2023-12-20 16:22:49,031] {data.py:427} INFO - Loaded efficientnet_b3.82_7.csv, 1814 rows\n",
      "[2023-12-20 16:22:49,163] {data.py:427} INFO - Loaded vgg11_bn.126_7.csv, 187 rows\n",
      "[2023-12-20 16:22:49,911] {data.py:427} INFO - Loaded rand_1000.141_7.csv, 1564 rows\n",
      "[2023-12-20 16:22:50,526] {data.py:427} INFO - Loaded rand_0.107_7.csv, 1274 rows\n",
      "[2023-12-20 16:22:50,706] {data.py:427} INFO - Loaded vgg16_bn.109_7.csv, 277 rows\n",
      "[2023-12-20 16:22:51,846] {data.py:427} INFO - Loaded resnet152.111_7.csv, 2382 rows\n",
      "[2023-12-20 16:22:52,219] {data.py:427} INFO - Loaded rand_3500.71_7.csv, 744 rows\n",
      "[2023-12-20 16:22:53,444] {data.py:427} INFO - Loaded densenet169.139_7.csv, 2631 rows\n",
      "[2023-12-20 16:22:53,597] {data.py:427} INFO - Loaded vgg13_bn.113_7.csv, 225 rows\n",
      "[2023-12-20 16:22:53,989] {data.py:427} INFO - Loaded mnasnet1_0.91_7.csv, 771 rows\n",
      "[2023-12-20 16:22:55,166] {data.py:427} INFO - Loaded rand_3000.16_7.csv, 2603 rows\n",
      "[2023-12-20 16:22:55,710] {data.py:427} INFO - Loaded rand_2500.11_7.csv, 1088 rows\n",
      "[2023-12-20 16:22:56,185] {data.py:427} INFO - Loaded rand_1500.265_7.csv, 974 rows\n",
      "[2023-12-20 16:22:56,951] {data.py:427} INFO - Loaded convnext_large.98_7.csv, 1595 rows\n",
      "[2023-12-20 16:22:58,174] {data.py:427} INFO - Loaded rand_500.30_7.csv, 2597 rows\n",
      "[2023-12-20 16:22:58,705] {data.py:427} INFO - Loaded rand_0.187_7.csv, 1053 rows\n",
      "[2023-12-20 16:22:59,207] {data.py:427} INFO - Loaded rand_3500.96_7.csv, 991 rows\n",
      "[2023-12-20 16:22:59,662] {data.py:427} INFO - Loaded mobilenet_v3_large.58_7.csv, 888 rows\n",
      "[2023-12-20 16:23:00,058] {data.py:427} INFO - Loaded mnasnet1_0.221_7.csv, 769 rows\n",
      "[2023-12-20 16:23:00,951] {data.py:427} INFO - Loaded densenet121.93_7.csv, 1889 rows\n",
      "[2023-12-20 16:23:02,183] {data.py:427} INFO - Loaded efficientnet_b5.138_7.csv, 2707 rows\n",
      "[2023-12-20 16:23:02,585] {data.py:427} INFO - Loaded mnasnet1_3.195_7.csv, 771 rows\n",
      "[2023-12-20 16:23:03,025] {data.py:427} INFO - Loaded googlenet.64_7.csv, 905 rows\n",
      "[2023-12-20 16:23:03,430] {data.py:427} INFO - Loaded wide_resnet50_2.179_7.csv, 816 rows\n",
      "[2023-12-20 16:23:03,820] {data.py:427} INFO - Loaded mobilenet_v2.162_7.csv, 769 rows\n",
      "[2023-12-20 16:23:04,895] {data.py:427} INFO - Loaded resnet152.96_7.csv, 2382 rows\n",
      "[2023-12-20 16:23:05,005] {data.py:427} INFO - Loaded vgg13.149_7.csv, 145 rows\n",
      "[2023-12-20 16:23:05,400] {data.py:427} INFO - Loaded mnasnet1_3.88_7.csv, 771 rows\n",
      "[2023-12-20 16:23:06,538] {data.py:427} INFO - Loaded resnet152.154_7.csv, 2380 rows\n",
      "[2023-12-20 16:23:07,691] {data.py:427} INFO - Loaded densenet161.105_7.csv, 2509 rows\n",
      "[2023-12-20 16:23:08,465] {data.py:427} INFO - Loaded wide_resnet101_2.57_7.csv, 1600 rows\n",
      "[2023-12-20 16:23:08,672] {data.py:427} INFO - Loaded vgg19_bn.142_7.csv, 331 rows\n",
      "[2023-12-20 16:23:09,751] {data.py:427} INFO - Loaded rand_4500.141_7.csv, 2315 rows\n",
      "[2023-12-20 16:23:10,155] {data.py:427} INFO - Loaded wide_resnet50_2.132_7.csv, 818 rows\n",
      "[2023-12-20 16:23:11,201] {data.py:427} INFO - Loaded rand_0.121_7.csv, 2288 rows\n",
      "[2023-12-20 16:23:11,693] {data.py:427} INFO - Loaded rand_0.93_7.csv, 973 rows\n",
      "[2023-12-20 16:23:12,110] {data.py:427} INFO - Loaded shufflenet_v2_x0_5.70_7.csv, 849 rows\n",
      "[2023-12-20 16:23:12,303] {data.py:427} INFO - Loaded vgg19_bn.98_7.csv, 333 rows\n",
      "[2023-12-20 16:23:12,892] {data.py:427} INFO - Loaded rand_3500.78_7.csv, 1227 rows\n",
      "[2023-12-20 16:23:13,251] {data.py:427} INFO - Loaded rand_4500.87_7.csv, 681 rows\n",
      "[2023-12-20 16:23:13,761] {data.py:427} INFO - Loaded rand_2000.68_7.csv, 1033 rows\n",
      "[2023-12-20 16:23:14,243] {data.py:427} INFO - Loaded rand_4500.163_7.csv, 991 rows\n",
      "[2023-12-20 16:23:14,675] {data.py:427} INFO - Loaded shufflenet_v2_x1_0.70_7.csv, 847 rows\n",
      "[2023-12-20 16:23:15,233] {data.py:427} INFO - Loaded efficientnet_b0.194_7.csv, 1129 rows\n",
      "[2023-12-20 16:23:15,427] {data.py:427} INFO - Loaded resnet18.61_7.csv, 315 rows\n",
      "[2023-12-20 16:23:15,850] {data.py:427} INFO - Loaded shufflenet_v2_x1_0.209_7.csv, 849 rows\n",
      "[2023-12-20 16:23:16,283] {data.py:427} INFO - Loaded mobilenet_v3_large.203_7.csv, 884 rows\n",
      "[2023-12-20 16:23:16,581] {data.py:427} INFO - Loaded resnet34.118_7.csv, 563 rows\n",
      "[2023-12-20 16:23:16,752] {data.py:427} INFO - Loaded vgg16_bn.60_7.csv, 279 rows\n",
      "[2023-12-20 16:23:17,138] {data.py:427} INFO - Loaded mnasnet0_75.171_7.csv, 771 rows\n",
      "[2023-12-20 16:23:17,573] {data.py:427} INFO - Loaded shufflenet_v2_x0_5.242_7.csv, 849 rows\n",
      "[2023-12-20 16:23:17,961] {data.py:427} INFO - Loaded mnasnet0_5.88_7.csv, 771 rows\n",
      "[2023-12-20 16:23:18,903] {data.py:427} INFO - Loaded rand_4000.108_7.csv, 1974 rows\n",
      "[2023-12-20 16:23:20,002] {data.py:427} INFO - Loaded rand_4500.268_7.csv, 2318 rows\n",
      "[2023-12-20 16:23:20,807] {data.py:427} INFO - Loaded convnext_small.69_7.csv, 1626 rows\n",
      "[2023-12-20 16:23:21,235] {data.py:427} INFO - Loaded resnet50.134_7.csv, 818 rows\n",
      "[2023-12-20 16:23:21,692] {data.py:427} INFO - Loaded mobilenet_v3_large.181_7.csv, 884 rows\n",
      "[2023-12-20 16:23:21,825] {data.py:427} INFO - Loaded vgg16.58_7.csv, 175 rows\n",
      "[2023-12-20 16:23:21,936] {data.py:427} INFO - Loaded vgg13.157_7.csv, 143 rows\n",
      "[2023-12-20 16:23:22,511] {data.py:427} INFO - Loaded rand_4000.202_7.csv, 1209 rows\n",
      "[2023-12-20 16:23:23,266] {data.py:427} INFO - Loaded efficientnet_b1.108_7.csv, 1604 rows\n",
      "[2023-12-20 16:23:24,028] {data.py:427} INFO - Loaded convnext_small.57_7.csv, 1595 rows\n",
      "[2023-12-20 16:23:24,805] {data.py:427} INFO - Loaded convnext_base.108_7.csv, 1595 rows\n",
      "[2023-12-20 16:23:25,569] {data.py:427} INFO - Loaded convnext_small.63_7.csv, 1593 rows\n",
      "[2023-12-20 16:23:25,740] {data.py:427} INFO - Loaded squeezenet1_1.109_7.csv, 280 rows\n",
      "[2023-12-20 16:23:26,808] {data.py:427} INFO - Loaded rand_2500.50_7.csv, 2309 rows\n",
      "[2023-12-20 16:23:27,195] {data.py:427} INFO - Loaded mnasnet1_3.117_7.csv, 771 rows\n",
      "[2023-12-20 16:23:28,433] {data.py:427} INFO - Loaded rand_500.187_7.csv, 2604 rows\n",
      "[2023-12-20 16:23:29,185] {data.py:427} INFO - Loaded resnet101.178_7.csv, 1598 rows\n",
      "[2023-12-20 16:23:29,615] {data.py:427} INFO - Loaded shufflenet_v2_x0_5.239_7.csv, 849 rows\n",
      "[2023-12-20 16:23:30,211] {data.py:427} INFO - Loaded rand_1000.35_7.csv, 1250 rows\n",
      "[2023-12-20 16:23:31,533] {data.py:427} INFO - Loaded rand_2000.142_7.csv, 2884 rows\n",
      "[2023-12-20 16:23:32,012] {data.py:427} INFO - Loaded rand_3000.89_7.csv, 972 rows\n",
      "[2023-12-20 16:23:32,559] {data.py:427} INFO - Loaded efficientnet_b0.206_7.csv, 1127 rows\n",
      "[2023-12-20 16:23:32,948] {data.py:427} INFO - Loaded rand_2000.206_7.csv, 769 rows\n",
      "[2023-12-20 16:23:33,549] {data.py:427} INFO - Loaded rand_3000.104_7.csv, 1232 rows\n",
      "[2023-12-20 16:23:34,800] {data.py:427} INFO - Loaded rand_4500.35_7.csv, 2604 rows\n",
      "[2023-12-20 16:23:35,162] {data.py:427} INFO - Loaded rand_2500.138_7.csv, 684 rows\n",
      "[2023-12-20 16:23:36,264] {data.py:427} INFO - Loaded rand_2500.135_7.csv, 2300 rows\n",
      "[2023-12-20 16:23:36,465] {data.py:427} INFO - Loaded vgg19_bn.95_7.csv, 333 rows\n",
      "[2023-12-20 16:23:37,211] {data.py:427} INFO - Loaded rand_3500.220_7.csv, 1565 rows\n",
      "[2023-12-20 16:23:37,704] {data.py:427} INFO - Loaded rand_3500.239_7.csv, 973 rows\n",
      "[2023-12-20 16:23:38,118] {data.py:427} INFO - Loaded wide_resnet50_2.147_7.csv, 816 rows\n",
      "[2023-12-20 16:23:38,640] {data.py:427} INFO - Loaded rand_1000.36_7.csv, 1047 rows\n",
      "[2023-12-20 16:23:39,702] {data.py:427} INFO - Loaded efficientnet_b4.169_7.csv, 2232 rows\n",
      "[2023-12-20 16:23:40,988] {data.py:427} INFO - Loaded efficientnet_b5.72_7.csv, 2709 rows\n",
      "[2023-12-20 16:23:42,173] {data.py:427} INFO - Loaded rand_500.252_7.csv, 2541 rows\n",
      "[2023-12-20 16:23:42,744] {data.py:427} INFO - Loaded rand_500.117_7.csv, 1137 rows\n",
      "[2023-12-20 16:23:43,341] {data.py:427} INFO - Loaded rand_1000.95_7.csv, 1224 rows\n",
      "[2023-12-20 16:23:44,095] {data.py:427} INFO - Loaded rand_4000.216_7.csv, 1564 rows\n",
      "[2023-12-20 16:23:45,377] {data.py:427} INFO - Loaded efficientnet_b5.78_7.csv, 2709 rows\n",
      "[2023-12-20 16:23:45,808] {data.py:427} INFO - Loaded shufflenet_v2_x1_5.100_7.csv, 847 rows\n",
      "[2023-12-20 16:23:47,047] {data.py:427} INFO - Loaded densenet169.142_7.csv, 2631 rows\n",
      "[2023-12-20 16:23:47,544] {data.py:427} INFO - Loaded rand_4500.231_7.csv, 973 rows\n",
      "[2023-12-20 16:23:48,001] {data.py:427} INFO - Loaded googlenet.214_7.csv, 903 rows\n",
      "[2023-12-20 16:23:48,437] {data.py:427} INFO - Loaded convnext_tiny.87_7.csv, 839 rows\n",
      "[2023-12-20 16:23:49,196] {data.py:427} INFO - Loaded resnet101.132_7.csv, 1600 rows\n",
      "[2023-12-20 16:23:49,632] {data.py:427} INFO - Loaded shufflenet_v2_x2_0.195_7.csv, 847 rows\n",
      "[2023-12-20 16:23:49,991] {data.py:427} INFO - Loaded rand_500.236_7.csv, 679 rows\n",
      "[2023-12-20 16:23:50,169] {data.py:427} INFO - Loaded squeezenet1_0.191_7.csv, 280 rows\n",
      "[2023-12-20 16:23:50,611] {data.py:427} INFO - Loaded shufflenet_v2_x1_0.144_7.csv, 849 rows\n",
      "[2023-12-20 16:23:51,220] {data.py:427} INFO - Loaded rand_3500.81_7.csv, 1218 rows\n",
      "[2023-12-20 16:23:52,348] {data.py:427} INFO - Loaded efficientnet_v2_s.110_7.csv, 2412 rows\n",
      "[2023-12-20 16:23:52,501] {data.py:427} INFO - Loaded vgg13_bn.57_7.csv, 225 rows\n",
      "[2023-12-20 16:23:53,367] {data.py:427} INFO - Loaded efficientnet_b3.150_7.csv, 1812 rows\n",
      "[2023-12-20 16:23:54,010] {data.py:427} INFO - Loaded rand_1500.227_7.csv, 1309 rows\n",
      "[2023-12-20 16:23:54,406] {data.py:427} INFO - Loaded rand_4500.153_7.csv, 750 rows\n",
      "[2023-12-20 16:23:54,973] {data.py:427} INFO - Loaded rand_0.66_7.csv, 1170 rows\n",
      "[2023-12-20 16:23:55,399] {data.py:427} INFO - Loaded wide_resnet50_2.96_7.csv, 818 rows\n",
      "[2023-12-20 16:23:56,318] {data.py:427} INFO - Loaded densenet121.99_7.csv, 1889 rows\n",
      "[2023-12-20 16:23:57,098] {data.py:427} INFO - Loaded resnet101.76_7.csv, 1600 rows\n",
      "[2023-12-20 16:23:58,062] {data.py:427} INFO - Loaded rand_0.40_7.csv, 1980 rows\n",
      "[2023-12-20 16:23:58,459] {data.py:427} INFO - Loaded mobilenet_v2.210_7.csv, 769 rows\n",
      "[2023-12-20 16:23:59,224] {data.py:427} INFO - Loaded efficientnet_b2.181_7.csv, 1604 rows\n",
      "[2023-12-20 16:23:59,650] {data.py:427} INFO - Loaded wide_resnet50_2.159_7.csv, 818 rows\n",
      "[2023-12-20 16:24:00,046] {data.py:427} INFO - Loaded mobilenet_v2.168_7.csv, 769 rows\n",
      "[2023-12-20 16:24:00,161] {data.py:427} INFO - Loaded vgg13.49_7.csv, 145 rows\n",
      "[2023-12-20 16:24:00,905] {data.py:427} INFO - Loaded rand_4500.137_7.csv, 1561 rows\n",
      "[2023-12-20 16:24:02,023] {data.py:427} INFO - Loaded rand_2500.143_7.csv, 2313 rows\n",
      "[2023-12-20 16:24:02,548] {data.py:427} INFO - Loaded rand_4500.114_7.csv, 1048 rows\n",
      "[2023-12-20 16:24:03,206] {data.py:427} INFO - Loaded rand_4500.39_7.csv, 1327 rows\n",
      "[2023-12-20 16:24:03,745] {data.py:427} INFO - Loaded rand_0.171_7.csv, 1065 rows\n",
      "[2023-12-20 16:24:04,141] {data.py:427} INFO - Loaded mnasnet0_5.91_7.csv, 771 rows\n",
      "[2023-12-20 16:24:04,281] {data.py:427} INFO - Loaded vgg11_bn.160_7.csv, 187 rows\n",
      "[2023-12-20 16:24:05,235] {data.py:427} INFO - Loaded rand_1000.160_7.csv, 1950 rows\n",
      "[2023-12-20 16:24:05,751] {data.py:427} INFO - Loaded rand_1000.225_7.csv, 990 rows\n",
      "[2023-12-20 16:24:06,251] {data.py:427} INFO - Loaded rand_0.210_7.csv, 973 rows\n",
      "[2023-12-20 16:24:07,369] {data.py:427} INFO - Loaded rand_1500.8_7.csv, 2313 rows\n",
      "[2023-12-20 16:24:07,491] {data.py:427} INFO - Loaded vgg13.121_7.csv, 145 rows\n",
      "[2023-12-20 16:24:07,930] {data.py:427} INFO - Loaded shufflenet_v2_x0_5.112_7.csv, 849 rows\n",
      "[2023-12-20 16:24:08,505] {data.py:427} INFO - Loaded efficientnet_b0.139_7.csv, 1129 rows\n",
      "[2023-12-20 16:24:09,610] {data.py:427} INFO - Loaded rand_4500.13_7.csv, 2298 rows\n",
      "[2023-12-20 16:24:10,708] {data.py:427} INFO - Loaded rand_500.126_7.csv, 2296 rows\n",
      "[2023-12-20 16:24:11,959] {data.py:427} INFO - Loaded densenet169.98_7.csv, 2633 rows\n",
      "[2023-12-20 16:24:12,745] {data.py:427} INFO - Loaded efficientnet_b1.163_7.csv, 1602 rows\n",
      "[2023-12-20 16:24:13,347] {data.py:427} INFO - Loaded rand_1000.154_7.csv, 1211 rows\n",
      "[2023-12-20 16:24:14,269] {data.py:427} INFO - Loaded densenet121.120_7.csv, 1889 rows\n",
      "[2023-12-20 16:24:14,808] {data.py:427} INFO - Loaded rand_3500.148_7.csv, 1075 rows\n",
      "[2023-12-20 16:24:15,310] {data.py:427} INFO - Loaded rand_4000.64_7.csv, 992 rows\n",
      "[2023-12-20 16:24:15,464] {data.py:427} INFO - Loaded vgg13_bn.143_7.csv, 223 rows\n",
      "[2023-12-20 16:24:15,885] {data.py:427} INFO - Loaded wide_resnet50_2.70_7.csv, 818 rows\n",
      "[2023-12-20 16:24:16,290] {data.py:427} INFO - Loaded resnet50.175_7.csv, 816 rows\n",
      "[2023-12-20 16:24:17,359] {data.py:427} INFO - Loaded rand_2500.85_7.csv, 2316 rows\n",
      "[2023-12-20 16:24:17,965] {data.py:427} INFO - Loaded rand_2500.2_7.csv, 1219 rows\n",
      "[2023-12-20 16:24:18,833] {data.py:427} INFO - Loaded efficientnet_b3.91_7.csv, 1814 rows\n",
      "[2023-12-20 16:24:19,277] {data.py:427} INFO - Loaded mobilenet_v3_large.197_7.csv, 884 rows\n",
      "[2023-12-20 16:24:20,171] {data.py:427} INFO - Loaded densenet121.148_7.csv, 1887 rows\n",
      "[2023-12-20 16:24:20,573] {data.py:427} INFO - Loaded mnasnet1_0.94_7.csv, 769 rows\n",
      "[2023-12-20 16:24:21,030] {data.py:427} INFO - Loaded googlenet.172_7.csv, 903 rows\n",
      "[2023-12-20 16:24:21,588] {data.py:427} INFO - Loaded rand_4000.214_7.csv, 1110 rows\n",
      "[2023-12-20 16:24:22,032] {data.py:427} INFO - Loaded mobilenet_v3_large.200_7.csv, 886 rows\n",
      "[2023-12-20 16:24:22,419] {data.py:427} INFO - Loaded mnasnet1_3.97_7.csv, 771 rows\n",
      "[2023-12-20 16:24:22,612] {data.py:427} INFO - Loaded resnet18.88_7.csv, 315 rows\n",
      "[2023-12-20 16:24:23,044] {data.py:427} INFO - Loaded shufflenet_v2_x0_5.64_7.csv, 847 rows\n",
      "[2023-12-20 16:24:23,478] {data.py:427} INFO - Loaded mobilenet_v3_large.103_7.csv, 886 rows\n",
      "[2023-12-20 16:24:23,870] {data.py:427} INFO - Loaded mnasnet0_5.138_7.csv, 771 rows\n",
      "[2023-12-20 16:24:24,231] {data.py:427} INFO - Loaded rand_2000.276_7.csv, 681 rows\n",
      "[2023-12-20 16:24:24,800] {data.py:427} INFO - Loaded efficientnet_b0.180_7.csv, 1127 rows\n",
      "[2023-12-20 16:24:27,003] {data.py:427} INFO - Loaded rand_4000.61_7.csv, 731 rows\n",
      "[2023-12-20 16:24:27,439] {data.py:427} INFO - Loaded convnext_tiny.173_7.csv, 839 rows\n",
      "[2023-12-20 16:24:28,027] {data.py:427} INFO - Loaded rand_2500.161_7.csv, 1139 rows\n",
      "[2023-12-20 16:24:28,938] {data.py:427} INFO - Loaded densenet121.108_7.csv, 1889 rows\n",
      "[2023-12-20 16:24:29,467] {data.py:427} INFO - Loaded rand_2000.17_7.csv, 1065 rows\n",
      "[2023-12-20 16:24:29,777] {data.py:427} INFO - Loaded resnet34.130_7.csv, 565 rows\n",
      "[2023-12-20 16:24:30,310] {data.py:427} INFO - Loaded rand_3000.21_7.csv, 1078 rows\n",
      "[2023-12-20 16:24:31,237] {data.py:427} INFO - Loaded rand_500.231_7.csv, 1995 rows\n",
      "[2023-12-20 16:24:31,343] {data.py:427} INFO - Loaded vgg11.55_7.csv, 125 rows\n",
      "[2023-12-20 16:24:32,432] {data.py:427} INFO - Loaded rand_1500.223_7.csv, 2315 rows\n",
      "[2023-12-20 16:24:33,208] {data.py:427} INFO - Loaded efficientnet_b1.117_7.csv, 1604 rows\n",
      "[2023-12-20 16:24:33,963] {data.py:427} INFO - Loaded rand_4500.278_7.csv, 1563 rows\n",
      "[2023-12-20 16:24:34,383] {data.py:427} INFO - Loaded shufflenet_v2_x2_0.129_7.csv, 849 rows\n",
      "[2023-12-20 16:24:34,491] {data.py:427} INFO - Loaded vgg11.158_7.csv, 123 rows\n",
      "[2023-12-20 16:24:35,263] {data.py:427} INFO - Loaded convnext_base.99_7.csv, 1595 rows\n",
      "[2023-12-20 16:24:35,796] {data.py:427} INFO - Loaded rand_1500.24_7.csv, 1041 rows\n",
      "[2023-12-20 16:24:35,913] {data.py:427} INFO - Loaded vgg13.52_7.csv, 145 rows\n",
      "[2023-12-20 16:24:36,346] {data.py:427} INFO - Loaded shufflenet_v2_x1_0.202_7.csv, 849 rows\n",
      "[2023-12-20 16:24:37,238] {data.py:427} INFO - Loaded densenet121.139_7.csv, 1887 rows\n",
      "[2023-12-20 16:24:37,387] {data.py:427} INFO - Loaded vgg13_bn.83_7.csv, 225 rows\n",
      "[2023-12-20 16:24:37,774] {data.py:427} INFO - Loaded mobilenet_v3_small.58_7.csv, 734 rows\n",
      "[2023-12-20 16:24:37,892] {data.py:427} INFO - Loaded vgg13.93_7.csv, 145 rows\n",
      "[2023-12-20 16:24:38,814] {data.py:427} INFO - Loaded rand_1500.21_7.csv, 1962 rows\n",
      "[2023-12-20 16:24:39,909] {data.py:427} INFO - Loaded resnet152.72_7.csv, 2382 rows\n",
      "[2023-12-20 16:24:40,292] {data.py:427} INFO - Loaded mnasnet1_0.126_7.csv, 771 rows\n",
      "[2023-12-20 16:24:41,045] {data.py:427} INFO - Loaded wide_resnet101_2.151_7.csv, 1598 rows\n",
      "[2023-12-20 16:24:41,434] {data.py:427} INFO - Loaded mnasnet0_75.103_7.csv, 771 rows\n",
      "[2023-12-20 16:24:42,505] {data.py:427} INFO - Loaded rand_500.216_7.csv, 2293 rows\n",
      "[2023-12-20 16:24:43,112] {data.py:427} INFO - Loaded rand_0.276_7.csv, 1239 rows\n",
      "[2023-12-20 16:24:43,605] {data.py:427} INFO - Loaded rand_3500.134_7.csv, 974 rows\n",
      "[2023-12-20 16:24:43,760] {data.py:427} INFO - Loaded vgg13_bn.86_7.csv, 223 rows\n",
      "[2023-12-20 16:24:44,249] {data.py:427} INFO - Loaded rand_3500.176_7.csv, 990 rows\n",
      "[2023-12-20 16:24:44,677] {data.py:427} INFO - Loaded shufflenet_v2_x0_5.127_7.csv, 849 rows\n",
      "[2023-12-20 16:24:45,324] {data.py:427} INFO - Loaded rand_3500.264_7.csv, 1335 rows\n",
      "[2023-12-20 16:24:46,107] {data.py:427} INFO - Loaded convnext_small.54_7.csv, 1595 rows\n",
      "[2023-12-20 16:24:46,244] {data.py:427} INFO - Loaded vgg11_bn.166_7.csv, 187 rows\n",
      "[2023-12-20 16:24:47,014] {data.py:427} INFO - Loaded efficientnet_b2.178_7.csv, 1602 rows\n",
      "[2023-12-20 16:24:47,605] {data.py:427} INFO - Loaded rand_0.283_7.csv, 1212 rows\n",
      "[2023-12-20 16:24:47,788] {data.py:427} INFO - Loaded vgg16_bn.148_7.csv, 277 rows\n",
      "[2023-12-20 16:24:47,934] {data.py:427} INFO - Loaded vgg19.58_7.csv, 205 rows\n",
      "[2023-12-20 16:24:48,354] {data.py:427} INFO - Loaded rand_0.224_7.csv, 807 rows\n",
      "[2023-12-20 16:24:48,785] {data.py:427} INFO - Loaded shufflenet_v2_x1_0.199_7.csv, 847 rows\n",
      "[2023-12-20 16:24:48,932] {data.py:427} INFO - Loaded vgg13_bn.125_7.csv, 223 rows\n",
      "[2023-12-20 16:24:49,814] {data.py:427} INFO - Loaded densenet121.145_7.csv, 1887 rows\n",
      "[2023-12-20 16:24:50,191] {data.py:427} INFO - Loaded rand_2000.30_7.csv, 740 rows\n",
      "[2023-12-20 16:24:50,584] {data.py:427} INFO - Loaded mnasnet0_5.207_7.csv, 769 rows\n",
      "[2023-12-20 16:24:51,024] {data.py:427} INFO - Loaded shufflenet_v2_x1_5.91_7.csv, 849 rows\n",
      "[2023-12-20 16:24:51,546] {data.py:427} INFO - Loaded rand_2500.46_7.csv, 1079 rows\n",
      "[2023-12-20 16:24:52,469] {data.py:427} INFO - Loaded rand_0.133_7.csv, 1950 rows\n",
      "[2023-12-20 16:24:53,832] {data.py:427} INFO - Loaded rand_3500.160_7.csv, 2922 rows\n",
      "[2023-12-20 16:24:54,321] {data.py:427} INFO - Loaded rand_3000.12_7.csv, 988 rows\n",
      "[2023-12-20 16:24:54,501] {data.py:427} INFO - Loaded squeezenet1_1.103_7.csv, 280 rows\n",
      "[2023-12-20 16:24:54,940] {data.py:427} INFO - Loaded mobilenet_v3_large.94_7.csv, 886 rows\n",
      "[2023-12-20 16:24:55,876] {data.py:427} INFO - Loaded rand_3500.247_7.csv, 1980 rows\n",
      "[2023-12-20 16:24:56,175] {data.py:427} INFO - Loaded resnet34.94_7.csv, 563 rows\n",
      "[2023-12-20 16:24:57,046] {data.py:427} INFO - Loaded densenet121.142_7.csv, 1887 rows\n",
      "[2023-12-20 16:24:58,156] {data.py:427} INFO - Loaded rand_1500.80_7.csv, 2318 rows\n",
      "[2023-12-20 16:24:59,290] {data.py:427} INFO - Loaded rand_1000.246_7.csv, 2316 rows\n",
      "[2023-12-20 16:24:59,735] {data.py:427} INFO - Loaded shufflenet_v2_x1_0.230_7.csv, 847 rows\n",
      "[2023-12-20 16:25:00,691] {data.py:427} INFO - Loaded rand_500.10_7.csv, 1996 rows\n",
      "[2023-12-20 16:25:01,198] {data.py:427} INFO - Loaded rand_2500.33_7.csv, 1045 rows\n",
      "[2023-12-20 16:25:02,054] {data.py:427} INFO - Loaded efficientnet_b3.99_7.csv, 1812 rows\n",
      "[2023-12-20 16:25:02,987] {data.py:427} INFO - Loaded rand_4500.19_7.csv, 1987 rows\n",
      "[2023-12-20 16:25:04,199] {data.py:427} INFO - Loaded rand_500.220_7.csv, 2608 rows\n",
      "[2023-12-20 16:25:04,749] {data.py:427} INFO - Loaded efficientnet_b0.130_7.csv, 1129 rows\n",
      "[2023-12-20 16:25:05,495] {data.py:427} INFO - Loaded rand_1500.109_7.csv, 1564 rows\n",
      "[2023-12-20 16:25:05,944] {data.py:427} INFO - Loaded shufflenet_v2_x1_0.153_7.csv, 849 rows\n",
      "[2023-12-20 16:25:07,064] {data.py:427} INFO - Loaded efficientnet_v2_s.93_7.csv, 2410 rows\n",
      "[2023-12-20 16:25:07,467] {data.py:427} INFO - Loaded wide_resnet50_2.182_7.csv, 816 rows\n",
      "[2023-12-20 16:25:08,233] {data.py:427} INFO - Loaded efficientnet_b2.99_7.csv, 1604 rows\n",
      "[2023-12-20 16:25:08,341] {data.py:427} INFO - Loaded vgg11.108_7.csv, 125 rows\n",
      "[2023-12-20 16:25:08,936] {data.py:427} INFO - Loaded rand_3500.53_7.csv, 1217 rows\n",
      "[2023-12-20 16:25:10,033] {data.py:427} INFO - Loaded resnet152.136_7.csv, 2380 rows\n",
      "[2023-12-20 16:25:10,472] {data.py:427} INFO - Loaded shufflenet_v2_x1_5.211_7.csv, 849 rows\n",
      "[2023-12-20 16:25:10,917] {data.py:427} INFO - Loaded shufflenet_v2_x1_0.196_7.csv, 847 rows\n",
      "[2023-12-20 16:25:11,335] {data.py:427} INFO - Loaded wide_resnet50_2.135_7.csv, 818 rows\n",
      "[2023-12-20 16:25:12,590] {data.py:427} INFO - Loaded rand_2500.57_7.csv, 2609 rows\n",
      "[2023-12-20 16:25:13,011] {data.py:427} INFO - Loaded resnet50.99_7.csv, 818 rows\n",
      "[2023-12-20 16:25:13,781] {data.py:427} INFO - Loaded wide_resnet101_2.123_7.csv, 1600 rows\n",
      "[2023-12-20 16:25:13,959] {data.py:427} INFO - Loaded squeezenet1_1.82_7.csv, 280 rows\n",
      "[2023-12-20 16:25:14,344] {data.py:427} INFO - Loaded mnasnet0_5.240_7.csv, 769 rows\n",
      "[2023-12-20 16:25:14,726] {data.py:427} INFO - Loaded mobilenet_v3_small.198_7.csv, 732 rows\n",
      "[2023-12-20 16:25:15,115] {data.py:427} INFO - Loaded mobilenet_v2.126_7.csv, 771 rows\n",
      "[2023-12-20 16:25:15,551] {data.py:427} INFO - Loaded shufflenet_v2_x0_5.191_7.csv, 849 rows\n",
      "[2023-12-20 16:25:15,970] {data.py:427} INFO - Loaded resnet50.90_7.csv, 818 rows\n",
      "[2023-12-20 16:25:16,491] {data.py:427} INFO - Loaded rand_4500.241_7.csv, 1070 rows\n",
      "[2023-12-20 16:25:16,685] {data.py:427} INFO - Loaded resnet18.234_7.csv, 315 rows\n",
      "[2023-12-20 16:25:17,079] {data.py:427} INFO - Loaded mnasnet0_75.195_7.csv, 771 rows\n",
      "[2023-12-20 16:25:17,216] {data.py:427} INFO - Loaded vgg11_bn.90_7.csv, 187 rows\n",
      "[2023-12-20 16:25:18,100] {data.py:427} INFO - Loaded efficientnet_b3.162_7.csv, 1812 rows\n",
      "[2023-12-20 16:25:18,657] {data.py:427} INFO - Loaded efficientnet_b0.203_7.csv, 1127 rows\n",
      "[2023-12-20 16:25:20,010] {data.py:427} INFO - Loaded rand_1000.248_7.csv, 2897 rows\n",
      "[2023-12-20 16:25:21,084] {data.py:427} INFO - Loaded rand_1000.4_7.csv, 2316 rows\n",
      "[2023-12-20 16:25:21,503] {data.py:427} INFO - Loaded convnext_tiny.143_7.csv, 837 rows\n",
      "[2023-12-20 16:25:22,273] {data.py:427} INFO - Loaded convnext_large.112_7.csv, 1593 rows\n",
      "[2023-12-20 16:25:22,428] {data.py:427} INFO - Loaded vgg13_bn.131_7.csv, 225 rows\n",
      "[2023-12-20 16:25:22,866] {data.py:427} INFO - Loaded shufflenet_v2_x2_0.85_7.csv, 849 rows\n",
      "[2023-12-20 16:25:23,166] {data.py:427} INFO - Loaded resnet34.150_7.csv, 563 rows\n",
      "[2023-12-20 16:25:23,936] {data.py:427} INFO - Loaded wide_resnet101_2.75_7.csv, 1600 rows\n",
      "[2023-12-20 16:25:24,527] {data.py:427} INFO - Loaded rand_0.201_7.csv, 1222 rows\n",
      "[2023-12-20 16:25:24,871] {data.py:427} INFO - Loaded rand_500.52_7.csv, 683 rows\n",
      "[2023-12-20 16:25:25,240] {data.py:427} INFO - Loaded mobilenet_v3_small.151_7.csv, 736 rows\n",
      "[2023-12-20 16:25:25,732] {data.py:427} INFO - Loaded rand_4000.63_7.csv, 991 rows\n",
      "[2023-12-20 16:25:26,281] {data.py:427} INFO - Loaded efficientnet_b0.58_7.csv, 1129 rows\n",
      "[2023-12-20 16:25:27,042] {data.py:427} INFO - Loaded efficientnet_b2.73_7.csv, 1604 rows\n",
      "[2023-12-20 16:25:27,822] {data.py:427} INFO - Loaded efficientnet_b1.197_7.csv, 1602 rows\n",
      "[2023-12-20 16:25:28,238] {data.py:427} INFO - Loaded wide_resnet50_2.67_7.csv, 818 rows\n",
      "[2023-12-20 16:25:29,297] {data.py:427} INFO - Loaded rand_2000.202_7.csv, 2299 rows\n",
      "[2023-12-20 16:25:30,225] {data.py:427} INFO - Loaded rand_2000.116_7.csv, 1974 rows\n",
      "[2023-12-20 16:25:30,578] {data.py:427} INFO - Loaded rand_2500.120_7.csv, 683 rows\n",
      "[2023-12-20 16:25:31,322] {data.py:427} INFO - Loaded resnet101.169_7.csv, 1598 rows\n",
      "[2023-12-20 16:25:32,170] {data.py:427} INFO - Loaded efficientnet_b3.130_7.csv, 1814 rows\n",
      "[2023-12-20 16:25:32,931] {data.py:427} INFO - Loaded efficientnet_b1.67_7.csv, 1602 rows\n",
      "[2023-12-20 16:25:33,328] {data.py:427} INFO - Loaded mnasnet0_75.112_7.csv, 771 rows\n",
      "[2023-12-20 16:25:33,757] {data.py:427} INFO - Loaded convnext_tiny.165_7.csv, 839 rows\n",
      "[2023-12-20 16:25:33,935] {data.py:427} INFO - Loaded squeezenet1_0.123_7.csv, 280 rows\n",
      "[2023-12-20 16:25:35,110] {data.py:427} INFO - Loaded rand_2500.142_7.csv, 2551 rows\n",
      "[2023-12-20 16:25:36,232] {data.py:427} INFO - Loaded efficientnet_v2_s.113_7.csv, 2412 rows\n",
      "[2023-12-20 16:25:36,619] {data.py:427} INFO - Loaded mnasnet0_5.112_7.csv, 771 rows\n",
      "[2023-12-20 16:25:36,920] {data.py:427} INFO - Loaded resnet34.88_7.csv, 563 rows\n",
      "[2023-12-20 16:25:37,334] {data.py:427} INFO - Loaded shufflenet_v2_x2_0.213_7.csv, 847 rows\n",
      "[2023-12-20 16:25:38,508] {data.py:427} INFO - Loaded rand_1000.195_7.csv, 2557 rows\n",
      "[2023-12-20 16:25:39,039] {data.py:427} INFO - Loaded rand_1000.191_7.csv, 1079 rows\n",
      "[2023-12-20 16:25:39,441] {data.py:427} INFO - Loaded wide_resnet50_2.58_7.csv, 818 rows\n",
      "[2023-12-20 16:25:39,846] {data.py:427} INFO - Loaded mobilenet_v2.135_7.csv, 771 rows\n",
      "[2023-12-20 16:25:40,284] {data.py:427} INFO - Loaded shufflenet_v2_x2_0.117_7.csv, 849 rows\n",
      "[2023-12-20 16:25:40,852] {data.py:427} INFO - Loaded rand_0.234_7.csv, 1180 rows\n",
      "[2023-12-20 16:25:41,437] {data.py:427} INFO - Loaded rand_2000.272_7.csv, 1232 rows\n",
      "[2023-12-20 16:25:41,827] {data.py:427} INFO - Loaded mnasnet1_0.160_7.csv, 769 rows\n",
      "[2023-12-20 16:25:42,005] {data.py:427} INFO - Loaded squeezenet1_0.143_7.csv, 280 rows\n",
      "[2023-12-20 16:25:43,077] {data.py:427} INFO - Loaded rand_3500.229_7.csv, 2316 rows\n",
      "[2023-12-20 16:25:43,697] {data.py:427} INFO - Loaded rand_4500.171_7.csv, 1303 rows\n",
      "[2023-12-20 16:25:44,088] {data.py:427} INFO - Loaded rand_2000.76_7.csv, 751 rows\n",
      "[2023-12-20 16:25:44,848] {data.py:427} INFO - Loaded wide_resnet101_2.84_7.csv, 1600 rows\n",
      "[2023-12-20 16:25:45,977] {data.py:427} INFO - Loaded efficientnet_v2_s.134_7.csv, 2412 rows\n",
      "[2023-12-20 16:25:46,827] {data.py:427} INFO - Loaded efficientnet_b3.159_7.csv, 1814 rows\n",
      "[2023-12-20 16:25:47,870] {data.py:427} INFO - Loaded rand_2000.259_7.csv, 2296 rows\n",
      "[2023-12-20 16:25:48,978] {data.py:427} INFO - Loaded rand_4000.162_7.csv, 2315 rows\n",
      "[2023-12-20 16:25:49,915] {data.py:427} INFO - Loaded rand_1000.88_7.csv, 1979 rows\n",
      "[2023-12-20 16:25:50,336] {data.py:427} INFO - Loaded shufflenet_v2_x0_5.180_7.csv, 849 rows\n",
      "[2023-12-20 16:25:50,879] {data.py:427} INFO - Loaded efficientnet_b0.93_7.csv, 1129 rows\n",
      "[2023-12-20 16:25:52,078] {data.py:427} INFO - Loaded rand_4500.139_7.csv, 2593 rows\n",
      "[2023-12-20 16:25:53,130] {data.py:427} INFO - Loaded efficientnet_b4.93_7.csv, 2234 rows\n",
      "[2023-12-20 16:25:53,641] {data.py:427} INFO - Loaded rand_0.281_7.csv, 1034 rows\n",
      "[2023-12-20 16:25:54,176] {data.py:427} INFO - Loaded rand_4500.294_7.csv, 1058 rows\n",
      "[2023-12-20 16:25:54,767] {data.py:427} INFO - Loaded rand_3000.33_7.csv, 1221 rows\n",
      "[2023-12-20 16:25:55,195] {data.py:427} INFO - Loaded shufflenet_v2_x1_0.212_7.csv, 847 rows\n",
      "[2023-12-20 16:25:55,549] {data.py:427} INFO - Loaded rand_2500.254_7.csv, 680 rows\n",
      "[2023-12-20 16:25:55,985] {data.py:427} INFO - Loaded convnext_tiny.153_7.csv, 837 rows\n",
      "[2023-12-20 16:25:56,178] {data.py:427} INFO - Loaded resnet18.94_7.csv, 315 rows\n",
      "[2023-12-20 16:25:56,285] {data.py:427} INFO - Loaded vgg11.182_7.csv, 125 rows\n",
      "[2023-12-20 16:25:57,360] {data.py:427} INFO - Loaded rand_3000.141_7.csv, 2318 rows\n",
      "[2023-12-20 16:25:58,431] {data.py:427} INFO - Loaded efficientnet_b4.163_7.csv, 2232 rows\n",
      "[2023-12-20 16:25:58,973] {data.py:427} INFO - Loaded efficientnet_b0.200_7.csv, 1127 rows\n",
      "[2023-12-20 16:25:59,344] {data.py:427} INFO - Loaded rand_3500.157_7.csv, 734 rows\n",
      "[2023-12-20 16:25:59,542] {data.py:427} INFO - Loaded vgg19_bn.48_7.csv, 333 rows\n",
      "[2023-12-20 16:25:59,955] {data.py:427} INFO - Loaded rand_0.102_7.csv, 788 rows\n",
      "[2023-12-20 16:26:00,712] {data.py:427} INFO - Loaded rand_0.98_7.csv, 1567 rows\n",
      "[2023-12-20 16:26:00,814] {data.py:427} INFO - Loaded vgg11.170_7.csv, 123 rows\n",
      "[2023-12-20 16:26:01,162] {data.py:427} INFO - Loaded rand_4000.51_7.csv, 681 rows\n",
      "[2023-12-20 16:26:01,596] {data.py:427} INFO - Loaded shufflenet_v2_x2_0.111_7.csv, 849 rows\n",
      "[2023-12-20 16:26:01,699] {data.py:427} INFO - Loaded vgg11.185_7.csv, 123 rows\n",
      "[2023-12-20 16:26:02,304] {data.py:427} INFO - Loaded rand_2500.264_7.csv, 1264 rows\n",
      "[2023-12-20 16:26:02,878] {data.py:427} INFO - Loaded rand_1500.230_7.csv, 1196 rows\n"
     ]
    }
   ],
   "source": [
    "\n",
    "eval_graphs = load_graphs(dataset_environment_str,\n",
    "                            train_or_eval=\"train\",\n",
    "                            use_dummy=dummy,\n",
    "                            max_row=200_000)\n",
    "train_graphs = load_graphs(dataset_environment_str,\n",
    "                            train_or_eval=\"train\",\n",
    "                            use_dummy=dummy,\n",
    "                            max_row=1000_000)"
   ]
  },
  {
   "cell_type": "code",
   "execution_count": 17,
   "metadata": {},
   "outputs": [],
   "source": [
    "train_configs = {\n",
    "    ModelType.MLPTestGrouping.name: Config.from_dict({\n",
    "        \"model\": \"MLPTestGrouping\",\n",
    "        \"all_seed\": 42,\n",
    "        \"dataset_environment_str\": dataset_environment_str,\n",
    "        \"dataset_subgraph_grouping_count\":20,\n",
    "        \"dataset_params\": {\n",
    "            \"duration_summed\": False,\n",
    "        },\n",
    "        \"dataset_dummy\": False,\n",
    "        \"batch_size\": 32,\n",
    "        \"eval_steps\": 5000,\n",
    "        \"learning_rate\": 1e-4,\n",
    "        \"epochs\": 100,\n",
    "        \"optimizer\": \"Adam\",\n",
    "        \"meta_configs\": {\n",
    "            \"learning_rate\": 0.005,\n",
    "            \"meta_learning_rate\": 0.001,\n",
    "            \"meta_train_steps\": 1000,\n",
    "            \"meta_fast_adaption_step\": 5,\n",
    "            \"meta_dataset_train_environment_strs\": [dataset_environment_str],\n",
    "            \"meta_dataset_eval_environment_strs\": [dataset_environment_str],\n",
    "        },\n",
    "    }),\n",
    "    ModelType.GCNGrouping.name: Config.from_dict({\n",
    "        \"model\": \"GCNGrouping\",\n",
    "        \"dataset_environment_str\": dataset_environment_str,\n",
    "        \"dataset_subgraph_grouping_count\": 25,\n",
    "        \"all_seed\": 42,\n",
    "        \"dataset_params\": {\n",
    "            \"duration_summed\": False,\n",
    "        },\n",
    "        \"dataset_dummy\": False,\n",
    "        \"batch_size\": 32,\n",
    "        \"eval_steps\": 25,\n",
    "        \"learning_rate\": 1e-4,\n",
    "        \"epochs\": 100,\n",
    "        \"optimizer\": \"Adam\",\n",
    "        \"meta_configs\": {\n",
    "            \"learning_rate\": 0.005,\n",
    "            \"meta_learning_rate\": 0.001,\n",
    "            \"meta_train_steps\": 1000,\n",
    "            \"meta_fast_adaption_step\": 5,\n",
    "            \"meta_dataset_train_environment_strs\": [dataset_environment_str],\n",
    "            \"meta_dataset_eval_environment_strs\": [dataset_environment_str],\n",
    "        },\n",
    "    }),\n",
    "}\n",
    "\n",
    "conf: Config = train_configs[model_type.name]"
   ]
  },
  {
   "cell_type": "code",
   "execution_count": 18,
   "metadata": {},
   "outputs": [],
   "source": [
    "def full_graph_feature(graph: Graph, subgraph_count: int = 10, dataset_params: Dict = {}) -> Tuple[\n",
    "    Dict[str, np.ndarray], Dict]:\n",
    "    subgraphs, node_id_to_group_idx = graph.subgraphs(subgraph_count=subgraph_count)\n",
    "\n",
    "    feature_matrix = list()\n",
    "    for subgraph in subgraphs:\n",
    "        subgraph_features = list()\n",
    "        for node in subgraph:\n",
    "            node_feature = np.array(node.op.to_feature_array(\n",
    "                mode=dataset_params.get(\"mode\", \"complex\")))\n",
    "            subgraph_features.append(node_feature)\n",
    "        if len(subgraph_features) == 0:\n",
    "            feature_matrix.append(np.zeros(1))\n",
    "            continue\n",
    "        subgraph_features = pad_np_vectors(subgraph_features)\n",
    "        feature = np.sum(subgraph_features, axis=0)\n",
    "        feature = np.append(feature, len(subgraph))\n",
    "        feature_matrix.append(feature)\n",
    "    adj_matrix = [\n",
    "            [0.] * len(subgraphs) for _ in range(len(subgraphs))\n",
    "    ]\n",
    "    for curr_idx in range(len(subgraphs)):\n",
    "        if curr_idx + 1 < len(subgraphs):\n",
    "            adj_matrix[curr_idx][curr_idx+1] = 1.\n",
    "\n",
    "    adj_matrix = np.array(adj_matrix)\n",
    "\n",
    "    # adjacency_matrix = list()\n",
    "    # for i, subgraph in enumerate(subgraphs):\n",
    "    #     vector = np.zeros(len(subgraphs) + 1)\n",
    "    #     for node in subgraph:\n",
    "    #         neighbor_group_indices = list()\n",
    "    #         for neighbor in node.neighbors:\n",
    "    #             neighbor_group_idx = node_id_to_group_idx[neighbor.node_id]\n",
    "    #             if neighbor_group_idx != i:\n",
    "    #                 neighbor_group_indices.append(neighbor_group_idx)\n",
    "    #         for idx in neighbor_group_indices:\n",
    "    #             vector[idx] = 1\n",
    "    #     adjacency_matrix.append(vector)\n",
    "\n",
    "    feature_matrix = pad_np_vectors(feature_matrix)\n",
    "    feature_matrix = np.array(feature_matrix)\n",
    "    adj_matrix = np.array(adj_matrix)\n",
    "\n",
    "    x = {\n",
    "        \"x_graph_id\": graph.ID,\n",
    "        \"x_feature_matrix\": feature_matrix,\n",
    "        \"x_adjacency_matrix\": adj_matrix,\n",
    "    }\n",
    "    y = {\n",
    "        \"y_graph_id\": graph.ID,\n",
    "        \"y_graph_duration\": (graph.graph_duration,)\n",
    "    }\n",
    "    return x, y\n",
    "\n",
    "def init_dataset(graphs: List[Graph]) -> MDataset:\n",
    "    X = list()\n",
    "    Y = list()\n",
    "\n",
    "    feature_matrix_maxsize = 0\n",
    "    adjacency_matrix_maxsize = 0\n",
    "\n",
    "    for graph in graphs:\n",
    "        x, y = full_graph_feature(graph,\n",
    "                                subgraph_count=conf.dataset_subgraph_grouping_count,\n",
    "                                dataset_params=conf.dataset_params)\n",
    "        feature_matrix_size = len(x[\"x_feature_matrix\"][0])\n",
    "        adjacency_matrix_size = len(x[\"x_adjacency_matrix\"][0])\n",
    "        # print(f\"feature_matrix_size: {x['x_feature_matrix'].shape}, adjacency_matrix_size: {x['x_adjacency_matrix'].shape}\")\n",
    "        feature_matrix_maxsize = max(feature_matrix_maxsize, feature_matrix_size)\n",
    "        adjacency_matrix_maxsize = max(adjacency_matrix_maxsize, adjacency_matrix_size)\n",
    "\n",
    "        X.append(x)\n",
    "        Y.append(y)\n",
    "    for x in X:\n",
    "        x[\"x_feature_matrix\"] = pad_np_vectors(x[\"x_feature_matrix\"], maxsize=feature_matrix_maxsize)\n",
    "        x[\"x_adjacency_matrix\"] = pad_np_vectors(x[\"x_adjacency_matrix\"], maxsize=adjacency_matrix_maxsize)\n",
    "\n",
    "    dataset = MDataset(X, Y)\n",
    "    return dataset\n",
    "\n",
    "train_ds = init_dataset(train_graphs)\n",
    "eval_ds = init_dataset(eval_graphs)"
   ]
  },
  {
   "cell_type": "code",
   "execution_count": 19,
   "metadata": {},
   "outputs": [],
   "source": [
    "def get_scalers(ds: MDataset):\n",
    "    scaler_cls = conf.dataset_normalizer_cls\n",
    "    graph_feature_array = list()\n",
    "    y_array = list()\n",
    "\n",
    "    for data in ds:\n",
    "        feature, label = data\n",
    "        x_feature_matrix = feature[\"x_feature_matrix\"]\n",
    "        assert isinstance(x_feature_matrix, list)\n",
    "        graph_feature_array.extend(x_feature_matrix)\n",
    "        y_array.append(label[\"y_graph_duration\"])\n",
    "\n",
    "    graph_feature_array = np.array(graph_feature_array)\n",
    "    y_array = np.array(y_array)\n",
    "\n",
    "    graph_feature_scaler = scaler_cls()\n",
    "    graph_feature_scaler.fit(graph_feature_array)\n",
    "\n",
    "    y_scaler = scaler_cls()\n",
    "    y_scaler.fit(y_array)\n",
    "    return graph_feature_scaler, y_scaler\n",
    "\n",
    "scalers = get_scalers(train_ds)\n",
    "graph_feature_scaler, y_scaler = scalers\n"
   ]
  },
  {
   "cell_type": "code",
   "execution_count": 20,
   "metadata": {},
   "outputs": [],
   "source": [
    "def preprocess_dataset(ds: MDataset) -> MDataset:\n",
    "    y_array = list()\n",
    "\n",
    "    graph_feature_scaler, y_scaler = scalers\n",
    "    graph_feature_arrays = list()\n",
    "    for data in ds:\n",
    "        feature, label = data\n",
    "        # x. transform for each x feature matrix. do not merge them.\n",
    "        x_feature_matrix = feature[\"x_feature_matrix\"]\n",
    "        x_feature_matrix = np.array(x_feature_matrix, dtype=np.float32)\n",
    "\n",
    "        graph_feature_array = graph_feature_scaler.transform(x_feature_matrix)\n",
    "        graph_feature_arrays.append(graph_feature_array)\n",
    "        # y. transform altogether\n",
    "        y_array.append(label[\"y_graph_duration\"])\n",
    "\n",
    "    y_array = np.array(y_array, dtype=np.float32)\n",
    "    y_array = y_scaler.transform(y_array)\n",
    "\n",
    "    processed_features = list()\n",
    "    processed_labels = list()\n",
    "    for i, data in enumerate(ds):\n",
    "        feature, label = data\n",
    "        x_adjacency_matrix = np.array(feature[\"x_adjacency_matrix\"], dtype=np.float32)\n",
    "        processed_features.append({\n",
    "            \"x_graph_id\": feature[\"x_graph_id\"],\n",
    "            \"x_feature_matrix\": torch.Tensor(graph_feature_arrays[i]),\n",
    "            \"x_adjacency_matrix\": torch.Tensor(x_adjacency_matrix)\n",
    "        })\n",
    "        # print(f\"x_feature_matrix: {graph_feature_arrays[i].shape}, x_adjacency_matrix: {x_adjacency_matrix.shape}\")\n",
    "        processed_labels.append({\n",
    "            \"y_graph_id\": label[\"y_graph_id\"],\n",
    "            \"y_graph_duration\": torch.Tensor(y_array[i]),\n",
    "        })\n",
    "\n",
    "    ds = MDataset(processed_features, processed_labels)\n",
    "    return ds\n",
    "\n",
    "preprocessed_train_ds = preprocess_dataset(train_ds)\n",
    "preprocessed_eval_ds = preprocess_dataset(eval_ds)\n"
   ]
  },
  {
   "cell_type": "code",
   "execution_count": 21,
   "metadata": {},
   "outputs": [],
   "source": [
    "\n",
    "# save_dataset_pkl(preprocessed_train_ds, conf.dataset_environment, method_prefix, 'train',\n",
    "#                          conf.dataset_normalization)\n",
    "# save_dataset_pkl(preprocessed_eval_ds, conf.dataset_environment, method_prefix, 'eval',\n",
    "#                          conf.dataset_normalization)\n",
    "# save_scalers_pkl(scalers, conf.dataset_environment, method_prefix, 'train',\n",
    "#                          conf.dataset_normalization)"
   ]
  },
  {
   "cell_type": "code",
   "execution_count": 22,
   "metadata": {},
   "outputs": [],
   "source": [
    "# preprocessed_train_ds = load_dataset_pkl(conf.dataset_environment, method_prefix, 'train', \n",
    "#                                          conf.dataset_normalization)\n",
    "# preprocessed_eval_ds = load_dataset_pkl(conf.dataset_environment, method_prefix, 'eval',\n",
    "#                                         conf.dataset_normalization)\n",
    "# scalers = load_scalers_pkl(conf.dataset_environment, method_prefix, 'train',\n",
    "#                            conf.dataset_normalization)\n",
    "# graph_feature_scaler, y_scaler = scalers"
   ]
  },
  {
   "cell_type": "code",
   "execution_count": 23,
   "metadata": {},
   "outputs": [],
   "source": [
    "def compute_evaluate_metrics(input_batches, output_batches, eval_loss) -> Dict[str, float]:\n",
    "    batches_len = len(input_batches)\n",
    "\n",
    "    def compute_graph_duration(_logits):\n",
    "        _, y_scaler = scalers\n",
    "        transformed: np.ndarray = y_scaler.inverse_transform(_logits)\n",
    "        duration_dim = (0, 1)\n",
    "        durations = transformed[:, duration_dim[0]:duration_dim[1]].sum(axis=1)\n",
    "        return durations\n",
    "\n",
    "    graph_id_to_duration_pred = defaultdict(int)\n",
    "    for idx in range(batches_len):\n",
    "        inputs = input_batches[idx]\n",
    "        logits = output_batches[idx]\n",
    "        logits = nested_detach(logits)\n",
    "        logits = logits.cpu().numpy()\n",
    "        graph_ids = inputs[\"x_graph_id\"]\n",
    "        graph_durations = compute_graph_duration(logits)\n",
    "        for i, graph_id in enumerate(graph_ids):\n",
    "            graph_duration = graph_durations[i].item()\n",
    "            graph_id_to_duration_pred[graph_id] = graph_duration\n",
    "    duration_metrics = MetricUtil.compute_duration_metrics(eval_graphs, graph_id_to_duration_pred)\n",
    "    return {\"eval_loss\": eval_loss, **duration_metrics}\n"
   ]
  },
  {
   "cell_type": "code",
   "execution_count": 24,
   "metadata": {},
   "outputs": [],
   "source": [
    "\n",
    "def to_device(conf: Config, features, labels):\n",
    "    features[\"x_feature_matrix\"] = features[\"x_feature_matrix\"].to(conf.device)\n",
    "    features[\"x_adjacency_matrix\"] = features[\"x_adjacency_matrix\"].to(conf.device)\n",
    "    labels[\"y_graph_duration\"] = labels[\"y_graph_duration\"].to(conf.device)\n",
    "    return features, labels"
   ]
  },
  {
   "cell_type": "code",
   "execution_count": 25,
   "metadata": {},
   "outputs": [],
   "source": [
    "\n",
    "class MLPTest_GroupingModel(MModule):\n",
    "\n",
    "    def __init__(self, input_shape, output_dimension, **kwargs):\n",
    "        super().__init__(**kwargs)\n",
    "        self.flatten = torch.nn.Flatten()\n",
    "        self.linear1 = torch.nn.Linear(in_features=input_shape[0] * input_shape[1], out_features=128)\n",
    "        self.output = torch.nn.Linear(128, output_dimension)\n",
    "        self.loss_fn = MSELoss()\n",
    "\n",
    "    def forward(self, X):\n",
    "        X = X[\"x_feature_matrix\"]\n",
    "        X = self.flatten(X)\n",
    "        X = self.linear1(X)\n",
    "        Y = self.output(X)\n",
    "        return Y\n",
    "\n",
    "    def compute_loss(self, outputs, Y):\n",
    "        graph_duration = Y[\"y_graph_duration\"]\n",
    "        loss = self.loss_fn(outputs, graph_duration)\n",
    "        return loss\n",
    "\n",
    "\n",
    "def init_MLPTestGrouping_model() -> MModule | Any:\n",
    "    sample_preprocessed_ds = preprocessed_train_ds\n",
    "    sample_x_dict = sample_preprocessed_ds.features[0]\n",
    "    sample_y_dict = sample_preprocessed_ds.labels[0]\n",
    "    shape = len(sample_x_dict[\"x_feature_matrix\"]), len(sample_x_dict[\"x_feature_matrix\"][0])\n",
    "    return MLPTest_GroupingModel(input_shape=shape,\n",
    "                                    output_dimension=len(sample_y_dict[\"y_graph_duration\"]))\n",
    "\n"
   ]
  },
  {
   "cell_type": "code",
   "execution_count": 26,
   "metadata": {},
   "outputs": [],
   "source": [
    "\n",
    "\n",
    "class GCNGroupingModel(MModule):\n",
    "    def __init__(self, dim_feats, dim_h, y_graph_duration_len, n_layers, dropout):\n",
    "        super(GCNGroupingModel, self).__init__()\n",
    "        self.layers = nn.ModuleList()\n",
    "        # input layer\n",
    "        self.layers.append(GCNLayer(dim_feats, dim_h, F.relu, 0))\n",
    "        # hidden layers\n",
    "        for i in range(n_layers - 1):\n",
    "            self.layers.append(GCNLayer(dim_h, dim_h, F.relu, dropout))\n",
    "        # output layer\n",
    "        self.layers.append(GCNLayer(dim_h, y_graph_duration_len, None, dropout))\n",
    "        self.loss_fn = MSELoss()\n",
    "\n",
    "    def forward(self, X):\n",
    "        adj, features = X[\"x_adjacency_matrix\"], X[\"x_feature_matrix\"]\n",
    "        h = features\n",
    "        for layer in self.layers:\n",
    "            h = layer(adj, h)\n",
    "        graph_duration = torch.sum(h, dim=[1])\n",
    "        return graph_duration\n",
    "\n",
    "    def compute_loss(self, outputs, Y) -> torch.Tensor:\n",
    "        y_graph_duration = Y[\"y_graph_duration\"]\n",
    "        loss = self.loss_fn(outputs, y_graph_duration)\n",
    "        return loss\n",
    "\n",
    "\n",
    "def init_GCNGrouping_model() -> MModule | Any:\n",
    "    def default_model_params() -> Dict[str, Any]:\n",
    "        return {\n",
    "            \"dim_h\": None,\n",
    "            \"n_layers\": 8,\n",
    "            \"dropout\": 0.01\n",
    "        }\n",
    "\n",
    "    sample_preprocessed_ds = preprocessed_train_ds\n",
    "    sample_x_dict = sample_preprocessed_ds.features[0]\n",
    "    sample_y_dict = sample_preprocessed_ds.labels[0]\n",
    "    x_node_feature_size = len(sample_x_dict[\"x_feature_matrix\"][0])\n",
    "    y_graph_duration_len = len(sample_y_dict[\"y_graph_duration\"])\n",
    "    model_params = conf.model_params\n",
    "\n",
    "    final_model_params = default_model_params()\n",
    "    default_dim_h = x_node_feature_size if final_model_params.get(\"dim_h\") is None else final_model_params.get(\n",
    "        \"dim_h\")\n",
    "    final_model_params[\"dim_h\"] = model_params.get(\"dim_h\", default_dim_h)\n",
    "    final_model_params[\"n_layers\"] = model_params.get(\"n_layers\", final_model_params[\"n_layers\"])\n",
    "    final_model_params[\"dropout\"] = model_params.get(\"dropout\", final_model_params[\"dropout\"])\n",
    "    return GCNGroupingModel(\n",
    "        dim_feats=x_node_feature_size,\n",
    "        y_graph_duration_len=y_graph_duration_len,\n",
    "        **final_model_params\n",
    "    )\n"
   ]
  },
  {
   "cell_type": "code",
   "execution_count": 27,
   "metadata": {},
   "outputs": [
    {
     "name": "stdout",
     "output_type": "stream",
     "text": [
      "819 162\n"
     ]
    }
   ],
   "source": [
    "print(len(preprocessed_train_ds), len(preprocessed_eval_ds))"
   ]
  },
  {
   "cell_type": "code",
   "execution_count": 28,
   "metadata": {},
   "outputs": [
    {
     "name": "stdout",
     "output_type": "stream",
     "text": [
      "[2023-12-20 16:35:08,926] {executor.py:148} INFO - ModelType.GCNGrouping start single training.\n",
      "[2023-12-20 16:35:08,927] {executor.py:150} INFO - ModelType.GCNGrouping training epoch 0\n"
     ]
    },
    {
     "name": "stderr",
     "output_type": "stream",
     "text": [
      "  0%|          | 0/26 [00:00<?, ?it/s]"
     ]
    },
    {
     "name": "stdout",
     "output_type": "stream",
     "text": [
      "[2023-12-20 16:35:08,937] {executor.py:111} INFO - ModelType.GCNGrouping trained for 0.010652523 seconds.\n",
      "[2023-12-20 16:35:08,937] {executor.py:112} INFO - ModelType.GCNGrouping eval at step 0.\n",
      "[2023-12-20 16:35:08,950] {executor.py:116} INFO - ModelType.GCNGrouping train loss: 36.173439025878906, eval metrics: {'eval_loss': 20.060420989990234, 'MRE': 16.65131034152191, 'MAE': 7.229375803462569, 'RMSE': 4432.612208497499}\n",
      "[2023-12-20 16:35:08,950] {executor.py:187} INFO - Saving model at step 0 with loss 36.173439025878906,save path: /root/guohao/repos/DLT-perf-model/notebooks/ckpts/T4_CPUALL/GCNGrouping/single_train2023-12-20_16-35-08\n"
     ]
    },
    {
     "name": "stderr",
     "output_type": "stream",
     "text": [
      " 50%|█████     | 13/26 [00:00<00:00, 122.46it/s]"
     ]
    },
    {
     "name": "stdout",
     "output_type": "stream",
     "text": [
      "[2023-12-20 16:35:09,121] {executor.py:111} INFO - ModelType.GCNGrouping trained for 0.195265479 seconds.\n",
      "[2023-12-20 16:35:09,122] {executor.py:112} INFO - ModelType.GCNGrouping eval at step 25.\n",
      "[2023-12-20 16:35:09,135] {executor.py:116} INFO - ModelType.GCNGrouping train loss: 0.94016033411026, eval metrics: {'eval_loss': 0.5807497501373291, 'MRE': 1.745472674375652, 'MAE': 0.8320635957720341, 'RMSE': 776.0048327664032}\n",
      "[2023-12-20 16:35:09,136] {executor.py:187} INFO - Saving model at step 25 with loss 0.94016033411026,save path: /root/guohao/repos/DLT-perf-model/notebooks/ckpts/T4_CPUALL/GCNGrouping/single_train2023-12-20_16-35-08\n"
     ]
    },
    {
     "name": "stderr",
     "output_type": "stream",
     "text": [
      "100%|██████████| 26/26 [00:00<00:00, 122.55it/s]"
     ]
    },
    {
     "name": "stdout",
     "output_type": "stream",
     "text": [
      "[2023-12-20 16:35:09,140] {executor.py:150} INFO - ModelType.GCNGrouping training epoch 1\n"
     ]
    },
    {
     "name": "stderr",
     "output_type": "stream",
     "text": [
      "\n",
      "  0%|          | 0/26 [00:00<?, ?it/s]"
     ]
    },
    {
     "name": "stderr",
     "output_type": "stream",
     "text": [
      " 58%|█████▊    | 15/26 [00:00<00:00, 148.87it/s]"
     ]
    },
    {
     "name": "stdout",
     "output_type": "stream",
     "text": [
      "[2023-12-20 16:35:09,308] {executor.py:111} INFO - ModelType.GCNGrouping trained for 0.381620801 seconds.\n",
      "[2023-12-20 16:35:09,308] {executor.py:112} INFO - ModelType.GCNGrouping eval at step 50.\n",
      "[2023-12-20 16:35:09,320] {executor.py:116} INFO - ModelType.GCNGrouping train loss: 0.1060764491558075, eval metrics: {'eval_loss': 0.5820599465320507, 'MRE': 1.0184929198923107, 'MAE': 0.7430093075238663, 'RMSE': 787.4527402748666}\n",
      "[2023-12-20 16:35:09,321] {executor.py:187} INFO - Saving model at step 50 with loss 0.1060764491558075,save path: /root/guohao/repos/DLT-perf-model/notebooks/ckpts/T4_CPUALL/GCNGrouping/single_train2023-12-20_16-35-08\n"
     ]
    },
    {
     "name": "stderr",
     "output_type": "stream",
     "text": [
      "100%|██████████| 26/26 [00:00<00:00, 137.44it/s]"
     ]
    },
    {
     "name": "stdout",
     "output_type": "stream",
     "text": [
      "[2023-12-20 16:35:09,331] {executor.py:150} INFO - ModelType.GCNGrouping training epoch 2\n"
     ]
    },
    {
     "name": "stderr",
     "output_type": "stream",
     "text": [
      "\n",
      " 62%|██████▏   | 16/26 [00:00<00:00, 155.41it/s]"
     ]
    },
    {
     "name": "stdout",
     "output_type": "stream",
     "text": [
      "[2023-12-20 16:35:09,489] {executor.py:111} INFO - ModelType.GCNGrouping trained for 0.562529912 seconds.\n",
      "[2023-12-20 16:35:09,489] {executor.py:112} INFO - ModelType.GCNGrouping eval at step 75.\n",
      "[2023-12-20 16:35:09,502] {executor.py:116} INFO - ModelType.GCNGrouping train loss: 0.9032046794891357, eval metrics: {'eval_loss': 0.5060804896056652, 'MRE': 1.2475672454298399, 'MAE': 0.7058277596696217, 'RMSE': 730.8418526048926}\n",
      "[2023-12-20 16:35:09,502] {executor.py:187} INFO - Saving model at step 75 with loss 0.9032046794891357,save path: /root/guohao/repos/DLT-perf-model/notebooks/ckpts/T4_CPUALL/GCNGrouping/single_train2023-12-20_16-35-08\n"
     ]
    },
    {
     "name": "stderr",
     "output_type": "stream",
     "text": [
      "100%|██████████| 26/26 [00:00<00:00, 139.59it/s]"
     ]
    },
    {
     "name": "stdout",
     "output_type": "stream",
     "text": [
      "[2023-12-20 16:35:09,520] {executor.py:150} INFO - ModelType.GCNGrouping training epoch 3\n"
     ]
    },
    {
     "name": "stderr",
     "output_type": "stream",
     "text": [
      "\n",
      " 62%|██████▏   | 16/26 [00:00<00:00, 155.75it/s]"
     ]
    },
    {
     "name": "stdout",
     "output_type": "stream",
     "text": [
      "[2023-12-20 16:35:09,670] {executor.py:111} INFO - ModelType.GCNGrouping trained for 0.744390436 seconds.\n",
      "[2023-12-20 16:35:09,671] {executor.py:112} INFO - ModelType.GCNGrouping eval at step 100.\n",
      "[2023-12-20 16:35:09,684] {executor.py:116} INFO - ModelType.GCNGrouping train loss: 2.0135059356689453, eval metrics: {'eval_loss': 0.48510890267789364, 'MRE': 1.1864065457675566, 'MAE': 0.6820369876900667, 'RMSE': 715.7229654497357}\n",
      "[2023-12-20 16:35:09,684] {executor.py:187} INFO - Saving model at step 100 with loss 2.0135059356689453,save path: /root/guohao/repos/DLT-perf-model/notebooks/ckpts/T4_CPUALL/GCNGrouping/single_train2023-12-20_16-35-08\n"
     ]
    },
    {
     "name": "stderr",
     "output_type": "stream",
     "text": [
      "100%|██████████| 26/26 [00:00<00:00, 138.84it/s]"
     ]
    },
    {
     "name": "stdout",
     "output_type": "stream",
     "text": [
      "[2023-12-20 16:35:09,709] {executor.py:150} INFO - ModelType.GCNGrouping training epoch 4\n"
     ]
    },
    {
     "name": "stderr",
     "output_type": "stream",
     "text": [
      "\n",
      " 62%|██████▏   | 16/26 [00:00<00:00, 151.66it/s]"
     ]
    },
    {
     "name": "stdout",
     "output_type": "stream",
     "text": [
      "[2023-12-20 16:35:09,856] {executor.py:111} INFO - ModelType.GCNGrouping trained for 0.929932939 seconds.\n",
      "[2023-12-20 16:35:09,856] {executor.py:112} INFO - ModelType.GCNGrouping eval at step 125.\n",
      "[2023-12-20 16:35:09,869] {executor.py:116} INFO - ModelType.GCNGrouping train loss: 0.6004164218902588, eval metrics: {'eval_loss': 0.4623453089346488, 'MRE': 1.2213679714571073, 'MAE': 0.6769021848406527, 'RMSE': 698.1855246407536}\n",
      "[2023-12-20 16:35:09,870] {executor.py:187} INFO - Saving model at step 125 with loss 0.6004164218902588,save path: /root/guohao/repos/DLT-perf-model/notebooks/ckpts/T4_CPUALL/GCNGrouping/single_train2023-12-20_16-35-08\n"
     ]
    },
    {
     "name": "stderr",
     "output_type": "stream",
     "text": [
      "100%|██████████| 26/26 [00:00<00:00, 137.08it/s]"
     ]
    },
    {
     "name": "stdout",
     "output_type": "stream",
     "text": [
      "[2023-12-20 16:35:09,900] {executor.py:150} INFO - ModelType.GCNGrouping training epoch 5\n"
     ]
    },
    {
     "name": "stderr",
     "output_type": "stream",
     "text": [
      "\n",
      " 62%|██████▏   | 16/26 [00:00<00:00, 150.29it/s]"
     ]
    },
    {
     "name": "stdout",
     "output_type": "stream",
     "text": [
      "[2023-12-20 16:35:10,043] {executor.py:111} INFO - ModelType.GCNGrouping trained for 1.116880916 seconds.\n",
      "[2023-12-20 16:35:10,043] {executor.py:112} INFO - ModelType.GCNGrouping eval at step 150.\n",
      "[2023-12-20 16:35:10,057] {executor.py:116} INFO - ModelType.GCNGrouping train loss: 0.5160123705863953, eval metrics: {'eval_loss': 0.45916339630881947, 'MRE': 1.0969001591154908, 'MAE': 0.6764280726176378, 'RMSE': 697.0819983992495}\n",
      "[2023-12-20 16:35:10,058] {executor.py:187} INFO - Saving model at step 150 with loss 0.5160123705863953,save path: /root/guohao/repos/DLT-perf-model/notebooks/ckpts/T4_CPUALL/GCNGrouping/single_train2023-12-20_16-35-08\n"
     ]
    },
    {
     "name": "stderr",
     "output_type": "stream",
     "text": [
      "100%|██████████| 26/26 [00:00<00:00, 134.31it/s]"
     ]
    },
    {
     "name": "stdout",
     "output_type": "stream",
     "text": [
      "[2023-12-20 16:35:10,096] {executor.py:150} INFO - ModelType.GCNGrouping training epoch 6\n"
     ]
    },
    {
     "name": "stderr",
     "output_type": "stream",
     "text": [
      "\n",
      " 62%|██████▏   | 16/26 [00:00<00:00, 151.51it/s]"
     ]
    },
    {
     "name": "stdout",
     "output_type": "stream",
     "text": [
      "[2023-12-20 16:35:10,230] {executor.py:111} INFO - ModelType.GCNGrouping trained for 1.303965536 seconds.\n",
      "[2023-12-20 16:35:10,230] {executor.py:112} INFO - ModelType.GCNGrouping eval at step 175.\n",
      "[2023-12-20 16:35:10,244] {executor.py:116} INFO - ModelType.GCNGrouping train loss: 0.13581784069538116, eval metrics: {'eval_loss': 0.42342134565114975, 'MRE': 1.129273223143233, 'MAE': 0.6551328361096186, 'RMSE': 669.057645956972}\n",
      "[2023-12-20 16:35:10,244] {executor.py:187} INFO - Saving model at step 175 with loss 0.13581784069538116,save path: /root/guohao/repos/DLT-perf-model/notebooks/ckpts/T4_CPUALL/GCNGrouping/single_train2023-12-20_16-35-08\n"
     ]
    },
    {
     "name": "stderr",
     "output_type": "stream",
     "text": [
      "100%|██████████| 26/26 [00:00<00:00, 137.62it/s]"
     ]
    },
    {
     "name": "stdout",
     "output_type": "stream",
     "text": [
      "[2023-12-20 16:35:10,287] {executor.py:150} INFO - ModelType.GCNGrouping training epoch 7\n"
     ]
    },
    {
     "name": "stderr",
     "output_type": "stream",
     "text": [
      "\n",
      " 65%|██████▌   | 17/26 [00:00<00:00, 166.04it/s]"
     ]
    },
    {
     "name": "stdout",
     "output_type": "stream",
     "text": [
      "[2023-12-20 16:35:10,404] {executor.py:111} INFO - ModelType.GCNGrouping trained for 1.477570282 seconds.\n",
      "[2023-12-20 16:35:10,404] {executor.py:112} INFO - ModelType.GCNGrouping eval at step 200.\n",
      "[2023-12-20 16:35:10,416] {executor.py:116} INFO - ModelType.GCNGrouping train loss: 0.14287839829921722, eval metrics: {'eval_loss': 0.3982883111263315, 'MRE': 1.0413116226120758, 'MAE': 0.6310318942289902, 'RMSE': 650.2874664751748}\n",
      "[2023-12-20 16:35:10,417] {executor.py:187} INFO - Saving model at step 200 with loss 0.14287839829921722,save path: /root/guohao/repos/DLT-perf-model/notebooks/ckpts/T4_CPUALL/GCNGrouping/single_train2023-12-20_16-35-08\n"
     ]
    },
    {
     "name": "stderr",
     "output_type": "stream",
     "text": [
      "100%|██████████| 26/26 [00:00<00:00, 147.49it/s]"
     ]
    },
    {
     "name": "stdout",
     "output_type": "stream",
     "text": [
      "[2023-12-20 16:35:10,465] {executor.py:150} INFO - ModelType.GCNGrouping training epoch 8\n"
     ]
    },
    {
     "name": "stderr",
     "output_type": "stream",
     "text": [
      "\n",
      " 65%|██████▌   | 17/26 [00:00<00:00, 161.37it/s]"
     ]
    },
    {
     "name": "stdout",
     "output_type": "stream",
     "text": [
      "[2023-12-20 16:35:10,579] {executor.py:111} INFO - ModelType.GCNGrouping trained for 1.653015059 seconds.\n",
      "[2023-12-20 16:35:10,579] {executor.py:112} INFO - ModelType.GCNGrouping eval at step 225.\n",
      "[2023-12-20 16:35:10,592] {executor.py:116} INFO - ModelType.GCNGrouping train loss: 0.29101940989494324, eval metrics: {'eval_loss': 0.35802703506002825, 'MRE': 1.071266432858086, 'MAE': 0.602550600885548, 'RMSE': 616.6984223279118}\n",
      "[2023-12-20 16:35:10,593] {executor.py:187} INFO - Saving model at step 225 with loss 0.29101940989494324,save path: /root/guohao/repos/DLT-perf-model/notebooks/ckpts/T4_CPUALL/GCNGrouping/single_train2023-12-20_16-35-08\n"
     ]
    },
    {
     "name": "stderr",
     "output_type": "stream",
     "text": [
      "100%|██████████| 26/26 [00:00<00:00, 145.66it/s]"
     ]
    },
    {
     "name": "stdout",
     "output_type": "stream",
     "text": [
      "[2023-12-20 16:35:10,645] {executor.py:150} INFO - ModelType.GCNGrouping training epoch 9\n"
     ]
    },
    {
     "name": "stderr",
     "output_type": "stream",
     "text": [
      "\n",
      "  0%|          | 0/26 [00:00<?, ?it/s]"
     ]
    },
    {
     "name": "stdout",
     "output_type": "stream",
     "text": [
      "[2023-12-20 16:35:10,752] {executor.py:111} INFO - ModelType.GCNGrouping trained for 1.826239489 seconds.\n",
      "[2023-12-20 16:35:10,753] {executor.py:112} INFO - ModelType.GCNGrouping eval at step 250.\n",
      "[2023-12-20 16:35:10,765] {executor.py:116} INFO - ModelType.GCNGrouping train loss: 0.9871941208839417, eval metrics: {'eval_loss': 0.33914887020364404, 'MRE': 0.8303155457333463, 'MAE': 0.5664637835277299, 'RMSE': 601.6790543725673}\n",
      "[2023-12-20 16:35:10,766] {executor.py:187} INFO - Saving model at step 250 with loss 0.9871941208839417,save path: /root/guohao/repos/DLT-perf-model/notebooks/ckpts/T4_CPUALL/GCNGrouping/single_train2023-12-20_16-35-08\n"
     ]
    },
    {
     "name": "stderr",
     "output_type": "stream",
     "text": [
      "100%|██████████| 26/26 [00:00<00:00, 145.16it/s]"
     ]
    },
    {
     "name": "stdout",
     "output_type": "stream",
     "text": [
      "[2023-12-20 16:35:10,826] {executor.py:150} INFO - ModelType.GCNGrouping training epoch 10\n"
     ]
    },
    {
     "name": "stderr",
     "output_type": "stream",
     "text": [
      "\n",
      "  0%|          | 0/26 [00:00<?, ?it/s]"
     ]
    },
    {
     "name": "stdout",
     "output_type": "stream",
     "text": [
      "[2023-12-20 16:35:10,930] {executor.py:111} INFO - ModelType.GCNGrouping trained for 2.004349593 seconds.\n",
      "[2023-12-20 16:35:10,931] {executor.py:112} INFO - ModelType.GCNGrouping eval at step 275.\n",
      "[2023-12-20 16:35:10,944] {executor.py:116} INFO - ModelType.GCNGrouping train loss: 4.567872047424316, eval metrics: {'eval_loss': 0.3148142055918773, 'MRE': 0.801910919190791, 'MAE': 0.5663314195183001, 'RMSE': 580.0624415292648}\n",
      "[2023-12-20 16:35:10,944] {executor.py:187} INFO - Saving model at step 275 with loss 4.567872047424316,save path: /root/guohao/repos/DLT-perf-model/notebooks/ckpts/T4_CPUALL/GCNGrouping/single_train2023-12-20_16-35-08\n"
     ]
    },
    {
     "name": "stderr",
     "output_type": "stream",
     "text": [
      "100%|██████████| 26/26 [00:00<00:00, 141.01it/s]"
     ]
    },
    {
     "name": "stdout",
     "output_type": "stream",
     "text": [
      "[2023-12-20 16:35:11,013] {executor.py:150} INFO - ModelType.GCNGrouping training epoch 11\n"
     ]
    },
    {
     "name": "stderr",
     "output_type": "stream",
     "text": [
      "\n",
      "  0%|          | 0/26 [00:00<?, ?it/s]"
     ]
    },
    {
     "name": "stdout",
     "output_type": "stream",
     "text": [
      "[2023-12-20 16:35:11,111] {executor.py:111} INFO - ModelType.GCNGrouping trained for 2.184927618 seconds.\n",
      "[2023-12-20 16:35:11,111] {executor.py:112} INFO - ModelType.GCNGrouping eval at step 300.\n",
      "[2023-12-20 16:35:11,124] {executor.py:116} INFO - ModelType.GCNGrouping train loss: 0.42033159732818604, eval metrics: {'eval_loss': 0.28986452364673215, 'MRE': 0.6362065251700563, 'MAE': 0.5393182140250399, 'RMSE': 556.0711023976208}\n",
      "[2023-12-20 16:35:11,125] {executor.py:187} INFO - Saving model at step 300 with loss 0.42033159732818604,save path: /root/guohao/repos/DLT-perf-model/notebooks/ckpts/T4_CPUALL/GCNGrouping/single_train2023-12-20_16-35-08\n"
     ]
    },
    {
     "name": "stderr",
     "output_type": "stream",
     "text": [
      "100%|██████████| 26/26 [00:00<00:00, 139.71it/s]"
     ]
    },
    {
     "name": "stdout",
     "output_type": "stream",
     "text": [
      "[2023-12-20 16:35:11,201] {executor.py:150} INFO - ModelType.GCNGrouping training epoch 12\n"
     ]
    },
    {
     "name": "stderr",
     "output_type": "stream",
     "text": [
      "\n",
      "  0%|          | 0/26 [00:00<?, ?it/s]"
     ]
    },
    {
     "name": "stdout",
     "output_type": "stream",
     "text": [
      "[2023-12-20 16:35:11,292] {executor.py:111} INFO - ModelType.GCNGrouping trained for 2.365954563 seconds.\n",
      "[2023-12-20 16:35:11,293] {executor.py:112} INFO - ModelType.GCNGrouping eval at step 325.\n",
      "[2023-12-20 16:35:11,306] {executor.py:116} INFO - ModelType.GCNGrouping train loss: 1.1673107147216797, eval metrics: {'eval_loss': 0.24917237041518092, 'MRE': 0.6407076464853407, 'MAE': 0.5154108047795071, 'RMSE': 515.9534274681396}\n",
      "[2023-12-20 16:35:11,306] {executor.py:187} INFO - Saving model at step 325 with loss 1.1673107147216797,save path: /root/guohao/repos/DLT-perf-model/notebooks/ckpts/T4_CPUALL/GCNGrouping/single_train2023-12-20_16-35-08\n"
     ]
    },
    {
     "name": "stderr",
     "output_type": "stream",
     "text": [
      "100%|██████████| 26/26 [00:00<00:00, 141.18it/s]"
     ]
    },
    {
     "name": "stdout",
     "output_type": "stream",
     "text": [
      "[2023-12-20 16:35:11,387] {executor.py:150} INFO - ModelType.GCNGrouping training epoch 13\n"
     ]
    },
    {
     "name": "stderr",
     "output_type": "stream",
     "text": [
      "\n",
      "  0%|          | 0/26 [00:00<?, ?it/s]"
     ]
    },
    {
     "name": "stdout",
     "output_type": "stream",
     "text": [
      "[2023-12-20 16:35:11,471] {executor.py:111} INFO - ModelType.GCNGrouping trained for 2.545411796 seconds.\n",
      "[2023-12-20 16:35:11,472] {executor.py:112} INFO - ModelType.GCNGrouping eval at step 350.\n",
      "[2023-12-20 16:35:11,485] {executor.py:116} INFO - ModelType.GCNGrouping train loss: 2.085569143295288, eval metrics: {'eval_loss': 0.2172810313447068, 'MRE': 0.5830186097410676, 'MAE': 0.46521671712225654, 'RMSE': 482.2279238654588}\n",
      "[2023-12-20 16:35:11,485] {executor.py:187} INFO - Saving model at step 350 with loss 2.085569143295288,save path: /root/guohao/repos/DLT-perf-model/notebooks/ckpts/T4_CPUALL/GCNGrouping/single_train2023-12-20_16-35-08\n"
     ]
    },
    {
     "name": "stderr",
     "output_type": "stream",
     "text": [
      "100%|██████████| 26/26 [00:00<00:00, 142.13it/s]"
     ]
    },
    {
     "name": "stdout",
     "output_type": "stream",
     "text": [
      "[2023-12-20 16:35:11,572] {executor.py:150} INFO - ModelType.GCNGrouping training epoch 14\n"
     ]
    },
    {
     "name": "stderr",
     "output_type": "stream",
     "text": [
      "\n",
      "  0%|          | 0/26 [00:00<?, ?it/s]"
     ]
    },
    {
     "name": "stdout",
     "output_type": "stream",
     "text": [
      "[2023-12-20 16:35:11,651] {executor.py:111} INFO - ModelType.GCNGrouping trained for 2.725072358 seconds.\n",
      "[2023-12-20 16:35:11,652] {executor.py:112} INFO - ModelType.GCNGrouping eval at step 375.\n",
      "[2023-12-20 16:35:11,664] {executor.py:116} INFO - ModelType.GCNGrouping train loss: 0.09304000437259674, eval metrics: {'eval_loss': 0.20159325601222614, 'MRE': 0.5665324038521036, 'MAE': 0.4458828113318052, 'RMSE': 464.3975268163304}\n",
      "[2023-12-20 16:35:11,665] {executor.py:187} INFO - Saving model at step 375 with loss 0.09304000437259674,save path: /root/guohao/repos/DLT-perf-model/notebooks/ckpts/T4_CPUALL/GCNGrouping/single_train2023-12-20_16-35-08\n"
     ]
    },
    {
     "name": "stderr",
     "output_type": "stream",
     "text": [
      "100%|██████████| 26/26 [00:00<00:00, 138.28it/s]"
     ]
    },
    {
     "name": "stdout",
     "output_type": "stream",
     "text": [
      "[2023-12-20 16:35:11,762] {executor.py:150} INFO - ModelType.GCNGrouping training epoch 15\n"
     ]
    },
    {
     "name": "stderr",
     "output_type": "stream",
     "text": [
      "\n",
      "  0%|          | 0/26 [00:00<?, ?it/s]"
     ]
    },
    {
     "name": "stdout",
     "output_type": "stream",
     "text": [
      "[2023-12-20 16:35:11,834] {executor.py:111} INFO - ModelType.GCNGrouping trained for 2.907694499 seconds.\n",
      "[2023-12-20 16:35:11,834] {executor.py:112} INFO - ModelType.GCNGrouping eval at step 400.\n",
      "[2023-12-20 16:35:11,847] {executor.py:116} INFO - ModelType.GCNGrouping train loss: 0.21046403050422668, eval metrics: {'eval_loss': 0.20837322855368257, 'MRE': 0.6640205201477116, 'MAE': 0.4938262031951544, 'RMSE': 470.9569951122409}\n",
      "[2023-12-20 16:35:11,847] {executor.py:187} INFO - Saving model at step 400 with loss 0.21046403050422668,save path: /root/guohao/repos/DLT-perf-model/notebooks/ckpts/T4_CPUALL/GCNGrouping/single_train2023-12-20_16-35-08\n"
     ]
    },
    {
     "name": "stderr",
     "output_type": "stream",
     "text": [
      "100%|██████████| 26/26 [00:00<00:00, 142.07it/s]"
     ]
    },
    {
     "name": "stdout",
     "output_type": "stream",
     "text": [
      "[2023-12-20 16:35:11,947] {executor.py:150} INFO - ModelType.GCNGrouping training epoch 16\n"
     ]
    },
    {
     "name": "stderr",
     "output_type": "stream",
     "text": [
      "\n",
      "  0%|          | 0/26 [00:00<?, ?it/s]"
     ]
    },
    {
     "name": "stdout",
     "output_type": "stream",
     "text": [
      "[2023-12-20 16:35:12,010] {executor.py:111} INFO - ModelType.GCNGrouping trained for 3.083868051 seconds.\n",
      "[2023-12-20 16:35:12,010] {executor.py:112} INFO - ModelType.GCNGrouping eval at step 425.\n",
      "[2023-12-20 16:35:12,022] {executor.py:116} INFO - ModelType.GCNGrouping train loss: 0.45259183645248413, eval metrics: {'eval_loss': 0.20639802298198143, 'MRE': 0.7256994144594952, 'MAE': 0.525346504280045, 'RMSE': 468.4778187092989}\n",
      "[2023-12-20 16:35:12,023] {executor.py:187} INFO - Saving model at step 425 with loss 0.45259183645248413,save path: /root/guohao/repos/DLT-perf-model/notebooks/ckpts/T4_CPUALL/GCNGrouping/single_train2023-12-20_16-35-08\n"
     ]
    },
    {
     "name": "stderr",
     "output_type": "stream",
     "text": [
      "100%|██████████| 26/26 [00:00<00:00, 147.48it/s]"
     ]
    },
    {
     "name": "stdout",
     "output_type": "stream",
     "text": [
      "[2023-12-20 16:35:12,125] {executor.py:150} INFO - ModelType.GCNGrouping training epoch 17\n"
     ]
    },
    {
     "name": "stderr",
     "output_type": "stream",
     "text": [
      "\n",
      "  0%|          | 0/26 [00:00<?, ?it/s]"
     ]
    },
    {
     "name": "stdout",
     "output_type": "stream",
     "text": [
      "[2023-12-20 16:35:12,183] {executor.py:111} INFO - ModelType.GCNGrouping trained for 3.256988054 seconds.\n",
      "[2023-12-20 16:35:12,183] {executor.py:112} INFO - ModelType.GCNGrouping eval at step 450.\n",
      "[2023-12-20 16:35:12,196] {executor.py:116} INFO - ModelType.GCNGrouping train loss: 1.2863454818725586, eval metrics: {'eval_loss': 0.2009780239313841, 'MRE': 0.8595217821267681, 'MAE': 0.5255395342276817, 'RMSE': 454.5757853422867}\n",
      "[2023-12-20 16:35:12,196] {executor.py:187} INFO - Saving model at step 450 with loss 1.2863454818725586,save path: /root/guohao/repos/DLT-perf-model/notebooks/ckpts/T4_CPUALL/GCNGrouping/single_train2023-12-20_16-35-08\n"
     ]
    },
    {
     "name": "stderr",
     "output_type": "stream",
     "text": [
      "100%|██████████| 26/26 [00:00<00:00, 142.81it/s]"
     ]
    },
    {
     "name": "stdout",
     "output_type": "stream",
     "text": [
      "[2023-12-20 16:35:12,309] {executor.py:150} INFO - ModelType.GCNGrouping training epoch 18\n"
     ]
    },
    {
     "name": "stderr",
     "output_type": "stream",
     "text": [
      "\n",
      "  0%|          | 0/26 [00:00<?, ?it/s]"
     ]
    },
    {
     "name": "stdout",
     "output_type": "stream",
     "text": [
      "[2023-12-20 16:35:12,362] {executor.py:111} INFO - ModelType.GCNGrouping trained for 3.435604784 seconds.\n",
      "[2023-12-20 16:35:12,362] {executor.py:112} INFO - ModelType.GCNGrouping eval at step 475.\n",
      "[2023-12-20 16:35:12,375] {executor.py:116} INFO - ModelType.GCNGrouping train loss: 0.25326240062713623, eval metrics: {'eval_loss': 0.20671004491547743, 'MRE': 0.8534509947912566, 'MAE': 0.5477689331540155, 'RMSE': 462.94027040745215}\n",
      "[2023-12-20 16:35:12,375] {executor.py:187} INFO - Saving model at step 475 with loss 0.25326240062713623,save path: /root/guohao/repos/DLT-perf-model/notebooks/ckpts/T4_CPUALL/GCNGrouping/single_train2023-12-20_16-35-08\n"
     ]
    },
    {
     "name": "stderr",
     "output_type": "stream",
     "text": [
      "100%|██████████| 26/26 [00:00<00:00, 140.76it/s]"
     ]
    },
    {
     "name": "stdout",
     "output_type": "stream",
     "text": [
      "[2023-12-20 16:35:12,496] {executor.py:150} INFO - ModelType.GCNGrouping training epoch 19\n"
     ]
    },
    {
     "name": "stderr",
     "output_type": "stream",
     "text": [
      "\n",
      "  0%|          | 0/26 [00:00<?, ?it/s]"
     ]
    },
    {
     "name": "stdout",
     "output_type": "stream",
     "text": [
      "[2023-12-20 16:35:12,543] {executor.py:111} INFO - ModelType.GCNGrouping trained for 3.617194764 seconds.\n",
      "[2023-12-20 16:35:12,544] {executor.py:112} INFO - ModelType.GCNGrouping eval at step 500.\n",
      "[2023-12-20 16:35:12,556] {executor.py:116} INFO - ModelType.GCNGrouping train loss: 0.2002457082271576, eval metrics: {'eval_loss': 0.16391533667532107, 'MRE': 0.6630915930224514, 'MAE': 0.4532946429115276, 'RMSE': 418.11139904358527}\n",
      "[2023-12-20 16:35:12,557] {executor.py:187} INFO - Saving model at step 500 with loss 0.2002457082271576,save path: /root/guohao/repos/DLT-perf-model/notebooks/ckpts/T4_CPUALL/GCNGrouping/single_train2023-12-20_16-35-08\n"
     ]
    },
    {
     "name": "stderr",
     "output_type": "stream",
     "text": [
      "100%|██████████| 26/26 [00:00<00:00, 137.95it/s]"
     ]
    },
    {
     "name": "stdout",
     "output_type": "stream",
     "text": [
      "[2023-12-20 16:35:12,686] {executor.py:150} INFO - ModelType.GCNGrouping training epoch 20\n"
     ]
    },
    {
     "name": "stderr",
     "output_type": "stream",
     "text": [
      "\n",
      "  0%|          | 0/26 [00:00<?, ?it/s]"
     ]
    },
    {
     "name": "stdout",
     "output_type": "stream",
     "text": [
      "[2023-12-20 16:35:12,727] {executor.py:111} INFO - ModelType.GCNGrouping trained for 3.801130741 seconds.\n",
      "[2023-12-20 16:35:12,728] {executor.py:112} INFO - ModelType.GCNGrouping eval at step 525.\n",
      "[2023-12-20 16:35:12,740] {executor.py:116} INFO - ModelType.GCNGrouping train loss: 0.9756146669387817, eval metrics: {'eval_loss': 0.14963369412968555, 'MRE': 0.6358276983259147, 'MAE': 0.4248298703947933, 'RMSE': 396.64544445170543}\n",
      "[2023-12-20 16:35:12,741] {executor.py:187} INFO - Saving model at step 525 with loss 0.9756146669387817,save path: /root/guohao/repos/DLT-perf-model/notebooks/ckpts/T4_CPUALL/GCNGrouping/single_train2023-12-20_16-35-08\n"
     ]
    },
    {
     "name": "stderr",
     "output_type": "stream",
     "text": [
      "100%|██████████| 26/26 [00:00<00:00, 139.31it/s]"
     ]
    },
    {
     "name": "stdout",
     "output_type": "stream",
     "text": [
      "[2023-12-20 16:35:12,875] {executor.py:150} INFO - ModelType.GCNGrouping training epoch 21\n"
     ]
    },
    {
     "name": "stderr",
     "output_type": "stream",
     "text": [
      "\n",
      "  0%|          | 0/26 [00:00<?, ?it/s]"
     ]
    },
    {
     "name": "stdout",
     "output_type": "stream",
     "text": [
      "[2023-12-20 16:35:12,909] {executor.py:111} INFO - ModelType.GCNGrouping trained for 3.982965965 seconds.\n",
      "[2023-12-20 16:35:12,909] {executor.py:112} INFO - ModelType.GCNGrouping eval at step 550.\n",
      "[2023-12-20 16:35:12,922] {executor.py:116} INFO - ModelType.GCNGrouping train loss: 0.3457697033882141, eval metrics: {'eval_loss': 0.1488358350470662, 'MRE': 0.6383658016856366, 'MAE': 0.43089915622766284, 'RMSE': 396.26027024450036}\n",
      "[2023-12-20 16:35:12,922] {executor.py:187} INFO - Saving model at step 550 with loss 0.3457697033882141,save path: /root/guohao/repos/DLT-perf-model/notebooks/ckpts/T4_CPUALL/GCNGrouping/single_train2023-12-20_16-35-08\n"
     ]
    },
    {
     "name": "stderr",
     "output_type": "stream",
     "text": [
      "100%|██████████| 26/26 [00:00<00:00, 135.88it/s]"
     ]
    },
    {
     "name": "stdout",
     "output_type": "stream",
     "text": [
      "[2023-12-20 16:35:13,068] {executor.py:150} INFO - ModelType.GCNGrouping training epoch 22\n"
     ]
    },
    {
     "name": "stderr",
     "output_type": "stream",
     "text": [
      "\n",
      "  0%|          | 0/26 [00:00<?, ?it/s]"
     ]
    },
    {
     "name": "stdout",
     "output_type": "stream",
     "text": [
      "[2023-12-20 16:35:13,097] {executor.py:111} INFO - ModelType.GCNGrouping trained for 4.170853842 seconds.\n",
      "[2023-12-20 16:35:13,097] {executor.py:112} INFO - ModelType.GCNGrouping eval at step 575.\n",
      "[2023-12-20 16:35:13,110] {executor.py:116} INFO - ModelType.GCNGrouping train loss: 0.08992324769496918, eval metrics: {'eval_loss': 0.14263005182147026, 'MRE': 0.6545125443619763, 'MAE': 0.4298664715024316, 'RMSE': 387.2004050919557}\n",
      "[2023-12-20 16:35:13,111] {executor.py:187} INFO - Saving model at step 575 with loss 0.08992324769496918,save path: /root/guohao/repos/DLT-perf-model/notebooks/ckpts/T4_CPUALL/GCNGrouping/single_train2023-12-20_16-35-08\n"
     ]
    },
    {
     "name": "stderr",
     "output_type": "stream",
     "text": [
      "100%|██████████| 26/26 [00:00<00:00, 136.96it/s]"
     ]
    },
    {
     "name": "stdout",
     "output_type": "stream",
     "text": [
      "[2023-12-20 16:35:13,260] {executor.py:150} INFO - ModelType.GCNGrouping training epoch 23\n"
     ]
    },
    {
     "name": "stderr",
     "output_type": "stream",
     "text": [
      "\n",
      "  0%|          | 0/26 [00:00<?, ?it/s]"
     ]
    },
    {
     "name": "stdout",
     "output_type": "stream",
     "text": [
      "[2023-12-20 16:35:13,281] {executor.py:111} INFO - ModelType.GCNGrouping trained for 4.35490301 seconds.\n",
      "[2023-12-20 16:35:13,281] {executor.py:112} INFO - ModelType.GCNGrouping eval at step 600.\n",
      "[2023-12-20 16:35:13,294] {executor.py:116} INFO - ModelType.GCNGrouping train loss: 0.07775597274303436, eval metrics: {'eval_loss': 0.13820520540078482, 'MRE': 0.7097873808565021, 'MAE': 0.42978323335436586, 'RMSE': 376.1666762950768}\n",
      "[2023-12-20 16:35:13,295] {executor.py:187} INFO - Saving model at step 600 with loss 0.07775597274303436,save path: /root/guohao/repos/DLT-perf-model/notebooks/ckpts/T4_CPUALL/GCNGrouping/single_train2023-12-20_16-35-08\n"
     ]
    },
    {
     "name": "stderr",
     "output_type": "stream",
     "text": [
      "100%|██████████| 26/26 [00:00<00:00, 143.68it/s]"
     ]
    },
    {
     "name": "stdout",
     "output_type": "stream",
     "text": [
      "[2023-12-20 16:35:13,443] {executor.py:150} INFO - ModelType.GCNGrouping training epoch 24\n"
     ]
    },
    {
     "name": "stderr",
     "output_type": "stream",
     "text": [
      "\n",
      "  0%|          | 0/26 [00:00<?, ?it/s]"
     ]
    },
    {
     "name": "stdout",
     "output_type": "stream",
     "text": [
      "[2023-12-20 16:35:13,458] {executor.py:111} INFO - ModelType.GCNGrouping trained for 4.532299558 seconds.\n",
      "[2023-12-20 16:35:13,459] {executor.py:112} INFO - ModelType.GCNGrouping eval at step 625.\n",
      "[2023-12-20 16:35:13,472] {executor.py:116} INFO - ModelType.GCNGrouping train loss: 0.07537317276000977, eval metrics: {'eval_loss': 0.1379652681450049, 'MRE': 0.7251445105090546, 'MAE': 0.4407278153433798, 'RMSE': 374.9669687924944}\n",
      "[2023-12-20 16:35:13,472] {executor.py:187} INFO - Saving model at step 625 with loss 0.07537317276000977,save path: /root/guohao/repos/DLT-perf-model/notebooks/ckpts/T4_CPUALL/GCNGrouping/single_train2023-12-20_16-35-08\n"
     ]
    },
    {
     "name": "stderr",
     "output_type": "stream",
     "text": [
      "100%|██████████| 26/26 [00:00<00:00, 135.54it/s]"
     ]
    },
    {
     "name": "stdout",
     "output_type": "stream",
     "text": [
      "[2023-12-20 16:35:13,637] {executor.py:150} INFO - ModelType.GCNGrouping training epoch 25\n"
     ]
    },
    {
     "name": "stderr",
     "output_type": "stream",
     "text": [
      "\n",
      "  0%|          | 0/26 [00:00<?, ?it/s]"
     ]
    },
    {
     "name": "stdout",
     "output_type": "stream",
     "text": [
      "[2023-12-20 16:35:13,645] {executor.py:111} INFO - ModelType.GCNGrouping trained for 4.719460569 seconds.\n",
      "[2023-12-20 16:35:13,646] {executor.py:112} INFO - ModelType.GCNGrouping eval at step 650.\n",
      "[2023-12-20 16:35:13,659] {executor.py:116} INFO - ModelType.GCNGrouping train loss: 0.05677599087357521, eval metrics: {'eval_loss': 0.12551829048121968, 'MRE': 0.6602210380366533, 'MAE': 0.39997178164207925, 'RMSE': 365.1467017977399}\n",
      "[2023-12-20 16:35:13,660] {executor.py:187} INFO - Saving model at step 650 with loss 0.05677599087357521,save path: /root/guohao/repos/DLT-perf-model/notebooks/ckpts/T4_CPUALL/GCNGrouping/single_train2023-12-20_16-35-08\n"
     ]
    },
    {
     "name": "stderr",
     "output_type": "stream",
     "text": [
      " 50%|█████     | 13/26 [00:00<00:00, 122.33it/s]"
     ]
    },
    {
     "name": "stdout",
     "output_type": "stream",
     "text": [
      "[2023-12-20 16:35:13,831] {executor.py:111} INFO - ModelType.GCNGrouping trained for 4.905160078 seconds.\n",
      "[2023-12-20 16:35:13,832] {executor.py:112} INFO - ModelType.GCNGrouping eval at step 675.\n",
      "[2023-12-20 16:35:13,845] {executor.py:116} INFO - ModelType.GCNGrouping train loss: 0.05255521461367607, eval metrics: {'eval_loss': 0.1359733616312345, 'MRE': 0.793117145799648, 'MAE': 0.4460895543282002, 'RMSE': 369.5568772696646}\n",
      "[2023-12-20 16:35:13,845] {executor.py:187} INFO - Saving model at step 675 with loss 0.05255521461367607,save path: /root/guohao/repos/DLT-perf-model/notebooks/ckpts/T4_CPUALL/GCNGrouping/single_train2023-12-20_16-35-08\n"
     ]
    },
    {
     "name": "stderr",
     "output_type": "stream",
     "text": [
      "100%|██████████| 26/26 [00:00<00:00, 122.55it/s]"
     ]
    },
    {
     "name": "stdout",
     "output_type": "stream",
     "text": [
      "[2023-12-20 16:35:13,851] {executor.py:150} INFO - ModelType.GCNGrouping training epoch 26\n"
     ]
    },
    {
     "name": "stderr",
     "output_type": "stream",
     "text": [
      "\n",
      " 58%|█████▊    | 15/26 [00:00<00:00, 146.01it/s]"
     ]
    },
    {
     "name": "stdout",
     "output_type": "stream",
     "text": [
      "[2023-12-20 16:35:14,022] {executor.py:111} INFO - ModelType.GCNGrouping trained for 5.096029379 seconds.\n",
      "[2023-12-20 16:35:14,022] {executor.py:112} INFO - ModelType.GCNGrouping eval at step 700.\n",
      "[2023-12-20 16:35:14,035] {executor.py:116} INFO - ModelType.GCNGrouping train loss: 0.06623406708240509, eval metrics: {'eval_loss': 0.12813588480154672, 'MRE': 0.7189072854540655, 'MAE': 0.44193005351106557, 'RMSE': 361.95637716329594}\n",
      "[2023-12-20 16:35:14,036] {executor.py:187} INFO - Saving model at step 700 with loss 0.06623406708240509,save path: /root/guohao/repos/DLT-perf-model/notebooks/ckpts/T4_CPUALL/GCNGrouping/single_train2023-12-20_16-35-08\n"
     ]
    },
    {
     "name": "stderr",
     "output_type": "stream",
     "text": [
      "100%|██████████| 26/26 [00:00<00:00, 133.27it/s]"
     ]
    },
    {
     "name": "stdout",
     "output_type": "stream",
     "text": [
      "[2023-12-20 16:35:14,048] {executor.py:150} INFO - ModelType.GCNGrouping training epoch 27\n"
     ]
    },
    {
     "name": "stderr",
     "output_type": "stream",
     "text": [
      "\n",
      " 58%|█████▊    | 15/26 [00:00<00:00, 149.72it/s]"
     ]
    },
    {
     "name": "stdout",
     "output_type": "stream",
     "text": [
      "[2023-12-20 16:35:14,212] {executor.py:111} INFO - ModelType.GCNGrouping trained for 5.285972284 seconds.\n",
      "[2023-12-20 16:35:14,212] {executor.py:112} INFO - ModelType.GCNGrouping eval at step 725.\n",
      "[2023-12-20 16:35:14,226] {executor.py:116} INFO - ModelType.GCNGrouping train loss: 0.04963309317827225, eval metrics: {'eval_loss': 0.12661124455432096, 'MRE': 0.7555777173078938, 'MAE': 0.44670755519936967, 'RMSE': 357.92644271208184}\n",
      "[2023-12-20 16:35:14,226] {executor.py:187} INFO - Saving model at step 725 with loss 0.04963309317827225,save path: /root/guohao/repos/DLT-perf-model/notebooks/ckpts/T4_CPUALL/GCNGrouping/single_train2023-12-20_16-35-08\n"
     ]
    },
    {
     "name": "stderr",
     "output_type": "stream",
     "text": [
      "100%|██████████| 26/26 [00:00<00:00, 133.06it/s]"
     ]
    },
    {
     "name": "stdout",
     "output_type": "stream",
     "text": [
      "[2023-12-20 16:35:14,245] {executor.py:150} INFO - ModelType.GCNGrouping training epoch 28\n"
     ]
    },
    {
     "name": "stderr",
     "output_type": "stream",
     "text": [
      "\n",
      " 62%|██████▏   | 16/26 [00:00<00:00, 155.22it/s]"
     ]
    },
    {
     "name": "stdout",
     "output_type": "stream",
     "text": [
      "[2023-12-20 16:35:14,394] {executor.py:111} INFO - ModelType.GCNGrouping trained for 5.467859089 seconds.\n",
      "[2023-12-20 16:35:14,394] {executor.py:112} INFO - ModelType.GCNGrouping eval at step 750.\n",
      "[2023-12-20 16:35:14,407] {executor.py:116} INFO - ModelType.GCNGrouping train loss: 0.1217925176024437, eval metrics: {'eval_loss': 0.12733219439784685, 'MRE': 0.7843783391475021, 'MAE': 0.4489274252769727, 'RMSE': 357.22241871496385}\n",
      "[2023-12-20 16:35:14,408] {executor.py:187} INFO - Saving model at step 750 with loss 0.1217925176024437,save path: /root/guohao/repos/DLT-perf-model/notebooks/ckpts/T4_CPUALL/GCNGrouping/single_train2023-12-20_16-35-08\n"
     ]
    },
    {
     "name": "stderr",
     "output_type": "stream",
     "text": [
      "100%|██████████| 26/26 [00:00<00:00, 141.31it/s]"
     ]
    },
    {
     "name": "stdout",
     "output_type": "stream",
     "text": [
      "[2023-12-20 16:35:14,431] {executor.py:150} INFO - ModelType.GCNGrouping training epoch 29\n"
     ]
    },
    {
     "name": "stderr",
     "output_type": "stream",
     "text": [
      "\n",
      " 62%|██████▏   | 16/26 [00:00<00:00, 157.43it/s]"
     ]
    },
    {
     "name": "stdout",
     "output_type": "stream",
     "text": [
      "[2023-12-20 16:35:14,572] {executor.py:111} INFO - ModelType.GCNGrouping trained for 5.645970967 seconds.\n",
      "[2023-12-20 16:35:14,572] {executor.py:112} INFO - ModelType.GCNGrouping eval at step 775.\n",
      "[2023-12-20 16:35:14,585] {executor.py:116} INFO - ModelType.GCNGrouping train loss: 0.47978925704956055, eval metrics: {'eval_loss': 0.13562017306685448, 'MRE': 0.7743568327456264, 'MAE': 0.4818055902716794, 'RMSE': 370.92926970758407}\n",
      "[2023-12-20 16:35:14,586] {executor.py:187} INFO - Saving model at step 775 with loss 0.47978925704956055,save path: /root/guohao/repos/DLT-perf-model/notebooks/ckpts/T4_CPUALL/GCNGrouping/single_train2023-12-20_16-35-08\n"
     ]
    },
    {
     "name": "stderr",
     "output_type": "stream",
     "text": [
      "100%|██████████| 26/26 [00:00<00:00, 140.95it/s]"
     ]
    },
    {
     "name": "stdout",
     "output_type": "stream",
     "text": [
      "[2023-12-20 16:35:14,617] {executor.py:150} INFO - ModelType.GCNGrouping training epoch 30\n"
     ]
    },
    {
     "name": "stderr",
     "output_type": "stream",
     "text": [
      "\n",
      " 65%|██████▌   | 17/26 [00:00<00:00, 166.26it/s]"
     ]
    },
    {
     "name": "stdout",
     "output_type": "stream",
     "text": [
      "[2023-12-20 16:35:14,747] {executor.py:111} INFO - ModelType.GCNGrouping trained for 5.820671346 seconds.\n",
      "[2023-12-20 16:35:14,747] {executor.py:112} INFO - ModelType.GCNGrouping eval at step 800.\n",
      "[2023-12-20 16:35:14,759] {executor.py:116} INFO - ModelType.GCNGrouping train loss: 0.1322072446346283, eval metrics: {'eval_loss': 0.09639630590875943, 'MRE': 0.5871831226337989, 'MAE': 0.36411872819985974, 'RMSE': 317.23509453918587}\n",
      "[2023-12-20 16:35:14,760] {executor.py:187} INFO - Saving model at step 800 with loss 0.1322072446346283,save path: /root/guohao/repos/DLT-perf-model/notebooks/ckpts/T4_CPUALL/GCNGrouping/single_train2023-12-20_16-35-08\n"
     ]
    },
    {
     "name": "stderr",
     "output_type": "stream",
     "text": [
      "100%|██████████| 26/26 [00:00<00:00, 146.85it/s]"
     ]
    },
    {
     "name": "stdout",
     "output_type": "stream",
     "text": [
      "[2023-12-20 16:35:14,796] {executor.py:150} INFO - ModelType.GCNGrouping training epoch 31\n"
     ]
    },
    {
     "name": "stderr",
     "output_type": "stream",
     "text": [
      "\n",
      " 65%|██████▌   | 17/26 [00:00<00:00, 166.12it/s]"
     ]
    },
    {
     "name": "stdout",
     "output_type": "stream",
     "text": [
      "[2023-12-20 16:35:14,919] {executor.py:111} INFO - ModelType.GCNGrouping trained for 5.993441713 seconds.\n",
      "[2023-12-20 16:35:14,920] {executor.py:112} INFO - ModelType.GCNGrouping eval at step 825.\n",
      "[2023-12-20 16:35:14,932] {executor.py:116} INFO - ModelType.GCNGrouping train loss: 0.15347929298877716, eval metrics: {'eval_loss': 0.09466767435272534, 'MRE': 0.6324067529265877, 'MAE': 0.36387304182815394, 'RMSE': 310.1806368557284}\n",
      "[2023-12-20 16:35:14,933] {executor.py:187} INFO - Saving model at step 825 with loss 0.15347929298877716,save path: /root/guohao/repos/DLT-perf-model/notebooks/ckpts/T4_CPUALL/GCNGrouping/single_train2023-12-20_16-35-08\n"
     ]
    },
    {
     "name": "stderr",
     "output_type": "stream",
     "text": [
      "100%|██████████| 26/26 [00:00<00:00, 134.38it/s]"
     ]
    },
    {
     "name": "stdout",
     "output_type": "stream",
     "text": [
      "[2023-12-20 16:35:14,992] {executor.py:150} INFO - ModelType.GCNGrouping training epoch 32\n"
     ]
    },
    {
     "name": "stderr",
     "output_type": "stream",
     "text": [
      "\n",
      " 62%|██████▏   | 16/26 [00:00<00:00, 153.97it/s]"
     ]
    },
    {
     "name": "stdout",
     "output_type": "stream",
     "text": [
      "[2023-12-20 16:35:15,117] {executor.py:111} INFO - ModelType.GCNGrouping trained for 6.19121959 seconds.\n",
      "[2023-12-20 16:35:15,118] {executor.py:112} INFO - ModelType.GCNGrouping eval at step 850.\n",
      "[2023-12-20 16:35:15,131] {executor.py:116} INFO - ModelType.GCNGrouping train loss: 0.07989124208688736, eval metrics: {'eval_loss': 0.1078673532853524, 'MRE': 0.69407503747233, 'MAE': 0.4067298890331897, 'RMSE': 330.7402673993338}\n",
      "[2023-12-20 16:35:15,131] {executor.py:187} INFO - Saving model at step 850 with loss 0.07989124208688736,save path: /root/guohao/repos/DLT-perf-model/notebooks/ckpts/T4_CPUALL/GCNGrouping/single_train2023-12-20_16-35-08\n"
     ]
    },
    {
     "name": "stderr",
     "output_type": "stream",
     "text": [
      "100%|██████████| 26/26 [00:00<00:00, 136.81it/s]"
     ]
    },
    {
     "name": "stdout",
     "output_type": "stream",
     "text": [
      "[2023-12-20 16:35:15,184] {executor.py:150} INFO - ModelType.GCNGrouping training epoch 33\n"
     ]
    },
    {
     "name": "stderr",
     "output_type": "stream",
     "text": [
      "\n",
      " 62%|██████▏   | 16/26 [00:00<00:00, 152.20it/s]"
     ]
    },
    {
     "name": "stdout",
     "output_type": "stream",
     "text": [
      "[2023-12-20 16:35:15,304] {executor.py:111} INFO - ModelType.GCNGrouping trained for 6.378130305 seconds.\n",
      "[2023-12-20 16:35:15,305] {executor.py:112} INFO - ModelType.GCNGrouping eval at step 875.\n",
      "[2023-12-20 16:35:15,317] {executor.py:116} INFO - ModelType.GCNGrouping train loss: 0.44462665915489197, eval metrics: {'eval_loss': 0.0973172855253021, 'MRE': 0.6809967295652711, 'MAE': 0.4039089500616632, 'RMSE': 316.12608240082454}\n",
      "[2023-12-20 16:35:15,318] {executor.py:187} INFO - Saving model at step 875 with loss 0.44462665915489197,save path: /root/guohao/repos/DLT-perf-model/notebooks/ckpts/T4_CPUALL/GCNGrouping/single_train2023-12-20_16-35-08\n"
     ]
    },
    {
     "name": "stderr",
     "output_type": "stream",
     "text": [
      "100%|██████████| 26/26 [00:00<00:00, 136.68it/s]"
     ]
    },
    {
     "name": "stdout",
     "output_type": "stream",
     "text": [
      "[2023-12-20 16:35:15,376] {executor.py:150} INFO - ModelType.GCNGrouping training epoch 34\n"
     ]
    },
    {
     "name": "stderr",
     "output_type": "stream",
     "text": [
      "\n",
      " 62%|██████▏   | 16/26 [00:00<00:00, 159.42it/s]"
     ]
    },
    {
     "name": "stdout",
     "output_type": "stream",
     "text": [
      "[2023-12-20 16:35:15,485] {executor.py:111} INFO - ModelType.GCNGrouping trained for 6.559186307 seconds.\n",
      "[2023-12-20 16:35:15,486] {executor.py:112} INFO - ModelType.GCNGrouping eval at step 900.\n",
      "[2023-12-20 16:35:15,499] {executor.py:116} INFO - ModelType.GCNGrouping train loss: 0.24469175934791565, eval metrics: {'eval_loss': 0.08913795712093513, 'MRE': 0.6239114101272759, 'MAE': 0.36792566769745194, 'RMSE': 304.1488765715238}\n",
      "[2023-12-20 16:35:15,499] {executor.py:187} INFO - Saving model at step 900 with loss 0.24469175934791565,save path: /root/guohao/repos/DLT-perf-model/notebooks/ckpts/T4_CPUALL/GCNGrouping/single_train2023-12-20_16-35-08\n"
     ]
    },
    {
     "name": "stderr",
     "output_type": "stream",
     "text": [
      "100%|██████████| 26/26 [00:00<00:00, 140.39it/s]"
     ]
    },
    {
     "name": "stdout",
     "output_type": "stream",
     "text": [
      "[2023-12-20 16:35:15,563] {executor.py:150} INFO - ModelType.GCNGrouping training epoch 35\n"
     ]
    },
    {
     "name": "stderr",
     "output_type": "stream",
     "text": [
      "\n",
      "  0%|          | 0/26 [00:00<?, ?it/s]"
     ]
    },
    {
     "name": "stdout",
     "output_type": "stream",
     "text": [
      "[2023-12-20 16:35:15,666] {executor.py:111} INFO - ModelType.GCNGrouping trained for 6.740082521 seconds.\n",
      "[2023-12-20 16:35:15,667] {executor.py:112} INFO - ModelType.GCNGrouping eval at step 925.\n",
      "[2023-12-20 16:35:15,680] {executor.py:116} INFO - ModelType.GCNGrouping train loss: 0.10915333032608032, eval metrics: {'eval_loss': 0.11342339093486468, 'MRE': 0.8396380338169224, 'MAE': 0.46374382622506494, 'RMSE': 336.8276639195305}\n",
      "[2023-12-20 16:35:15,680] {executor.py:187} INFO - Saving model at step 925 with loss 0.10915333032608032,save path: /root/guohao/repos/DLT-perf-model/notebooks/ckpts/T4_CPUALL/GCNGrouping/single_train2023-12-20_16-35-08\n"
     ]
    },
    {
     "name": "stderr",
     "output_type": "stream",
     "text": [
      "100%|██████████| 26/26 [00:00<00:00, 141.19it/s]"
     ]
    },
    {
     "name": "stdout",
     "output_type": "stream",
     "text": [
      "[2023-12-20 16:35:15,749] {executor.py:150} INFO - ModelType.GCNGrouping training epoch 36\n"
     ]
    },
    {
     "name": "stderr",
     "output_type": "stream",
     "text": [
      "\n",
      "  0%|          | 0/26 [00:00<?, ?it/s]"
     ]
    },
    {
     "name": "stdout",
     "output_type": "stream",
     "text": [
      "[2023-12-20 16:35:15,845] {executor.py:111} INFO - ModelType.GCNGrouping trained for 6.918992336 seconds.\n",
      "[2023-12-20 16:35:15,845] {executor.py:112} INFO - ModelType.GCNGrouping eval at step 950.\n",
      "[2023-12-20 16:35:15,858] {executor.py:116} INFO - ModelType.GCNGrouping train loss: 0.09586483985185623, eval metrics: {'eval_loss': 0.1161991556485494, 'MRE': 0.8317665660806823, 'MAE': 0.47373917208363364, 'RMSE': 340.8856018717753}\n",
      "[2023-12-20 16:35:15,858] {executor.py:187} INFO - Saving model at step 950 with loss 0.09586483985185623,save path: /root/guohao/repos/DLT-perf-model/notebooks/ckpts/T4_CPUALL/GCNGrouping/single_train2023-12-20_16-35-08\n"
     ]
    },
    {
     "name": "stderr",
     "output_type": "stream",
     "text": [
      "100%|██████████| 26/26 [00:00<00:00, 141.35it/s]"
     ]
    },
    {
     "name": "stdout",
     "output_type": "stream",
     "text": [
      "[2023-12-20 16:35:15,935] {executor.py:150} INFO - ModelType.GCNGrouping training epoch 37\n"
     ]
    },
    {
     "name": "stderr",
     "output_type": "stream",
     "text": [
      "\n",
      "  0%|          | 0/26 [00:00<?, ?it/s]"
     ]
    },
    {
     "name": "stdout",
     "output_type": "stream",
     "text": [
      "[2023-12-20 16:35:16,024] {executor.py:111} INFO - ModelType.GCNGrouping trained for 7.098455694 seconds.\n",
      "[2023-12-20 16:35:16,025] {executor.py:112} INFO - ModelType.GCNGrouping eval at step 975.\n",
      "[2023-12-20 16:35:16,037] {executor.py:116} INFO - ModelType.GCNGrouping train loss: 0.07478731125593185, eval metrics: {'eval_loss': 0.13276907553275427, 'MRE': 1.0042408466283692, 'MAE': 0.5262743600372498, 'RMSE': 363.7767223148136}\n",
      "[2023-12-20 16:35:16,038] {executor.py:187} INFO - Saving model at step 975 with loss 0.07478731125593185,save path: /root/guohao/repos/DLT-perf-model/notebooks/ckpts/T4_CPUALL/GCNGrouping/single_train2023-12-20_16-35-08\n"
     ]
    },
    {
     "name": "stderr",
     "output_type": "stream",
     "text": [
      "100%|██████████| 26/26 [00:00<00:00, 141.77it/s]"
     ]
    },
    {
     "name": "stdout",
     "output_type": "stream",
     "text": [
      "[2023-12-20 16:35:16,121] {executor.py:150} INFO - ModelType.GCNGrouping training epoch 38\n"
     ]
    },
    {
     "name": "stderr",
     "output_type": "stream",
     "text": [
      "\n",
      "  0%|          | 0/26 [00:00<?, ?it/s]"
     ]
    },
    {
     "name": "stdout",
     "output_type": "stream",
     "text": [
      "[2023-12-20 16:35:16,203] {executor.py:111} INFO - ModelType.GCNGrouping trained for 7.277502127 seconds.\n",
      "[2023-12-20 16:35:16,204] {executor.py:112} INFO - ModelType.GCNGrouping eval at step 1000.\n",
      "[2023-12-20 16:35:16,217] {executor.py:116} INFO - ModelType.GCNGrouping train loss: 0.576651394367218, eval metrics: {'eval_loss': 0.10657740384340286, 'MRE': 0.7869791674722997, 'MAE': 0.43807268179731357, 'RMSE': 327.236108814173}\n",
      "[2023-12-20 16:35:16,217] {executor.py:187} INFO - Saving model at step 1000 with loss 0.576651394367218,save path: /root/guohao/repos/DLT-perf-model/notebooks/ckpts/T4_CPUALL/GCNGrouping/single_train2023-12-20_16-35-08\n"
     ]
    },
    {
     "name": "stderr",
     "output_type": "stream",
     "text": [
      "100%|██████████| 26/26 [00:00<00:00, 139.02it/s]"
     ]
    },
    {
     "name": "stdout",
     "output_type": "stream",
     "text": [
      "[2023-12-20 16:35:16,310] {executor.py:150} INFO - ModelType.GCNGrouping training epoch 39\n"
     ]
    },
    {
     "name": "stderr",
     "output_type": "stream",
     "text": [
      "\n",
      "  0%|          | 0/26 [00:00<?, ?it/s]"
     ]
    },
    {
     "name": "stdout",
     "output_type": "stream",
     "text": [
      "[2023-12-20 16:35:16,389] {executor.py:111} INFO - ModelType.GCNGrouping trained for 7.463128896 seconds.\n",
      "[2023-12-20 16:35:16,390] {executor.py:112} INFO - ModelType.GCNGrouping eval at step 1025.\n",
      "[2023-12-20 16:35:16,403] {executor.py:116} INFO - ModelType.GCNGrouping train loss: 0.18966639041900635, eval metrics: {'eval_loss': 0.10219052682320277, 'MRE': 0.7669869219726007, 'MAE': 0.4439343881663469, 'RMSE': 322.84164545941167}\n",
      "[2023-12-20 16:35:16,403] {executor.py:187} INFO - Saving model at step 1025 with loss 0.18966639041900635,save path: /root/guohao/repos/DLT-perf-model/notebooks/ckpts/T4_CPUALL/GCNGrouping/single_train2023-12-20_16-35-08\n"
     ]
    },
    {
     "name": "stderr",
     "output_type": "stream",
     "text": [
      "100%|██████████| 26/26 [00:00<00:00, 135.91it/s]"
     ]
    },
    {
     "name": "stdout",
     "output_type": "stream",
     "text": [
      "[2023-12-20 16:35:16,503] {executor.py:150} INFO - ModelType.GCNGrouping training epoch 40\n"
     ]
    },
    {
     "name": "stderr",
     "output_type": "stream",
     "text": [
      "\n",
      "  0%|          | 0/26 [00:00<?, ?it/s]"
     ]
    },
    {
     "name": "stdout",
     "output_type": "stream",
     "text": [
      "[2023-12-20 16:35:16,580] {executor.py:111} INFO - ModelType.GCNGrouping trained for 7.654306715 seconds.\n",
      "[2023-12-20 16:35:16,581] {executor.py:112} INFO - ModelType.GCNGrouping eval at step 1050.\n",
      "[2023-12-20 16:35:16,594] {executor.py:116} INFO - ModelType.GCNGrouping train loss: 0.13684801757335663, eval metrics: {'eval_loss': 0.10402332743008931, 'MRE': 0.7664712735681092, 'MAE': 0.44711521608550586, 'RMSE': 326.78356298536175}\n",
      "[2023-12-20 16:35:16,594] {executor.py:187} INFO - Saving model at step 1050 with loss 0.13684801757335663,save path: /root/guohao/repos/DLT-perf-model/notebooks/ckpts/T4_CPUALL/GCNGrouping/single_train2023-12-20_16-35-08\n"
     ]
    },
    {
     "name": "stderr",
     "output_type": "stream",
     "text": [
      "100%|██████████| 26/26 [00:00<00:00, 132.89it/s]"
     ]
    },
    {
     "name": "stdout",
     "output_type": "stream",
     "text": [
      "[2023-12-20 16:35:16,701] {executor.py:150} INFO - ModelType.GCNGrouping training epoch 41\n"
     ]
    },
    {
     "name": "stderr",
     "output_type": "stream",
     "text": [
      "\n",
      "  0%|          | 0/26 [00:00<?, ?it/s]"
     ]
    },
    {
     "name": "stdout",
     "output_type": "stream",
     "text": [
      "[2023-12-20 16:35:16,768] {executor.py:111} INFO - ModelType.GCNGrouping trained for 7.84202549 seconds.\n",
      "[2023-12-20 16:35:16,769] {executor.py:112} INFO - ModelType.GCNGrouping eval at step 1075.\n",
      "[2023-12-20 16:35:16,781] {executor.py:116} INFO - ModelType.GCNGrouping train loss: 0.13639715313911438, eval metrics: {'eval_loss': 0.07399877129743497, 'MRE': 0.6703524738974328, 'MAE': 0.3621381736885559, 'RMSE': 275.8025845256856}\n",
      "[2023-12-20 16:35:16,781] {executor.py:187} INFO - Saving model at step 1075 with loss 0.13639715313911438,save path: /root/guohao/repos/DLT-perf-model/notebooks/ckpts/T4_CPUALL/GCNGrouping/single_train2023-12-20_16-35-08\n"
     ]
    },
    {
     "name": "stderr",
     "output_type": "stream",
     "text": [
      "100%|██████████| 26/26 [00:00<00:00, 144.06it/s]"
     ]
    },
    {
     "name": "stdout",
     "output_type": "stream",
     "text": [
      "[2023-12-20 16:35:16,883] {executor.py:150} INFO - ModelType.GCNGrouping training epoch 42\n"
     ]
    },
    {
     "name": "stderr",
     "output_type": "stream",
     "text": [
      "\n",
      "  0%|          | 0/26 [00:00<?, ?it/s]"
     ]
    },
    {
     "name": "stdout",
     "output_type": "stream",
     "text": [
      "[2023-12-20 16:35:16,940] {executor.py:111} INFO - ModelType.GCNGrouping trained for 8.013990031 seconds.\n",
      "[2023-12-20 16:35:16,940] {executor.py:112} INFO - ModelType.GCNGrouping eval at step 1100.\n",
      "[2023-12-20 16:35:16,952] {executor.py:116} INFO - ModelType.GCNGrouping train loss: 0.08510762453079224, eval metrics: {'eval_loss': 0.13959136605262756, 'MRE': 1.1183511218695186, 'MAE': 0.5608486352512125, 'RMSE': 375.5205912854941}\n",
      "[2023-12-20 16:35:16,953] {executor.py:187} INFO - Saving model at step 1100 with loss 0.08510762453079224,save path: /root/guohao/repos/DLT-perf-model/notebooks/ckpts/T4_CPUALL/GCNGrouping/single_train2023-12-20_16-35-08\n"
     ]
    },
    {
     "name": "stderr",
     "output_type": "stream",
     "text": [
      "100%|██████████| 26/26 [00:00<00:00, 139.73it/s]"
     ]
    },
    {
     "name": "stdout",
     "output_type": "stream",
     "text": [
      "[2023-12-20 16:35:17,071] {executor.py:150} INFO - ModelType.GCNGrouping training epoch 43\n"
     ]
    },
    {
     "name": "stderr",
     "output_type": "stream",
     "text": [
      "\n",
      "  0%|          | 0/26 [00:00<?, ?it/s]"
     ]
    },
    {
     "name": "stdout",
     "output_type": "stream",
     "text": [
      "[2023-12-20 16:35:17,125] {executor.py:111} INFO - ModelType.GCNGrouping trained for 8.198552658 seconds.\n",
      "[2023-12-20 16:35:17,125] {executor.py:112} INFO - ModelType.GCNGrouping eval at step 1125.\n",
      "[2023-12-20 16:35:17,138] {executor.py:116} INFO - ModelType.GCNGrouping train loss: 0.07470820844173431, eval metrics: {'eval_loss': 0.10086096823215485, 'MRE': 0.8082286249766222, 'MAE': 0.44821929363827084, 'RMSE': 319.9372449717073}\n",
      "[2023-12-20 16:35:17,138] {executor.py:187} INFO - Saving model at step 1125 with loss 0.07470820844173431,save path: /root/guohao/repos/DLT-perf-model/notebooks/ckpts/T4_CPUALL/GCNGrouping/single_train2023-12-20_16-35-08\n"
     ]
    },
    {
     "name": "stderr",
     "output_type": "stream",
     "text": [
      "100%|██████████| 26/26 [00:00<00:00, 138.50it/s]"
     ]
    },
    {
     "name": "stdout",
     "output_type": "stream",
     "text": [
      "[2023-12-20 16:35:17,261] {executor.py:150} INFO - ModelType.GCNGrouping training epoch 44\n"
     ]
    },
    {
     "name": "stderr",
     "output_type": "stream",
     "text": [
      "\n",
      "  0%|          | 0/26 [00:00<?, ?it/s]"
     ]
    },
    {
     "name": "stdout",
     "output_type": "stream",
     "text": [
      "[2023-12-20 16:35:17,308] {executor.py:111} INFO - ModelType.GCNGrouping trained for 8.382057254 seconds.\n",
      "[2023-12-20 16:35:17,309] {executor.py:112} INFO - ModelType.GCNGrouping eval at step 1150.\n",
      "[2023-12-20 16:35:17,321] {executor.py:116} INFO - ModelType.GCNGrouping train loss: 0.8857770562171936, eval metrics: {'eval_loss': 0.07408142167453964, 'MRE': 0.6350418791162515, 'MAE': 0.3737809178238944, 'RMSE': 277.9534392433496}\n",
      "[2023-12-20 16:35:17,322] {executor.py:187} INFO - Saving model at step 1150 with loss 0.8857770562171936,save path: /root/guohao/repos/DLT-perf-model/notebooks/ckpts/T4_CPUALL/GCNGrouping/single_train2023-12-20_16-35-08\n"
     ]
    },
    {
     "name": "stderr",
     "output_type": "stream",
     "text": [
      "100%|██████████| 26/26 [00:00<00:00, 140.80it/s]"
     ]
    },
    {
     "name": "stdout",
     "output_type": "stream",
     "text": [
      "[2023-12-20 16:35:17,448] {executor.py:150} INFO - ModelType.GCNGrouping training epoch 45\n"
     ]
    },
    {
     "name": "stderr",
     "output_type": "stream",
     "text": [
      "\n",
      "  0%|          | 0/26 [00:00<?, ?it/s]"
     ]
    },
    {
     "name": "stdout",
     "output_type": "stream",
     "text": [
      "[2023-12-20 16:35:17,493] {executor.py:111} INFO - ModelType.GCNGrouping trained for 8.56692246 seconds.\n",
      "[2023-12-20 16:35:17,493] {executor.py:112} INFO - ModelType.GCNGrouping eval at step 1175.\n",
      "[2023-12-20 16:35:17,506] {executor.py:116} INFO - ModelType.GCNGrouping train loss: 0.03501826524734497, eval metrics: {'eval_loss': 0.065314252084742, 'MRE': 0.605162656813614, 'MAE': 0.3385327024171254, 'RMSE': 260.69449574749206}\n",
      "[2023-12-20 16:35:17,507] {executor.py:187} INFO - Saving model at step 1175 with loss 0.03501826524734497,save path: /root/guohao/repos/DLT-perf-model/notebooks/ckpts/T4_CPUALL/GCNGrouping/single_train2023-12-20_16-35-08\n"
     ]
    },
    {
     "name": "stderr",
     "output_type": "stream",
     "text": [
      "100%|██████████| 26/26 [00:00<00:00, 134.66it/s]"
     ]
    },
    {
     "name": "stdout",
     "output_type": "stream",
     "text": [
      "[2023-12-20 16:35:17,643] {executor.py:150} INFO - ModelType.GCNGrouping training epoch 46\n"
     ]
    },
    {
     "name": "stderr",
     "output_type": "stream",
     "text": [
      "\n",
      "  0%|          | 0/26 [00:00<?, ?it/s]"
     ]
    },
    {
     "name": "stdout",
     "output_type": "stream",
     "text": [
      "[2023-12-20 16:35:17,678] {executor.py:111} INFO - ModelType.GCNGrouping trained for 8.752246727 seconds.\n",
      "[2023-12-20 16:35:17,679] {executor.py:112} INFO - ModelType.GCNGrouping eval at step 1200.\n",
      "[2023-12-20 16:35:17,691] {executor.py:116} INFO - ModelType.GCNGrouping train loss: 0.3251081109046936, eval metrics: {'eval_loss': 0.09101715125143528, 'MRE': 0.8494165597604734, 'MAE': 0.4412832342476471, 'RMSE': 304.65256457093955}\n",
      "[2023-12-20 16:35:17,692] {executor.py:187} INFO - Saving model at step 1200 with loss 0.3251081109046936,save path: /root/guohao/repos/DLT-perf-model/notebooks/ckpts/T4_CPUALL/GCNGrouping/single_train2023-12-20_16-35-08\n"
     ]
    },
    {
     "name": "stderr",
     "output_type": "stream",
     "text": [
      "100%|██████████| 26/26 [00:00<00:00, 138.94it/s]"
     ]
    },
    {
     "name": "stdout",
     "output_type": "stream",
     "text": [
      "[2023-12-20 16:35:17,832] {executor.py:150} INFO - ModelType.GCNGrouping training epoch 47\n"
     ]
    },
    {
     "name": "stderr",
     "output_type": "stream",
     "text": [
      "\n",
      "  0%|          | 0/26 [00:00<?, ?it/s]"
     ]
    },
    {
     "name": "stdout",
     "output_type": "stream",
     "text": [
      "[2023-12-20 16:35:17,860] {executor.py:111} INFO - ModelType.GCNGrouping trained for 8.934078636 seconds.\n",
      "[2023-12-20 16:35:17,861] {executor.py:112} INFO - ModelType.GCNGrouping eval at step 1225.\n",
      "[2023-12-20 16:35:17,873] {executor.py:116} INFO - ModelType.GCNGrouping train loss: 0.013695182278752327, eval metrics: {'eval_loss': 0.07692831133802731, 'MRE': 0.7081083081820037, 'MAE': 0.38547906128946346, 'RMSE': 280.5838588462167}\n",
      "[2023-12-20 16:35:17,874] {executor.py:187} INFO - Saving model at step 1225 with loss 0.013695182278752327,save path: /root/guohao/repos/DLT-perf-model/notebooks/ckpts/T4_CPUALL/GCNGrouping/single_train2023-12-20_16-35-08\n"
     ]
    },
    {
     "name": "stderr",
     "output_type": "stream",
     "text": [
      "100%|██████████| 26/26 [00:00<00:00, 139.04it/s]"
     ]
    },
    {
     "name": "stdout",
     "output_type": "stream",
     "text": [
      "[2023-12-20 16:35:18,021] {executor.py:150} INFO - ModelType.GCNGrouping training epoch 48\n"
     ]
    },
    {
     "name": "stderr",
     "output_type": "stream",
     "text": [
      "\n",
      "  0%|          | 0/26 [00:00<?, ?it/s]"
     ]
    },
    {
     "name": "stdout",
     "output_type": "stream",
     "text": [
      "[2023-12-20 16:35:18,042] {executor.py:111} INFO - ModelType.GCNGrouping trained for 9.115545154 seconds.\n",
      "[2023-12-20 16:35:18,042] {executor.py:112} INFO - ModelType.GCNGrouping eval at step 1250.\n",
      "[2023-12-20 16:35:18,054] {executor.py:116} INFO - ModelType.GCNGrouping train loss: 0.11945179849863052, eval metrics: {'eval_loss': 0.07970940383772056, 'MRE': 0.7267640195365126, 'MAE': 0.40315666541717343, 'RMSE': 286.4731036566359}\n",
      "[2023-12-20 16:35:18,055] {executor.py:187} INFO - Saving model at step 1250 with loss 0.11945179849863052,save path: /root/guohao/repos/DLT-perf-model/notebooks/ckpts/T4_CPUALL/GCNGrouping/single_train2023-12-20_16-35-08\n"
     ]
    },
    {
     "name": "stderr",
     "output_type": "stream",
     "text": [
      "100%|██████████| 26/26 [00:00<00:00, 143.32it/s]"
     ]
    },
    {
     "name": "stdout",
     "output_type": "stream",
     "text": [
      "[2023-12-20 16:35:18,205] {executor.py:150} INFO - ModelType.GCNGrouping training epoch 49\n"
     ]
    },
    {
     "name": "stderr",
     "output_type": "stream",
     "text": [
      "\n",
      "  0%|          | 0/26 [00:00<?, ?it/s]"
     ]
    },
    {
     "name": "stdout",
     "output_type": "stream",
     "text": [
      "[2023-12-20 16:35:18,220] {executor.py:111} INFO - ModelType.GCNGrouping trained for 9.293917733 seconds.\n",
      "[2023-12-20 16:35:18,220] {executor.py:112} INFO - ModelType.GCNGrouping eval at step 1275.\n",
      "[2023-12-20 16:35:18,233] {executor.py:116} INFO - ModelType.GCNGrouping train loss: 0.07732003182172775, eval metrics: {'eval_loss': 0.07532195436457793, 'MRE': 0.805621567666192, 'MAE': 0.39251018668811183, 'RMSE': 278.16901232614697}\n",
      "[2023-12-20 16:35:18,234] {executor.py:187} INFO - Saving model at step 1275 with loss 0.07732003182172775,save path: /root/guohao/repos/DLT-perf-model/notebooks/ckpts/T4_CPUALL/GCNGrouping/single_train2023-12-20_16-35-08\n"
     ]
    },
    {
     "name": "stderr",
     "output_type": "stream",
     "text": [
      "100%|██████████| 26/26 [00:00<00:00, 134.04it/s]"
     ]
    },
    {
     "name": "stdout",
     "output_type": "stream",
     "text": [
      "[2023-12-20 16:35:18,401] {executor.py:150} INFO - ModelType.GCNGrouping training epoch 50\n"
     ]
    },
    {
     "name": "stderr",
     "output_type": "stream",
     "text": [
      "\n",
      "  0%|          | 0/26 [00:00<?, ?it/s]"
     ]
    },
    {
     "name": "stdout",
     "output_type": "stream",
     "text": [
      "[2023-12-20 16:35:18,409] {executor.py:111} INFO - ModelType.GCNGrouping trained for 9.483444641 seconds.\n",
      "[2023-12-20 16:35:18,410] {executor.py:112} INFO - ModelType.GCNGrouping eval at step 1300.\n",
      "[2023-12-20 16:35:18,423] {executor.py:116} INFO - ModelType.GCNGrouping train loss: 0.3990427255630493, eval metrics: {'eval_loss': 0.12259768570462863, 'MRE': 1.0353340857670295, 'MAE': 0.5271626642677515, 'RMSE': 352.05333632387607}\n",
      "[2023-12-20 16:35:18,424] {executor.py:187} INFO - Saving model at step 1300 with loss 0.3990427255630493,save path: /root/guohao/repos/DLT-perf-model/notebooks/ckpts/T4_CPUALL/GCNGrouping/single_train2023-12-20_16-35-08\n"
     ]
    },
    {
     "name": "stderr",
     "output_type": "stream",
     "text": [
      " 46%|████▌     | 12/26 [00:00<00:00, 118.41it/s]"
     ]
    },
    {
     "name": "stdout",
     "output_type": "stream",
     "text": [
      "[2023-12-20 16:35:18,599] {executor.py:111} INFO - ModelType.GCNGrouping trained for 9.673381851 seconds.\n",
      "[2023-12-20 16:35:18,600] {executor.py:112} INFO - ModelType.GCNGrouping eval at step 1325.\n",
      "[2023-12-20 16:35:18,613] {executor.py:116} INFO - ModelType.GCNGrouping train loss: 0.11444532126188278, eval metrics: {'eval_loss': 0.08790627246101697, 'MRE': 0.8384492654821655, 'MAE': 0.44357138863137224, 'RMSE': 300.8967931114763}\n",
      "[2023-12-20 16:35:18,614] {executor.py:187} INFO - Saving model at step 1325 with loss 0.11444532126188278,save path: /root/guohao/repos/DLT-perf-model/notebooks/ckpts/T4_CPUALL/GCNGrouping/single_train2023-12-20_16-35-08\n"
     ]
    },
    {
     "name": "stderr",
     "output_type": "stream",
     "text": [
      "100%|██████████| 26/26 [00:00<00:00, 119.09it/s]"
     ]
    },
    {
     "name": "stdout",
     "output_type": "stream",
     "text": [
      "[2023-12-20 16:35:18,621] {executor.py:150} INFO - ModelType.GCNGrouping training epoch 51\n"
     ]
    },
    {
     "name": "stderr",
     "output_type": "stream",
     "text": [
      "\n",
      " 62%|██████▏   | 16/26 [00:00<00:00, 151.39it/s]"
     ]
    },
    {
     "name": "stdout",
     "output_type": "stream",
     "text": [
      "[2023-12-20 16:35:18,786] {executor.py:111} INFO - ModelType.GCNGrouping trained for 9.859671624 seconds.\n",
      "[2023-12-20 16:35:18,786] {executor.py:112} INFO - ModelType.GCNGrouping eval at step 1350.\n",
      "[2023-12-20 16:35:18,798] {executor.py:116} INFO - ModelType.GCNGrouping train loss: 0.06116224080324173, eval metrics: {'eval_loss': 0.06697921641170979, 'MRE': 0.6898480011617074, 'MAE': 0.3712400766505487, 'RMSE': 262.3684102821188}\n",
      "[2023-12-20 16:35:18,799] {executor.py:187} INFO - Saving model at step 1350 with loss 0.06116224080324173,save path: /root/guohao/repos/DLT-perf-model/notebooks/ckpts/T4_CPUALL/GCNGrouping/single_train2023-12-20_16-35-08\n"
     ]
    },
    {
     "name": "stderr",
     "output_type": "stream",
     "text": [
      "100%|██████████| 26/26 [00:00<00:00, 137.38it/s]"
     ]
    },
    {
     "name": "stdout",
     "output_type": "stream",
     "text": [
      "[2023-12-20 16:35:18,812] {executor.py:150} INFO - ModelType.GCNGrouping training epoch 52\n"
     ]
    },
    {
     "name": "stderr",
     "output_type": "stream",
     "text": [
      "\n",
      " 62%|██████▏   | 16/26 [00:00<00:00, 156.99it/s]"
     ]
    },
    {
     "name": "stdout",
     "output_type": "stream",
     "text": [
      "[2023-12-20 16:35:18,967] {executor.py:111} INFO - ModelType.GCNGrouping trained for 10.041138067 seconds.\n",
      "[2023-12-20 16:35:18,968] {executor.py:112} INFO - ModelType.GCNGrouping eval at step 1375.\n",
      "[2023-12-20 16:35:18,980] {executor.py:116} INFO - ModelType.GCNGrouping train loss: 0.17065615952014923, eval metrics: {'eval_loss': 0.06262824606771271, 'MRE': 0.5287781618452195, 'MAE': 0.3204981787045646, 'RMSE': 256.24360701068963}\n",
      "[2023-12-20 16:35:18,981] {executor.py:187} INFO - Saving model at step 1375 with loss 0.17065615952014923,save path: /root/guohao/repos/DLT-perf-model/notebooks/ckpts/T4_CPUALL/GCNGrouping/single_train2023-12-20_16-35-08\n"
     ]
    },
    {
     "name": "stderr",
     "output_type": "stream",
     "text": [
      "100%|██████████| 26/26 [00:00<00:00, 138.92it/s]"
     ]
    },
    {
     "name": "stdout",
     "output_type": "stream",
     "text": [
      "[2023-12-20 16:35:19,001] {executor.py:150} INFO - ModelType.GCNGrouping training epoch 53\n"
     ]
    },
    {
     "name": "stderr",
     "output_type": "stream",
     "text": [
      "\n",
      " 62%|██████▏   | 16/26 [00:00<00:00, 158.01it/s]"
     ]
    },
    {
     "name": "stdout",
     "output_type": "stream",
     "text": [
      "[2023-12-20 16:35:19,148] {executor.py:111} INFO - ModelType.GCNGrouping trained for 10.222059108 seconds.\n",
      "[2023-12-20 16:35:19,148] {executor.py:112} INFO - ModelType.GCNGrouping eval at step 1400.\n",
      "[2023-12-20 16:35:19,161] {executor.py:116} INFO - ModelType.GCNGrouping train loss: 0.07374901324510574, eval metrics: {'eval_loss': 0.06789820858587821, 'MRE': 0.7139777029500856, 'MAE': 0.3825992250594993, 'RMSE': 265.72241774055294}\n",
      "[2023-12-20 16:35:19,161] {executor.py:187} INFO - Saving model at step 1400 with loss 0.07374901324510574,save path: /root/guohao/repos/DLT-perf-model/notebooks/ckpts/T4_CPUALL/GCNGrouping/single_train2023-12-20_16-35-08\n"
     ]
    },
    {
     "name": "stderr",
     "output_type": "stream",
     "text": [
      "100%|██████████| 26/26 [00:00<00:00, 141.73it/s]"
     ]
    },
    {
     "name": "stdout",
     "output_type": "stream",
     "text": [
      "[2023-12-20 16:35:19,186] {executor.py:150} INFO - ModelType.GCNGrouping training epoch 54\n"
     ]
    },
    {
     "name": "stderr",
     "output_type": "stream",
     "text": [
      "\n",
      " 58%|█████▊    | 15/26 [00:00<00:00, 148.87it/s]"
     ]
    },
    {
     "name": "stdout",
     "output_type": "stream",
     "text": [
      "[2023-12-20 16:35:19,335] {executor.py:111} INFO - ModelType.GCNGrouping trained for 10.409161051 seconds.\n",
      "[2023-12-20 16:35:19,336] {executor.py:112} INFO - ModelType.GCNGrouping eval at step 1425.\n",
      "[2023-12-20 16:35:19,349] {executor.py:116} INFO - ModelType.GCNGrouping train loss: 0.1297445297241211, eval metrics: {'eval_loss': 0.07901617884635925, 'MRE': 0.7737942949924683, 'MAE': 0.41777564053188837, 'RMSE': 282.570314338381}\n",
      "[2023-12-20 16:35:19,349] {executor.py:187} INFO - Saving model at step 1425 with loss 0.1297445297241211,save path: /root/guohao/repos/DLT-perf-model/notebooks/ckpts/T4_CPUALL/GCNGrouping/single_train2023-12-20_16-35-08\n"
     ]
    },
    {
     "name": "stderr",
     "output_type": "stream",
     "text": [
      "100%|██████████| 26/26 [00:00<00:00, 133.25it/s]"
     ]
    },
    {
     "name": "stdout",
     "output_type": "stream",
     "text": [
      "[2023-12-20 16:35:19,383] {executor.py:150} INFO - ModelType.GCNGrouping training epoch 55\n"
     ]
    },
    {
     "name": "stderr",
     "output_type": "stream",
     "text": [
      "\n",
      " 58%|█████▊    | 15/26 [00:00<00:00, 145.10it/s]"
     ]
    },
    {
     "name": "stdout",
     "output_type": "stream",
     "text": [
      "[2023-12-20 16:35:19,528] {executor.py:111} INFO - ModelType.GCNGrouping trained for 10.602263788 seconds.\n",
      "[2023-12-20 16:35:19,529] {executor.py:112} INFO - ModelType.GCNGrouping eval at step 1450.\n",
      "[2023-12-20 16:35:19,542] {executor.py:116} INFO - ModelType.GCNGrouping train loss: 0.5210096836090088, eval metrics: {'eval_loss': 0.05065671851237615, 'MRE': 0.5485217233812255, 'MAE': 0.3124294260595121, 'RMSE': 229.86638730982116}\n",
      "[2023-12-20 16:35:19,542] {executor.py:187} INFO - Saving model at step 1450 with loss 0.5210096836090088,save path: /root/guohao/repos/DLT-perf-model/notebooks/ckpts/T4_CPUALL/GCNGrouping/single_train2023-12-20_16-35-08\n"
     ]
    },
    {
     "name": "stderr",
     "output_type": "stream",
     "text": [
      "100%|██████████| 26/26 [00:00<00:00, 133.92it/s]"
     ]
    },
    {
     "name": "stdout",
     "output_type": "stream",
     "text": [
      "[2023-12-20 16:35:19,580] {executor.py:150} INFO - ModelType.GCNGrouping training epoch 56\n"
     ]
    },
    {
     "name": "stderr",
     "output_type": "stream",
     "text": [
      "\n",
      " 62%|██████▏   | 16/26 [00:00<00:00, 158.39it/s]"
     ]
    },
    {
     "name": "stdout",
     "output_type": "stream",
     "text": [
      "[2023-12-20 16:35:19,709] {executor.py:111} INFO - ModelType.GCNGrouping trained for 10.782947444 seconds.\n",
      "[2023-12-20 16:35:19,709] {executor.py:112} INFO - ModelType.GCNGrouping eval at step 1475.\n",
      "[2023-12-20 16:35:19,722] {executor.py:116} INFO - ModelType.GCNGrouping train loss: 0.09219153225421906, eval metrics: {'eval_loss': 0.11617105516294639, 'MRE': 1.0898960823393338, 'MAE': 0.5276583500693394, 'RMSE': 340.05612190750287}\n",
      "[2023-12-20 16:35:19,723] {executor.py:187} INFO - Saving model at step 1475 with loss 0.09219153225421906,save path: /root/guohao/repos/DLT-perf-model/notebooks/ckpts/T4_CPUALL/GCNGrouping/single_train2023-12-20_16-35-08\n"
     ]
    },
    {
     "name": "stderr",
     "output_type": "stream",
     "text": [
      "100%|██████████| 26/26 [00:00<00:00, 139.63it/s]"
     ]
    },
    {
     "name": "stdout",
     "output_type": "stream",
     "text": [
      "[2023-12-20 16:35:19,768] {executor.py:150} INFO - ModelType.GCNGrouping training epoch 57\n"
     ]
    },
    {
     "name": "stderr",
     "output_type": "stream",
     "text": [
      "\n",
      " 62%|██████▏   | 16/26 [00:00<00:00, 159.96it/s]"
     ]
    },
    {
     "name": "stdout",
     "output_type": "stream",
     "text": [
      "[2023-12-20 16:35:19,889] {executor.py:111} INFO - ModelType.GCNGrouping trained for 10.963022569 seconds.\n",
      "[2023-12-20 16:35:19,889] {executor.py:112} INFO - ModelType.GCNGrouping eval at step 1500.\n",
      "[2023-12-20 16:35:19,902] {executor.py:116} INFO - ModelType.GCNGrouping train loss: 0.11208739876747131, eval metrics: {'eval_loss': 0.051232615020126104, 'MRE': 0.5454821461443546, 'MAE': 0.3192182580678033, 'RMSE': 232.81454576660272}\n",
      "[2023-12-20 16:35:19,902] {executor.py:187} INFO - Saving model at step 1500 with loss 0.11208739876747131,save path: /root/guohao/repos/DLT-perf-model/notebooks/ckpts/T4_CPUALL/GCNGrouping/single_train2023-12-20_16-35-08\n"
     ]
    },
    {
     "name": "stderr",
     "output_type": "stream",
     "text": [
      "100%|██████████| 26/26 [00:00<00:00, 141.72it/s]"
     ]
    },
    {
     "name": "stdout",
     "output_type": "stream",
     "text": [
      "[2023-12-20 16:35:19,953] {executor.py:150} INFO - ModelType.GCNGrouping training epoch 58\n"
     ]
    },
    {
     "name": "stderr",
     "output_type": "stream",
     "text": [
      "\n",
      " 62%|██████▏   | 16/26 [00:00<00:00, 153.92it/s]"
     ]
    },
    {
     "name": "stdout",
     "output_type": "stream",
     "text": [
      "[2023-12-20 16:35:20,072] {executor.py:111} INFO - ModelType.GCNGrouping trained for 11.146134823 seconds.\n",
      "[2023-12-20 16:35:20,073] {executor.py:112} INFO - ModelType.GCNGrouping eval at step 1525.\n",
      "[2023-12-20 16:35:20,085] {executor.py:116} INFO - ModelType.GCNGrouping train loss: 0.05158764868974686, eval metrics: {'eval_loss': 0.08279550137619178, 'MRE': 0.6805552901679468, 'MAE': 0.4020721438166145, 'RMSE': 293.73528440489144}\n",
      "[2023-12-20 16:35:20,086] {executor.py:187} INFO - Saving model at step 1525 with loss 0.05158764868974686,save path: /root/guohao/repos/DLT-perf-model/notebooks/ckpts/T4_CPUALL/GCNGrouping/single_train2023-12-20_16-35-08\n"
     ]
    },
    {
     "name": "stderr",
     "output_type": "stream",
     "text": [
      "100%|██████████| 26/26 [00:00<00:00, 137.63it/s]"
     ]
    },
    {
     "name": "stdout",
     "output_type": "stream",
     "text": [
      "[2023-12-20 16:35:20,144] {executor.py:150} INFO - ModelType.GCNGrouping training epoch 59\n"
     ]
    },
    {
     "name": "stderr",
     "output_type": "stream",
     "text": [
      "\n",
      " 62%|██████▏   | 16/26 [00:00<00:00, 156.92it/s]"
     ]
    },
    {
     "name": "stdout",
     "output_type": "stream",
     "text": [
      "[2023-12-20 16:35:20,255] {executor.py:111} INFO - ModelType.GCNGrouping trained for 11.328962046 seconds.\n",
      "[2023-12-20 16:35:20,255] {executor.py:112} INFO - ModelType.GCNGrouping eval at step 1550.\n",
      "[2023-12-20 16:35:20,269] {executor.py:116} INFO - ModelType.GCNGrouping train loss: 0.09952966868877411, eval metrics: {'eval_loss': 0.08820153710742791, 'MRE': 0.8261218221342291, 'MAE': 0.4491488355001109, 'RMSE': 301.3177626481503}\n",
      "[2023-12-20 16:35:20,269] {executor.py:187} INFO - Saving model at step 1550 with loss 0.09952966868877411,save path: /root/guohao/repos/DLT-perf-model/notebooks/ckpts/T4_CPUALL/GCNGrouping/single_train2023-12-20_16-35-08\n"
     ]
    },
    {
     "name": "stderr",
     "output_type": "stream",
     "text": [
      "100%|██████████| 26/26 [00:00<00:00, 139.19it/s]"
     ]
    },
    {
     "name": "stdout",
     "output_type": "stream",
     "text": [
      "[2023-12-20 16:35:20,333] {executor.py:150} INFO - ModelType.GCNGrouping training epoch 60\n"
     ]
    },
    {
     "name": "stderr",
     "output_type": "stream",
     "text": [
      "\n",
      "  0%|          | 0/26 [00:00<?, ?it/s]"
     ]
    },
    {
     "name": "stdout",
     "output_type": "stream",
     "text": [
      "[2023-12-20 16:35:20,435] {executor.py:111} INFO - ModelType.GCNGrouping trained for 11.509322394 seconds.\n",
      "[2023-12-20 16:35:20,436] {executor.py:112} INFO - ModelType.GCNGrouping eval at step 1575.\n",
      "[2023-12-20 16:35:20,448] {executor.py:116} INFO - ModelType.GCNGrouping train loss: 0.0633920207619667, eval metrics: {'eval_loss': 0.07064519356936216, 'MRE': 0.7914249909379668, 'MAE': 0.4041335780388499, 'RMSE': 268.11090603286846}\n",
      "[2023-12-20 16:35:20,449] {executor.py:187} INFO - Saving model at step 1575 with loss 0.0633920207619667,save path: /root/guohao/repos/DLT-perf-model/notebooks/ckpts/T4_CPUALL/GCNGrouping/single_train2023-12-20_16-35-08\n"
     ]
    },
    {
     "name": "stderr",
     "output_type": "stream",
     "text": [
      "100%|██████████| 26/26 [00:00<00:00, 140.01it/s]"
     ]
    },
    {
     "name": "stdout",
     "output_type": "stream",
     "text": [
      "[2023-12-20 16:35:20,521] {executor.py:150} INFO - ModelType.GCNGrouping training epoch 61\n"
     ]
    },
    {
     "name": "stderr",
     "output_type": "stream",
     "text": [
      "\n",
      "  0%|          | 0/26 [00:00<?, ?it/s]"
     ]
    },
    {
     "name": "stdout",
     "output_type": "stream",
     "text": [
      "[2023-12-20 16:35:20,614] {executor.py:111} INFO - ModelType.GCNGrouping trained for 11.68802344 seconds.\n",
      "[2023-12-20 16:35:20,615] {executor.py:112} INFO - ModelType.GCNGrouping eval at step 1600.\n",
      "[2023-12-20 16:35:20,627] {executor.py:116} INFO - ModelType.GCNGrouping train loss: 0.10913410782814026, eval metrics: {'eval_loss': 0.05438402590031425, 'MRE': 0.5783233717966831, 'MAE': 0.30758364827121243, 'RMSE': 238.5047755439798}\n",
      "[2023-12-20 16:35:20,628] {executor.py:187} INFO - Saving model at step 1600 with loss 0.10913410782814026,save path: /root/guohao/repos/DLT-perf-model/notebooks/ckpts/T4_CPUALL/GCNGrouping/single_train2023-12-20_16-35-08\n"
     ]
    },
    {
     "name": "stderr",
     "output_type": "stream",
     "text": [
      "100%|██████████| 26/26 [00:00<00:00, 143.03it/s]"
     ]
    },
    {
     "name": "stdout",
     "output_type": "stream",
     "text": [
      "[2023-12-20 16:35:20,704] {executor.py:150} INFO - ModelType.GCNGrouping training epoch 62\n"
     ]
    },
    {
     "name": "stderr",
     "output_type": "stream",
     "text": [
      "\n",
      "  0%|          | 0/26 [00:00<?, ?it/s]"
     ]
    },
    {
     "name": "stdout",
     "output_type": "stream",
     "text": [
      "[2023-12-20 16:35:20,795] {executor.py:111} INFO - ModelType.GCNGrouping trained for 11.869394965 seconds.\n",
      "[2023-12-20 16:35:20,796] {executor.py:112} INFO - ModelType.GCNGrouping eval at step 1625.\n",
      "[2023-12-20 16:35:20,808] {executor.py:116} INFO - ModelType.GCNGrouping train loss: 0.5032318234443665, eval metrics: {'eval_loss': 0.07971948540459077, 'MRE': 0.8315984388974778, 'MAE': 0.4323924166696355, 'RMSE': 284.50702491177475}\n",
      "[2023-12-20 16:35:20,809] {executor.py:187} INFO - Saving model at step 1625 with loss 0.5032318234443665,save path: /root/guohao/repos/DLT-perf-model/notebooks/ckpts/T4_CPUALL/GCNGrouping/single_train2023-12-20_16-35-08\n"
     ]
    },
    {
     "name": "stderr",
     "output_type": "stream",
     "text": [
      "100%|██████████| 26/26 [00:00<00:00, 140.38it/s]"
     ]
    },
    {
     "name": "stdout",
     "output_type": "stream",
     "text": [
      "[2023-12-20 16:35:20,892] {executor.py:150} INFO - ModelType.GCNGrouping training epoch 63\n"
     ]
    },
    {
     "name": "stderr",
     "output_type": "stream",
     "text": [
      "\n",
      "  0%|          | 0/26 [00:00<?, ?it/s]"
     ]
    },
    {
     "name": "stdout",
     "output_type": "stream",
     "text": [
      "[2023-12-20 16:35:20,976] {executor.py:111} INFO - ModelType.GCNGrouping trained for 12.049782349 seconds.\n",
      "[2023-12-20 16:35:20,976] {executor.py:112} INFO - ModelType.GCNGrouping eval at step 1650.\n",
      "[2023-12-20 16:35:20,989] {executor.py:116} INFO - ModelType.GCNGrouping train loss: 0.17641697824001312, eval metrics: {'eval_loss': 0.05222733167465776, 'MRE': 0.4588779421094557, 'MAE': 0.29642717080547526, 'RMSE': 236.61977218337904}\n",
      "[2023-12-20 16:35:20,990] {executor.py:187} INFO - Saving model at step 1650 with loss 0.17641697824001312,save path: /root/guohao/repos/DLT-perf-model/notebooks/ckpts/T4_CPUALL/GCNGrouping/single_train2023-12-20_16-35-08\n"
     ]
    },
    {
     "name": "stderr",
     "output_type": "stream",
     "text": [
      "100%|██████████| 26/26 [00:00<00:00, 138.30it/s]"
     ]
    },
    {
     "name": "stdout",
     "output_type": "stream",
     "text": [
      "[2023-12-20 16:35:21,081] {executor.py:150} INFO - ModelType.GCNGrouping training epoch 64\n"
     ]
    },
    {
     "name": "stderr",
     "output_type": "stream",
     "text": [
      "\n",
      "  0%|          | 0/26 [00:00<?, ?it/s]"
     ]
    },
    {
     "name": "stdout",
     "output_type": "stream",
     "text": [
      "[2023-12-20 16:35:21,162] {executor.py:111} INFO - ModelType.GCNGrouping trained for 12.235861011 seconds.\n",
      "[2023-12-20 16:35:21,162] {executor.py:112} INFO - ModelType.GCNGrouping eval at step 1675.\n",
      "[2023-12-20 16:35:21,175] {executor.py:116} INFO - ModelType.GCNGrouping train loss: 0.013148915953934193, eval metrics: {'eval_loss': 0.05215031420812011, 'MRE': 0.5699369171933347, 'MAE': 0.3310877041336067, 'RMSE': 234.44988680750305}\n",
      "[2023-12-20 16:35:21,176] {executor.py:187} INFO - Saving model at step 1675 with loss 0.013148915953934193,save path: /root/guohao/repos/DLT-perf-model/notebooks/ckpts/T4_CPUALL/GCNGrouping/single_train2023-12-20_16-35-08\n"
     ]
    },
    {
     "name": "stderr",
     "output_type": "stream",
     "text": [
      "100%|██████████| 26/26 [00:00<00:00, 136.22it/s]"
     ]
    },
    {
     "name": "stdout",
     "output_type": "stream",
     "text": [
      "[2023-12-20 16:35:21,274] {executor.py:150} INFO - ModelType.GCNGrouping training epoch 65\n"
     ]
    },
    {
     "name": "stderr",
     "output_type": "stream",
     "text": [
      "\n",
      "  0%|          | 0/26 [00:00<?, ?it/s]"
     ]
    },
    {
     "name": "stdout",
     "output_type": "stream",
     "text": [
      "[2023-12-20 16:35:21,345] {executor.py:111} INFO - ModelType.GCNGrouping trained for 12.419443665 seconds.\n",
      "[2023-12-20 16:35:21,346] {executor.py:112} INFO - ModelType.GCNGrouping eval at step 1700.\n",
      "[2023-12-20 16:35:21,359] {executor.py:116} INFO - ModelType.GCNGrouping train loss: 0.03533255681395531, eval metrics: {'eval_loss': 0.058385592264433704, 'MRE': 0.6887588809791013, 'MAE': 0.3548411904680352, 'RMSE': 245.4347911818795}\n",
      "[2023-12-20 16:35:21,359] {executor.py:187} INFO - Saving model at step 1700 with loss 0.03533255681395531,save path: /root/guohao/repos/DLT-perf-model/notebooks/ckpts/T4_CPUALL/GCNGrouping/single_train2023-12-20_16-35-08\n"
     ]
    },
    {
     "name": "stderr",
     "output_type": "stream",
     "text": [
      "100%|██████████| 26/26 [00:00<00:00, 138.94it/s]"
     ]
    },
    {
     "name": "stdout",
     "output_type": "stream",
     "text": [
      "[2023-12-20 16:35:21,464] {executor.py:150} INFO - ModelType.GCNGrouping training epoch 66\n"
     ]
    },
    {
     "name": "stderr",
     "output_type": "stream",
     "text": [
      "\n",
      "  0%|          | 0/26 [00:00<?, ?it/s]"
     ]
    },
    {
     "name": "stdout",
     "output_type": "stream",
     "text": [
      "[2023-12-20 16:35:21,528] {executor.py:111} INFO - ModelType.GCNGrouping trained for 12.602450118 seconds.\n",
      "[2023-12-20 16:35:21,529] {executor.py:112} INFO - ModelType.GCNGrouping eval at step 1725.\n",
      "[2023-12-20 16:35:21,542] {executor.py:116} INFO - ModelType.GCNGrouping train loss: 0.15020665526390076, eval metrics: {'eval_loss': 0.06715185381472111, 'MRE': 0.6366689940243166, 'MAE': 0.36297264871631335, 'RMSE': 263.5362503660292}\n",
      "[2023-12-20 16:35:21,542] {executor.py:187} INFO - Saving model at step 1725 with loss 0.15020665526390076,save path: /root/guohao/repos/DLT-perf-model/notebooks/ckpts/T4_CPUALL/GCNGrouping/single_train2023-12-20_16-35-08\n"
     ]
    },
    {
     "name": "stderr",
     "output_type": "stream",
     "text": [
      "100%|██████████| 26/26 [00:00<00:00, 140.19it/s]"
     ]
    },
    {
     "name": "stdout",
     "output_type": "stream",
     "text": [
      "[2023-12-20 16:35:21,651] {executor.py:150} INFO - ModelType.GCNGrouping training epoch 67\n"
     ]
    },
    {
     "name": "stderr",
     "output_type": "stream",
     "text": [
      "\n",
      "  0%|          | 0/26 [00:00<?, ?it/s]"
     ]
    },
    {
     "name": "stdout",
     "output_type": "stream",
     "text": [
      "[2023-12-20 16:35:21,709] {executor.py:111} INFO - ModelType.GCNGrouping trained for 12.783033772 seconds.\n",
      "[2023-12-20 16:35:21,710] {executor.py:112} INFO - ModelType.GCNGrouping eval at step 1750.\n",
      "[2023-12-20 16:35:21,722] {executor.py:116} INFO - ModelType.GCNGrouping train loss: 0.05195546895265579, eval metrics: {'eval_loss': 0.0448194868513383, 'MRE': 0.4493653162013656, 'MAE': 0.2829593992160355, 'RMSE': 218.7867603514727}\n",
      "[2023-12-20 16:35:21,723] {executor.py:187} INFO - Saving model at step 1750 with loss 0.05195546895265579,save path: /root/guohao/repos/DLT-perf-model/notebooks/ckpts/T4_CPUALL/GCNGrouping/single_train2023-12-20_16-35-08\n"
     ]
    },
    {
     "name": "stderr",
     "output_type": "stream",
     "text": [
      "100%|██████████| 26/26 [00:00<00:00, 143.95it/s]"
     ]
    },
    {
     "name": "stdout",
     "output_type": "stream",
     "text": [
      "[2023-12-20 16:35:21,834] {executor.py:150} INFO - ModelType.GCNGrouping training epoch 68\n"
     ]
    },
    {
     "name": "stderr",
     "output_type": "stream",
     "text": [
      "\n",
      "  0%|          | 0/26 [00:00<?, ?it/s]"
     ]
    },
    {
     "name": "stdout",
     "output_type": "stream",
     "text": [
      "[2023-12-20 16:35:21,885] {executor.py:111} INFO - ModelType.GCNGrouping trained for 12.959284096 seconds.\n",
      "[2023-12-20 16:35:21,886] {executor.py:112} INFO - ModelType.GCNGrouping eval at step 1775.\n",
      "[2023-12-20 16:35:21,899] {executor.py:116} INFO - ModelType.GCNGrouping train loss: 0.27418118715286255, eval metrics: {'eval_loss': 0.04068857809276475, 'MRE': 0.42571055823666704, 'MAE': 0.2505246299555625, 'RMSE': 208.8897176328939}\n",
      "[2023-12-20 16:35:21,899] {executor.py:187} INFO - Saving model at step 1775 with loss 0.27418118715286255,save path: /root/guohao/repos/DLT-perf-model/notebooks/ckpts/T4_CPUALL/GCNGrouping/single_train2023-12-20_16-35-08\n"
     ]
    },
    {
     "name": "stderr",
     "output_type": "stream",
     "text": [
      "100%|██████████| 26/26 [00:00<00:00, 139.02it/s]"
     ]
    },
    {
     "name": "stdout",
     "output_type": "stream",
     "text": [
      "[2023-12-20 16:35:22,023] {executor.py:150} INFO - ModelType.GCNGrouping training epoch 69\n"
     ]
    },
    {
     "name": "stderr",
     "output_type": "stream",
     "text": [
      "\n",
      "  0%|          | 0/26 [00:00<?, ?it/s]"
     ]
    },
    {
     "name": "stdout",
     "output_type": "stream",
     "text": [
      "[2023-12-20 16:35:22,072] {executor.py:111} INFO - ModelType.GCNGrouping trained for 13.146350959 seconds.\n",
      "[2023-12-20 16:35:22,073] {executor.py:112} INFO - ModelType.GCNGrouping eval at step 1800.\n",
      "[2023-12-20 16:35:22,086] {executor.py:116} INFO - ModelType.GCNGrouping train loss: 0.23435744643211365, eval metrics: {'eval_loss': 0.0539050850396355, 'MRE': 0.5052725194305245, 'MAE': 0.3205983051050622, 'RMSE': 237.47968931411384}\n",
      "[2023-12-20 16:35:22,086] {executor.py:187} INFO - Saving model at step 1800 with loss 0.23435744643211365,save path: /root/guohao/repos/DLT-perf-model/notebooks/ckpts/T4_CPUALL/GCNGrouping/single_train2023-12-20_16-35-08\n"
     ]
    },
    {
     "name": "stderr",
     "output_type": "stream",
     "text": [
      "100%|██████████| 26/26 [00:00<00:00, 135.53it/s]"
     ]
    },
    {
     "name": "stdout",
     "output_type": "stream",
     "text": [
      "[2023-12-20 16:35:22,217] {executor.py:150} INFO - ModelType.GCNGrouping training epoch 70\n"
     ]
    },
    {
     "name": "stderr",
     "output_type": "stream",
     "text": [
      "\n",
      "  0%|          | 0/26 [00:00<?, ?it/s]"
     ]
    },
    {
     "name": "stdout",
     "output_type": "stream",
     "text": [
      "[2023-12-20 16:35:22,258] {executor.py:111} INFO - ModelType.GCNGrouping trained for 13.331949549 seconds.\n",
      "[2023-12-20 16:35:22,258] {executor.py:112} INFO - ModelType.GCNGrouping eval at step 1825.\n",
      "[2023-12-20 16:35:22,272] {executor.py:116} INFO - ModelType.GCNGrouping train loss: 0.0964144915342331, eval metrics: {'eval_loss': 0.07576904942591985, 'MRE': 0.8319801003781863, 'MAE': 0.4251551317043968, 'RMSE': 276.8871617919171}\n",
      "[2023-12-20 16:35:22,272] {executor.py:187} INFO - Saving model at step 1825 with loss 0.0964144915342331,save path: /root/guohao/repos/DLT-perf-model/notebooks/ckpts/T4_CPUALL/GCNGrouping/single_train2023-12-20_16-35-08\n"
     ]
    },
    {
     "name": "stderr",
     "output_type": "stream",
     "text": [
      "100%|██████████| 26/26 [00:00<00:00, 135.12it/s]"
     ]
    },
    {
     "name": "stdout",
     "output_type": "stream",
     "text": [
      "[2023-12-20 16:35:22,411] {executor.py:150} INFO - ModelType.GCNGrouping training epoch 71\n"
     ]
    },
    {
     "name": "stderr",
     "output_type": "stream",
     "text": [
      "\n",
      "  0%|          | 0/26 [00:00<?, ?it/s]"
     ]
    },
    {
     "name": "stdout",
     "output_type": "stream",
     "text": [
      "[2023-12-20 16:35:22,446] {executor.py:111} INFO - ModelType.GCNGrouping trained for 13.519975092 seconds.\n",
      "[2023-12-20 16:35:22,446] {executor.py:112} INFO - ModelType.GCNGrouping eval at step 1850.\n",
      "[2023-12-20 16:35:22,459] {executor.py:116} INFO - ModelType.GCNGrouping train loss: 0.02905360609292984, eval metrics: {'eval_loss': 0.06571940643091996, 'MRE': 0.8126837795560319, 'MAE': 0.39488558033020327, 'RMSE': 254.9814827947333}\n",
      "[2023-12-20 16:35:22,460] {executor.py:187} INFO - Saving model at step 1850 with loss 0.02905360609292984,save path: /root/guohao/repos/DLT-perf-model/notebooks/ckpts/T4_CPUALL/GCNGrouping/single_train2023-12-20_16-35-08\n"
     ]
    },
    {
     "name": "stderr",
     "output_type": "stream",
     "text": [
      "100%|██████████| 26/26 [00:00<00:00, 131.14it/s]\n"
     ]
    },
    {
     "name": "stdout",
     "output_type": "stream",
     "text": [
      "[2023-12-20 16:35:22,611] {executor.py:150} INFO - ModelType.GCNGrouping training epoch 72\n"
     ]
    },
    {
     "name": "stderr",
     "output_type": "stream",
     "text": [
      "  0%|          | 0/26 [00:00<?, ?it/s]"
     ]
    },
    {
     "name": "stdout",
     "output_type": "stream",
     "text": [
      "[2023-12-20 16:35:22,640] {executor.py:111} INFO - ModelType.GCNGrouping trained for 13.714104228 seconds.\n",
      "[2023-12-20 16:35:22,640] {executor.py:112} INFO - ModelType.GCNGrouping eval at step 1875.\n",
      "[2023-12-20 16:35:22,654] {executor.py:116} INFO - ModelType.GCNGrouping train loss: 0.04771681874990463, eval metrics: {'eval_loss': 0.06002564371253053, 'MRE': 0.5927217929417452, 'MAE': 0.3565924501522121, 'RMSE': 250.6358615788648}\n",
      "[2023-12-20 16:35:22,654] {executor.py:187} INFO - Saving model at step 1875 with loss 0.04771681874990463,save path: /root/guohao/repos/DLT-perf-model/notebooks/ckpts/T4_CPUALL/GCNGrouping/single_train2023-12-20_16-35-08\n"
     ]
    },
    {
     "name": "stderr",
     "output_type": "stream",
     "text": [
      "100%|██████████| 26/26 [00:00<00:00, 131.76it/s]"
     ]
    },
    {
     "name": "stdout",
     "output_type": "stream",
     "text": [
      "[2023-12-20 16:35:22,811] {executor.py:150} INFO - ModelType.GCNGrouping training epoch 73\n"
     ]
    },
    {
     "name": "stderr",
     "output_type": "stream",
     "text": [
      "\n",
      "  0%|          | 0/26 [00:00<?, ?it/s]"
     ]
    },
    {
     "name": "stdout",
     "output_type": "stream",
     "text": [
      "[2023-12-20 16:35:22,833] {executor.py:111} INFO - ModelType.GCNGrouping trained for 13.90653325 seconds.\n",
      "[2023-12-20 16:35:22,833] {executor.py:112} INFO - ModelType.GCNGrouping eval at step 1900.\n",
      "[2023-12-20 16:35:22,846] {executor.py:116} INFO - ModelType.GCNGrouping train loss: 0.09855450689792633, eval metrics: {'eval_loss': 0.04050646862015128, 'MRE': 0.42611540686983135, 'MAE': 0.26948359422842016, 'RMSE': 206.06281873494842}\n",
      "[2023-12-20 16:35:22,847] {executor.py:187} INFO - Saving model at step 1900 with loss 0.09855450689792633,save path: /root/guohao/repos/DLT-perf-model/notebooks/ckpts/T4_CPUALL/GCNGrouping/single_train2023-12-20_16-35-08\n"
     ]
    },
    {
     "name": "stderr",
     "output_type": "stream",
     "text": [
      "100%|██████████| 26/26 [00:00<00:00, 132.87it/s]"
     ]
    },
    {
     "name": "stdout",
     "output_type": "stream",
     "text": [
      "[2023-12-20 16:35:23,008] {executor.py:150} INFO - ModelType.GCNGrouping training epoch 74\n"
     ]
    },
    {
     "name": "stderr",
     "output_type": "stream",
     "text": [
      "\n",
      "  0%|          | 0/26 [00:00<?, ?it/s]"
     ]
    },
    {
     "name": "stdout",
     "output_type": "stream",
     "text": [
      "[2023-12-20 16:35:23,024] {executor.py:111} INFO - ModelType.GCNGrouping trained for 14.097947413 seconds.\n",
      "[2023-12-20 16:35:23,024] {executor.py:112} INFO - ModelType.GCNGrouping eval at step 1925.\n",
      "[2023-12-20 16:35:23,038] {executor.py:116} INFO - ModelType.GCNGrouping train loss: 0.19232720136642456, eval metrics: {'eval_loss': 0.038567316407958664, 'MRE': 0.5075174667020999, 'MAE': 0.28362452651230363, 'RMSE': 200.2521773977457}\n",
      "[2023-12-20 16:35:23,038] {executor.py:187} INFO - Saving model at step 1925 with loss 0.19232720136642456,save path: /root/guohao/repos/DLT-perf-model/notebooks/ckpts/T4_CPUALL/GCNGrouping/single_train2023-12-20_16-35-08\n"
     ]
    },
    {
     "name": "stderr",
     "output_type": "stream",
     "text": [
      "100%|██████████| 26/26 [00:00<00:00, 130.43it/s]"
     ]
    },
    {
     "name": "stdout",
     "output_type": "stream",
     "text": [
      "[2023-12-20 16:35:23,210] {executor.py:150} INFO - ModelType.GCNGrouping training epoch 75\n"
     ]
    },
    {
     "name": "stderr",
     "output_type": "stream",
     "text": [
      "\n",
      "  0%|          | 0/26 [00:00<?, ?it/s]"
     ]
    },
    {
     "name": "stdout",
     "output_type": "stream",
     "text": [
      "[2023-12-20 16:35:23,218] {executor.py:111} INFO - ModelType.GCNGrouping trained for 14.292341868 seconds.\n",
      "[2023-12-20 16:35:23,219] {executor.py:112} INFO - ModelType.GCNGrouping eval at step 1950.\n",
      "[2023-12-20 16:35:23,232] {executor.py:116} INFO - ModelType.GCNGrouping train loss: 0.5378198027610779, eval metrics: {'eval_loss': 0.0284789353221034, 'MRE': 0.36959789592046466, 'MAE': 0.21878384620282862, 'RMSE': 174.67929759494493}\n",
      "[2023-12-20 16:35:23,233] {executor.py:187} INFO - Saving model at step 1950 with loss 0.5378198027610779,save path: /root/guohao/repos/DLT-perf-model/notebooks/ckpts/T4_CPUALL/GCNGrouping/single_train2023-12-20_16-35-08\n"
     ]
    },
    {
     "name": "stderr",
     "output_type": "stream",
     "text": [
      " 46%|████▌     | 12/26 [00:00<00:00, 116.02it/s]"
     ]
    },
    {
     "name": "stdout",
     "output_type": "stream",
     "text": [
      "[2023-12-20 16:35:23,409] {executor.py:111} INFO - ModelType.GCNGrouping trained for 14.483413282 seconds.\n",
      "[2023-12-20 16:35:23,410] {executor.py:112} INFO - ModelType.GCNGrouping eval at step 1975.\n",
      "[2023-12-20 16:35:23,423] {executor.py:116} INFO - ModelType.GCNGrouping train loss: 0.021269386634230614, eval metrics: {'eval_loss': 0.04818944943447908, 'MRE': 0.6648096824033134, 'MAE': 0.3251490354546473, 'RMSE': 219.27826713099597}\n",
      "[2023-12-20 16:35:23,424] {executor.py:187} INFO - Saving model at step 1975 with loss 0.021269386634230614,save path: /root/guohao/repos/DLT-perf-model/notebooks/ckpts/T4_CPUALL/GCNGrouping/single_train2023-12-20_16-35-08\n"
     ]
    },
    {
     "name": "stderr",
     "output_type": "stream",
     "text": [
      "100%|██████████| 26/26 [00:00<00:00, 117.80it/s]"
     ]
    },
    {
     "name": "stdout",
     "output_type": "stream",
     "text": [
      "[2023-12-20 16:35:23,432] {executor.py:150} INFO - ModelType.GCNGrouping training epoch 76\n"
     ]
    },
    {
     "name": "stderr",
     "output_type": "stream",
     "text": [
      "\n",
      " 58%|█████▊    | 15/26 [00:00<00:00, 146.57it/s]"
     ]
    },
    {
     "name": "stdout",
     "output_type": "stream",
     "text": [
      "[2023-12-20 16:35:23,604] {executor.py:111} INFO - ModelType.GCNGrouping trained for 14.678323496 seconds.\n",
      "[2023-12-20 16:35:23,605] {executor.py:112} INFO - ModelType.GCNGrouping eval at step 2000.\n",
      "[2023-12-20 16:35:23,619] {executor.py:116} INFO - ModelType.GCNGrouping train loss: 0.06587722897529602, eval metrics: {'eval_loss': 0.09354218716422717, 'MRE': 0.9008099974294781, 'MAE': 0.45777287896708513, 'RMSE': 304.74494921282184}\n",
      "[2023-12-20 16:35:23,620] {executor.py:187} INFO - Saving model at step 2000 with loss 0.06587722897529602,save path: /root/guohao/repos/DLT-perf-model/notebooks/ckpts/T4_CPUALL/GCNGrouping/single_train2023-12-20_16-35-08\n"
     ]
    },
    {
     "name": "stderr",
     "output_type": "stream",
     "text": [
      "100%|██████████| 26/26 [00:00<00:00, 129.46it/s]"
     ]
    },
    {
     "name": "stdout",
     "output_type": "stream",
     "text": [
      "[2023-12-20 16:35:23,635] {executor.py:150} INFO - ModelType.GCNGrouping training epoch 77\n"
     ]
    },
    {
     "name": "stderr",
     "output_type": "stream",
     "text": [
      "\n",
      " 58%|█████▊    | 15/26 [00:00<00:00, 147.83it/s]"
     ]
    },
    {
     "name": "stdout",
     "output_type": "stream",
     "text": [
      "[2023-12-20 16:35:23,796] {executor.py:111} INFO - ModelType.GCNGrouping trained for 14.87010655 seconds.\n",
      "[2023-12-20 16:35:23,797] {executor.py:112} INFO - ModelType.GCNGrouping eval at step 2025.\n",
      "[2023-12-20 16:35:23,810] {executor.py:116} INFO - ModelType.GCNGrouping train loss: 0.08058057725429535, eval metrics: {'eval_loss': 0.06387278623878956, 'MRE': 0.6832963903132899, 'MAE': 0.3745613402073023, 'RMSE': 256.501648322934}\n",
      "[2023-12-20 16:35:23,811] {executor.py:187} INFO - Saving model at step 2025 with loss 0.08058057725429535,save path: /root/guohao/repos/DLT-perf-model/notebooks/ckpts/T4_CPUALL/GCNGrouping/single_train2023-12-20_16-35-08\n"
     ]
    },
    {
     "name": "stderr",
     "output_type": "stream",
     "text": [
      "100%|██████████| 26/26 [00:00<00:00, 133.59it/s]"
     ]
    },
    {
     "name": "stdout",
     "output_type": "stream",
     "text": [
      "[2023-12-20 16:35:23,832] {executor.py:150} INFO - ModelType.GCNGrouping training epoch 78\n"
     ]
    },
    {
     "name": "stderr",
     "output_type": "stream",
     "text": [
      "\n",
      " 62%|██████▏   | 16/26 [00:00<00:00, 150.90it/s]"
     ]
    },
    {
     "name": "stdout",
     "output_type": "stream",
     "text": [
      "[2023-12-20 16:35:23,984] {executor.py:111} INFO - ModelType.GCNGrouping trained for 15.058502225 seconds.\n",
      "[2023-12-20 16:35:23,985] {executor.py:112} INFO - ModelType.GCNGrouping eval at step 2050.\n",
      "[2023-12-20 16:35:23,998] {executor.py:116} INFO - ModelType.GCNGrouping train loss: 0.02272733673453331, eval metrics: {'eval_loss': 0.02723655104637146, 'MRE': 0.37898569785967107, 'MAE': 0.22422807381243196, 'RMSE': 169.93137292593298}\n",
      "[2023-12-20 16:35:23,999] {executor.py:187} INFO - Saving model at step 2050 with loss 0.02272733673453331,save path: /root/guohao/repos/DLT-perf-model/notebooks/ckpts/T4_CPUALL/GCNGrouping/single_train2023-12-20_16-35-08\n"
     ]
    },
    {
     "name": "stderr",
     "output_type": "stream",
     "text": [
      "100%|██████████| 26/26 [00:00<00:00, 135.04it/s]"
     ]
    },
    {
     "name": "stdout",
     "output_type": "stream",
     "text": [
      "[2023-12-20 16:35:24,026] {executor.py:150} INFO - ModelType.GCNGrouping training epoch 79\n"
     ]
    },
    {
     "name": "stderr",
     "output_type": "stream",
     "text": [
      "\n",
      " 65%|██████▌   | 17/26 [00:00<00:00, 162.92it/s]"
     ]
    },
    {
     "name": "stdout",
     "output_type": "stream",
     "text": [
      "[2023-12-20 16:35:24,166] {executor.py:111} INFO - ModelType.GCNGrouping trained for 15.240062534 seconds.\n",
      "[2023-12-20 16:35:24,166] {executor.py:112} INFO - ModelType.GCNGrouping eval at step 2075.\n",
      "[2023-12-20 16:35:24,180] {executor.py:116} INFO - ModelType.GCNGrouping train loss: 0.09548144787549973, eval metrics: {'eval_loss': 0.024147931214732427, 'MRE': 0.34663450111915345, 'MAE': 0.19659360920205812, 'RMSE': 159.6258065853122}\n",
      "[2023-12-20 16:35:24,180] {executor.py:187} INFO - Saving model at step 2075 with loss 0.09548144787549973,save path: /root/guohao/repos/DLT-perf-model/notebooks/ckpts/T4_CPUALL/GCNGrouping/single_train2023-12-20_16-35-08\n"
     ]
    },
    {
     "name": "stderr",
     "output_type": "stream",
     "text": [
      "100%|██████████| 26/26 [00:00<00:00, 138.88it/s]"
     ]
    },
    {
     "name": "stdout",
     "output_type": "stream",
     "text": [
      "[2023-12-20 16:35:24,215] {executor.py:150} INFO - ModelType.GCNGrouping training epoch 80\n"
     ]
    },
    {
     "name": "stderr",
     "output_type": "stream",
     "text": [
      "\n",
      " 62%|██████▏   | 16/26 [00:00<00:00, 153.96it/s]"
     ]
    },
    {
     "name": "stdout",
     "output_type": "stream",
     "text": [
      "[2023-12-20 16:35:24,353] {executor.py:111} INFO - ModelType.GCNGrouping trained for 15.426880107 seconds.\n",
      "[2023-12-20 16:35:24,353] {executor.py:112} INFO - ModelType.GCNGrouping eval at step 2100.\n",
      "[2023-12-20 16:35:24,366] {executor.py:116} INFO - ModelType.GCNGrouping train loss: 0.09562847018241882, eval metrics: {'eval_loss': 0.03610715041092286, 'MRE': 0.45668081921988435, 'MAE': 0.2712388184183695, 'RMSE': 195.85588396036783}\n",
      "[2023-12-20 16:35:24,367] {executor.py:187} INFO - Saving model at step 2100 with loss 0.09562847018241882,save path: /root/guohao/repos/DLT-perf-model/notebooks/ckpts/T4_CPUALL/GCNGrouping/single_train2023-12-20_16-35-08\n"
     ]
    },
    {
     "name": "stderr",
     "output_type": "stream",
     "text": [
      "100%|██████████| 26/26 [00:00<00:00, 134.64it/s]"
     ]
    },
    {
     "name": "stdout",
     "output_type": "stream",
     "text": [
      "[2023-12-20 16:35:24,410] {executor.py:150} INFO - ModelType.GCNGrouping training epoch 81\n"
     ]
    },
    {
     "name": "stderr",
     "output_type": "stream",
     "text": [
      "\n",
      " 58%|█████▊    | 15/26 [00:00<00:00, 146.69it/s]"
     ]
    },
    {
     "name": "stdout",
     "output_type": "stream",
     "text": [
      "[2023-12-20 16:35:24,547] {executor.py:111} INFO - ModelType.GCNGrouping trained for 15.621128185 seconds.\n",
      "[2023-12-20 16:35:24,548] {executor.py:112} INFO - ModelType.GCNGrouping eval at step 2125.\n",
      "[2023-12-20 16:35:24,563] {executor.py:116} INFO - ModelType.GCNGrouping train loss: 0.07084763050079346, eval metrics: {'eval_loss': 0.0464818791175882, 'MRE': 0.6003575663629372, 'MAE': 0.324047936583112, 'RMSE': 218.90238737915791}\n",
      "[2023-12-20 16:35:24,564] {executor.py:187} INFO - Saving model at step 2125 with loss 0.07084763050079346,save path: /root/guohao/repos/DLT-perf-model/notebooks/ckpts/T4_CPUALL/GCNGrouping/single_train2023-12-20_16-35-08\n"
     ]
    },
    {
     "name": "stderr",
     "output_type": "stream",
     "text": [
      "100%|██████████| 26/26 [00:00<00:00, 131.12it/s]\n"
     ]
    },
    {
     "name": "stdout",
     "output_type": "stream",
     "text": [
      "[2023-12-20 16:35:24,611] {executor.py:150} INFO - ModelType.GCNGrouping training epoch 82\n"
     ]
    },
    {
     "name": "stderr",
     "output_type": "stream",
     "text": [
      " 62%|██████▏   | 16/26 [00:00<00:00, 151.47it/s]"
     ]
    },
    {
     "name": "stdout",
     "output_type": "stream",
     "text": [
      "[2023-12-20 16:35:24,738] {executor.py:111} INFO - ModelType.GCNGrouping trained for 15.81153081 seconds.\n",
      "[2023-12-20 16:35:24,738] {executor.py:112} INFO - ModelType.GCNGrouping eval at step 2150.\n",
      "[2023-12-20 16:35:24,750] {executor.py:116} INFO - ModelType.GCNGrouping train loss: 0.06854040920734406, eval metrics: {'eval_loss': 0.13880122328797975, 'MRE': 1.1586386187479547, 'MAE': 0.5756063839787504, 'RMSE': 369.37014964610347}\n",
      "[2023-12-20 16:35:24,751] {executor.py:187} INFO - Saving model at step 2150 with loss 0.06854040920734406,save path: /root/guohao/repos/DLT-perf-model/notebooks/ckpts/T4_CPUALL/GCNGrouping/single_train2023-12-20_16-35-08\n"
     ]
    },
    {
     "name": "stderr",
     "output_type": "stream",
     "text": [
      "100%|██████████| 26/26 [00:00<00:00, 137.07it/s]"
     ]
    },
    {
     "name": "stdout",
     "output_type": "stream",
     "text": [
      "[2023-12-20 16:35:24,802] {executor.py:150} INFO - ModelType.GCNGrouping training epoch 83\n"
     ]
    },
    {
     "name": "stderr",
     "output_type": "stream",
     "text": [
      "\n",
      " 62%|██████▏   | 16/26 [00:00<00:00, 153.05it/s]"
     ]
    },
    {
     "name": "stdout",
     "output_type": "stream",
     "text": [
      "[2023-12-20 16:35:24,921] {executor.py:111} INFO - ModelType.GCNGrouping trained for 15.995385843 seconds.\n",
      "[2023-12-20 16:35:24,922] {executor.py:112} INFO - ModelType.GCNGrouping eval at step 2175.\n",
      "[2023-12-20 16:35:24,935] {executor.py:116} INFO - ModelType.GCNGrouping train loss: 0.048074871301651, eval metrics: {'eval_loss': 0.05898395615319411, 'MRE': 0.5927899935265173, 'MAE': 0.35343440872022575, 'RMSE': 248.12474368058534}\n",
      "[2023-12-20 16:35:24,936] {executor.py:187} INFO - Saving model at step 2175 with loss 0.048074871301651,save path: /root/guohao/repos/DLT-perf-model/notebooks/ckpts/T4_CPUALL/GCNGrouping/single_train2023-12-20_16-35-08\n"
     ]
    },
    {
     "name": "stderr",
     "output_type": "stream",
     "text": [
      "100%|██████████| 26/26 [00:00<00:00, 135.14it/s]"
     ]
    },
    {
     "name": "stdout",
     "output_type": "stream",
     "text": [
      "[2023-12-20 16:35:24,997] {executor.py:150} INFO - ModelType.GCNGrouping training epoch 84\n"
     ]
    },
    {
     "name": "stderr",
     "output_type": "stream",
     "text": [
      "\n",
      " 62%|██████▏   | 16/26 [00:00<00:00, 151.24it/s]"
     ]
    },
    {
     "name": "stdout",
     "output_type": "stream",
     "text": [
      "[2023-12-20 16:35:25,112] {executor.py:111} INFO - ModelType.GCNGrouping trained for 16.185553225 seconds.\n",
      "[2023-12-20 16:35:25,112] {executor.py:112} INFO - ModelType.GCNGrouping eval at step 2200.\n",
      "[2023-12-20 16:35:25,125] {executor.py:116} INFO - ModelType.GCNGrouping train loss: 0.03444085270166397, eval metrics: {'eval_loss': 0.04692813971390327, 'MRE': 0.638564921699147, 'MAE': 0.3259811514597107, 'RMSE': 216.64778676181024}\n",
      "[2023-12-20 16:35:25,126] {executor.py:187} INFO - Saving model at step 2200 with loss 0.03444085270166397,save path: /root/guohao/repos/DLT-perf-model/notebooks/ckpts/T4_CPUALL/GCNGrouping/single_train2023-12-20_16-35-08\n"
     ]
    },
    {
     "name": "stderr",
     "output_type": "stream",
     "text": [
      "100%|██████████| 26/26 [00:00<00:00, 133.46it/s]"
     ]
    },
    {
     "name": "stdout",
     "output_type": "stream",
     "text": [
      "[2023-12-20 16:35:25,193] {executor.py:150} INFO - ModelType.GCNGrouping training epoch 85\n"
     ]
    },
    {
     "name": "stderr",
     "output_type": "stream",
     "text": [
      "\n",
      "  0%|          | 0/26 [00:00<?, ?it/s]"
     ]
    },
    {
     "name": "stdout",
     "output_type": "stream",
     "text": [
      "[2023-12-20 16:35:25,298] {executor.py:111} INFO - ModelType.GCNGrouping trained for 16.372437568 seconds.\n",
      "[2023-12-20 16:35:25,299] {executor.py:112} INFO - ModelType.GCNGrouping eval at step 2225.\n",
      "[2023-12-20 16:35:25,312] {executor.py:116} INFO - ModelType.GCNGrouping train loss: 0.04414749890565872, eval metrics: {'eval_loss': 0.04913153282056252, 'MRE': 0.6918365729610816, 'MAE': 0.3457565179190983, 'RMSE': 223.00150912146972}\n",
      "[2023-12-20 16:35:25,312] {executor.py:187} INFO - Saving model at step 2225 with loss 0.04414749890565872,save path: /root/guohao/repos/DLT-perf-model/notebooks/ckpts/T4_CPUALL/GCNGrouping/single_train2023-12-20_16-35-08\n"
     ]
    },
    {
     "name": "stderr",
     "output_type": "stream",
     "text": [
      "100%|██████████| 26/26 [00:00<00:00, 135.77it/s]"
     ]
    },
    {
     "name": "stdout",
     "output_type": "stream",
     "text": [
      "[2023-12-20 16:35:25,387] {executor.py:150} INFO - ModelType.GCNGrouping training epoch 86\n"
     ]
    },
    {
     "name": "stderr",
     "output_type": "stream",
     "text": [
      "\n",
      "  0%|          | 0/26 [00:00<?, ?it/s]"
     ]
    },
    {
     "name": "stdout",
     "output_type": "stream",
     "text": [
      "[2023-12-20 16:35:25,488] {executor.py:111} INFO - ModelType.GCNGrouping trained for 16.561639094 seconds.\n",
      "[2023-12-20 16:35:25,488] {executor.py:112} INFO - ModelType.GCNGrouping eval at step 2250.\n",
      "[2023-12-20 16:35:25,501] {executor.py:116} INFO - ModelType.GCNGrouping train loss: 0.0573900006711483, eval metrics: {'eval_loss': 0.06949599211414655, 'MRE': 0.7081386898533131, 'MAE': 0.39632846699639984, 'RMSE': 267.16711446318436}\n",
      "[2023-12-20 16:35:25,502] {executor.py:187} INFO - Saving model at step 2250 with loss 0.0573900006711483,save path: /root/guohao/repos/DLT-perf-model/notebooks/ckpts/T4_CPUALL/GCNGrouping/single_train2023-12-20_16-35-08\n"
     ]
    },
    {
     "name": "stderr",
     "output_type": "stream",
     "text": [
      "100%|██████████| 26/26 [00:00<00:00, 131.30it/s]\n"
     ]
    },
    {
     "name": "stdout",
     "output_type": "stream",
     "text": [
      "[2023-12-20 16:35:25,587] {executor.py:150} INFO - ModelType.GCNGrouping training epoch 87\n"
     ]
    },
    {
     "name": "stderr",
     "output_type": "stream",
     "text": [
      "  0%|          | 0/26 [00:00<?, ?it/s]"
     ]
    },
    {
     "name": "stdout",
     "output_type": "stream",
     "text": [
      "[2023-12-20 16:35:25,683] {executor.py:111} INFO - ModelType.GCNGrouping trained for 16.757451383 seconds.\n",
      "[2023-12-20 16:35:25,684] {executor.py:112} INFO - ModelType.GCNGrouping eval at step 2275.\n",
      "[2023-12-20 16:35:25,697] {executor.py:116} INFO - ModelType.GCNGrouping train loss: 0.01373063214123249, eval metrics: {'eval_loss': 0.0345465576586624, 'MRE': 0.4851179529558621, 'MAE': 0.2578593281338053, 'RMSE': 187.67982855739538}\n",
      "[2023-12-20 16:35:25,698] {executor.py:187} INFO - Saving model at step 2275 with loss 0.01373063214123249,save path: /root/guohao/repos/DLT-perf-model/notebooks/ckpts/T4_CPUALL/GCNGrouping/single_train2023-12-20_16-35-08\n"
     ]
    },
    {
     "name": "stderr",
     "output_type": "stream",
     "text": [
      "100%|██████████| 26/26 [00:00<00:00, 132.47it/s]"
     ]
    },
    {
     "name": "stdout",
     "output_type": "stream",
     "text": [
      "[2023-12-20 16:35:25,785] {executor.py:150} INFO - ModelType.GCNGrouping training epoch 88\n"
     ]
    },
    {
     "name": "stderr",
     "output_type": "stream",
     "text": [
      "\n",
      "  0%|          | 0/26 [00:00<?, ?it/s]"
     ]
    },
    {
     "name": "stdout",
     "output_type": "stream",
     "text": [
      "[2023-12-20 16:35:25,867] {executor.py:111} INFO - ModelType.GCNGrouping trained for 16.940759156 seconds.\n",
      "[2023-12-20 16:35:25,867] {executor.py:112} INFO - ModelType.GCNGrouping eval at step 2300.\n",
      "[2023-12-20 16:35:25,879] {executor.py:116} INFO - ModelType.GCNGrouping train loss: 0.017363613471388817, eval metrics: {'eval_loss': 0.02860335431372126, 'MRE': 0.44189663183907474, 'MAE': 0.2320882020240665, 'RMSE': 171.70327818569316}\n",
      "[2023-12-20 16:35:25,880] {executor.py:187} INFO - Saving model at step 2300 with loss 0.017363613471388817,save path: /root/guohao/repos/DLT-perf-model/notebooks/ckpts/T4_CPUALL/GCNGrouping/single_train2023-12-20_16-35-08\n"
     ]
    },
    {
     "name": "stderr",
     "output_type": "stream",
     "text": [
      "100%|██████████| 26/26 [00:00<00:00, 142.56it/s]"
     ]
    },
    {
     "name": "stdout",
     "output_type": "stream",
     "text": [
      "[2023-12-20 16:35:25,970] {executor.py:150} INFO - ModelType.GCNGrouping training epoch 89\n"
     ]
    },
    {
     "name": "stderr",
     "output_type": "stream",
     "text": [
      "\n",
      "  0%|          | 0/26 [00:00<?, ?it/s]"
     ]
    },
    {
     "name": "stdout",
     "output_type": "stream",
     "text": [
      "[2023-12-20 16:35:26,049] {executor.py:111} INFO - ModelType.GCNGrouping trained for 17.123464941 seconds.\n",
      "[2023-12-20 16:35:26,050] {executor.py:112} INFO - ModelType.GCNGrouping eval at step 2325.\n",
      "[2023-12-20 16:35:26,062] {executor.py:116} INFO - ModelType.GCNGrouping train loss: 0.04147186875343323, eval metrics: {'eval_loss': 0.05018427222967148, 'MRE': 0.6361275265419305, 'MAE': 0.34525643948634877, 'RMSE': 224.9353310247562}\n",
      "[2023-12-20 16:35:26,063] {executor.py:187} INFO - Saving model at step 2325 with loss 0.04147186875343323,save path: /root/guohao/repos/DLT-perf-model/notebooks/ckpts/T4_CPUALL/GCNGrouping/single_train2023-12-20_16-35-08\n"
     ]
    },
    {
     "name": "stderr",
     "output_type": "stream",
     "text": [
      "100%|██████████| 26/26 [00:00<00:00, 137.99it/s]"
     ]
    },
    {
     "name": "stdout",
     "output_type": "stream",
     "text": [
      "[2023-12-20 16:35:26,160] {executor.py:150} INFO - ModelType.GCNGrouping training epoch 90\n"
     ]
    },
    {
     "name": "stderr",
     "output_type": "stream",
     "text": [
      "\n",
      "  0%|          | 0/26 [00:00<?, ?it/s]"
     ]
    },
    {
     "name": "stdout",
     "output_type": "stream",
     "text": [
      "[2023-12-20 16:35:26,232] {executor.py:111} INFO - ModelType.GCNGrouping trained for 17.30582804 seconds.\n",
      "[2023-12-20 16:35:26,232] {executor.py:112} INFO - ModelType.GCNGrouping eval at step 2350.\n",
      "[2023-12-20 16:35:26,245] {executor.py:116} INFO - ModelType.GCNGrouping train loss: 0.08080732822418213, eval metrics: {'eval_loss': 0.05273954880734285, 'MRE': 0.6464247015098472, 'MAE': 0.3425587605138497, 'RMSE': 230.4572550383989}\n",
      "[2023-12-20 16:35:26,245] {executor.py:187} INFO - Saving model at step 2350 with loss 0.08080732822418213,save path: /root/guohao/repos/DLT-perf-model/notebooks/ckpts/T4_CPUALL/GCNGrouping/single_train2023-12-20_16-35-08\n"
     ]
    },
    {
     "name": "stderr",
     "output_type": "stream",
     "text": [
      "100%|██████████| 26/26 [00:00<00:00, 139.44it/s]"
     ]
    },
    {
     "name": "stdout",
     "output_type": "stream",
     "text": [
      "[2023-12-20 16:35:26,349] {executor.py:150} INFO - ModelType.GCNGrouping training epoch 91\n"
     ]
    },
    {
     "name": "stderr",
     "output_type": "stream",
     "text": [
      "\n",
      "  0%|          | 0/26 [00:00<?, ?it/s]"
     ]
    },
    {
     "name": "stdout",
     "output_type": "stream",
     "text": [
      "[2023-12-20 16:35:26,413] {executor.py:111} INFO - ModelType.GCNGrouping trained for 17.486600627 seconds.\n",
      "[2023-12-20 16:35:26,413] {executor.py:112} INFO - ModelType.GCNGrouping eval at step 2375.\n",
      "[2023-12-20 16:35:26,426] {executor.py:116} INFO - ModelType.GCNGrouping train loss: 0.02035715989768505, eval metrics: {'eval_loss': 0.06563339941203594, 'MRE': 0.8112120764357582, 'MAE': 0.3994078226588368, 'RMSE': 255.03200764838545}\n",
      "[2023-12-20 16:35:26,426] {executor.py:187} INFO - Saving model at step 2375 with loss 0.02035715989768505,save path: /root/guohao/repos/DLT-perf-model/notebooks/ckpts/T4_CPUALL/GCNGrouping/single_train2023-12-20_16-35-08\n"
     ]
    },
    {
     "name": "stderr",
     "output_type": "stream",
     "text": [
      "100%|██████████| 26/26 [00:00<00:00, 133.26it/s]"
     ]
    },
    {
     "name": "stdout",
     "output_type": "stream",
     "text": [
      "[2023-12-20 16:35:26,546] {executor.py:150} INFO - ModelType.GCNGrouping training epoch 92\n"
     ]
    },
    {
     "name": "stderr",
     "output_type": "stream",
     "text": [
      "\n",
      "  0%|          | 0/26 [00:00<?, ?it/s]"
     ]
    },
    {
     "name": "stdout",
     "output_type": "stream",
     "text": [
      "[2023-12-20 16:35:26,606] {executor.py:111} INFO - ModelType.GCNGrouping trained for 17.679916988 seconds.\n",
      "[2023-12-20 16:35:26,606] {executor.py:112} INFO - ModelType.GCNGrouping eval at step 2400.\n",
      "[2023-12-20 16:35:26,619] {executor.py:116} INFO - ModelType.GCNGrouping train loss: 0.05478256940841675, eval metrics: {'eval_loss': 0.03893032328536113, 'MRE': 0.5207844204658223, 'MAE': 0.2808303015881774, 'RMSE': 197.61289625915867}\n",
      "[2023-12-20 16:35:26,620] {executor.py:187} INFO - Saving model at step 2400 with loss 0.05478256940841675,save path: /root/guohao/repos/DLT-perf-model/notebooks/ckpts/T4_CPUALL/GCNGrouping/single_train2023-12-20_16-35-08\n"
     ]
    },
    {
     "name": "stderr",
     "output_type": "stream",
     "text": [
      "100%|██████████| 26/26 [00:00<00:00, 138.81it/s]"
     ]
    },
    {
     "name": "stdout",
     "output_type": "stream",
     "text": [
      "[2023-12-20 16:35:26,735] {executor.py:150} INFO - ModelType.GCNGrouping training epoch 93\n"
     ]
    },
    {
     "name": "stderr",
     "output_type": "stream",
     "text": [
      "\n",
      "  0%|          | 0/26 [00:00<?, ?it/s]"
     ]
    },
    {
     "name": "stdout",
     "output_type": "stream",
     "text": [
      "[2023-12-20 16:35:26,789] {executor.py:111} INFO - ModelType.GCNGrouping trained for 17.863029797 seconds.\n",
      "[2023-12-20 16:35:26,790] {executor.py:112} INFO - ModelType.GCNGrouping eval at step 2425.\n",
      "[2023-12-20 16:35:26,802] {executor.py:116} INFO - ModelType.GCNGrouping train loss: 0.07529841363430023, eval metrics: {'eval_loss': 0.05686177499592304, 'MRE': 0.7240949716124505, 'MAE': 0.3687177278572469, 'RMSE': 238.5469802000144}\n",
      "[2023-12-20 16:35:26,803] {executor.py:187} INFO - Saving model at step 2425 with loss 0.07529841363430023,save path: /root/guohao/repos/DLT-perf-model/notebooks/ckpts/T4_CPUALL/GCNGrouping/single_train2023-12-20_16-35-08\n"
     ]
    },
    {
     "name": "stderr",
     "output_type": "stream",
     "text": [
      "100%|██████████| 26/26 [00:00<00:00, 137.15it/s]"
     ]
    },
    {
     "name": "stdout",
     "output_type": "stream",
     "text": [
      "[2023-12-20 16:35:26,927] {executor.py:150} INFO - ModelType.GCNGrouping training epoch 94\n"
     ]
    },
    {
     "name": "stderr",
     "output_type": "stream",
     "text": [
      "\n",
      "  0%|          | 0/26 [00:00<?, ?it/s]"
     ]
    },
    {
     "name": "stdout",
     "output_type": "stream",
     "text": [
      "[2023-12-20 16:35:26,974] {executor.py:111} INFO - ModelType.GCNGrouping trained for 18.048500305 seconds.\n",
      "[2023-12-20 16:35:26,975] {executor.py:112} INFO - ModelType.GCNGrouping eval at step 2450.\n",
      "[2023-12-20 16:35:26,988] {executor.py:116} INFO - ModelType.GCNGrouping train loss: 0.03147394582629204, eval metrics: {'eval_loss': 0.02852646727114916, 'MRE': 0.3774849352618579, 'MAE': 0.2295944029991819, 'RMSE': 173.05448713844908}\n",
      "[2023-12-20 16:35:26,988] {executor.py:187} INFO - Saving model at step 2450 with loss 0.03147394582629204,save path: /root/guohao/repos/DLT-perf-model/notebooks/ckpts/T4_CPUALL/GCNGrouping/single_train2023-12-20_16-35-08\n"
     ]
    },
    {
     "name": "stderr",
     "output_type": "stream",
     "text": [
      "100%|██████████| 26/26 [00:00<00:00, 133.27it/s]"
     ]
    },
    {
     "name": "stdout",
     "output_type": "stream",
     "text": [
      "[2023-12-20 16:35:27,124] {executor.py:150} INFO - ModelType.GCNGrouping training epoch 95\n"
     ]
    },
    {
     "name": "stderr",
     "output_type": "stream",
     "text": [
      "\n",
      "  0%|          | 0/26 [00:00<?, ?it/s]"
     ]
    },
    {
     "name": "stdout",
     "output_type": "stream",
     "text": [
      "[2023-12-20 16:35:27,165] {executor.py:111} INFO - ModelType.GCNGrouping trained for 18.23908971 seconds.\n",
      "[2023-12-20 16:35:27,166] {executor.py:112} INFO - ModelType.GCNGrouping eval at step 2475.\n",
      "[2023-12-20 16:35:27,178] {executor.py:116} INFO - ModelType.GCNGrouping train loss: 0.025187890976667404, eval metrics: {'eval_loss': 0.04559666911760966, 'MRE': 0.6312603963446692, 'MAE': 0.3225698688154117, 'RMSE': 214.75511187781746}\n",
      "[2023-12-20 16:35:27,179] {executor.py:187} INFO - Saving model at step 2475 with loss 0.025187890976667404,save path: /root/guohao/repos/DLT-perf-model/notebooks/ckpts/T4_CPUALL/GCNGrouping/single_train2023-12-20_16-35-08\n"
     ]
    },
    {
     "name": "stderr",
     "output_type": "stream",
     "text": [
      "100%|██████████| 26/26 [00:00<00:00, 132.77it/s]"
     ]
    },
    {
     "name": "stdout",
     "output_type": "stream",
     "text": [
      "[2023-12-20 16:35:27,322] {executor.py:150} INFO - ModelType.GCNGrouping training epoch 96\n"
     ]
    },
    {
     "name": "stderr",
     "output_type": "stream",
     "text": [
      "\n",
      "  0%|          | 0/26 [00:00<?, ?it/s]"
     ]
    },
    {
     "name": "stdout",
     "output_type": "stream",
     "text": [
      "[2023-12-20 16:35:27,355] {executor.py:111} INFO - ModelType.GCNGrouping trained for 18.429143832 seconds.\n",
      "[2023-12-20 16:35:27,356] {executor.py:112} INFO - ModelType.GCNGrouping eval at step 2500.\n",
      "[2023-12-20 16:35:27,368] {executor.py:116} INFO - ModelType.GCNGrouping train loss: 0.05217089131474495, eval metrics: {'eval_loss': 0.10173445319135983, 'MRE': 1.0289079931995568, 'MAE': 0.5081359603678515, 'RMSE': 316.9874309110685}\n",
      "[2023-12-20 16:35:27,368] {executor.py:187} INFO - Saving model at step 2500 with loss 0.05217089131474495,save path: /root/guohao/repos/DLT-perf-model/notebooks/ckpts/T4_CPUALL/GCNGrouping/single_train2023-12-20_16-35-08\n"
     ]
    },
    {
     "name": "stderr",
     "output_type": "stream",
     "text": [
      "100%|██████████| 26/26 [00:00<00:00, 135.94it/s]"
     ]
    },
    {
     "name": "stdout",
     "output_type": "stream",
     "text": [
      "[2023-12-20 16:35:27,515] {executor.py:150} INFO - ModelType.GCNGrouping training epoch 97\n"
     ]
    },
    {
     "name": "stderr",
     "output_type": "stream",
     "text": [
      "\n",
      "  0%|          | 0/26 [00:00<?, ?it/s]"
     ]
    },
    {
     "name": "stdout",
     "output_type": "stream",
     "text": [
      "[2023-12-20 16:35:27,544] {executor.py:111} INFO - ModelType.GCNGrouping trained for 18.617748306 seconds.\n",
      "[2023-12-20 16:35:27,544] {executor.py:112} INFO - ModelType.GCNGrouping eval at step 2525.\n",
      "[2023-12-20 16:35:27,557] {executor.py:116} INFO - ModelType.GCNGrouping train loss: 0.1629316508769989, eval metrics: {'eval_loss': 0.051693144254386425, 'MRE': 0.6061430326380569, 'MAE': 0.3388177858292392, 'RMSE': 229.99263178941223}\n",
      "[2023-12-20 16:35:27,557] {executor.py:187} INFO - Saving model at step 2525 with loss 0.1629316508769989,save path: /root/guohao/repos/DLT-perf-model/notebooks/ckpts/T4_CPUALL/GCNGrouping/single_train2023-12-20_16-35-08\n"
     ]
    },
    {
     "name": "stderr",
     "output_type": "stream",
     "text": [
      "100%|██████████| 26/26 [00:00<00:00, 130.10it/s]"
     ]
    },
    {
     "name": "stdout",
     "output_type": "stream",
     "text": [
      "[2023-12-20 16:35:27,717] {executor.py:150} INFO - ModelType.GCNGrouping training epoch 98\n"
     ]
    },
    {
     "name": "stderr",
     "output_type": "stream",
     "text": [
      "\n",
      "  0%|          | 0/26 [00:00<?, ?it/s]"
     ]
    },
    {
     "name": "stdout",
     "output_type": "stream",
     "text": [
      "[2023-12-20 16:35:27,739] {executor.py:111} INFO - ModelType.GCNGrouping trained for 18.813480886 seconds.\n",
      "[2023-12-20 16:35:27,740] {executor.py:112} INFO - ModelType.GCNGrouping eval at step 2550.\n",
      "[2023-12-20 16:35:27,754] {executor.py:116} INFO - ModelType.GCNGrouping train loss: 0.0975446030497551, eval metrics: {'eval_loss': 0.02772675217905392, 'MRE': 0.40413301095728493, 'MAE': 0.23101185139699928, 'RMSE': 171.06212231622703}\n",
      "[2023-12-20 16:35:27,754] {executor.py:187} INFO - Saving model at step 2550 with loss 0.0975446030497551,save path: /root/guohao/repos/DLT-perf-model/notebooks/ckpts/T4_CPUALL/GCNGrouping/single_train2023-12-20_16-35-08\n"
     ]
    },
    {
     "name": "stderr",
     "output_type": "stream",
     "text": [
      "100%|██████████| 26/26 [00:00<00:00, 134.38it/s]"
     ]
    },
    {
     "name": "stdout",
     "output_type": "stream",
     "text": [
      "[2023-12-20 16:35:27,913] {executor.py:150} INFO - ModelType.GCNGrouping training epoch 99\n"
     ]
    },
    {
     "name": "stderr",
     "output_type": "stream",
     "text": [
      "\n",
      "  0%|          | 0/26 [00:00<?, ?it/s]"
     ]
    },
    {
     "name": "stdout",
     "output_type": "stream",
     "text": [
      "[2023-12-20 16:35:27,928] {executor.py:111} INFO - ModelType.GCNGrouping trained for 19.001626979 seconds.\n",
      "[2023-12-20 16:35:27,928] {executor.py:112} INFO - ModelType.GCNGrouping eval at step 2575.\n",
      "[2023-12-20 16:35:27,941] {executor.py:116} INFO - ModelType.GCNGrouping train loss: 0.03882186859846115, eval metrics: {'eval_loss': 0.037453835674872, 'MRE': 0.3555780539064273, 'MAE': 0.23432816500133352, 'RMSE': 198.50213740342983}\n",
      "[2023-12-20 16:35:27,942] {executor.py:187} INFO - Saving model at step 2575 with loss 0.03882186859846115,save path: /root/guohao/repos/DLT-perf-model/notebooks/ckpts/T4_CPUALL/GCNGrouping/single_train2023-12-20_16-35-08\n"
     ]
    },
    {
     "name": "stderr",
     "output_type": "stream",
     "text": [
      "100%|██████████| 26/26 [00:00<00:00, 134.77it/s]\n"
     ]
    },
    {
     "data": {
      "image/png": "[encoded data removed]",
      "text/plain": [
       "<Figure size 1500x500 with 4 Axes>"
      ]
     },
     "metadata": {},
     "output_type": "display_data"
    }
   ],
   "source": [
    "init_model_funcs = {\n",
    "    ModelType.MLPTestGrouping.name: init_MLPTestGrouping_model,\n",
    "    ModelType.GCNGrouping.name: init_GCNGrouping_model,\n",
    "}\n",
    "\n",
    "# model_type = ModelType.init_GCNGrouping_model\n",
    "model_type = ModelType.GCNGrouping\n",
    "init_model = init_model_funcs[model_type.name]\n",
    "\n",
    "model = init_model()\n",
    "model = model.to(conf.device)\n",
    "\n",
    "single_train_loop(model_type, conf, preprocessed_train_ds, preprocessed_eval_ds, model, compute_evaluate_metrics, to_device)"
   ]
  }
 ],
 "metadata": {
  "kernelspec": {
   "display_name": "DLT-perf-model",
   "language": "python",
   "name": "python3"
  },
  "language_info": {
   "codemirror_mode": {
    "name": "ipython",
    "version": 3
   },
   "file_extension": ".py",
   "mimetype": "text/x-python",
   "name": "python",
   "nbconvert_exporter": "python",
   "pygments_lexer": "ipython3",
   "version": "3.10.13"
  }
 },
 "nbformat": 4,
 "nbformat_minor": 2
}
